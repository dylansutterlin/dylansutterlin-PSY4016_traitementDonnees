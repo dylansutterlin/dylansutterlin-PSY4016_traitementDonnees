{
 "cells": [
  {
   "cell_type": "markdown",
   "metadata": {},
   "source": [
    "<div class=\"alert alert-info\">\n",
    "\n",
    "# PSY 4016-G-H20\n",
    "# Cueillette et traitement des données en neurosciences cognitives\n",
    "## Chapitre 3: Modification de données\n",
    "<p>\n",
    "<li> Modification des données\n",
    "<li> Combinaison des données\n",
    "<li> Les opérateurs\n",
    "    <ul> <li>opérateurs de comparaison\n",
    "    <li>opérateurs d'aggregation\n",
    "    <li>opérateurs arithmétiques (incluses dans NumPy)\n",
    "    <li>opérateurs trigonométrique; exponents, logarithms\n",
    "    <li>opérateurs sur les valuers manquantes</ul>\n",
    "<li> Pandas groupby"
   ]
  },
  {
   "cell_type": "markdown",
   "metadata": {},
   "source": [
    "<div class=\"alert alert-info\">\n",
    "<h3>Modifications de données</h3></div>"
   ]
  },
  {
   "cell_type": "markdown",
   "metadata": {},
   "source": [
    "<div class=\"alert alert-warning\">\n",
    "<h3>modification des valeurs des chaînes</h3>\n",
    "</div>"
   ]
  },
  {
   "cell_type": "code",
   "execution_count": 3,
   "metadata": {},
   "outputs": [
    {
     "data": {
      "text/plain": [
       "'bonjour'"
      ]
     },
     "execution_count": 3,
     "metadata": {},
     "output_type": "execute_result"
    }
   ],
   "source": [
    "a = \"bonjour\"\n",
    "a"
   ]
  },
  {
   "cell_type": "code",
   "execution_count": 4,
   "metadata": {},
   "outputs": [
    {
     "ename": "TypeError",
     "evalue": "'str' object does not support item assignment",
     "output_type": "error",
     "traceback": [
      "\u001b[1;31m---------------------------------------------------------------------------\u001b[0m",
      "\u001b[1;31mTypeError\u001b[0m                                 Traceback (most recent call last)",
      "\u001b[1;32m~\\AppData\\Local\\Temp/ipykernel_941884/1245177913.py\u001b[0m in \u001b[0;36m<module>\u001b[1;34m\u001b[0m\n\u001b[1;32m----> 1\u001b[1;33m \u001b[0ma\u001b[0m\u001b[1;33m[\u001b[0m\u001b[1;36m3\u001b[0m\u001b[1;33m]\u001b[0m \u001b[1;33m=\u001b[0m \u001b[1;34m\"T\"\u001b[0m\u001b[1;33m\u001b[0m\u001b[1;33m\u001b[0m\u001b[0m\n\u001b[0m\u001b[0;32m      2\u001b[0m \u001b[1;33m\u001b[0m\u001b[0m\n\u001b[0;32m      3\u001b[0m \u001b[1;31m# la chaîne est un objet immuable\u001b[0m\u001b[1;33m\u001b[0m\u001b[1;33m\u001b[0m\u001b[0m\n",
      "\u001b[1;31mTypeError\u001b[0m: 'str' object does not support item assignment"
     ]
    }
   ],
   "source": [
    " a[3] = \"T\"\n",
    "\n",
    "# la chaîne est un objet immuable"
   ]
  },
  {
   "cell_type": "code",
   "execution_count": 5,
   "metadata": {},
   "outputs": [
    {
     "data": {
      "text/plain": [
       "3"
      ]
     },
     "execution_count": 5,
     "metadata": {},
     "output_type": "execute_result"
    }
   ],
   "source": [
    "a.index(\"j\")"
   ]
  },
  {
   "cell_type": "code",
   "execution_count": 6,
   "metadata": {},
   "outputs": [
    {
     "data": {
      "text/plain": [
       "'bonTour'"
      ]
     },
     "execution_count": 6,
     "metadata": {},
     "output_type": "execute_result"
    }
   ],
   "source": [
    "# remplacement des données dans la chaîne\n",
    "\n",
    "a.replace(\"njo\",\"nTo\")"
   ]
  },
  {
   "cell_type": "code",
   "execution_count": 7,
   "metadata": {},
   "outputs": [
    {
     "data": {
      "text/plain": [
       "['bo', 'jour']"
      ]
     },
     "execution_count": 7,
     "metadata": {},
     "output_type": "execute_result"
    }
   ],
   "source": [
    "# chaîne -> liste\n",
    "\n",
    "a.split(\"n\")"
   ]
  },
  {
   "cell_type": "markdown",
   "metadata": {},
   "source": [
    "<div class=\"alert alert-warning\">\n",
    "<h3>modification des valeurs d'une liste</h3>\n",
    "</div>"
   ]
  },
  {
   "cell_type": "code",
   "execution_count": 8,
   "metadata": {},
   "outputs": [],
   "source": [
    "ls1 = [3, 2, 1, 0]"
   ]
  },
  {
   "cell_type": "code",
   "execution_count": 9,
   "metadata": {},
   "outputs": [
    {
     "data": {
      "text/plain": [
       "[3, 2, 1, 0, 'text-ver2']"
      ]
     },
     "execution_count": 9,
     "metadata": {},
     "output_type": "execute_result"
    }
   ],
   "source": [
    "# ajout de données\n",
    "\n",
    "ls1.append('text-ver2')\n",
    "ls1"
   ]
  },
  {
   "cell_type": "code",
   "execution_count": 10,
   "metadata": {},
   "outputs": [
    {
     "name": "stdout",
     "output_type": "stream",
     "text": [
      "[3, 7, 1, 0, 'text-ver2']\n"
     ]
    }
   ],
   "source": [
    "# changement de données\n",
    "\n",
    "ls1[1] = 7\n",
    "print(ls1)"
   ]
  },
  {
   "cell_type": "code",
   "execution_count": 16,
   "metadata": {},
   "outputs": [],
   "source": [
    "# faire des copies\n",
    "\n",
    "ls2 = ls1.copy()"
   ]
  },
  {
   "cell_type": "code",
   "execution_count": 17,
   "metadata": {},
   "outputs": [
    {
     "ename": "ValueError",
     "evalue": "list.remove(x): x not in list",
     "output_type": "error",
     "traceback": [
      "\u001b[1;31m---------------------------------------------------------------------------\u001b[0m",
      "\u001b[1;31mValueError\u001b[0m                                Traceback (most recent call last)",
      "\u001b[1;32m~\\AppData\\Local\\Temp/ipykernel_941884/333121682.py\u001b[0m in \u001b[0;36m<module>\u001b[1;34m\u001b[0m\n\u001b[1;32m----> 1\u001b[1;33m \u001b[0mls1\u001b[0m\u001b[1;33m.\u001b[0m\u001b[0mremove\u001b[0m\u001b[1;33m(\u001b[0m\u001b[1;36m3\u001b[0m\u001b[1;33m)\u001b[0m\u001b[1;33m\u001b[0m\u001b[1;33m\u001b[0m\u001b[0m\n\u001b[0m",
      "\u001b[1;31mValueError\u001b[0m: list.remove(x): x not in list"
     ]
    }
   ],
   "source": [
    "ls1.remove(3)"
   ]
  },
  {
   "cell_type": "code",
   "execution_count": 28,
   "metadata": {},
   "outputs": [],
   "source": [
    "# ls1"
   ]
  },
  {
   "cell_type": "code",
   "execution_count": 19,
   "metadata": {},
   "outputs": [
    {
     "data": {
      "text/plain": [
       "[3, 2, 0]"
      ]
     },
     "execution_count": 19,
     "metadata": {},
     "output_type": "execute_result"
    }
   ],
   "source": [
    "ls1 = [3, 2, 1, 0]\n",
    "\n",
    "ls1.pop(2)\n",
    "ls1"
   ]
  },
  {
   "cell_type": "code",
   "execution_count": 20,
   "metadata": {},
   "outputs": [
    {
     "data": {
      "text/plain": [
       "[0, 1, 2, 3]"
      ]
     },
     "execution_count": 20,
     "metadata": {},
     "output_type": "execute_result"
    }
   ],
   "source": [
    "ls1 = [3, 2, 1, 0]\n",
    "\n",
    "ls1.sort()\n",
    "ls1"
   ]
  },
  {
   "cell_type": "code",
   "execution_count": 21,
   "metadata": {},
   "outputs": [
    {
     "data": {
      "text/plain": [
       "[3, 2, 1, 0]"
      ]
     },
     "execution_count": 21,
     "metadata": {},
     "output_type": "execute_result"
    }
   ],
   "source": [
    "ls1.reverse()\n",
    "ls1"
   ]
  },
  {
   "cell_type": "markdown",
   "metadata": {},
   "source": [
    "<div class=\"alert alert-warning\">\n",
    "<h3>modification des valeurs d'un tuple</h3>\n",
    "</div>"
   ]
  },
  {
   "cell_type": "code",
   "execution_count": 22,
   "metadata": {},
   "outputs": [
    {
     "ename": "TypeError",
     "evalue": "'tuple' object does not support item assignment",
     "output_type": "error",
     "traceback": [
      "\u001b[1;31m---------------------------------------------------------------------------\u001b[0m",
      "\u001b[1;31mTypeError\u001b[0m                                 Traceback (most recent call last)",
      "\u001b[1;32m~\\AppData\\Local\\Temp/ipykernel_941884/2263393987.py\u001b[0m in \u001b[0;36m<module>\u001b[1;34m\u001b[0m\n\u001b[0;32m      1\u001b[0m \u001b[0mtup1\u001b[0m \u001b[1;33m=\u001b[0m \u001b[1;33m(\u001b[0m\u001b[1;36m3\u001b[0m\u001b[1;33m,\u001b[0m \u001b[1;36m2\u001b[0m\u001b[1;33m,\u001b[0m \u001b[1;36m1\u001b[0m\u001b[1;33m,\u001b[0m \u001b[1;36m0\u001b[0m\u001b[1;33m)\u001b[0m\u001b[1;33m\u001b[0m\u001b[1;33m\u001b[0m\u001b[0m\n\u001b[1;32m----> 2\u001b[1;33m \u001b[0mtup1\u001b[0m\u001b[1;33m[\u001b[0m\u001b[1;36m1\u001b[0m\u001b[1;33m]\u001b[0m \u001b[1;33m=\u001b[0m \u001b[1;36m7\u001b[0m\u001b[1;33m\u001b[0m\u001b[1;33m\u001b[0m\u001b[0m\n\u001b[0m",
      "\u001b[1;31mTypeError\u001b[0m: 'tuple' object does not support item assignment"
     ]
    }
   ],
   "source": [
    "tup1 = (3, 2, 1, 0)\n",
    "tup1[1] = 7"
   ]
  },
  {
   "cell_type": "code",
   "execution_count": 18,
   "metadata": {},
   "outputs": [],
   "source": [
    "# faire des copies\n",
    "\n",
    "tup2 = tup1\n",
    "print(tup2)"
   ]
  },
  {
   "cell_type": "code",
   "execution_count": 31,
   "metadata": {},
   "outputs": [],
   "source": [
    "tup1.remove(3)\n",
    "\n",
    "# Les tuples ne peuvent être changés, une fois définis\n",
    "# Les tuples sont habituellement plus rapides que les listes"
   ]
  },
  {
   "cell_type": "markdown",
   "metadata": {},
   "source": [
    "<div class=\"alert alert-warning\">\n",
    "<h3>modification des valeurs d'un dictionnaire</h3>\n",
    "</div>"
   ]
  },
  {
   "cell_type": "code",
   "execution_count": 23,
   "metadata": {},
   "outputs": [
    {
     "data": {
      "text/plain": [
       "{'cle1': 'variable',\n",
       " 'cle2': [],\n",
       " 'cle3': [1, 2, 3],\n",
       " 'cle4': ('a', 'b'),\n",
       " 'autre': 'valeur2'}"
      ]
     },
     "execution_count": 23,
     "metadata": {},
     "output_type": "execute_result"
    }
   ],
   "source": [
    "# ajout des valeurs\n",
    "d1 = {\n",
    "    'cle1':'variable',\n",
    "    'cle2':[],\n",
    "    'cle3': [1,2,3],\n",
    "    'cle4': ('a', 'b',)\n",
    "    }\n",
    "\n",
    "d1['autre'] = 'valeur2'\n",
    "d1"
   ]
  },
  {
   "cell_type": "code",
   "execution_count": 24,
   "metadata": {},
   "outputs": [
    {
     "data": {
      "text/plain": [
       "'var 2'"
      ]
     },
     "execution_count": 24,
     "metadata": {},
     "output_type": "execute_result"
    }
   ],
   "source": [
    "# changements des valeurs:\n",
    "\n",
    "d1['cle1'] = 'var 2'\n",
    "d1['cle1']"
   ]
  },
  {
   "cell_type": "code",
   "execution_count": 25,
   "metadata": {},
   "outputs": [
    {
     "data": {
      "text/plain": [
       "[1, 2, 3]"
      ]
     },
     "execution_count": 25,
     "metadata": {},
     "output_type": "execute_result"
    }
   ],
   "source": [
    "# donnee la valeur de la clé SI elle existe\n",
    "\n",
    "var = d1.get('cle3')\n",
    "var"
   ]
  },
  {
   "cell_type": "code",
   "execution_count": 26,
   "metadata": {},
   "outputs": [
    {
     "data": {
      "text/plain": [
       "{'cle1': 'var 2', 'cle2': [], 'cle3': [1, 2, 3], 'autre': 'valeur2'}"
      ]
     },
     "execution_count": 26,
     "metadata": {},
     "output_type": "execute_result"
    }
   ],
   "source": [
    "# supprimer une clé du dictionnaire SI elle existe\n",
    "\n",
    "d1.pop('cle4')\n",
    "d1"
   ]
  },
  {
   "cell_type": "code",
   "execution_count": 30,
   "metadata": {},
   "outputs": [
    {
     "data": {
      "text/plain": [
       "{'cle1': 'variable', 'cle2': [], 'cle3': [1, 2, 3]}"
      ]
     },
     "execution_count": 30,
     "metadata": {},
     "output_type": "execute_result"
    }
   ],
   "source": [
    "d1 = {\n",
    "    'cle1':'variable',\n",
    "    'cle2':[],\n",
    "    'cle3': [1,2,3],\n",
    "    'cle4': ('a', 'b',)\n",
    "    }\n",
    "\n",
    "del d1['cle4']\n",
    "d1"
   ]
  },
  {
   "cell_type": "code",
   "execution_count": 28,
   "metadata": {},
   "outputs": [
    {
     "data": {
      "text/plain": [
       "{}"
      ]
     },
     "execution_count": 28,
     "metadata": {},
     "output_type": "execute_result"
    }
   ],
   "source": [
    "# # supprimer tous les élements du dictionnaire\n",
    "\n",
    "d1.clear()\n",
    "d1"
   ]
  },
  {
   "cell_type": "code",
   "execution_count": 31,
   "metadata": {},
   "outputs": [
    {
     "name": "stdout",
     "output_type": "stream",
     "text": [
      "3 8\n"
     ]
    }
   ],
   "source": [
    "print(len(d1), len(d1['cle1']))"
   ]
  },
  {
   "cell_type": "code",
   "execution_count": null,
   "metadata": {},
   "outputs": [],
   "source": [
    "# faire des copies\n",
    "\n",
    "d3 = d1"
   ]
  },
  {
   "cell_type": "code",
   "execution_count": 22,
   "metadata": {},
   "outputs": [
    {
     "data": {
      "text/plain": [
       "{'key': 'variable', 'key2': [], 'key3': [1, 2, 3], 'key4': ('a', 'b')}"
      ]
     },
     "execution_count": 22,
     "metadata": {},
     "output_type": "execute_result"
    }
   ],
   "source": [
    "d1"
   ]
  },
  {
   "cell_type": "code",
   "execution_count": 23,
   "metadata": {},
   "outputs": [
    {
     "data": {
      "text/plain": [
       "{'key': 'variable', 'key2': [], 'key3': [1, 2, 3], 'key4': ('a', 'b')}"
      ]
     },
     "execution_count": 23,
     "metadata": {},
     "output_type": "execute_result"
    }
   ],
   "source": [
    "d3"
   ]
  },
  {
   "cell_type": "code",
   "execution_count": 24,
   "metadata": {},
   "outputs": [
    {
     "data": {
      "text/plain": [
       "{'key': 'variable',\n",
       " 'key2': [],\n",
       " 'key3': [1, 2, 3],\n",
       " 'key4': ('a', 'b'),\n",
       " 'kqyky': 4.0}"
      ]
     },
     "execution_count": 24,
     "metadata": {},
     "output_type": "execute_result"
    }
   ],
   "source": [
    "d3['kqyky'] = 4.0\n",
    "d3"
   ]
  },
  {
   "cell_type": "code",
   "execution_count": 25,
   "metadata": {},
   "outputs": [
    {
     "data": {
      "text/plain": [
       "{'key': 'variable', 'key2': [], 'key3': [1, 2, 3], 'key4': ('a', 'b')}"
      ]
     },
     "execution_count": 25,
     "metadata": {},
     "output_type": "execute_result"
    }
   ],
   "source": [
    "d1"
   ]
  },
  {
   "cell_type": "code",
   "execution_count": 16,
   "metadata": {},
   "outputs": [],
   "source": [
    "# créer une copie superficielle\n",
    "\n",
    "d3 = d1.copy()"
   ]
  },
  {
   "cell_type": "code",
   "execution_count": null,
   "metadata": {},
   "outputs": [],
   "source": [
    "# créer une copie complète\n",
    "\n",
    "d3 = d1.deepcopy()"
   ]
  },
  {
   "cell_type": "code",
   "execution_count": null,
   "metadata": {},
   "outputs": [],
   "source": [
    "import copy\n",
    "d3 = copy.deepcopy(d1)\n",
    "\n",
    "# Il faut créer une copie indépendante\n",
    "# Sinon, les modifications apportées au dictionnaire copié\n",
    "# vont également être envoyées à la version d'origine"
   ]
  },
  {
   "cell_type": "code",
   "execution_count": null,
   "metadata": {},
   "outputs": [],
   "source": [
    "# plus d'info sur la différence entre copy et deepcopy\n",
    "\n",
    "https://thispointer.com/python-how-to-copy-a-dictionary-shallow-copy-vs-deep-copy/\n",
    "https://stackabuse.com/deep-vs-shallow-copies-in-python/#:~:text=Deep%20copy%20stores%20copies%20of%20an%20object's%20values,,implementation,%20I'd%20like%20you%20to%20imagine%20this%20scenario.\n",
    "http://tech.quebecblogue.com/python-tips-copie-superficielle-copie-profonde-dans-python3/\n",
    "https://www.ipgirl.com/675/quelle-est-la-difference-entre-une-copie-profonde-et-une-copie-superficielle.html    "
   ]
  },
  {
   "cell_type": "markdown",
   "metadata": {},
   "source": [
    "<div class=\"alert alert-warning\">\n",
    "<h3>modification des valeurs d'un pandas DataFrame</h3>\n",
    "    <li>loc (location)\n",
    "    <li>iloc (index location)\n",
    "    <li>at\n",
    "</div>"
   ]
  },
  {
   "cell_type": "code",
   "execution_count": 77,
   "metadata": {
    "slideshow": {
     "slide_type": "fragment"
    }
   },
   "outputs": [],
   "source": [
    "import pandas"
   ]
  },
  {
   "cell_type": "code",
   "execution_count": 78,
   "metadata": {},
   "outputs": [
    {
     "ename": "NameError",
     "evalue": "name 'df_qc' is not defined",
     "output_type": "error",
     "traceback": [
      "\u001b[1;31m---------------------------------------------------------------------------\u001b[0m",
      "\u001b[1;31mNameError\u001b[0m                                 Traceback (most recent call last)",
      "\u001b[1;32m~\\AppData\\Local\\Temp/ipykernel_162560/4110690059.py\u001b[0m in \u001b[0;36m<module>\u001b[1;34m\u001b[0m\n\u001b[0;32m      1\u001b[0m \u001b[0mfichier\u001b[0m \u001b[1;33m=\u001b[0m \u001b[1;34m\"\"\u001b[0m\u001b[1;33m\u001b[0m\u001b[1;33m\u001b[0m\u001b[0m\n\u001b[1;32m----> 2\u001b[1;33m \u001b[0mdf_qc\u001b[0m\u001b[1;33m.\u001b[0m\u001b[0mETABLISSEMENT\u001b[0m\u001b[1;33m[\u001b[0m\u001b[1;36m1\u001b[0m\u001b[1;33m]\u001b[0m\u001b[1;33m\u001b[0m\u001b[1;33m\u001b[0m\u001b[0m\n\u001b[0m",
      "\u001b[1;31mNameError\u001b[0m: name 'df_qc' is not defined"
     ]
    }
   ],
   "source": [
    "fichier = \"\"\n",
    "df_qc.ETABLISSEMENT[1]"
   ]
  },
  {
   "cell_type": "code",
   "execution_count": 21,
   "metadata": {},
   "outputs": [],
   "source": [
    "# pour montrer la colonne\n",
    "\n",
    "df_qc['ETABLISSEMENT']"
   ]
  },
  {
   "cell_type": "code",
   "execution_count": null,
   "metadata": {},
   "outputs": [],
   "source": [
    "# semblable à la précédente; loc = location\n",
    "    \n",
    "df_qc.loc[:, 'ETABLISSEMENT']"
   ]
  },
  {
   "cell_type": "code",
   "execution_count": null,
   "metadata": {},
   "outputs": [],
   "source": [
    "df_qc.iloc[1:]              # affiche toutes les lignes de 1 :; iloc = index-location"
   ]
  },
  {
   "cell_type": "code",
   "execution_count": null,
   "metadata": {},
   "outputs": [],
   "source": [
    "df_qc.iloc[0:, [1,2]]       # affiche les lignes de 0 à : et les colonnes 1 et 2\n"
   ]
  },
  {
   "cell_type": "code",
   "execution_count": 20,
   "metadata": {},
   "outputs": [],
   "source": [
    "df_qc.at[0,'ETABLISSEMENT']   # permet l'accès aux cellules\n",
    "#index 0 et col 'str'"
   ]
  },
  {
   "cell_type": "code",
   "execution_count": 107,
   "metadata": {},
   "outputs": [
    {
     "data": {
      "text/plain": [
       "0    Université du Québec à Chicoutimi (UQAC)\n",
       "1             École Polytechnique de Montréal\n",
       "2                    Université de Sherbrooke\n",
       "Name: ETABLISSEMENT, dtype: object"
      ]
     },
     "execution_count": 107,
     "metadata": {},
     "output_type": "execute_result"
    }
   ],
   "source": [
    "col = df_qc.columns[1] #\n",
    "df_qc[col][:3]"
   ]
  },
  {
   "cell_type": "code",
   "execution_count": 108,
   "metadata": {},
   "outputs": [
    {
     "data": {
      "text/plain": [
       "0       Université du Québec à Chicoutimi (UQAC)\n",
       "1                École Polytechnique de Montréal\n",
       "2                       Université de Sherbrooke\n",
       "3                       Université de Sherbrooke\n",
       "4                               Université Laval\n",
       "                          ...                   \n",
       "1310                      Université de Montréal\n",
       "1311                      Université de Montréal\n",
       "1312             École Polytechnique de Montréal\n",
       "1313                      Université de Montréal\n",
       "1314      Université du Québec à Rimouski (UQAR)\n",
       "Name: ETABLISSEMENT, Length: 1315, dtype: object"
      ]
     },
     "execution_count": 108,
     "metadata": {},
     "output_type": "execute_result"
    }
   ],
   "source": [
    "df_qc.ETABLISSEMENT"
   ]
  },
  {
   "cell_type": "code",
   "execution_count": null,
   "metadata": {},
   "outputs": [],
   "source": [
    "df_qc.loc[1, 'ETABLISSEMENT'] = 'POLY'"
   ]
  },
  {
   "cell_type": "code",
   "execution_count": null,
   "metadata": {},
   "outputs": [],
   "source": [
    "df_qc.at[2, 'ETABLISSEMENT'] = 'Sherbrooke'"
   ]
  },
  {
   "cell_type": "code",
   "execution_count": 113,
   "metadata": {},
   "outputs": [],
   "source": [
    "df_qc.iloc[4, 1] = 'ULaval'"
   ]
  },
  {
   "cell_type": "code",
   "execution_count": 114,
   "metadata": {
    "scrolled": true
   },
   "outputs": [
    {
     "data": {
      "text/plain": [
       "0       Université du Québec à Chicoutimi (UQAC)\n",
       "1                                           POLY\n",
       "2                                     Sherbrooke\n",
       "3                       Université de Sherbrooke\n",
       "4                                         ULaval\n",
       "                          ...                   \n",
       "1310                      Université de Montréal\n",
       "1311                      Université de Montréal\n",
       "1312             École Polytechnique de Montréal\n",
       "1313                      Université de Montréal\n",
       "1314      Université du Québec à Rimouski (UQAR)\n",
       "Name: ETABLISSEMENT, Length: 1315, dtype: object"
      ]
     },
     "execution_count": 114,
     "metadata": {},
     "output_type": "execute_result"
    }
   ],
   "source": [
    "df_qc.ETABLISSEMENT"
   ]
  },
  {
   "cell_type": "code",
   "execution_count": 115,
   "metadata": {},
   "outputs": [],
   "source": [
    "df_qc2 = df_qc"
   ]
  },
  {
   "cell_type": "code",
   "execution_count": 116,
   "metadata": {},
   "outputs": [
    {
     "data": {
      "text/plain": [
       "0    Université du Québec à Chicoutimi (UQAC)\n",
       "1                                        POLY\n",
       "2                                  Sherbrooke\n",
       "Name: ETABLISSEMENT, dtype: object"
      ]
     },
     "execution_count": 116,
     "metadata": {},
     "output_type": "execute_result"
    }
   ],
   "source": [
    "df_qc.ETABLISSEMENT.head(3)"
   ]
  },
  {
   "cell_type": "code",
   "execution_count": 117,
   "metadata": {},
   "outputs": [
    {
     "data": {
      "text/plain": [
       "0    Université du Québec à Chicoutimi (UQAC)\n",
       "1                                        POLY\n",
       "2                                  Sherbrooke\n",
       "Name: ETABLISSEMENT, dtype: object"
      ]
     },
     "execution_count": 117,
     "metadata": {},
     "output_type": "execute_result"
    }
   ],
   "source": [
    "df_qc2.ETABLISSEMENT.head(3)"
   ]
  },
  {
   "cell_type": "code",
   "execution_count": 118,
   "metadata": {},
   "outputs": [],
   "source": [
    "df_qc2.at[1, 'ETABLISSEMENT'] = 'poly_new'"
   ]
  },
  {
   "cell_type": "code",
   "execution_count": 119,
   "metadata": {},
   "outputs": [
    {
     "data": {
      "text/plain": [
       "'poly_new'"
      ]
     },
     "execution_count": 119,
     "metadata": {},
     "output_type": "execute_result"
    }
   ],
   "source": [
    "df_qc2.at[1, 'ETABLISSEMENT']"
   ]
  },
  {
   "cell_type": "code",
   "execution_count": 120,
   "metadata": {},
   "outputs": [
    {
     "data": {
      "text/plain": [
       "'poly_new'"
      ]
     },
     "execution_count": 120,
     "metadata": {},
     "output_type": "execute_result"
    }
   ],
   "source": [
    "df_qc.at[1, 'ETABLISSEMENT']"
   ]
  },
  {
   "cell_type": "code",
   "execution_count": null,
   "metadata": {},
   "outputs": [],
   "source": [
    "# faire des copies\n",
    "\n",
    "df_qc = pandas.read_csv(fichier)\n",
    "df_qc2 = df_qc.copy(deep=True)\n",
    "df_qc2.at[1, 'ETABLISSEMENT'] = 'poly_new'\n",
    "df_qc2.ETABLISSEMENT[1]\n",
    "df_qc.ETABLISSEMENT[1]"
   ]
  },
  {
   "cell_type": "code",
   "execution_count": null,
   "metadata": {},
   "outputs": [],
   "source": [
    "import copy\n",
    "df_qc2 = copy.deepcopy(df_qc)\n",
    "df_qc2.at[1, 'ETABLISSEMENT'] = 'poly_new'"
   ]
  },
  {
   "cell_type": "code",
   "execution_count": 40,
   "metadata": {},
   "outputs": [],
   "source": [
    "df_qc3 = pandas.read_csv(fichier, usecols = ['ETABLISSEMENT', 'COUT_TOTAL'])"
   ]
  },
  {
   "cell_type": "code",
   "execution_count": 42,
   "metadata": {},
   "outputs": [],
   "source": [
    "df_qc3.columns"
   ]
  },
  {
   "cell_type": "code",
   "execution_count": 50,
   "metadata": {},
   "outputs": [],
   "source": [
    "df_qc4 = df_qc[[\"ETABLISSEMENT\", \"ETABLISSEMENT_PARTENAIRE\",\n",
    "       'ANNEE_FINANCIERE', 'PROGRAMME', 'VOLET', 'RESPONSABLE_DU_PROJET',\n",
    "       'TITRE', 'RESEAU', 'MONTANT_MEES', 'MONTANT_MSSS', 'MONTANT_MEI',\n",
    "       'MONTANT_TOTAL_QUEBEC', 'COUT_TOTAL']]"
   ]
  },
  {
   "cell_type": "code",
   "execution_count": 52,
   "metadata": {},
   "outputs": [],
   "source": [
    "df_qc4.columns"
   ]
  },
  {
   "cell_type": "code",
   "execution_count": null,
   "metadata": {},
   "outputs": [],
   "source": [
    "# df.department.tolist() permet d'extraire le contenu d'une col en une liste\n",
    "\n",
    "ls_df = df.department.tolist()\n",
    "#ls_df"
   ]
  },
  {
   "cell_type": "code",
   "execution_count": null,
   "metadata": {},
   "outputs": [],
   "source": [
    "ls_df = list(df.items())"
   ]
  },
  {
   "cell_type": "code",
   "execution_count": null,
   "metadata": {},
   "outputs": [],
   "source": [
    "ls_df[1]"
   ]
  },
  {
   "cell_type": "code",
   "execution_count": 121,
   "metadata": {
    "scrolled": true
   },
   "outputs": [],
   "source": [
    "# création d'une nouvelle colonne appelée «autre»\n",
    "\n",
    "df_qc2['autre'] = 'valeur2'\n",
    "#df_qc2['autre'][:5]"
   ]
  },
  {
   "cell_type": "code",
   "execution_count": 141,
   "metadata": {},
   "outputs": [],
   "source": [
    "df_qc"
   ]
  },
  {
   "cell_type": "code",
   "execution_count": 143,
   "metadata": {},
   "outputs": [],
   "source": [
    "# modification d'index -- prend une col et la définit en tant qu\"index\n",
    "\n",
    "df_qc.set_index('ETABLISSEMENT')"
   ]
  },
  {
   "cell_type": "code",
   "execution_count": 145,
   "metadata": {},
   "outputs": [],
   "source": [
    "df_qc"
   ]
  },
  {
   "cell_type": "code",
   "execution_count": 157,
   "metadata": {},
   "outputs": [],
   "source": [
    "df_qc.set_index('ETABLISSEMENT', inplace = True)\n",
    "## pour faire le changeent, on peut utiliser inplace ou simplement stocker le changement dans un nouveau jeu de donées"
   ]
  },
  {
   "cell_type": "code",
   "execution_count": 146,
   "metadata": {},
   "outputs": [],
   "source": [
    "df_qc3 = df_qc.set_index('ETABLISSEMENT')"
   ]
  },
  {
   "cell_type": "code",
   "execution_count": 159,
   "metadata": {},
   "outputs": [],
   "source": [
    "df_qc"
   ]
  },
  {
   "cell_type": "code",
   "execution_count": 23,
   "metadata": {},
   "outputs": [],
   "source": [
    "df_qc.index[1]"
   ]
  },
  {
   "cell_type": "code",
   "execution_count": 161,
   "metadata": {},
   "outputs": [],
   "source": [
    "df_qc.at[1, 'COUT_TOTAL']\n",
    "#contenu dans la ligne avec le nb 1 et la col \"cout total\" "
   ]
  },
  {
   "cell_type": "code",
   "execution_count": 24,
   "metadata": {},
   "outputs": [],
   "source": [
    "df_qc.index"
   ]
  },
  {
   "cell_type": "code",
   "execution_count": 165,
   "metadata": {},
   "outputs": [],
   "source": [
    "df_qc.at['École Polytechnique de Montréal', 'COUT_TOTAL']\n",
    "#"
   ]
  },
  {
   "cell_type": "code",
   "execution_count": 145,
   "metadata": {},
   "outputs": [],
   "source": [
    "df_qc.to_excel('chemin/tmp2.xls')\n",
    "df_qc.to_csv('chemin/tmp2.csv')"
   ]
  },
  {
   "cell_type": "markdown",
   "metadata": {},
   "source": [
    "<div class=\"alert alert-warning\">\n",
    "<h3>modification des valeurs d'un tableau Numpy</h3>\n",
    "<li> np.reshape\n",
    "<li> np.newaxis\n",
    "<li> copy\n",
    "<li> changer les éléments\n",
    "</div>"
   ]
  },
  {
   "cell_type": "code",
   "execution_count": 64,
   "metadata": {
    "slideshow": {
     "slide_type": "fragment"
    }
   },
   "outputs": [],
   "source": [
    "import numpy as np"
   ]
  },
  {
   "cell_type": "code",
   "execution_count": 63,
   "metadata": {},
   "outputs": [
    {
     "data": {
      "text/plain": [
       "0       1\n",
       "1       1\n",
       "2       1\n",
       "3       1\n",
       "4       1\n",
       "       ..\n",
       "1030    1\n",
       "1031    1\n",
       "1032    1\n",
       "1033    1\n",
       "1034    1\n",
       "Name: number, Length: 1035, dtype: int64"
      ]
     },
     "execution_count": 63,
     "metadata": {},
     "output_type": "execute_result"
    }
   ],
   "source": [
    "x1"
   ]
  },
  {
   "cell_type": "code",
   "execution_count": 71,
   "metadata": {},
   "outputs": [
    {
     "ename": "AttributeError",
     "evalue": "'Series' object has no attribute 'reshape'",
     "output_type": "error",
     "traceback": [
      "\u001b[1;31m---------------------------------------------------------------------------\u001b[0m",
      "\u001b[1;31mAttributeError\u001b[0m                            Traceback (most recent call last)",
      "\u001b[1;32m~\\AppData\\Local\\Temp/ipykernel_162560/3904287013.py\u001b[0m in \u001b[0;36m<module>\u001b[1;34m\u001b[0m\n\u001b[1;32m----> 1\u001b[1;33m \u001b[0mx1_2D\u001b[0m \u001b[1;33m=\u001b[0m \u001b[0mx1\u001b[0m\u001b[1;33m.\u001b[0m\u001b[0mreshape\u001b[0m\u001b[1;33m(\u001b[0m\u001b[1;36m0\u001b[0m\u001b[1;33m,\u001b[0m\u001b[1;36m1\u001b[0m\u001b[1;33m)\u001b[0m\u001b[1;33m\u001b[0m\u001b[1;33m\u001b[0m\u001b[0m\n\u001b[0m\u001b[0;32m      2\u001b[0m \u001b[0mx1_2D\u001b[0m\u001b[1;33m\u001b[0m\u001b[1;33m\u001b[0m\u001b[0m\n",
      "\u001b[1;32m~\\AppData\\Local\\Programs\\Python\\Python310\\lib\\site-packages\\pandas\\core\\generic.py\u001b[0m in \u001b[0;36m__getattr__\u001b[1;34m(self, name)\u001b[0m\n\u001b[0;32m   5485\u001b[0m         ):\n\u001b[0;32m   5486\u001b[0m             \u001b[1;32mreturn\u001b[0m \u001b[0mself\u001b[0m\u001b[1;33m[\u001b[0m\u001b[0mname\u001b[0m\u001b[1;33m]\u001b[0m\u001b[1;33m\u001b[0m\u001b[1;33m\u001b[0m\u001b[0m\n\u001b[1;32m-> 5487\u001b[1;33m         \u001b[1;32mreturn\u001b[0m \u001b[0mobject\u001b[0m\u001b[1;33m.\u001b[0m\u001b[0m__getattribute__\u001b[0m\u001b[1;33m(\u001b[0m\u001b[0mself\u001b[0m\u001b[1;33m,\u001b[0m \u001b[0mname\u001b[0m\u001b[1;33m)\u001b[0m\u001b[1;33m\u001b[0m\u001b[1;33m\u001b[0m\u001b[0m\n\u001b[0m\u001b[0;32m   5488\u001b[0m \u001b[1;33m\u001b[0m\u001b[0m\n\u001b[0;32m   5489\u001b[0m     \u001b[1;32mdef\u001b[0m \u001b[0m__setattr__\u001b[0m\u001b[1;33m(\u001b[0m\u001b[0mself\u001b[0m\u001b[1;33m,\u001b[0m \u001b[0mname\u001b[0m\u001b[1;33m:\u001b[0m \u001b[0mstr\u001b[0m\u001b[1;33m,\u001b[0m \u001b[0mvalue\u001b[0m\u001b[1;33m)\u001b[0m \u001b[1;33m->\u001b[0m \u001b[1;32mNone\u001b[0m\u001b[1;33m:\u001b[0m\u001b[1;33m\u001b[0m\u001b[1;33m\u001b[0m\u001b[0m\n",
      "\u001b[1;31mAttributeError\u001b[0m: 'Series' object has no attribute 'reshape'"
     ]
    }
   ],
   "source": [
    "x1_2D = x1.reshape(0,1)\n",
    "x1_2D"
   ]
  },
  {
   "cell_type": "code",
   "execution_count": 53,
   "metadata": {},
   "outputs": [
    {
     "ename": "ValueError",
     "evalue": "Length of values (3) does not match length of index (1035)",
     "output_type": "error",
     "traceback": [
      "\u001b[1;31m---------------------------------------------------------------------------\u001b[0m",
      "\u001b[1;31mValueError\u001b[0m                                Traceback (most recent call last)",
      "\u001b[1;32m~\\AppData\\Local\\Temp/ipykernel_162560/356740772.py\u001b[0m in \u001b[0;36m<module>\u001b[1;34m\u001b[0m\n\u001b[1;32m----> 1\u001b[1;33m \u001b[0mx1_2D2\u001b[0m \u001b[1;33m=\u001b[0m \u001b[0mnp\u001b[0m\u001b[1;33m.\u001b[0m\u001b[0mreshape\u001b[0m\u001b[1;33m(\u001b[0m\u001b[0mx1\u001b[0m\u001b[1;33m,\u001b[0m \u001b[1;33m(\u001b[0m\u001b[1;36m3\u001b[0m\u001b[1;33m,\u001b[0m \u001b[1;33m-\u001b[0m\u001b[1;36m1\u001b[0m\u001b[1;33m)\u001b[0m\u001b[1;33m)\u001b[0m \u001b[1;31m#-1 décide automatiquement le nombre de cols\u001b[0m\u001b[1;33m\u001b[0m\u001b[1;33m\u001b[0m\u001b[0m\n\u001b[0m\u001b[0;32m      2\u001b[0m \u001b[0mx1_2D2\u001b[0m\u001b[1;33m\u001b[0m\u001b[1;33m\u001b[0m\u001b[0m\n",
      "\u001b[1;32m~\\AppData\\Local\\Programs\\Python\\Python310\\lib\\site-packages\\numpy\\core\\overrides.py\u001b[0m in \u001b[0;36mreshape\u001b[1;34m(*args, **kwargs)\u001b[0m\n",
      "\u001b[1;32m~\\AppData\\Local\\Programs\\Python\\Python310\\lib\\site-packages\\numpy\\core\\fromnumeric.py\u001b[0m in \u001b[0;36mreshape\u001b[1;34m(a, newshape, order)\u001b[0m\n\u001b[0;32m    296\u001b[0m            [5, 6]])\n\u001b[0;32m    297\u001b[0m     \"\"\"\n\u001b[1;32m--> 298\u001b[1;33m     \u001b[1;32mreturn\u001b[0m \u001b[0m_wrapfunc\u001b[0m\u001b[1;33m(\u001b[0m\u001b[0ma\u001b[0m\u001b[1;33m,\u001b[0m \u001b[1;34m'reshape'\u001b[0m\u001b[1;33m,\u001b[0m \u001b[0mnewshape\u001b[0m\u001b[1;33m,\u001b[0m \u001b[0morder\u001b[0m\u001b[1;33m=\u001b[0m\u001b[0morder\u001b[0m\u001b[1;33m)\u001b[0m\u001b[1;33m\u001b[0m\u001b[1;33m\u001b[0m\u001b[0m\n\u001b[0m\u001b[0;32m    299\u001b[0m \u001b[1;33m\u001b[0m\u001b[0m\n\u001b[0;32m    300\u001b[0m \u001b[1;33m\u001b[0m\u001b[0m\n",
      "\u001b[1;32m~\\AppData\\Local\\Programs\\Python\\Python310\\lib\\site-packages\\numpy\\core\\fromnumeric.py\u001b[0m in \u001b[0;36m_wrapfunc\u001b[1;34m(obj, method, *args, **kwds)\u001b[0m\n\u001b[0;32m     52\u001b[0m     \u001b[0mbound\u001b[0m \u001b[1;33m=\u001b[0m \u001b[0mgetattr\u001b[0m\u001b[1;33m(\u001b[0m\u001b[0mobj\u001b[0m\u001b[1;33m,\u001b[0m \u001b[0mmethod\u001b[0m\u001b[1;33m,\u001b[0m \u001b[1;32mNone\u001b[0m\u001b[1;33m)\u001b[0m\u001b[1;33m\u001b[0m\u001b[1;33m\u001b[0m\u001b[0m\n\u001b[0;32m     53\u001b[0m     \u001b[1;32mif\u001b[0m \u001b[0mbound\u001b[0m \u001b[1;32mis\u001b[0m \u001b[1;32mNone\u001b[0m\u001b[1;33m:\u001b[0m\u001b[1;33m\u001b[0m\u001b[1;33m\u001b[0m\u001b[0m\n\u001b[1;32m---> 54\u001b[1;33m         \u001b[1;32mreturn\u001b[0m \u001b[0m_wrapit\u001b[0m\u001b[1;33m(\u001b[0m\u001b[0mobj\u001b[0m\u001b[1;33m,\u001b[0m \u001b[0mmethod\u001b[0m\u001b[1;33m,\u001b[0m \u001b[1;33m*\u001b[0m\u001b[0margs\u001b[0m\u001b[1;33m,\u001b[0m \u001b[1;33m**\u001b[0m\u001b[0mkwds\u001b[0m\u001b[1;33m)\u001b[0m\u001b[1;33m\u001b[0m\u001b[1;33m\u001b[0m\u001b[0m\n\u001b[0m\u001b[0;32m     55\u001b[0m \u001b[1;33m\u001b[0m\u001b[0m\n\u001b[0;32m     56\u001b[0m     \u001b[1;32mtry\u001b[0m\u001b[1;33m:\u001b[0m\u001b[1;33m\u001b[0m\u001b[1;33m\u001b[0m\u001b[0m\n",
      "\u001b[1;32m~\\AppData\\Local\\Programs\\Python\\Python310\\lib\\site-packages\\numpy\\core\\fromnumeric.py\u001b[0m in \u001b[0;36m_wrapit\u001b[1;34m(obj, method, *args, **kwds)\u001b[0m\n\u001b[0;32m     45\u001b[0m         \u001b[1;32mif\u001b[0m \u001b[1;32mnot\u001b[0m \u001b[0misinstance\u001b[0m\u001b[1;33m(\u001b[0m\u001b[0mresult\u001b[0m\u001b[1;33m,\u001b[0m \u001b[0mmu\u001b[0m\u001b[1;33m.\u001b[0m\u001b[0mndarray\u001b[0m\u001b[1;33m)\u001b[0m\u001b[1;33m:\u001b[0m\u001b[1;33m\u001b[0m\u001b[1;33m\u001b[0m\u001b[0m\n\u001b[0;32m     46\u001b[0m             \u001b[0mresult\u001b[0m \u001b[1;33m=\u001b[0m \u001b[0masarray\u001b[0m\u001b[1;33m(\u001b[0m\u001b[0mresult\u001b[0m\u001b[1;33m)\u001b[0m\u001b[1;33m\u001b[0m\u001b[1;33m\u001b[0m\u001b[0m\n\u001b[1;32m---> 47\u001b[1;33m         \u001b[0mresult\u001b[0m \u001b[1;33m=\u001b[0m \u001b[0mwrap\u001b[0m\u001b[1;33m(\u001b[0m\u001b[0mresult\u001b[0m\u001b[1;33m)\u001b[0m\u001b[1;33m\u001b[0m\u001b[1;33m\u001b[0m\u001b[0m\n\u001b[0m\u001b[0;32m     48\u001b[0m     \u001b[1;32mreturn\u001b[0m \u001b[0mresult\u001b[0m\u001b[1;33m\u001b[0m\u001b[1;33m\u001b[0m\u001b[0m\n\u001b[0;32m     49\u001b[0m \u001b[1;33m\u001b[0m\u001b[0m\n",
      "\u001b[1;32m~\\AppData\\Local\\Programs\\Python\\Python310\\lib\\site-packages\\pandas\\core\\generic.py\u001b[0m in \u001b[0;36m__array_wrap__\u001b[1;34m(self, result, context)\u001b[0m\n\u001b[0;32m   2023\u001b[0m         \u001b[1;31m# error: Argument 1 to \"NDFrame\" has incompatible type \"ndarray\";\u001b[0m\u001b[1;33m\u001b[0m\u001b[1;33m\u001b[0m\u001b[0m\n\u001b[0;32m   2024\u001b[0m         \u001b[1;31m# expected \"BlockManager\"\u001b[0m\u001b[1;33m\u001b[0m\u001b[1;33m\u001b[0m\u001b[0m\n\u001b[1;32m-> 2025\u001b[1;33m         return self._constructor(res, **d).__finalize__(  # type: ignore[arg-type]\n\u001b[0m\u001b[0;32m   2026\u001b[0m             \u001b[0mself\u001b[0m\u001b[1;33m,\u001b[0m \u001b[0mmethod\u001b[0m\u001b[1;33m=\u001b[0m\u001b[1;34m\"__array_wrap__\"\u001b[0m\u001b[1;33m\u001b[0m\u001b[1;33m\u001b[0m\u001b[0m\n\u001b[0;32m   2027\u001b[0m         )\n",
      "\u001b[1;32m~\\AppData\\Local\\Programs\\Python\\Python310\\lib\\site-packages\\pandas\\core\\series.py\u001b[0m in \u001b[0;36m__init__\u001b[1;34m(self, data, index, dtype, name, copy, fastpath)\u001b[0m\n\u001b[0;32m    428\u001b[0m                 \u001b[0mindex\u001b[0m \u001b[1;33m=\u001b[0m \u001b[0mibase\u001b[0m\u001b[1;33m.\u001b[0m\u001b[0mdefault_index\u001b[0m\u001b[1;33m(\u001b[0m\u001b[0mlen\u001b[0m\u001b[1;33m(\u001b[0m\u001b[0mdata\u001b[0m\u001b[1;33m)\u001b[0m\u001b[1;33m)\u001b[0m\u001b[1;33m\u001b[0m\u001b[1;33m\u001b[0m\u001b[0m\n\u001b[0;32m    429\u001b[0m             \u001b[1;32melif\u001b[0m \u001b[0mis_list_like\u001b[0m\u001b[1;33m(\u001b[0m\u001b[0mdata\u001b[0m\u001b[1;33m)\u001b[0m\u001b[1;33m:\u001b[0m\u001b[1;33m\u001b[0m\u001b[1;33m\u001b[0m\u001b[0m\n\u001b[1;32m--> 430\u001b[1;33m                 \u001b[0mcom\u001b[0m\u001b[1;33m.\u001b[0m\u001b[0mrequire_length_match\u001b[0m\u001b[1;33m(\u001b[0m\u001b[0mdata\u001b[0m\u001b[1;33m,\u001b[0m \u001b[0mindex\u001b[0m\u001b[1;33m)\u001b[0m\u001b[1;33m\u001b[0m\u001b[1;33m\u001b[0m\u001b[0m\n\u001b[0m\u001b[0;32m    431\u001b[0m \u001b[1;33m\u001b[0m\u001b[0m\n\u001b[0;32m    432\u001b[0m             \u001b[1;31m# create/copy the manager\u001b[0m\u001b[1;33m\u001b[0m\u001b[1;33m\u001b[0m\u001b[0m\n",
      "\u001b[1;32m~\\AppData\\Local\\Programs\\Python\\Python310\\lib\\site-packages\\pandas\\core\\common.py\u001b[0m in \u001b[0;36mrequire_length_match\u001b[1;34m(data, index)\u001b[0m\n\u001b[0;32m    529\u001b[0m     \"\"\"\n\u001b[0;32m    530\u001b[0m     \u001b[1;32mif\u001b[0m \u001b[0mlen\u001b[0m\u001b[1;33m(\u001b[0m\u001b[0mdata\u001b[0m\u001b[1;33m)\u001b[0m \u001b[1;33m!=\u001b[0m \u001b[0mlen\u001b[0m\u001b[1;33m(\u001b[0m\u001b[0mindex\u001b[0m\u001b[1;33m)\u001b[0m\u001b[1;33m:\u001b[0m\u001b[1;33m\u001b[0m\u001b[1;33m\u001b[0m\u001b[0m\n\u001b[1;32m--> 531\u001b[1;33m         raise ValueError(\n\u001b[0m\u001b[0;32m    532\u001b[0m             \u001b[1;34m\"Length of values \"\u001b[0m\u001b[1;33m\u001b[0m\u001b[1;33m\u001b[0m\u001b[0m\n\u001b[0;32m    533\u001b[0m             \u001b[1;34mf\"({len(data)}) \"\u001b[0m\u001b[1;33m\u001b[0m\u001b[1;33m\u001b[0m\u001b[0m\n",
      "\u001b[1;31mValueError\u001b[0m: Length of values (3) does not match length of index (1035)"
     ]
    }
   ],
   "source": [
    "x1_2D2 = np.reshape(x1, (3, -1)) #-1 décide automatiquement le nombre de cols\n",
    "x1_2D2"
   ]
  },
  {
   "cell_type": "code",
   "execution_count": 72,
   "metadata": {},
   "outputs": [
    {
     "name": "stderr",
     "output_type": "stream",
     "text": [
      "C:\\Users\\Dylan\\AppData\\Local\\Temp/ipykernel_162560/3934635628.py:4: FutureWarning: Support for multi-dimensional indexing (e.g. `obj[:, None]`) is deprecated and will be removed in a future version.  Convert to a numpy array before indexing instead.\n",
      "  x1[:,np.newaxis]\n"
     ]
    },
    {
     "data": {
      "text/plain": [
       "array([[1],\n",
       "       [1],\n",
       "       [1],\n",
       "       ...,\n",
       "       [1],\n",
       "       [1],\n",
       "       [1]], dtype=int64)"
      ]
     },
     "execution_count": 72,
     "metadata": {},
     "output_type": "execute_result"
    }
   ],
   "source": [
    "# np.newaxis pour convertir un tableau 1D\n",
    "# en un vecteur de ligne ou colonne\n",
    "\n",
    "x1[:,np.newaxis]"
   ]
  },
  {
   "cell_type": "code",
   "execution_count": 73,
   "metadata": {},
   "outputs": [
    {
     "data": {
      "text/plain": [
       "array([[ 6, 12, 93,  2],\n",
       "       [ 5, 26, 78, 90],\n",
       "       [ 3, 12, 16, 22],\n",
       "       [ 5,  3,  1, 16]])"
      ]
     },
     "execution_count": 73,
     "metadata": {},
     "output_type": "execute_result"
    }
   ],
   "source": [
    "# changer de plus grandes tables\n",
    "\n",
    "mon_tab = np.array(((6, 12, 93, 2),\n",
    "                    (5, 26, 78, 90),\n",
    "                    (3, 12, 16, 22),\n",
    "                    (5, 3, 1, 16)))\n",
    "mon_tab"
   ]
  },
  {
   "cell_type": "code",
   "execution_count": 74,
   "metadata": {},
   "outputs": [
    {
     "data": {
      "text/plain": [
       "(4, 4)"
      ]
     },
     "execution_count": 74,
     "metadata": {},
     "output_type": "execute_result"
    }
   ],
   "source": [
    "mon_tab.shape"
   ]
  },
  {
   "cell_type": "code",
   "execution_count": 75,
   "metadata": {},
   "outputs": [],
   "source": [
    "mon_tab_remodel = np.reshape(mon_tab, (8,2))"
   ]
  },
  {
   "cell_type": "code",
   "execution_count": 76,
   "metadata": {},
   "outputs": [
    {
     "data": {
      "text/plain": [
       "array([[[ 6, 12, 93,  2]],\n",
       "\n",
       "       [[ 5, 26, 78, 90]],\n",
       "\n",
       "       [[ 3, 12, 16, 22]],\n",
       "\n",
       "       [[ 5,  3,  1, 16]]])"
      ]
     },
     "execution_count": 76,
     "metadata": {},
     "output_type": "execute_result"
    }
   ],
   "source": [
    "m3 = mon_tab[:, np.newaxis]\n",
    "m3"
   ]
  },
  {
   "cell_type": "code",
   "execution_count": null,
   "metadata": {},
   "outputs": [],
   "source": [
    "m3.shape"
   ]
  },
  {
   "cell_type": "code",
   "execution_count": null,
   "metadata": {},
   "outputs": [],
   "source": [
    "mon_tab"
   ]
  },
  {
   "cell_type": "code",
   "execution_count": null,
   "metadata": {},
   "outputs": [],
   "source": [
    "np.reshape(mon_tab, (8,3))"
   ]
  },
  {
   "cell_type": "code",
   "execution_count": null,
   "metadata": {},
   "outputs": [],
   "source": [
    "np.reshape(mon_tab, (8,-1))"
   ]
  },
  {
   "cell_type": "code",
   "execution_count": null,
   "metadata": {},
   "outputs": [],
   "source": [
    "x2"
   ]
  },
  {
   "cell_type": "code",
   "execution_count": null,
   "metadata": {},
   "outputs": [],
   "source": [
    "x2_v1 = x2[1:,2:].copy()\n",
    "x2_v1"
   ]
  },
  {
   "cell_type": "code",
   "execution_count": null,
   "metadata": {},
   "outputs": [],
   "source": [
    "x2_v2 = x2[:2, :2].copy()\n",
    "x2_v2"
   ]
  },
  {
   "cell_type": "code",
   "execution_count": null,
   "metadata": {},
   "outputs": [],
   "source": [
    "x2[0,0] = 12\n",
    "x2"
   ]
  },
  {
   "cell_type": "code",
   "execution_count": null,
   "metadata": {},
   "outputs": [],
   "source": [
    "x2[0,1] = 3.141\n",
    "x2 # ? ou est la nouvelle valeur ?"
   ]
  },
  {
   "cell_type": "markdown",
   "metadata": {},
   "source": [
    "<div class=\"alert alert-warning\">\n",
    "<b>REMARQUE ! </b>\n",
    "<ul> contrairement aux listes, les tableaux numpy ont un type fixe, i.e., float in int = int</div>"
   ]
  },
  {
   "cell_type": "markdown",
   "metadata": {},
   "source": [
    "<div class=\"alert alert-warning\">\n",
    "<b>trier les tableaux numpy</b>\n",
    "<li> np.sort\n",
    "<li> np.argsort</div>"
   ]
  },
  {
   "cell_type": "code",
   "execution_count": 35,
   "metadata": {},
   "outputs": [
    {
     "data": {
      "text/plain": [
       "array([2, 5, 3, 7, 5, 3])"
      ]
     },
     "execution_count": 35,
     "metadata": {},
     "output_type": "execute_result"
    }
   ],
   "source": [
    "a = np.array([2,5,3,7,5,3])\n",
    "a\n",
    "#np.sort(a)"
   ]
  },
  {
   "cell_type": "code",
   "execution_count": 31,
   "metadata": {},
   "outputs": [
    {
     "data": {
      "text/plain": [
       "array([2, 3, 3, 5, 5, 7])"
      ]
     },
     "execution_count": 31,
     "metadata": {},
     "output_type": "execute_result"
    }
   ],
   "source": [
    "a.sort()\n",
    "a"
   ]
  },
  {
   "cell_type": "code",
   "execution_count": 38,
   "metadata": {},
   "outputs": [
    {
     "data": {
      "text/plain": [
       "array([0, 2, 5, 1, 4, 3], dtype=int64)"
      ]
     },
     "execution_count": 38,
     "metadata": {},
     "output_type": "execute_result"
    }
   ],
   "source": [
    "np.argsort(a) #affiche les indices des éléments triés\n"
   ]
  },
  {
   "cell_type": "code",
   "execution_count": null,
   "metadata": {},
   "outputs": [],
   "source": []
  },
  {
   "cell_type": "code",
   "execution_count": null,
   "metadata": {},
   "outputs": [],
   "source": []
  },
  {
   "cell_type": "code",
   "execution_count": null,
   "metadata": {},
   "outputs": [],
   "source": []
  },
  {
   "cell_type": "code",
   "execution_count": null,
   "metadata": {},
   "outputs": [],
   "source": []
  },
  {
   "cell_type": "markdown",
   "metadata": {},
   "source": [
    "<div class=\"alert alert-info\">\n",
    "<h3>Combinaison des données</h3></div>"
   ]
  },
  {
   "cell_type": "markdown",
   "metadata": {},
   "source": [
    "<div class=\"alert alert-warning\">\n",
    "<h3>combiner les chaînes</h3>\n",
    "</div>"
   ]
  },
  {
   "cell_type": "code",
   "execution_count": 86,
   "metadata": {},
   "outputs": [
    {
     "data": {
      "text/plain": [
       "12"
      ]
     },
     "execution_count": 86,
     "metadata": {},
     "output_type": "execute_result"
    }
   ],
   "source": [
    "var2 = 12\n",
    "var2"
   ]
  },
  {
   "cell_type": "code",
   "execution_count": 87,
   "metadata": {},
   "outputs": [
    {
     "data": {
      "text/plain": [
       "100"
      ]
     },
     "execution_count": 87,
     "metadata": {},
     "output_type": "execute_result"
    }
   ],
   "source": [
    "var1+var2"
   ]
  },
  {
   "cell_type": "code",
   "execution_count": 89,
   "metadata": {},
   "outputs": [],
   "source": [
    "text3, c, text4 = 'montreal', 4, '.ca'"
   ]
  },
  {
   "cell_type": "code",
   "execution_count": null,
   "metadata": {},
   "outputs": [],
   "source": [
    "text3"
   ]
  },
  {
   "cell_type": "code",
   "execution_count": null,
   "metadata": {},
   "outputs": [],
   "source": [
    "text3, c, text4"
   ]
  },
  {
   "cell_type": "code",
   "execution_count": null,
   "metadata": {},
   "outputs": [],
   "source": [
    "print(c)"
   ]
  },
  {
   "cell_type": "code",
   "execution_count": 90,
   "metadata": {},
   "outputs": [
    {
     "ename": "TypeError",
     "evalue": "can only concatenate str (not \"int\") to str",
     "output_type": "error",
     "traceback": [
      "\u001b[1;31m---------------------------------------------------------------------------\u001b[0m",
      "\u001b[1;31mTypeError\u001b[0m                                 Traceback (most recent call last)",
      "\u001b[1;32m<ipython-input-90-0cee3cd39cf7>\u001b[0m in \u001b[0;36m<module>\u001b[1;34m\u001b[0m\n\u001b[1;32m----> 1\u001b[1;33m \u001b[0mprint\u001b[0m\u001b[1;33m(\u001b[0m\u001b[0mtext3\u001b[0m\u001b[1;33m+\u001b[0m\u001b[0mc\u001b[0m\u001b[1;33m)\u001b[0m\u001b[1;33m\u001b[0m\u001b[1;33m\u001b[0m\u001b[0m\n\u001b[0m",
      "\u001b[1;31mTypeError\u001b[0m: can only concatenate str (not \"int\") to str"
     ]
    }
   ],
   "source": [
    "print(text3+c)"
   ]
  },
  {
   "cell_type": "code",
   "execution_count": null,
   "metadata": {},
   "outputs": [],
   "source": [
    "print(text3+str(c))"
   ]
  },
  {
   "cell_type": "code",
   "execution_count": null,
   "metadata": {},
   "outputs": [],
   "source": [
    "# string() commands:\n",
    "\n",
    "\n",
    "# len()\n",
    "# strip()      # Les espaces de début sont supprimés\n",
    "# strip(char)  # retourne une copie de la chaîne dans laquelle tous les caractères ont été supprimés du DÉBUT et de la FIN de la chaîne\n",
    "# rstrip(char) # retourne une copie de la chaîne dans laquelle tous les caractères ont été supprimés de la FIN de la chaîne\n",
    "# replace(char)\n",
    "# split(char, char)\n",
    "# find(char)\n",
    "# isdigit()"
   ]
  },
  {
   "cell_type": "code",
   "execution_count": 49,
   "metadata": {},
   "outputs": [
    {
     "data": {
      "text/plain": [
       "3"
      ]
     },
     "execution_count": 49,
     "metadata": {},
     "output_type": "execute_result"
    }
   ],
   "source": [
    "s = 'bonjour'\n",
    "# len(s) \n",
    "#s.find(j)\n",
    "s.rfind('jo')\n",
    "#s.rstrip('ur')\n",
    "#s.replace('b','c')"
   ]
  },
  {
   "cell_type": "code",
   "execution_count": null,
   "metadata": {},
   "outputs": [],
   "source": [
    "# all string methods:\n",
    "https://docs.python.org/2/library/string.html\n",
    "https://docs.python.org/3/library/stdtypes.html\n",
    "https://www.programiz.com/python-programming/methods/string"
   ]
  },
  {
   "cell_type": "code",
   "execution_count": 92,
   "metadata": {},
   "outputs": [
    {
     "data": {
      "text/plain": [
       "False"
      ]
     },
     "execution_count": 92,
     "metadata": {},
     "output_type": "execute_result"
    }
   ],
   "source": [
    "a = \"aBDnnc\"\n",
    "\n",
    "a.islower()"
   ]
  },
  {
   "cell_type": "code",
   "execution_count": 16,
   "metadata": {},
   "outputs": [
    {
     "data": {
      "text/plain": [
       "'tex'"
      ]
     },
     "execution_count": 16,
     "metadata": {},
     "output_type": "execute_result"
    }
   ],
   "source": [
    "# ATTENTION avec strip(), rstrip()\n",
    "# si la commande comprend plusieurs caractères,\n",
    "# les caractères du milieu seront traités comme une commande de recherche\n",
    "\n",
    "# ex2 = \"texts.xlsx\"\n",
    "# ex2.strip(\".xlsx\")\n",
    "# ex2.rstrip(\".xlsx\")\n",
    "\n",
    "# ex3 = \"textn.fini\"\n",
    "# ex3.strip(\".fini\")\n",
    "# ex3.rstrip(\".fini\")\n",
    "\n",
    "# ex4 = \"textt.fiti\"\n",
    "# ex4.strip(\".fiti\")\n",
    "# ex4.rstrip(\".fiti\")\n",
    "\n",
    "# strip()  supprime les caractères du début et de la fin\n",
    "# rstrip() supprime le caractères de la fin."
   ]
  },
  {
   "cell_type": "markdown",
   "metadata": {},
   "source": [
    "<div class=\"alert alert-warning\">\n",
    "<h3>combiner les entieres et les flottants</h3>\n",
    "</div>"
   ]
  },
  {
   "cell_type": "code",
   "execution_count": 93,
   "metadata": {},
   "outputs": [],
   "source": [
    "i = 30"
   ]
  },
  {
   "cell_type": "code",
   "execution_count": 95,
   "metadata": {},
   "outputs": [
    {
     "data": {
      "text/plain": [
       "37"
      ]
     },
     "execution_count": 95,
     "metadata": {},
     "output_type": "execute_result"
    }
   ],
   "source": [
    "ii = i+7\n",
    "ii"
   ]
  },
  {
   "cell_type": "code",
   "execution_count": 96,
   "metadata": {},
   "outputs": [
    {
     "data": {
      "text/plain": [
       "3.0"
      ]
     },
     "execution_count": 96,
     "metadata": {},
     "output_type": "execute_result"
    }
   ],
   "source": [
    "f = 3.0\n",
    "f"
   ]
  },
  {
   "cell_type": "code",
   "execution_count": 97,
   "metadata": {},
   "outputs": [
    {
     "data": {
      "text/plain": [
       "11.0"
      ]
     },
     "execution_count": 97,
     "metadata": {},
     "output_type": "execute_result"
    }
   ],
   "source": [
    "ff = f+8\n",
    "ff"
   ]
  },
  {
   "cell_type": "code",
   "execution_count": 98,
   "metadata": {},
   "outputs": [
    {
     "data": {
      "text/plain": [
       "48.0"
      ]
     },
     "execution_count": 98,
     "metadata": {},
     "output_type": "execute_result"
    }
   ],
   "source": [
    "fff = ff+ii\n",
    "fff"
   ]
  },
  {
   "cell_type": "code",
   "execution_count": 99,
   "metadata": {},
   "outputs": [
    {
     "data": {
      "text/plain": [
       "0.1"
      ]
     },
     "execution_count": 99,
     "metadata": {},
     "output_type": "execute_result"
    }
   ],
   "source": [
    "f/i"
   ]
  },
  {
   "cell_type": "code",
   "execution_count": 100,
   "metadata": {},
   "outputs": [
    {
     "data": {
      "text/plain": [
       "3.6666666666666665"
      ]
     },
     "execution_count": 100,
     "metadata": {},
     "output_type": "execute_result"
    }
   ],
   "source": [
    "ff/f"
   ]
  },
  {
   "cell_type": "code",
   "execution_count": null,
   "metadata": {},
   "outputs": [],
   "source": [
    "fi = float(i)\n",
    "fi"
   ]
  },
  {
   "cell_type": "code",
   "execution_count": 101,
   "metadata": {},
   "outputs": [
    {
     "data": {
      "text/plain": [
       "3"
      ]
     },
     "execution_count": 101,
     "metadata": {},
     "output_type": "execute_result"
    }
   ],
   "source": [
    "iff = int(f)\n",
    "iff"
   ]
  },
  {
   "cell_type": "code",
   "execution_count": 102,
   "metadata": {},
   "outputs": [
    {
     "data": {
      "text/plain": [
       "int"
      ]
     },
     "execution_count": 102,
     "metadata": {},
     "output_type": "execute_result"
    }
   ],
   "source": [
    "type(i)"
   ]
  },
  {
   "cell_type": "code",
   "execution_count": null,
   "metadata": {},
   "outputs": [],
   "source": [
    "type(f)"
   ]
  },
  {
   "cell_type": "code",
   "execution_count": 104,
   "metadata": {},
   "outputs": [
    {
     "data": {
      "text/plain": [
       "str"
      ]
     },
     "execution_count": 104,
     "metadata": {},
     "output_type": "execute_result"
    }
   ],
   "source": [
    "text3\n",
    "type(text3)"
   ]
  },
  {
   "cell_type": "code",
   "execution_count": null,
   "metadata": {},
   "outputs": [],
   "source": [
    "# integer methods:\n",
    "\n",
    "https://docs.python.org/3/library/stdtypes.html"
   ]
  },
  {
   "cell_type": "code",
   "execution_count": null,
   "metadata": {},
   "outputs": [],
   "source": [
    "a = 7676\n",
    "\n",
    "a.bit_length()"
   ]
  },
  {
   "cell_type": "code",
   "execution_count": 105,
   "metadata": {},
   "outputs": [
    {
     "data": {
      "text/plain": [
       "True"
      ]
     },
     "execution_count": 105,
     "metadata": {},
     "output_type": "execute_result"
    }
   ],
   "source": [
    "m = 8.0\n",
    "m.is_integer()"
   ]
  },
  {
   "cell_type": "markdown",
   "metadata": {},
   "source": [
    "<div class=\"alert alert-warning\">\n",
    "<h3>combiner les listes</h3>\n",
    "</div>"
   ]
  },
  {
   "cell_type": "code",
   "execution_count": 47,
   "metadata": {},
   "outputs": [
    {
     "data": {
      "text/plain": [
       "['text1', 'b', 'text2', [], (), 'text-ver2', 'text2', [], (), 'text-ver2']"
      ]
     },
     "execution_count": 47,
     "metadata": {},
     "output_type": "execute_result"
    }
   ],
   "source": [
    "# concatenation:\n",
    "\n",
    "ls3 = ls1+ls1[2:]\n",
    "ls3"
   ]
  },
  {
   "cell_type": "code",
   "execution_count": 48,
   "metadata": {},
   "outputs": [
    {
     "data": {
      "text/plain": [
       "('text1', 'b', 'text2', 'text', 'text2', 'text')"
      ]
     },
     "execution_count": 48,
     "metadata": {},
     "output_type": "execute_result"
    }
   ],
   "source": [
    "tup3 = tup1+tup1[-2:]\n",
    "tup3"
   ]
  },
  {
   "cell_type": "code",
   "execution_count": null,
   "metadata": {},
   "outputs": [],
   "source": [
    "tup4 = ls1+tup1\n",
    "tup4"
   ]
  },
  {
   "cell_type": "code",
   "execution_count": null,
   "metadata": {},
   "outputs": [],
   "source": []
  },
  {
   "cell_type": "code",
   "execution_count": null,
   "metadata": {},
   "outputs": [],
   "source": [
    "# commandes python utilisables sur les listes \n",
    "help(ls1)\n",
    "len(ls)    # taille de la liste ls\n",
    "sorted(ls) # enregistrera une liste triée\n",
    "\n",
    "# commande spécifique pour les listes:\n",
    "ls.sort    # affichera une liste triée mais ne l'enregistrera pas \n",
    "ls.append  # ajout d’un element à la fin de la liste ls\n",
    "ls.reverse # inverser la liste ls\n",
    "ls.index   # rechercher un élément dans la liste ls\n",
    "ls.remove  # retirer un element de la liste ls\n",
    "ls.pop     # retirer le dernier element de la liste ls"
   ]
  },
  {
   "cell_type": "code",
   "execution_count": null,
   "metadata": {},
   "outputs": [],
   "source": [
    "ls1_sorted = sorted(ls1[:-3])\n",
    "ls1_sorted"
   ]
  },
  {
   "cell_type": "code",
   "execution_count": null,
   "metadata": {},
   "outputs": [],
   "source": [
    "a = [5, 2, 3, 1, 4]\n",
    "a.sort()\n",
    "a"
   ]
  },
  {
   "cell_type": "code",
   "execution_count": 59,
   "metadata": {},
   "outputs": [],
   "source": [
    "ls_fruits = [\"pomme\",'banane','orange','poire','raisins']\n",
    "fruits = pandas.DataFrame(ls_fruits)"
   ]
  },
  {
   "cell_type": "code",
   "execution_count": 60,
   "metadata": {},
   "outputs": [
    {
     "data": {
      "text/html": [
       "<div>\n",
       "<style scoped>\n",
       "    .dataframe tbody tr th:only-of-type {\n",
       "        vertical-align: middle;\n",
       "    }\n",
       "\n",
       "    .dataframe tbody tr th {\n",
       "        vertical-align: top;\n",
       "    }\n",
       "\n",
       "    .dataframe thead th {\n",
       "        text-align: right;\n",
       "    }\n",
       "</style>\n",
       "<table border=\"1\" class=\"dataframe\">\n",
       "  <thead>\n",
       "    <tr style=\"text-align: right;\">\n",
       "      <th></th>\n",
       "      <th>0</th>\n",
       "    </tr>\n",
       "  </thead>\n",
       "  <tbody>\n",
       "    <tr>\n",
       "      <th>0</th>\n",
       "      <td>pomme</td>\n",
       "    </tr>\n",
       "    <tr>\n",
       "      <th>1</th>\n",
       "      <td>banane</td>\n",
       "    </tr>\n",
       "    <tr>\n",
       "      <th>2</th>\n",
       "      <td>orange</td>\n",
       "    </tr>\n",
       "    <tr>\n",
       "      <th>3</th>\n",
       "      <td>poire</td>\n",
       "    </tr>\n",
       "    <tr>\n",
       "      <th>4</th>\n",
       "      <td>raisins</td>\n",
       "    </tr>\n",
       "  </tbody>\n",
       "</table>\n",
       "</div>"
      ],
      "text/plain": [
       "         0\n",
       "0    pomme\n",
       "1   banane\n",
       "2   orange\n",
       "3    poire\n",
       "4  raisins"
      ]
     },
     "execution_count": 60,
     "metadata": {},
     "output_type": "execute_result"
    }
   ],
   "source": [
    "fruits"
   ]
  },
  {
   "cell_type": "code",
   "execution_count": 73,
   "metadata": {},
   "outputs": [
    {
     "data": {
      "text/plain": [
       "array([['pomme'],\n",
       "       ['banane'],\n",
       "       ['orange'],\n",
       "       ['poire'],\n",
       "       ['raisins']], dtype=object)"
      ]
     },
     "execution_count": 73,
     "metadata": {},
     "output_type": "execute_result"
    }
   ],
   "source": [
    "fruits.values"
   ]
  },
  {
   "cell_type": "code",
   "execution_count": null,
   "metadata": {},
   "outputs": [],
   "source": [
    "fruits.to_csv(\"C:/Users/USER/Desktop/tmp.csv\")"
   ]
  },
  {
   "cell_type": "code",
   "execution_count": null,
   "metadata": {},
   "outputs": [],
   "source": [
    "# fruits.to_excel(\"C:/Users/USER/Desktop/tmp.csv\")"
   ]
  },
  {
   "cell_type": "markdown",
   "metadata": {},
   "source": [
    "<center><img src=\"img/Tableau_comparaison_liste_tuple.png\"></center>"
   ]
  },
  {
   "cell_type": "markdown",
   "metadata": {},
   "source": [
    "<div class=\"alert alert-warning\">\n",
    "<h3>combiner les dictionnaires</h3>\n",
    "</div>"
   ]
  },
  {
   "cell_type": "code",
   "execution_count": null,
   "metadata": {},
   "outputs": [],
   "source": [
    "# La concaténation des dictionnaires peut comporter des erreurs\n",
    "# Vérifiez la version de python."
   ]
  },
  {
   "cell_type": "code",
   "execution_count": 1,
   "metadata": {},
   "outputs": [],
   "source": [
    "x = {'a': 1, 'b': 2}\n",
    "y = {'b': 3, 'c': 4}"
   ]
  },
  {
   "cell_type": "code",
   "execution_count": 2,
   "metadata": {},
   "outputs": [
    {
     "data": {
      "text/plain": [
       "{'a': 1, 'b': 3, 'c': 4}"
      ]
     },
     "execution_count": 2,
     "metadata": {},
     "output_type": "execute_result"
    }
   ],
   "source": [
    "# python >3.9\n",
    "\n",
    "z = x | y\n",
    "z\n",
    "\n",
    "# ATTENTION!\n",
    "# la valeur des clés avec le même nom\n",
    "# prendra TOUJOURS la valeur du deuxième dictionnaire"
   ]
  },
  {
   "cell_type": "code",
   "execution_count": 4,
   "metadata": {},
   "outputs": [
    {
     "data": {
      "text/plain": [
       "{'a': 1, 'b': 3, 'c': 4}"
      ]
     },
     "execution_count": 4,
     "metadata": {},
     "output_type": "execute_result"
    }
   ],
   "source": [
    "# python >3.5\n",
    "\n",
    "z = {**x, **y}\n",
    "z"
   ]
  },
  {
   "cell_type": "code",
   "execution_count": 11,
   "metadata": {},
   "outputs": [],
   "source": [
    "# la fusion peut être effectuée en incluant de nouvelles clés:\n",
    "\n",
    "z = {**x, 'foo': 1, 'bar': 2, **y}\n",
    "z"
   ]
  },
  {
   "cell_type": "code",
   "execution_count": 13,
   "metadata": {},
   "outputs": [],
   "source": [
    "# python 2\n",
    "\n",
    "z = x.copy()\n",
    "z.update(y) \n",
    "z"
   ]
  },
  {
   "cell_type": "code",
   "execution_count": null,
   "metadata": {},
   "outputs": [],
   "source": [
    "# pour une réponse plus complète:\n",
    "# https://stackoverflow.com/questions/38987/how-do-i-merge-two-dictionaries-in-a-single-expression-take-union-of-dictionari"
   ]
  },
  {
   "cell_type": "markdown",
   "metadata": {},
   "source": [
    "<div class=\"alert alert-warning\">\n",
    "<h3>combiner les pandas.DataFrame</h3>\n",
    "</div>"
   ]
  },
  {
   "cell_type": "markdown",
   "metadata": {
    "slideshow": {
     "slide_type": "subslide"
    }
   },
   "source": [
    "<div class=\"alert alert-success\">\n",
    "<ul> <h5>Concat/ Append</h5>\n",
    "<li> Concat donne la flexibilité de rejoindre les jeux de données en fonction de l'axe (toutes les lignes ou toutes les colonnes)\n",
    "<p><p> pandas.concat(objs, axis=0, join='outer', join_axes=None, ignore_index=False, keys=None, levels=None, names=None, verify_integrity=False, sort=None, copy=True)<p>\n",
    "<li> Append est le cas spécifique (axe = 0, join = 'outer') de concat. il a été écrit avant l'écriture de la fonction concat. il peut être supprimé dans les versions ultérieures.\n",
    "<p><p> pandas.DataFrame.append(other, ignore_index=False, verify_integrity=False, sort=None)</ul>\n",
    "<p>\n",
    "<ul> <h5>Merge/ Join</h5>\n",
    "<li> Merge est basée sur une colonne particulière de chacun des deux cadres de données, ces colonnes sont des variables comme «left_on», «right_on», «on»\n",
    "<p><p> pandas.DataFrame.merge(right, how='inner', on=None, left_on=None, right_on=None, left_index=False, right_index=False, sort=False, suffixes=('_x', '_y'), copy=True, indicator=False, validate=None)<p>\n",
    "<li> Join est basée sur les index et sur la façon dont les variable se combinent =['left','right','inner','outer']. Utilisez le join pour la jointure index sur index (par défaut) et colonne (s) sur index. Si vous vous joignez uniquement à l'index, vous souhaiterez peut-être utiliser join pour vous éviter de taper.\n",
    "<p><p> pandas.DataFrame.join(self, other, on=None, how='left', lsuffix='', rsuffix='', sort=False)</ul></div>"
   ]
  },
  {
   "cell_type": "markdown",
   "metadata": {},
   "source": [
    "<div class=\"alert alert-success\">\n",
    "<li> Créons deux cadres de données à partir de deux dictionnaires\n",
    "</div>"
   ]
  },
  {
   "cell_type": "code",
   "execution_count": 32,
   "metadata": {},
   "outputs": [],
   "source": [
    "df_A = pandas.DataFrame({'a':5, 'b':2, 'c':1}, index = [0])\n",
    "df_B = pandas.DataFrame({'a':3, 'b':4, 'c':2}, index = [0])\n",
    "df_C = pandas.DataFrame({'a':7, 'b':2, 'c':8}, index = [0])"
   ]
  },
  {
   "cell_type": "code",
   "execution_count": 35,
   "metadata": {
    "scrolled": true
   },
   "outputs": [
    {
     "data": {
      "text/html": [
       "<div>\n",
       "<style scoped>\n",
       "    .dataframe tbody tr th:only-of-type {\n",
       "        vertical-align: middle;\n",
       "    }\n",
       "\n",
       "    .dataframe tbody tr th {\n",
       "        vertical-align: top;\n",
       "    }\n",
       "\n",
       "    .dataframe thead th {\n",
       "        text-align: right;\n",
       "    }\n",
       "</style>\n",
       "<table border=\"1\" class=\"dataframe\">\n",
       "  <thead>\n",
       "    <tr style=\"text-align: right;\">\n",
       "      <th></th>\n",
       "      <th>a</th>\n",
       "      <th>b</th>\n",
       "      <th>c</th>\n",
       "    </tr>\n",
       "  </thead>\n",
       "  <tbody>\n",
       "    <tr>\n",
       "      <th>0</th>\n",
       "      <td>5</td>\n",
       "      <td>2</td>\n",
       "      <td>1</td>\n",
       "    </tr>\n",
       "    <tr>\n",
       "      <th>0</th>\n",
       "      <td>3</td>\n",
       "      <td>4</td>\n",
       "      <td>2</td>\n",
       "    </tr>\n",
       "  </tbody>\n",
       "</table>\n",
       "</div>"
      ],
      "text/plain": [
       "   a  b  c\n",
       "0  5  2  1\n",
       "0  3  4  2"
      ]
     },
     "execution_count": 35,
     "metadata": {},
     "output_type": "execute_result"
    }
   ],
   "source": [
    "df_A.append(df_B)"
   ]
  },
  {
   "cell_type": "code",
   "execution_count": 243,
   "metadata": {
    "scrolled": true
   },
   "outputs": [
    {
     "data": {
      "text/html": [
       "<div>\n",
       "<style scoped>\n",
       "    .dataframe tbody tr th:only-of-type {\n",
       "        vertical-align: middle;\n",
       "    }\n",
       "\n",
       "    .dataframe tbody tr th {\n",
       "        vertical-align: top;\n",
       "    }\n",
       "\n",
       "    .dataframe thead th {\n",
       "        text-align: right;\n",
       "    }\n",
       "</style>\n",
       "<table border=\"1\" class=\"dataframe\">\n",
       "  <thead>\n",
       "    <tr style=\"text-align: right;\">\n",
       "      <th></th>\n",
       "      <th>a</th>\n",
       "      <th>b</th>\n",
       "      <th>c</th>\n",
       "    </tr>\n",
       "  </thead>\n",
       "  <tbody>\n",
       "    <tr>\n",
       "      <th>0</th>\n",
       "      <td>1</td>\n",
       "      <td>2</td>\n",
       "      <td>2</td>\n",
       "    </tr>\n",
       "    <tr>\n",
       "      <th>0</th>\n",
       "      <td>3</td>\n",
       "      <td>4</td>\n",
       "      <td>2</td>\n",
       "    </tr>\n",
       "  </tbody>\n",
       "</table>\n",
       "</div>"
      ],
      "text/plain": [
       "   a  b  c\n",
       "0  1  2  2\n",
       "0  3  4  2"
      ]
     },
     "execution_count": 243,
     "metadata": {},
     "output_type": "execute_result"
    }
   ],
   "source": [
    "df_Concat = pandas.concat([df_A, df_B], axis = 0) # , axis=0 is default - pour les colonnes\n",
    "df_Concat"
   ]
  },
  {
   "cell_type": "code",
   "execution_count": 244,
   "metadata": {},
   "outputs": [
    {
     "data": {
      "text/html": [
       "<div>\n",
       "<style scoped>\n",
       "    .dataframe tbody tr th:only-of-type {\n",
       "        vertical-align: middle;\n",
       "    }\n",
       "\n",
       "    .dataframe tbody tr th {\n",
       "        vertical-align: top;\n",
       "    }\n",
       "\n",
       "    .dataframe thead th {\n",
       "        text-align: right;\n",
       "    }\n",
       "</style>\n",
       "<table border=\"1\" class=\"dataframe\">\n",
       "  <thead>\n",
       "    <tr style=\"text-align: right;\">\n",
       "      <th></th>\n",
       "      <th>a</th>\n",
       "      <th>b</th>\n",
       "      <th>c</th>\n",
       "      <th>a</th>\n",
       "      <th>b</th>\n",
       "      <th>c</th>\n",
       "    </tr>\n",
       "  </thead>\n",
       "  <tbody>\n",
       "    <tr>\n",
       "      <th>0</th>\n",
       "      <td>1</td>\n",
       "      <td>2</td>\n",
       "      <td>2</td>\n",
       "      <td>3</td>\n",
       "      <td>4</td>\n",
       "      <td>2</td>\n",
       "    </tr>\n",
       "  </tbody>\n",
       "</table>\n",
       "</div>"
      ],
      "text/plain": [
       "   a  b  c  a  b  c\n",
       "0  1  2  2  3  4  2"
      ]
     },
     "execution_count": 244,
     "metadata": {},
     "output_type": "execute_result"
    }
   ],
   "source": [
    "df_Concat = pandas.concat([df_A, df_B], axis = 1) # axis=1 = pour l'index\n",
    "df_Concat"
   ]
  },
  {
   "cell_type": "code",
   "execution_count": 245,
   "metadata": {},
   "outputs": [
    {
     "data": {
      "text/html": [
       "<div>\n",
       "<style scoped>\n",
       "    .dataframe tbody tr th:only-of-type {\n",
       "        vertical-align: middle;\n",
       "    }\n",
       "\n",
       "    .dataframe tbody tr th {\n",
       "        vertical-align: top;\n",
       "    }\n",
       "\n",
       "    .dataframe thead th {\n",
       "        text-align: right;\n",
       "    }\n",
       "</style>\n",
       "<table border=\"1\" class=\"dataframe\">\n",
       "  <thead>\n",
       "    <tr style=\"text-align: right;\">\n",
       "      <th></th>\n",
       "      <th></th>\n",
       "      <th>a</th>\n",
       "      <th>b</th>\n",
       "      <th>c</th>\n",
       "    </tr>\n",
       "  </thead>\n",
       "  <tbody>\n",
       "    <tr>\n",
       "      <th>rouge</th>\n",
       "      <th>0</th>\n",
       "      <td>1</td>\n",
       "      <td>2</td>\n",
       "      <td>2</td>\n",
       "    </tr>\n",
       "    <tr>\n",
       "      <th>bleue</th>\n",
       "      <th>0</th>\n",
       "      <td>3</td>\n",
       "      <td>4</td>\n",
       "      <td>2</td>\n",
       "    </tr>\n",
       "  </tbody>\n",
       "</table>\n",
       "</div>"
      ],
      "text/plain": [
       "         a  b  c\n",
       "rouge 0  1  2  2\n",
       "bleue 0  3  4  2"
      ]
     },
     "execution_count": 245,
     "metadata": {},
     "output_type": "execute_result"
    }
   ],
   "source": [
    "pandas.concat([df_A, df_B], keys=['rouge','bleue'], axis=0)"
   ]
  },
  {
   "cell_type": "code",
   "execution_count": 50,
   "metadata": {},
   "outputs": [],
   "source": [
    "df_office1 = pandas.DataFrame({'name':['Alana','Pierre','Corinne','Marianne'],\n",
    "                           'group':['Bank','Science','Resources','Plannification']})\n",
    "df_office2 = pandas.DataFrame({'name':['Alana','Pierre','Corinne','Marianne'],\n",
    "                           'date':['2004','2008','2006','2012']})"
   ]
  },
  {
   "cell_type": "code",
   "execution_count": 54,
   "metadata": {},
   "outputs": [
    {
     "data": {
      "text/html": [
       "<div>\n",
       "<style scoped>\n",
       "    .dataframe tbody tr th:only-of-type {\n",
       "        vertical-align: middle;\n",
       "    }\n",
       "\n",
       "    .dataframe tbody tr th {\n",
       "        vertical-align: top;\n",
       "    }\n",
       "\n",
       "    .dataframe thead th {\n",
       "        text-align: right;\n",
       "    }\n",
       "</style>\n",
       "<table border=\"1\" class=\"dataframe\">\n",
       "  <thead>\n",
       "    <tr style=\"text-align: right;\">\n",
       "      <th></th>\n",
       "      <th>name</th>\n",
       "      <th>group</th>\n",
       "    </tr>\n",
       "  </thead>\n",
       "  <tbody>\n",
       "    <tr>\n",
       "      <th>0</th>\n",
       "      <td>Alana</td>\n",
       "      <td>Bank</td>\n",
       "    </tr>\n",
       "    <tr>\n",
       "      <th>1</th>\n",
       "      <td>Pierre</td>\n",
       "      <td>Science</td>\n",
       "    </tr>\n",
       "    <tr>\n",
       "      <th>2</th>\n",
       "      <td>Corinne</td>\n",
       "      <td>Resources</td>\n",
       "    </tr>\n",
       "    <tr>\n",
       "      <th>3</th>\n",
       "      <td>Marianne</td>\n",
       "      <td>Plannification</td>\n",
       "    </tr>\n",
       "    <tr>\n",
       "      <th>0</th>\n",
       "      <td>Alana</td>\n",
       "      <td>Bank</td>\n",
       "    </tr>\n",
       "    <tr>\n",
       "      <th>1</th>\n",
       "      <td>Pierre</td>\n",
       "      <td>Science</td>\n",
       "    </tr>\n",
       "    <tr>\n",
       "      <th>2</th>\n",
       "      <td>Corinne</td>\n",
       "      <td>Resources</td>\n",
       "    </tr>\n",
       "    <tr>\n",
       "      <th>3</th>\n",
       "      <td>Marianne</td>\n",
       "      <td>Plannification</td>\n",
       "    </tr>\n",
       "  </tbody>\n",
       "</table>\n",
       "</div>"
      ],
      "text/plain": [
       "       name           group\n",
       "0     Alana            Bank\n",
       "1    Pierre         Science\n",
       "2   Corinne       Resources\n",
       "3  Marianne  Plannification\n",
       "0     Alana            Bank\n",
       "1    Pierre         Science\n",
       "2   Corinne       Resources\n",
       "3  Marianne  Plannification"
      ]
     },
     "execution_count": 54,
     "metadata": {},
     "output_type": "execute_result"
    }
   ],
   "source": [
    "pandas.concat([df_office1, df_office1])"
   ]
  },
  {
   "cell_type": "code",
   "execution_count": 55,
   "metadata": {},
   "outputs": [
    {
     "data": {
      "text/html": [
       "<div>\n",
       "<style scoped>\n",
       "    .dataframe tbody tr th:only-of-type {\n",
       "        vertical-align: middle;\n",
       "    }\n",
       "\n",
       "    .dataframe tbody tr th {\n",
       "        vertical-align: top;\n",
       "    }\n",
       "\n",
       "    .dataframe thead th {\n",
       "        text-align: right;\n",
       "    }\n",
       "</style>\n",
       "<table border=\"1\" class=\"dataframe\">\n",
       "  <thead>\n",
       "    <tr style=\"text-align: right;\">\n",
       "      <th></th>\n",
       "      <th>group</th>\n",
       "      <th>name</th>\n",
       "    </tr>\n",
       "  </thead>\n",
       "  <tbody>\n",
       "    <tr>\n",
       "      <th>0</th>\n",
       "      <td>Bank</td>\n",
       "      <td>Alana</td>\n",
       "    </tr>\n",
       "    <tr>\n",
       "      <th>1</th>\n",
       "      <td>Science</td>\n",
       "      <td>Pierre</td>\n",
       "    </tr>\n",
       "    <tr>\n",
       "      <th>2</th>\n",
       "      <td>Resources</td>\n",
       "      <td>Corinne</td>\n",
       "    </tr>\n",
       "    <tr>\n",
       "      <th>3</th>\n",
       "      <td>Plannification</td>\n",
       "      <td>Marianne</td>\n",
       "    </tr>\n",
       "    <tr>\n",
       "      <th>0</th>\n",
       "      <td>Bank</td>\n",
       "      <td>Alana</td>\n",
       "    </tr>\n",
       "    <tr>\n",
       "      <th>1</th>\n",
       "      <td>Science</td>\n",
       "      <td>Pierre</td>\n",
       "    </tr>\n",
       "    <tr>\n",
       "      <th>2</th>\n",
       "      <td>Resources</td>\n",
       "      <td>Corinne</td>\n",
       "    </tr>\n",
       "    <tr>\n",
       "      <th>3</th>\n",
       "      <td>Plannification</td>\n",
       "      <td>Marianne</td>\n",
       "    </tr>\n",
       "  </tbody>\n",
       "</table>\n",
       "</div>"
      ],
      "text/plain": [
       "            group      name\n",
       "0            Bank     Alana\n",
       "1         Science    Pierre\n",
       "2       Resources   Corinne\n",
       "3  Plannification  Marianne\n",
       "0            Bank     Alana\n",
       "1         Science    Pierre\n",
       "2       Resources   Corinne\n",
       "3  Plannification  Marianne"
      ]
     },
     "execution_count": 55,
     "metadata": {},
     "output_type": "execute_result"
    }
   ],
   "source": [
    "pandas.concat([df_office1, df_office1])"
   ]
  },
  {
   "cell_type": "code",
   "execution_count": 56,
   "metadata": {
    "scrolled": true
   },
   "outputs": [
    {
     "data": {
      "text/html": [
       "<div>\n",
       "<style scoped>\n",
       "    .dataframe tbody tr th:only-of-type {\n",
       "        vertical-align: middle;\n",
       "    }\n",
       "\n",
       "    .dataframe tbody tr th {\n",
       "        vertical-align: top;\n",
       "    }\n",
       "\n",
       "    .dataframe thead th {\n",
       "        text-align: right;\n",
       "    }\n",
       "</style>\n",
       "<table border=\"1\" class=\"dataframe\">\n",
       "  <thead>\n",
       "    <tr style=\"text-align: right;\">\n",
       "      <th></th>\n",
       "      <th>name</th>\n",
       "      <th>group</th>\n",
       "      <th>name</th>\n",
       "      <th>date</th>\n",
       "    </tr>\n",
       "  </thead>\n",
       "  <tbody>\n",
       "    <tr>\n",
       "      <th>0</th>\n",
       "      <td>Alana</td>\n",
       "      <td>Bank</td>\n",
       "      <td>Alana</td>\n",
       "      <td>2004</td>\n",
       "    </tr>\n",
       "    <tr>\n",
       "      <th>1</th>\n",
       "      <td>Pierre</td>\n",
       "      <td>Science</td>\n",
       "      <td>Pierre</td>\n",
       "      <td>2008</td>\n",
       "    </tr>\n",
       "    <tr>\n",
       "      <th>2</th>\n",
       "      <td>Corinne</td>\n",
       "      <td>Resources</td>\n",
       "      <td>Corinne</td>\n",
       "      <td>2006</td>\n",
       "    </tr>\n",
       "    <tr>\n",
       "      <th>3</th>\n",
       "      <td>Marianne</td>\n",
       "      <td>Plannification</td>\n",
       "      <td>Marianne</td>\n",
       "      <td>2012</td>\n",
       "    </tr>\n",
       "  </tbody>\n",
       "</table>\n",
       "</div>"
      ],
      "text/plain": [
       "       name           group      name  date\n",
       "0     Alana            Bank     Alana  2004\n",
       "1    Pierre         Science    Pierre  2008\n",
       "2   Corinne       Resources   Corinne  2006\n",
       "3  Marianne  Plannification  Marianne  2012"
      ]
     },
     "execution_count": 56,
     "metadata": {},
     "output_type": "execute_result"
    }
   ],
   "source": [
    "pandas.concat([df_office1, df_office2], axis=1)"
   ]
  },
  {
   "cell_type": "code",
   "execution_count": 253,
   "metadata": {},
   "outputs": [
    {
     "data": {
      "text/html": [
       "<div>\n",
       "<style scoped>\n",
       "    .dataframe tbody tr th:only-of-type {\n",
       "        vertical-align: middle;\n",
       "    }\n",
       "\n",
       "    .dataframe tbody tr th {\n",
       "        vertical-align: top;\n",
       "    }\n",
       "\n",
       "    .dataframe thead th {\n",
       "        text-align: right;\n",
       "    }\n",
       "</style>\n",
       "<table border=\"1\" class=\"dataframe\">\n",
       "  <thead>\n",
       "    <tr style=\"text-align: right;\">\n",
       "      <th></th>\n",
       "      <th>name</th>\n",
       "      <th>group</th>\n",
       "      <th>date</th>\n",
       "    </tr>\n",
       "  </thead>\n",
       "  <tbody>\n",
       "    <tr>\n",
       "      <th>0</th>\n",
       "      <td>Alana</td>\n",
       "      <td>Bank</td>\n",
       "      <td>2004</td>\n",
       "    </tr>\n",
       "    <tr>\n",
       "      <th>1</th>\n",
       "      <td>Pierre</td>\n",
       "      <td>Science</td>\n",
       "      <td>2008</td>\n",
       "    </tr>\n",
       "    <tr>\n",
       "      <th>2</th>\n",
       "      <td>Corinne</td>\n",
       "      <td>Resources</td>\n",
       "      <td>2006</td>\n",
       "    </tr>\n",
       "    <tr>\n",
       "      <th>3</th>\n",
       "      <td>Marianne</td>\n",
       "      <td>Plannification</td>\n",
       "      <td>2012</td>\n",
       "    </tr>\n",
       "  </tbody>\n",
       "</table>\n",
       "</div>"
      ],
      "text/plain": [
       "       name           group  date\n",
       "0     Alana            Bank  2004\n",
       "1    Pierre         Science  2008\n",
       "2   Corinne       Resources  2006\n",
       "3  Marianne  Plannification  2012"
      ]
     },
     "execution_count": 253,
     "metadata": {},
     "output_type": "execute_result"
    }
   ],
   "source": [
    "df_office1.merge(df_office2)"
   ]
  },
  {
   "cell_type": "code",
   "execution_count": 257,
   "metadata": {},
   "outputs": [
    {
     "data": {
      "text/html": [
       "<div>\n",
       "<style scoped>\n",
       "    .dataframe tbody tr th:only-of-type {\n",
       "        vertical-align: middle;\n",
       "    }\n",
       "\n",
       "    .dataframe tbody tr th {\n",
       "        vertical-align: top;\n",
       "    }\n",
       "\n",
       "    .dataframe thead th {\n",
       "        text-align: right;\n",
       "    }\n",
       "</style>\n",
       "<table border=\"1\" class=\"dataframe\">\n",
       "  <thead>\n",
       "    <tr style=\"text-align: right;\">\n",
       "      <th></th>\n",
       "      <th>name</th>\n",
       "      <th>group</th>\n",
       "    </tr>\n",
       "  </thead>\n",
       "  <tbody>\n",
       "    <tr>\n",
       "      <th>0</th>\n",
       "      <td>Alana</td>\n",
       "      <td>Bank</td>\n",
       "    </tr>\n",
       "    <tr>\n",
       "      <th>1</th>\n",
       "      <td>Pierre</td>\n",
       "      <td>Science</td>\n",
       "    </tr>\n",
       "    <tr>\n",
       "      <th>2</th>\n",
       "      <td>Corinne</td>\n",
       "      <td>Resources</td>\n",
       "    </tr>\n",
       "    <tr>\n",
       "      <th>3</th>\n",
       "      <td>Marianne</td>\n",
       "      <td>Plannification</td>\n",
       "    </tr>\n",
       "  </tbody>\n",
       "</table>\n",
       "</div>"
      ],
      "text/plain": [
       "       name           group\n",
       "0     Alana            Bank\n",
       "1    Pierre         Science\n",
       "2   Corinne       Resources\n",
       "3  Marianne  Plannification"
      ]
     },
     "execution_count": 257,
     "metadata": {},
     "output_type": "execute_result"
    }
   ],
   "source": [
    "df_office1"
   ]
  },
  {
   "cell_type": "code",
   "execution_count": 258,
   "metadata": {},
   "outputs": [
    {
     "data": {
      "text/html": [
       "<div>\n",
       "<style scoped>\n",
       "    .dataframe tbody tr th:only-of-type {\n",
       "        vertical-align: middle;\n",
       "    }\n",
       "\n",
       "    .dataframe tbody tr th {\n",
       "        vertical-align: top;\n",
       "    }\n",
       "\n",
       "    .dataframe thead th {\n",
       "        text-align: right;\n",
       "    }\n",
       "</style>\n",
       "<table border=\"1\" class=\"dataframe\">\n",
       "  <thead>\n",
       "    <tr style=\"text-align: right;\">\n",
       "      <th></th>\n",
       "      <th>name</th>\n",
       "      <th>date</th>\n",
       "    </tr>\n",
       "  </thead>\n",
       "  <tbody>\n",
       "    <tr>\n",
       "      <th>0</th>\n",
       "      <td>Alana</td>\n",
       "      <td>2004</td>\n",
       "    </tr>\n",
       "    <tr>\n",
       "      <th>1</th>\n",
       "      <td>Pierre</td>\n",
       "      <td>2008</td>\n",
       "    </tr>\n",
       "    <tr>\n",
       "      <th>2</th>\n",
       "      <td>Corinne</td>\n",
       "      <td>2006</td>\n",
       "    </tr>\n",
       "    <tr>\n",
       "      <th>3</th>\n",
       "      <td>Marianne</td>\n",
       "      <td>2012</td>\n",
       "    </tr>\n",
       "  </tbody>\n",
       "</table>\n",
       "</div>"
      ],
      "text/plain": [
       "       name  date\n",
       "0     Alana  2004\n",
       "1    Pierre  2008\n",
       "2   Corinne  2006\n",
       "3  Marianne  2012"
      ]
     },
     "execution_count": 258,
     "metadata": {},
     "output_type": "execute_result"
    }
   ],
   "source": [
    "df_office2"
   ]
  },
  {
   "cell_type": "code",
   "execution_count": 256,
   "metadata": {
    "scrolled": true
   },
   "outputs": [
    {
     "data": {
      "text/html": [
       "<div>\n",
       "<style scoped>\n",
       "    .dataframe tbody tr th:only-of-type {\n",
       "        vertical-align: middle;\n",
       "    }\n",
       "\n",
       "    .dataframe tbody tr th {\n",
       "        vertical-align: top;\n",
       "    }\n",
       "\n",
       "    .dataframe thead th {\n",
       "        text-align: right;\n",
       "    }\n",
       "</style>\n",
       "<table border=\"1\" class=\"dataframe\">\n",
       "  <thead>\n",
       "    <tr style=\"text-align: right;\">\n",
       "      <th></th>\n",
       "      <th>name</th>\n",
       "      <th>group</th>\n",
       "      <th>date</th>\n",
       "    </tr>\n",
       "  </thead>\n",
       "  <tbody>\n",
       "    <tr>\n",
       "      <th>0</th>\n",
       "      <td>Alana</td>\n",
       "      <td>Bank</td>\n",
       "      <td>2004</td>\n",
       "    </tr>\n",
       "    <tr>\n",
       "      <th>1</th>\n",
       "      <td>Pierre</td>\n",
       "      <td>Science</td>\n",
       "      <td>2008</td>\n",
       "    </tr>\n",
       "    <tr>\n",
       "      <th>2</th>\n",
       "      <td>Corinne</td>\n",
       "      <td>Resources</td>\n",
       "      <td>2006</td>\n",
       "    </tr>\n",
       "    <tr>\n",
       "      <th>3</th>\n",
       "      <td>Marianne</td>\n",
       "      <td>Plannification</td>\n",
       "      <td>2012</td>\n",
       "    </tr>\n",
       "  </tbody>\n",
       "</table>\n",
       "</div>"
      ],
      "text/plain": [
       "       name           group  date\n",
       "0     Alana            Bank  2004\n",
       "1    Pierre         Science  2008\n",
       "2   Corinne       Resources  2006\n",
       "3  Marianne  Plannification  2012"
      ]
     },
     "execution_count": 256,
     "metadata": {},
     "output_type": "execute_result"
    }
   ],
   "source": [
    "df_office1.join(df_office2.set_index('name'), on='name')"
   ]
  },
  {
   "cell_type": "markdown",
   "metadata": {},
   "source": [
    "<div class=\"alert alert-warning\">\n",
    "<h3>combiner les numpy.array</h3>\n",
    "</div>"
   ]
  },
  {
   "cell_type": "markdown",
   "metadata": {},
   "source": [
    "<div class=\"alert alert-warning\">\n",
    "<ul> <b>Concatenation </b></div>"
   ]
  },
  {
   "cell_type": "code",
   "execution_count": 83,
   "metadata": {},
   "outputs": [],
   "source": [
    "# concaténation de tableaux\n",
    "\n",
    "tab1 = np.array(((1, 2),\n",
    "                 (3, 4)))\n",
    "tab2 = np.array(((5, 6),\n",
    "                 (7, 8)))\n",
    "tab3 = np.array(((9, 10),\n",
    "                 (11, 12)))"
   ]
  },
  {
   "cell_type": "code",
   "execution_count": 84,
   "metadata": {},
   "outputs": [
    {
     "data": {
      "text/plain": [
       "(2, 2)"
      ]
     },
     "execution_count": 84,
     "metadata": {},
     "output_type": "execute_result"
    }
   ],
   "source": [
    "tab1.shape"
   ]
  },
  {
   "cell_type": "code",
   "execution_count": 86,
   "metadata": {},
   "outputs": [
    {
     "data": {
      "text/plain": [
       "array([[1, 2],\n",
       "       [3, 4]])"
      ]
     },
     "execution_count": 86,
     "metadata": {},
     "output_type": "execute_result"
    }
   ],
   "source": [
    "tab1"
   ]
  },
  {
   "cell_type": "code",
   "execution_count": 93,
   "metadata": {},
   "outputs": [],
   "source": [
    "concat1 = np.concatenate((tab1, tab2, tab3))"
   ]
  },
  {
   "cell_type": "code",
   "execution_count": 94,
   "metadata": {},
   "outputs": [
    {
     "data": {
      "text/plain": [
       "array([[ 1,  2],\n",
       "       [ 3,  4],\n",
       "       [ 5,  6],\n",
       "       [ 7,  8],\n",
       "       [ 9, 10],\n",
       "       [11, 12]])"
      ]
     },
     "execution_count": 94,
     "metadata": {},
     "output_type": "execute_result"
    }
   ],
   "source": [
    "concat1"
   ]
  },
  {
   "cell_type": "code",
   "execution_count": 95,
   "metadata": {},
   "outputs": [
    {
     "data": {
      "text/plain": [
       "(6, 2)"
      ]
     },
     "execution_count": 95,
     "metadata": {},
     "output_type": "execute_result"
    }
   ],
   "source": [
    "concat1.shape"
   ]
  },
  {
   "cell_type": "code",
   "execution_count": 97,
   "metadata": {},
   "outputs": [
    {
     "name": "stdout",
     "output_type": "stream",
     "text": [
      "[1 2 3] [4 5 6] [7 8 9]\n"
     ]
    }
   ],
   "source": [
    "# concaténation de tableaux, different types\n",
    "\n",
    "a = np.array([1,2,3])\n",
    "b = np.array([4,5,6])\n",
    "c = np.array([7,8,9])\n",
    "print(a, b,c)"
   ]
  },
  {
   "cell_type": "markdown",
   "metadata": {},
   "source": [
    "<center><img src=\"img/numpy_vstack_hstack.png\"><center>"
   ]
  },
  {
   "cell_type": "code",
   "execution_count": 38,
   "metadata": {},
   "outputs": [
    {
     "data": {
      "text/plain": [
       "array([[1, 2, 3],\n",
       "       [4, 5, 6],\n",
       "       [7, 8, 9]])"
      ]
     },
     "execution_count": 38,
     "metadata": {},
     "output_type": "execute_result"
    }
   ],
   "source": [
    "np.vstack([a,b,c]) #concaténation vertical"
   ]
  },
  {
   "cell_type": "code",
   "execution_count": 98,
   "metadata": {},
   "outputs": [
    {
     "name": "stdout",
     "output_type": "stream",
     "text": [
      "(3, 3) 2\n"
     ]
    }
   ],
   "source": [
    "chk1 = np.vstack([a,b,c]) #concaténation vertical\n",
    "print(chk1.shape, chk1.ndim)"
   ]
  },
  {
   "cell_type": "code",
   "execution_count": 99,
   "metadata": {},
   "outputs": [
    {
     "data": {
      "text/plain": [
       "array([1, 2, 3, 4, 5, 6, 7, 8, 9])"
      ]
     },
     "execution_count": 99,
     "metadata": {},
     "output_type": "execute_result"
    }
   ],
   "source": [
    "np.hstack([a,b,c]) #concaténation horizontale"
   ]
  },
  {
   "cell_type": "code",
   "execution_count": 100,
   "metadata": {},
   "outputs": [
    {
     "name": "stdout",
     "output_type": "stream",
     "text": [
      "(9,) 1\n"
     ]
    }
   ],
   "source": [
    "chk_v = np.hstack([a,b,c]) #concaténation vertical\n",
    "print(chk_v.shape, chk_v.ndim)"
   ]
  },
  {
   "cell_type": "code",
   "execution_count": 101,
   "metadata": {},
   "outputs": [
    {
     "data": {
      "text/plain": [
       "array([[1, 4, 7],\n",
       "       [2, 5, 8],\n",
       "       [3, 6, 9]])"
      ]
     },
     "execution_count": 101,
     "metadata": {},
     "output_type": "execute_result"
    }
   ],
   "source": [
    "np.c_[a,b,c] #concaténation vertical, Version 2"
   ]
  },
  {
   "cell_type": "code",
   "execution_count": 102,
   "metadata": {},
   "outputs": [
    {
     "data": {
      "text/plain": [
       "array([1, 2, 3, 4, 5, 6, 7, 8, 9])"
      ]
     },
     "execution_count": 102,
     "metadata": {},
     "output_type": "execute_result"
    }
   ],
   "source": [
    "np.r_[a,b,c] #concaténation horizontale, Version 2"
   ]
  },
  {
   "cell_type": "markdown",
   "metadata": {},
   "source": [
    "<div class=\"alert alert-warning\">\n",
    "<b>Division de tableaux </b>\n",
    "</div>"
   ]
  },
  {
   "cell_type": "markdown",
   "metadata": {},
   "source": [
    "<div class=\"alert alert-success\">\n",
    "<li> np.split\n",
    "<li> np.vsplit\n",
    "<li> np.hsplit</div>"
   ]
  },
  {
   "cell_type": "code",
   "execution_count": 103,
   "metadata": {},
   "outputs": [
    {
     "data": {
      "text/plain": [
       "array([[ 1,  2],\n",
       "       [ 3,  4],\n",
       "       [ 5,  6],\n",
       "       [ 7,  8],\n",
       "       [ 9, 10],\n",
       "       [11, 12]])"
      ]
     },
     "execution_count": 103,
     "metadata": {},
     "output_type": "execute_result"
    }
   ],
   "source": [
    "tab_concat = np.array(((1, 2),\n",
    "                       (3, 4),\n",
    "                       (5, 6),\n",
    "                       (7, 8),\n",
    "                       (9, 10),\n",
    "                       (11, 12)))\n",
    "tab_concat"
   ]
  },
  {
   "cell_type": "code",
   "execution_count": 105,
   "metadata": {},
   "outputs": [
    {
     "data": {
      "text/plain": [
       "((6, 2), 2)"
      ]
     },
     "execution_count": 105,
     "metadata": {},
     "output_type": "execute_result"
    }
   ],
   "source": [
    "tab_concat.shape, tab_concat.ndim"
   ]
  },
  {
   "cell_type": "markdown",
   "metadata": {},
   "source": [
    "<center><img src=\"img/numpy_split.png\"><center>"
   ]
  },
  {
   "cell_type": "code",
   "execution_count": 106,
   "metadata": {},
   "outputs": [
    {
     "data": {
      "text/plain": [
       "[array([[1, 2],\n",
       "        [3, 4]]),\n",
       " array([[5, 6],\n",
       "        [7, 8]]),\n",
       " array([[ 9, 10],\n",
       "        [11, 12]])]"
      ]
     },
     "execution_count": 106,
     "metadata": {},
     "output_type": "execute_result"
    }
   ],
   "source": [
    "np.split(tab_concat, 3)"
   ]
  },
  {
   "cell_type": "markdown",
   "metadata": {},
   "source": [
    "<center><img src=\"img/numpy_vsplit.png\"><center>"
   ]
  },
  {
   "cell_type": "code",
   "execution_count": 107,
   "metadata": {},
   "outputs": [
    {
     "data": {
      "text/plain": [
       "[array([[1, 2],\n",
       "        [3, 4],\n",
       "        [5, 6]]),\n",
       " array([[ 7,  8],\n",
       "        [ 9, 10],\n",
       "        [11, 12]])]"
      ]
     },
     "execution_count": 107,
     "metadata": {},
     "output_type": "execute_result"
    }
   ],
   "source": [
    "# numpy.vsplit(ary, indices_or_sections)\n",
    "\n",
    "np.vsplit(tab_concat, [3])"
   ]
  },
  {
   "cell_type": "code",
   "execution_count": 53,
   "metadata": {},
   "outputs": [
    {
     "data": {
      "text/plain": [
       "array([[1, 2],\n",
       "       [3, 4],\n",
       "       [5, 6]])"
      ]
     },
     "execution_count": 53,
     "metadata": {},
     "output_type": "execute_result"
    }
   ],
   "source": [
    "u1, u2 = np.vsplit(tab_concat, [3])\n",
    "u1"
   ]
  },
  {
   "cell_type": "code",
   "execution_count": 108,
   "metadata": {},
   "outputs": [
    {
     "data": {
      "text/plain": [
       "array([[ 1,  2],\n",
       "       [ 3,  4],\n",
       "       [ 5,  6],\n",
       "       [ 7,  8],\n",
       "       [ 9, 10],\n",
       "       [11, 12]])"
      ]
     },
     "execution_count": 108,
     "metadata": {},
     "output_type": "execute_result"
    }
   ],
   "source": [
    "tab_concat"
   ]
  },
  {
   "cell_type": "code",
   "execution_count": null,
   "metadata": {},
   "outputs": [],
   "source": [
    "[ 1,  2],[ 3,  4],"
   ]
  },
  {
   "cell_type": "markdown",
   "metadata": {},
   "source": [
    "<center><img src=\"img/numpy_hsplit.png\"><center>"
   ]
  },
  {
   "cell_type": "code",
   "execution_count": 81,
   "metadata": {
    "scrolled": false
   },
   "outputs": [
    {
     "data": {
      "text/plain": [
       "array([[ 2],\n",
       "       [ 4],\n",
       "       [ 6],\n",
       "       [ 8],\n",
       "       [10],\n",
       "       [12]])"
      ]
     },
     "execution_count": 81,
     "metadata": {},
     "output_type": "execute_result"
    }
   ],
   "source": [
    "u1, u2 = np.hsplit(tab_concat, [1])\n",
    "u2"
   ]
  },
  {
   "cell_type": "markdown",
   "metadata": {},
   "source": [
    "<div class=\"alert alert-info\">\n",
    "<h2>Les Operateurs</h2>\n",
    "<ul> <li>opérateurs de comparaison\n",
    "    <li>opérateurs d'aggregation\n",
    "    <li>opérateurs arithmétiques (incluses dans NumPy)\n",
    "    <li>opérateurs trigonométrique; exponents, logarithms\n",
    "    <li>opérateurs sur les valuers manquantes</ul></div>"
   ]
  },
  {
   "cell_type": "raw",
   "metadata": {},
   "source": [
    "# types de data\n",
    "\n",
    "bool_\t\t\t\t\tTrue/False\n",
    "int_\t\t\t\t\tentier par défaut\n",
    "int8\t\t\t\t\tOctet\n",
    "int16/int32/int64\t\tentier\n",
    "float_\t\t\t\t\tflotte64/ flotte32/ flotte16\n",
    "complex64/complex128\tnombres complexes de deux flottants 32/64 octet"
   ]
  },
  {
   "cell_type": "markdown",
   "metadata": {},
   "source": [
    "<div class=\"alert alert-warning\">\n",
    "<h3>opérateurs de comparaison</h3></div>"
   ]
  },
  {
   "cell_type": "raw",
   "metadata": {},
   "source": [
    "==  Égal à\n",
    "!=  Inégal\n",
    "<   Moins que\n",
    ">   Plus grand que\n",
    "<=  Inférieur ou égal à\n",
    ">=  Égal ou supérieur à\n",
    "\n",
    "Opérateurs logiques\n",
    "\n",
    "and \n",
    "or \n",
    "not \n",
    "\n",
    "Opérateurs d'identité\n",
    "is\n",
    "is not\n",
    "\n",
    "Opérateurs d'adhésion\n",
    "in\n",
    "not in\n",
    "\n",
    "Opérateurs au niveau du bit\n",
    "& AND\n",
    "|  OR"
   ]
  },
  {
   "cell_type": "code",
   "execution_count": 4,
   "metadata": {},
   "outputs": [],
   "source": [
    "import pandas\n",
    "fichier = r'C:\\Users\\Dylan\\Downloads\\proj_infra_rechr_approu_20210423.csv'\n",
    "df_qc = pandas.read_csv(fichier)\n",
    "\n",
    "df_qc = pandas.read_csv(fichier, usecols = ['REGION_ADMINISTRATIVE', 'ETABLISSEMENT'])"
   ]
  },
  {
   "cell_type": "code",
   "execution_count": 5,
   "metadata": {},
   "outputs": [
    {
     "data": {
      "text/plain": [
       "Index(['REGION_ADMINISTRATIVE', 'ETABLISSEMENT'], dtype='object')"
      ]
     },
     "execution_count": 5,
     "metadata": {},
     "output_type": "execute_result"
    }
   ],
   "source": [
    "df_qc.columns"
   ]
  },
  {
   "cell_type": "code",
   "execution_count": 6,
   "metadata": {},
   "outputs": [
    {
     "data": {
      "text/plain": [
       "True"
      ]
     },
     "execution_count": 6,
     "metadata": {},
     "output_type": "execute_result"
    }
   ],
   "source": [
    "# utiliser les méthodes de Bool pour examiner les \n",
    "# clés / indices et les valeurs - pour vérifier si la valeur est présente\n",
    "\n",
    "'ETABLISSEMENT' in df_qc"
   ]
  },
  {
   "cell_type": "code",
   "execution_count": 11,
   "metadata": {},
   "outputs": [
    {
     "ename": "AttributeError",
     "evalue": "'DataFrame' object has no attribute 'col'",
     "output_type": "error",
     "traceback": [
      "\u001b[1;31m---------------------------------------------------------------------------\u001b[0m",
      "\u001b[1;31mAttributeError\u001b[0m                            Traceback (most recent call last)",
      "\u001b[1;32m~\\AppData\\Local\\Temp/ipykernel_13356/1250919578.py\u001b[0m in \u001b[0;36m<module>\u001b[1;34m\u001b[0m\n\u001b[0;32m      1\u001b[0m \u001b[1;34m'etab'\u001b[0m \u001b[1;32min\u001b[0m \u001b[0mdf_qc\u001b[0m\u001b[1;33m\u001b[0m\u001b[1;33m\u001b[0m\u001b[0m\n\u001b[0;32m      2\u001b[0m \u001b[0mdf_qc\u001b[0m\u001b[1;33m.\u001b[0m\u001b[0mhead\u001b[0m\u001b[1;33m\u001b[0m\u001b[1;33m\u001b[0m\u001b[0m\n\u001b[1;32m----> 3\u001b[1;33m \u001b[0mdf_qc\u001b[0m\u001b[1;33m.\u001b[0m\u001b[0mcol\u001b[0m\u001b[1;33m.\u001b[0m\u001b[0mtolist\u001b[0m\u001b[1;33m(\u001b[0m\u001b[1;33m)\u001b[0m\u001b[1;33m\u001b[0m\u001b[1;33m\u001b[0m\u001b[0m\n\u001b[0m",
      "\u001b[1;32m~\\AppData\\Local\\Programs\\Python\\Python310\\lib\\site-packages\\pandas\\core\\generic.py\u001b[0m in \u001b[0;36m__getattr__\u001b[1;34m(self, name)\u001b[0m\n\u001b[0;32m   5485\u001b[0m         ):\n\u001b[0;32m   5486\u001b[0m             \u001b[1;32mreturn\u001b[0m \u001b[0mself\u001b[0m\u001b[1;33m[\u001b[0m\u001b[0mname\u001b[0m\u001b[1;33m]\u001b[0m\u001b[1;33m\u001b[0m\u001b[1;33m\u001b[0m\u001b[0m\n\u001b[1;32m-> 5487\u001b[1;33m         \u001b[1;32mreturn\u001b[0m \u001b[0mobject\u001b[0m\u001b[1;33m.\u001b[0m\u001b[0m__getattribute__\u001b[0m\u001b[1;33m(\u001b[0m\u001b[0mself\u001b[0m\u001b[1;33m,\u001b[0m \u001b[0mname\u001b[0m\u001b[1;33m)\u001b[0m\u001b[1;33m\u001b[0m\u001b[1;33m\u001b[0m\u001b[0m\n\u001b[0m\u001b[0;32m   5488\u001b[0m \u001b[1;33m\u001b[0m\u001b[0m\n\u001b[0;32m   5489\u001b[0m     \u001b[1;32mdef\u001b[0m \u001b[0m__setattr__\u001b[0m\u001b[1;33m(\u001b[0m\u001b[0mself\u001b[0m\u001b[1;33m,\u001b[0m \u001b[0mname\u001b[0m\u001b[1;33m:\u001b[0m \u001b[0mstr\u001b[0m\u001b[1;33m,\u001b[0m \u001b[0mvalue\u001b[0m\u001b[1;33m)\u001b[0m \u001b[1;33m->\u001b[0m \u001b[1;32mNone\u001b[0m\u001b[1;33m:\u001b[0m\u001b[1;33m\u001b[0m\u001b[1;33m\u001b[0m\u001b[0m\n",
      "\u001b[1;31mAttributeError\u001b[0m: 'DataFrame' object has no attribute 'col'"
     ]
    }
   ],
   "source": [
    "'etab' in df_qc\n",
    "df_qc.head\n",
    "df_qc.col.tolist()"
   ]
  },
  {
   "cell_type": "code",
   "execution_count": 7,
   "metadata": {},
   "outputs": [
    {
     "ename": "KeyError",
     "evalue": "'COUT_TOTAL'",
     "output_type": "error",
     "traceback": [
      "\u001b[1;31m---------------------------------------------------------------------------\u001b[0m",
      "\u001b[1;31mKeyError\u001b[0m                                  Traceback (most recent call last)",
      "\u001b[1;32m~\\AppData\\Local\\Programs\\Python\\Python310\\lib\\site-packages\\pandas\\core\\indexes\\base.py\u001b[0m in \u001b[0;36mget_loc\u001b[1;34m(self, key, method, tolerance)\u001b[0m\n\u001b[0;32m   3360\u001b[0m             \u001b[1;32mtry\u001b[0m\u001b[1;33m:\u001b[0m\u001b[1;33m\u001b[0m\u001b[1;33m\u001b[0m\u001b[0m\n\u001b[1;32m-> 3361\u001b[1;33m                 \u001b[1;32mreturn\u001b[0m \u001b[0mself\u001b[0m\u001b[1;33m.\u001b[0m\u001b[0m_engine\u001b[0m\u001b[1;33m.\u001b[0m\u001b[0mget_loc\u001b[0m\u001b[1;33m(\u001b[0m\u001b[0mcasted_key\u001b[0m\u001b[1;33m)\u001b[0m\u001b[1;33m\u001b[0m\u001b[1;33m\u001b[0m\u001b[0m\n\u001b[0m\u001b[0;32m   3362\u001b[0m             \u001b[1;32mexcept\u001b[0m \u001b[0mKeyError\u001b[0m \u001b[1;32mas\u001b[0m \u001b[0merr\u001b[0m\u001b[1;33m:\u001b[0m\u001b[1;33m\u001b[0m\u001b[1;33m\u001b[0m\u001b[0m\n",
      "\u001b[1;32m~\\AppData\\Local\\Programs\\Python\\Python310\\lib\\site-packages\\pandas\\_libs\\index.pyx\u001b[0m in \u001b[0;36mpandas._libs.index.IndexEngine.get_loc\u001b[1;34m()\u001b[0m\n",
      "\u001b[1;32m~\\AppData\\Local\\Programs\\Python\\Python310\\lib\\site-packages\\pandas\\_libs\\index.pyx\u001b[0m in \u001b[0;36mpandas._libs.index.IndexEngine.get_loc\u001b[1;34m()\u001b[0m\n",
      "\u001b[1;32mpandas\\_libs\\hashtable_class_helper.pxi\u001b[0m in \u001b[0;36mpandas._libs.hashtable.PyObjectHashTable.get_item\u001b[1;34m()\u001b[0m\n",
      "\u001b[1;32mpandas\\_libs\\hashtable_class_helper.pxi\u001b[0m in \u001b[0;36mpandas._libs.hashtable.PyObjectHashTable.get_item\u001b[1;34m()\u001b[0m\n",
      "\u001b[1;31mKeyError\u001b[0m: 'COUT_TOTAL'",
      "\nThe above exception was the direct cause of the following exception:\n",
      "\u001b[1;31mKeyError\u001b[0m                                  Traceback (most recent call last)",
      "\u001b[1;32m~\\AppData\\Local\\Temp/ipykernel_13356/3046305658.py\u001b[0m in \u001b[0;36m<module>\u001b[1;34m\u001b[0m\n\u001b[1;32m----> 1\u001b[1;33m \u001b[0mdf_qc\u001b[0m\u001b[1;33m[\u001b[0m\u001b[1;33m(\u001b[0m\u001b[0mdf_qc\u001b[0m\u001b[1;33m[\u001b[0m\u001b[1;34m\"COUT_TOTAL\"\u001b[0m\u001b[1;33m]\u001b[0m\u001b[1;33m>\u001b[0m\u001b[1;36m1400000\u001b[0m\u001b[1;33m)\u001b[0m \u001b[1;33m&\u001b[0m \u001b[1;33m(\u001b[0m\u001b[0mdf_qc\u001b[0m\u001b[1;33m[\u001b[0m\u001b[1;34m\"COUT_TOTAL\"\u001b[0m\u001b[1;33m]\u001b[0m\u001b[1;33m<\u001b[0m\u001b[1;36m5500000\u001b[0m\u001b[1;33m)\u001b[0m\u001b[1;33m]\u001b[0m\u001b[1;33m\u001b[0m\u001b[1;33m\u001b[0m\u001b[0m\n\u001b[0m",
      "\u001b[1;32m~\\AppData\\Local\\Programs\\Python\\Python310\\lib\\site-packages\\pandas\\core\\frame.py\u001b[0m in \u001b[0;36m__getitem__\u001b[1;34m(self, key)\u001b[0m\n\u001b[0;32m   3456\u001b[0m             \u001b[1;32mif\u001b[0m \u001b[0mself\u001b[0m\u001b[1;33m.\u001b[0m\u001b[0mcolumns\u001b[0m\u001b[1;33m.\u001b[0m\u001b[0mnlevels\u001b[0m \u001b[1;33m>\u001b[0m \u001b[1;36m1\u001b[0m\u001b[1;33m:\u001b[0m\u001b[1;33m\u001b[0m\u001b[1;33m\u001b[0m\u001b[0m\n\u001b[0;32m   3457\u001b[0m                 \u001b[1;32mreturn\u001b[0m \u001b[0mself\u001b[0m\u001b[1;33m.\u001b[0m\u001b[0m_getitem_multilevel\u001b[0m\u001b[1;33m(\u001b[0m\u001b[0mkey\u001b[0m\u001b[1;33m)\u001b[0m\u001b[1;33m\u001b[0m\u001b[1;33m\u001b[0m\u001b[0m\n\u001b[1;32m-> 3458\u001b[1;33m             \u001b[0mindexer\u001b[0m \u001b[1;33m=\u001b[0m \u001b[0mself\u001b[0m\u001b[1;33m.\u001b[0m\u001b[0mcolumns\u001b[0m\u001b[1;33m.\u001b[0m\u001b[0mget_loc\u001b[0m\u001b[1;33m(\u001b[0m\u001b[0mkey\u001b[0m\u001b[1;33m)\u001b[0m\u001b[1;33m\u001b[0m\u001b[1;33m\u001b[0m\u001b[0m\n\u001b[0m\u001b[0;32m   3459\u001b[0m             \u001b[1;32mif\u001b[0m \u001b[0mis_integer\u001b[0m\u001b[1;33m(\u001b[0m\u001b[0mindexer\u001b[0m\u001b[1;33m)\u001b[0m\u001b[1;33m:\u001b[0m\u001b[1;33m\u001b[0m\u001b[1;33m\u001b[0m\u001b[0m\n\u001b[0;32m   3460\u001b[0m                 \u001b[0mindexer\u001b[0m \u001b[1;33m=\u001b[0m \u001b[1;33m[\u001b[0m\u001b[0mindexer\u001b[0m\u001b[1;33m]\u001b[0m\u001b[1;33m\u001b[0m\u001b[1;33m\u001b[0m\u001b[0m\n",
      "\u001b[1;32m~\\AppData\\Local\\Programs\\Python\\Python310\\lib\\site-packages\\pandas\\core\\indexes\\base.py\u001b[0m in \u001b[0;36mget_loc\u001b[1;34m(self, key, method, tolerance)\u001b[0m\n\u001b[0;32m   3361\u001b[0m                 \u001b[1;32mreturn\u001b[0m \u001b[0mself\u001b[0m\u001b[1;33m.\u001b[0m\u001b[0m_engine\u001b[0m\u001b[1;33m.\u001b[0m\u001b[0mget_loc\u001b[0m\u001b[1;33m(\u001b[0m\u001b[0mcasted_key\u001b[0m\u001b[1;33m)\u001b[0m\u001b[1;33m\u001b[0m\u001b[1;33m\u001b[0m\u001b[0m\n\u001b[0;32m   3362\u001b[0m             \u001b[1;32mexcept\u001b[0m \u001b[0mKeyError\u001b[0m \u001b[1;32mas\u001b[0m \u001b[0merr\u001b[0m\u001b[1;33m:\u001b[0m\u001b[1;33m\u001b[0m\u001b[1;33m\u001b[0m\u001b[0m\n\u001b[1;32m-> 3363\u001b[1;33m                 \u001b[1;32mraise\u001b[0m \u001b[0mKeyError\u001b[0m\u001b[1;33m(\u001b[0m\u001b[0mkey\u001b[0m\u001b[1;33m)\u001b[0m \u001b[1;32mfrom\u001b[0m \u001b[0merr\u001b[0m\u001b[1;33m\u001b[0m\u001b[1;33m\u001b[0m\u001b[0m\n\u001b[0m\u001b[0;32m   3364\u001b[0m \u001b[1;33m\u001b[0m\u001b[0m\n\u001b[0;32m   3365\u001b[0m         \u001b[1;32mif\u001b[0m \u001b[0mis_scalar\u001b[0m\u001b[1;33m(\u001b[0m\u001b[0mkey\u001b[0m\u001b[1;33m)\u001b[0m \u001b[1;32mand\u001b[0m \u001b[0misna\u001b[0m\u001b[1;33m(\u001b[0m\u001b[0mkey\u001b[0m\u001b[1;33m)\u001b[0m \u001b[1;32mand\u001b[0m \u001b[1;32mnot\u001b[0m \u001b[0mself\u001b[0m\u001b[1;33m.\u001b[0m\u001b[0mhasnans\u001b[0m\u001b[1;33m:\u001b[0m\u001b[1;33m\u001b[0m\u001b[1;33m\u001b[0m\u001b[0m\n",
      "\u001b[1;31mKeyError\u001b[0m: 'COUT_TOTAL'"
     ]
    }
   ],
   "source": [
    "df_qc[(df_qc[\"COUT_TOTAL\"]>1400000) & (df_qc[\"COUT_TOTAL\"]<5500000)]"
   ]
  },
  {
   "cell_type": "code",
   "execution_count": null,
   "metadata": {},
   "outputs": [],
   "source": [
    "df_qc[df_qc.ETABLISSEMENT == 'Université de Montréal']"
   ]
  },
  {
   "cell_type": "code",
   "execution_count": null,
   "metadata": {},
   "outputs": [],
   "source": [
    "df_qc[\n",
    "    (df_qc.ETABLISSEMENT == 'Université de Montréal') &\n",
    "    (df_qc.COUT_TOTAL < 100000)]"
   ]
  },
  {
   "cell_type": "code",
   "execution_count": 110,
   "metadata": {},
   "outputs": [],
   "source": [
    "a = np.random.randint(10, size=8)"
   ]
  },
  {
   "cell_type": "code",
   "execution_count": 111,
   "metadata": {},
   "outputs": [
    {
     "data": {
      "text/plain": [
       "array([5, 2, 0, 5, 0, 7, 3, 8])"
      ]
     },
     "execution_count": 111,
     "metadata": {},
     "output_type": "execute_result"
    }
   ],
   "source": [
    "a"
   ]
  },
  {
   "cell_type": "code",
   "execution_count": 112,
   "metadata": {},
   "outputs": [
    {
     "data": {
      "text/plain": [
       "array([False,  True,  True, False,  True, False,  True, False])"
      ]
     },
     "execution_count": 112,
     "metadata": {},
     "output_type": "execute_result"
    }
   ],
   "source": [
    "a<4"
   ]
  },
  {
   "cell_type": "code",
   "execution_count": 89,
   "metadata": {},
   "outputs": [
    {
     "data": {
      "text/plain": [
       "array([ True,  True,  True, False,  True,  True,  True,  True])"
      ]
     },
     "execution_count": 89,
     "metadata": {},
     "output_type": "execute_result"
    }
   ],
   "source": [
    "a!=3"
   ]
  },
  {
   "cell_type": "markdown",
   "metadata": {},
   "source": [
    "<div class=\"alert alert-warning\">\n",
    "<h3>opérateurs d'aggregation</h3></div>"
   ]
  },
  {
   "cell_type": "raw",
   "metadata": {},
   "source": [
    "python:\n",
    "\n",
    "min(a) = minimum\n",
    "max(a) = maximum\n",
    "\n",
    "pandas:\n",
    "min()    = minimum\n",
    "max()    = maximum\n",
    "std()    = écart type\n",
    "var()    = variance\n",
    "count()  = Nombre total d'éléments\n",
    "first()  = premier élément\n",
    "last()   = dernier élément\n",
    "mean()   = moyenne\n",
    "median() = médiane\n",
    "mad()    = écart absolu moyen\n",
    "prod()   = produit de tous les articles\n",
    "sum()    = somme de tous les éléments\n",
    "\n",
    "\n",
    "numpy: (operate more quickly)\n",
    "np.min\n",
    "np.max\n",
    "np.sum\n",
    "np.prod\n",
    "np.mean\n",
    "np.std\n",
    "\n",
    "np.var\t\t  = variance\n",
    "np.argmin\t  = index of min value\n",
    "np.argmax\t  = index of max value\n",
    "np.median\t  = compute median\n",
    "np.percentile = compute rank\n",
    "np.any\t\t  = if any True\n",
    "np.all\t\t  = if all True"
   ]
  },
  {
   "cell_type": "code",
   "execution_count": 23,
   "metadata": {},
   "outputs": [],
   "source": [
    "import seaborn as sns\n",
    "#pip3 install seaborn"
   ]
  },
  {
   "cell_type": "code",
   "execution_count": 24,
   "metadata": {},
   "outputs": [
    {
     "data": {
      "text/html": [
       "<div>\n",
       "<style scoped>\n",
       "    .dataframe tbody tr th:only-of-type {\n",
       "        vertical-align: middle;\n",
       "    }\n",
       "\n",
       "    .dataframe tbody tr th {\n",
       "        vertical-align: top;\n",
       "    }\n",
       "\n",
       "    .dataframe thead th {\n",
       "        text-align: right;\n",
       "    }\n",
       "</style>\n",
       "<table border=\"1\" class=\"dataframe\">\n",
       "  <thead>\n",
       "    <tr style=\"text-align: right;\">\n",
       "      <th></th>\n",
       "      <th>method</th>\n",
       "      <th>number</th>\n",
       "      <th>orbital_period</th>\n",
       "      <th>mass</th>\n",
       "      <th>distance</th>\n",
       "      <th>year</th>\n",
       "    </tr>\n",
       "  </thead>\n",
       "  <tbody>\n",
       "    <tr>\n",
       "      <th>0</th>\n",
       "      <td>Radial Velocity</td>\n",
       "      <td>1</td>\n",
       "      <td>269.300</td>\n",
       "      <td>7.10</td>\n",
       "      <td>77.40</td>\n",
       "      <td>2006</td>\n",
       "    </tr>\n",
       "    <tr>\n",
       "      <th>1</th>\n",
       "      <td>Radial Velocity</td>\n",
       "      <td>1</td>\n",
       "      <td>874.774</td>\n",
       "      <td>2.21</td>\n",
       "      <td>56.95</td>\n",
       "      <td>2008</td>\n",
       "    </tr>\n",
       "    <tr>\n",
       "      <th>2</th>\n",
       "      <td>Radial Velocity</td>\n",
       "      <td>1</td>\n",
       "      <td>763.000</td>\n",
       "      <td>2.60</td>\n",
       "      <td>19.84</td>\n",
       "      <td>2011</td>\n",
       "    </tr>\n",
       "    <tr>\n",
       "      <th>3</th>\n",
       "      <td>Radial Velocity</td>\n",
       "      <td>1</td>\n",
       "      <td>326.030</td>\n",
       "      <td>19.40</td>\n",
       "      <td>110.62</td>\n",
       "      <td>2007</td>\n",
       "    </tr>\n",
       "    <tr>\n",
       "      <th>4</th>\n",
       "      <td>Radial Velocity</td>\n",
       "      <td>1</td>\n",
       "      <td>516.220</td>\n",
       "      <td>10.50</td>\n",
       "      <td>119.47</td>\n",
       "      <td>2009</td>\n",
       "    </tr>\n",
       "  </tbody>\n",
       "</table>\n",
       "</div>"
      ],
      "text/plain": [
       "            method  number  orbital_period   mass  distance  year\n",
       "0  Radial Velocity       1         269.300   7.10     77.40  2006\n",
       "1  Radial Velocity       1         874.774   2.21     56.95  2008\n",
       "2  Radial Velocity       1         763.000   2.60     19.84  2011\n",
       "3  Radial Velocity       1         326.030  19.40    110.62  2007\n",
       "4  Radial Velocity       1         516.220  10.50    119.47  2009"
      ]
     },
     "execution_count": 24,
     "metadata": {},
     "output_type": "execute_result"
    }
   ],
   "source": [
    "# lecture à partir de jeux de données de modules:\n",
    "\n",
    "planets = sns.load_dataset('planets')\n",
    "#titanic = sns.load_dataset('titanic')\n",
    "#iris = sns.load_dataset('iris')\n",
    "\n",
    "planets.head()"
   ]
  },
  {
   "cell_type": "code",
   "execution_count": 197,
   "metadata": {},
   "outputs": [
    {
     "data": {
      "text/html": [
       "<div>\n",
       "<style scoped>\n",
       "    .dataframe tbody tr th:only-of-type {\n",
       "        vertical-align: middle;\n",
       "    }\n",
       "\n",
       "    .dataframe tbody tr th {\n",
       "        vertical-align: top;\n",
       "    }\n",
       "\n",
       "    .dataframe thead th {\n",
       "        text-align: right;\n",
       "    }\n",
       "</style>\n",
       "<table border=\"1\" class=\"dataframe\">\n",
       "  <thead>\n",
       "    <tr style=\"text-align: right;\">\n",
       "      <th></th>\n",
       "      <th>method</th>\n",
       "      <th>number</th>\n",
       "      <th>orbital_period</th>\n",
       "      <th>mass</th>\n",
       "      <th>distance</th>\n",
       "      <th>year</th>\n",
       "    </tr>\n",
       "  </thead>\n",
       "  <tbody>\n",
       "    <tr>\n",
       "      <th>0</th>\n",
       "      <td>Radial Velocity</td>\n",
       "      <td>1</td>\n",
       "      <td>269.300</td>\n",
       "      <td>7.10</td>\n",
       "      <td>77.40</td>\n",
       "      <td>2006</td>\n",
       "    </tr>\n",
       "    <tr>\n",
       "      <th>1</th>\n",
       "      <td>Radial Velocity</td>\n",
       "      <td>1</td>\n",
       "      <td>874.774</td>\n",
       "      <td>2.21</td>\n",
       "      <td>56.95</td>\n",
       "      <td>2008</td>\n",
       "    </tr>\n",
       "    <tr>\n",
       "      <th>2</th>\n",
       "      <td>Radial Velocity</td>\n",
       "      <td>1</td>\n",
       "      <td>763.000</td>\n",
       "      <td>2.60</td>\n",
       "      <td>19.84</td>\n",
       "      <td>2011</td>\n",
       "    </tr>\n",
       "    <tr>\n",
       "      <th>3</th>\n",
       "      <td>Radial Velocity</td>\n",
       "      <td>1</td>\n",
       "      <td>326.030</td>\n",
       "      <td>19.40</td>\n",
       "      <td>110.62</td>\n",
       "      <td>2007</td>\n",
       "    </tr>\n",
       "    <tr>\n",
       "      <th>4</th>\n",
       "      <td>Radial Velocity</td>\n",
       "      <td>1</td>\n",
       "      <td>516.220</td>\n",
       "      <td>10.50</td>\n",
       "      <td>119.47</td>\n",
       "      <td>2009</td>\n",
       "    </tr>\n",
       "    <tr>\n",
       "      <th>5</th>\n",
       "      <td>Radial Velocity</td>\n",
       "      <td>1</td>\n",
       "      <td>185.840</td>\n",
       "      <td>4.80</td>\n",
       "      <td>76.39</td>\n",
       "      <td>2008</td>\n",
       "    </tr>\n",
       "    <tr>\n",
       "      <th>6</th>\n",
       "      <td>Radial Velocity</td>\n",
       "      <td>1</td>\n",
       "      <td>1773.400</td>\n",
       "      <td>4.64</td>\n",
       "      <td>18.15</td>\n",
       "      <td>2002</td>\n",
       "    </tr>\n",
       "    <tr>\n",
       "      <th>7</th>\n",
       "      <td>Radial Velocity</td>\n",
       "      <td>1</td>\n",
       "      <td>798.500</td>\n",
       "      <td>NaN</td>\n",
       "      <td>21.41</td>\n",
       "      <td>1996</td>\n",
       "    </tr>\n",
       "    <tr>\n",
       "      <th>8</th>\n",
       "      <td>Radial Velocity</td>\n",
       "      <td>1</td>\n",
       "      <td>993.300</td>\n",
       "      <td>10.30</td>\n",
       "      <td>73.10</td>\n",
       "      <td>2008</td>\n",
       "    </tr>\n",
       "    <tr>\n",
       "      <th>9</th>\n",
       "      <td>Radial Velocity</td>\n",
       "      <td>2</td>\n",
       "      <td>452.800</td>\n",
       "      <td>1.99</td>\n",
       "      <td>74.79</td>\n",
       "      <td>2010</td>\n",
       "    </tr>\n",
       "  </tbody>\n",
       "</table>\n",
       "</div>"
      ],
      "text/plain": [
       "            method  number  orbital_period   mass  distance  year\n",
       "0  Radial Velocity       1         269.300   7.10     77.40  2006\n",
       "1  Radial Velocity       1         874.774   2.21     56.95  2008\n",
       "2  Radial Velocity       1         763.000   2.60     19.84  2011\n",
       "3  Radial Velocity       1         326.030  19.40    110.62  2007\n",
       "4  Radial Velocity       1         516.220  10.50    119.47  2009\n",
       "5  Radial Velocity       1         185.840   4.80     76.39  2008\n",
       "6  Radial Velocity       1        1773.400   4.64     18.15  2002\n",
       "7  Radial Velocity       1         798.500    NaN     21.41  1996\n",
       "8  Radial Velocity       1         993.300  10.30     73.10  2008\n",
       "9  Radial Velocity       2         452.800   1.99     74.79  2010"
      ]
     },
     "execution_count": 197,
     "metadata": {},
     "output_type": "execute_result"
    }
   ],
   "source": [
    "planets.head(10)"
   ]
  },
  {
   "cell_type": "code",
   "execution_count": 198,
   "metadata": {},
   "outputs": [
    {
     "data": {
      "text/plain": [
       "Index(['method', 'number', 'orbital_period', 'mass', 'distance', 'year'], dtype='object')"
      ]
     },
     "execution_count": 198,
     "metadata": {},
     "output_type": "execute_result"
    }
   ],
   "source": [
    "planets.columns"
   ]
  },
  {
   "cell_type": "code",
   "execution_count": 211,
   "metadata": {},
   "outputs": [],
   "source": [
    "# planets.head(3)"
   ]
  },
  {
   "cell_type": "code",
   "execution_count": 199,
   "metadata": {},
   "outputs": [
    {
     "data": {
      "text/plain": [
       "method            1035\n",
       "number            1035\n",
       "orbital_period     992\n",
       "mass               513\n",
       "distance           808\n",
       "year              1035\n",
       "dtype: int64"
      ]
     },
     "execution_count": 199,
     "metadata": {},
     "output_type": "execute_result"
    }
   ],
   "source": [
    "planets.count()"
   ]
  },
  {
   "cell_type": "code",
   "execution_count": 11,
   "metadata": {},
   "outputs": [
    {
     "data": {
      "text/plain": [
       "method            Transit Timing Variations\n",
       "number                                    7\n",
       "orbital_period                     730000.0\n",
       "mass                                   25.0\n",
       "distance                             8500.0\n",
       "year                                   2014\n",
       "dtype: object"
      ]
     },
     "execution_count": 11,
     "metadata": {},
     "output_type": "execute_result"
    }
   ],
   "source": [
    "planets.max()"
   ]
  },
  {
   "cell_type": "code",
   "execution_count": 10,
   "metadata": {},
   "outputs": [
    {
     "data": {
      "text/plain": [
       "(1035, 1035)"
      ]
     },
     "execution_count": 10,
     "metadata": {},
     "output_type": "execute_result"
    }
   ],
   "source": [
    "planets.method.count(), len(planets.method)"
   ]
  },
  {
   "cell_type": "code",
   "execution_count": 13,
   "metadata": {},
   "outputs": [
    {
     "data": {
      "text/plain": [
       "3181.7476426519697"
      ]
     },
     "execution_count": 13,
     "metadata": {},
     "output_type": "execute_result"
    }
   ],
   "source": [
    "planets.mass.max()\n",
    "planets.orbital_period.mad()\n"
   ]
  },
  {
   "cell_type": "code",
   "execution_count": 209,
   "metadata": {},
   "outputs": [],
   "source": [
    "ls = planets.method.tolist()\n",
    "#ls"
   ]
  },
  {
   "cell_type": "code",
   "execution_count": 17,
   "metadata": {},
   "outputs": [
    {
     "data": {
      "text/plain": [
       "Radial Velocity                  553\n",
       "Transit                          397\n",
       "Imaging                           38\n",
       "Microlensing                      23\n",
       "Eclipse Timing Variations          9\n",
       "Pulsar Timing                      5\n",
       "Transit Timing Variations          4\n",
       "Orbital Brightness Modulation      3\n",
       "Astrometry                         2\n",
       "Pulsation Timing Variations        1\n",
       "Name: method, dtype: int64"
      ]
     },
     "execution_count": 17,
     "metadata": {},
     "output_type": "execute_result"
    }
   ],
   "source": [
    "planets.method.value_counts()"
   ]
  },
  {
   "cell_type": "code",
   "execution_count": 229,
   "metadata": {},
   "outputs": [],
   "source": [
    "# planets.dropna().describe()"
   ]
  },
  {
   "cell_type": "code",
   "execution_count": 20,
   "metadata": {},
   "outputs": [
    {
     "data": {
      "text/plain": [
       "1.7855072463768116"
      ]
     },
     "execution_count": 20,
     "metadata": {},
     "output_type": "execute_result"
    }
   ],
   "source": [
    "planets['number'].mean()\n",
    "planets.number.mean()"
   ]
  },
  {
   "cell_type": "code",
   "execution_count": 29,
   "metadata": {},
   "outputs": [
    {
     "data": {
      "text/plain": [
       "1.7855072463768116"
      ]
     },
     "execution_count": 29,
     "metadata": {},
     "output_type": "execute_result"
    }
   ],
   "source": [
    "x1 = planets.number\n",
    "np.any(x1 > 5)\n",
    "planets.number.mean()"
   ]
  },
  {
   "cell_type": "code",
   "execution_count": 77,
   "metadata": {},
   "outputs": [
    {
     "data": {
      "text/plain": [
       "2"
      ]
     },
     "execution_count": 77,
     "metadata": {},
     "output_type": "execute_result"
    }
   ],
   "source": [
    "np.sum(a>5)"
   ]
  },
  {
   "cell_type": "code",
   "execution_count": 16,
   "metadata": {},
   "outputs": [
    {
     "ename": "NameError",
     "evalue": "name 'b' is not defined",
     "output_type": "error",
     "traceback": [
      "\u001b[1;31m---------------------------------------------------------------------------\u001b[0m",
      "\u001b[1;31mNameError\u001b[0m                                 Traceback (most recent call last)",
      "\u001b[1;32m~\\AppData\\Local\\Temp/ipykernel_162560/3477310752.py\u001b[0m in \u001b[0;36m<module>\u001b[1;34m\u001b[0m\n\u001b[0;32m      1\u001b[0m \u001b[1;32mimport\u001b[0m \u001b[0mnumpy\u001b[0m \u001b[1;32mas\u001b[0m \u001b[0mnp\u001b[0m\u001b[1;33m\u001b[0m\u001b[1;33m\u001b[0m\u001b[0m\n\u001b[1;32m----> 2\u001b[1;33m \u001b[0mnp\u001b[0m\u001b[1;33m.\u001b[0m\u001b[0msum\u001b[0m\u001b[1;33m(\u001b[0m\u001b[0mb\u001b[0m \u001b[1;33m==\u001b[0m\u001b[1;36m3\u001b[0m\u001b[1;33m,\u001b[0m \u001b[0maxis\u001b[0m\u001b[1;33m=\u001b[0m\u001b[1;36m1\u001b[0m\u001b[1;33m)\u001b[0m \u001b[1;31m#nombre de valeurs = 3 dans chaque ligne\u001b[0m\u001b[1;33m\u001b[0m\u001b[1;33m\u001b[0m\u001b[0m\n\u001b[0m",
      "\u001b[1;31mNameError\u001b[0m: name 'b' is not defined"
     ]
    }
   ],
   "source": [
    "import numpy as np \n",
    "np.sum(b ==3, axis=1) #nombre de valeurs = 3 dans chaque ligne"
   ]
  },
  {
   "cell_type": "code",
   "execution_count": 86,
   "metadata": {},
   "outputs": [
    {
     "data": {
      "text/plain": [
       "False"
      ]
     },
     "execution_count": 86,
     "metadata": {},
     "output_type": "execute_result"
    }
   ],
   "source": [
    "np.all(b<8) # toutes les valeurs sont-elles inférieures à 8?"
   ]
  },
  {
   "cell_type": "markdown",
   "metadata": {},
   "source": [
    "<div class=\"alert alert-warning\">\n",
    "    <h3>opérateurs arithmétiques</h3></div>"
   ]
  },
  {
   "cell_type": "markdown",
   "metadata": {},
   "source": [
    "<div class=\"alert alert-warning\">\n",
    "    <ul> <b>opérateurs arithmétiques - pandas</b></div>"
   ]
  },
  {
   "cell_type": "raw",
   "metadata": {
    "slideshow": {
     "slide_type": "subslide"
    }
   },
   "source": [
    "pandas:\n",
    "\n",
    "add()                      = +\n",
    "sub(), substract()         = -\n",
    "mul(), multiply()          = *\n",
    "truediv(), div(), divide() = /\n",
    "floordir()                 = //\n",
    "mod()                      = %\n",
    "pow()                      = **"
   ]
  },
  {
   "cell_type": "raw",
   "metadata": {},
   "source": [
    "numpy:\n",
    "\n",
    "np.add\t\t\t+\tAddition (3 + 6 = 9)\n",
    "np.subtract\t\t-\tSubtraction (6 – 3 = 3)\n",
    "np.negative\t\t-\tNegation ( -3)\n",
    "np.multiply\t\t*\tMultiplication (3 * 3 = 9)\n",
    "np.divide\t\t/\tDivision (6/3 = 2; 3/2 = 1)\n",
    "np.floor_divide\t//\tFloor division (6//3 = 2; 3//2 = 1)\n",
    "np.power\t\t**\tExponentiation (3**3 = 27; 2**3 = 8)\n",
    "np.mod\t\t\t%\tModulus/remainder(9%3=0; 9%4 = 1)"
   ]
  },
  {
   "cell_type": "code",
   "execution_count": 184,
   "metadata": {},
   "outputs": [
    {
     "data": {
      "text/plain": [
       "ETABLISSEMENT\n",
       "Université du Québec à Chicoutimi (UQAC)    4.859767e+05\n",
       "École Polytechnique de Montréal             9.084913e+05\n",
       "Université de Sherbrooke                    1.981616e+06\n",
       "Name: COUT/3, dtype: float64"
      ]
     },
     "execution_count": 184,
     "metadata": {},
     "output_type": "execute_result"
    }
   ],
   "source": [
    "df_qc['COUT/3'] = df_qc.COUT_TOTAL/3\n",
    "#df_qc['COUT/3'].tail()\n",
    "df_qc['COUT/3'].head(3)"
   ]
  },
  {
   "cell_type": "code",
   "execution_count": 183,
   "metadata": {},
   "outputs": [
    {
     "data": {
      "text/plain": [
       "numpy.float64"
      ]
     },
     "execution_count": 183,
     "metadata": {},
     "output_type": "execute_result"
    }
   ],
   "source": [
    "type(df_qc['COUT/3'][0])"
   ]
  },
  {
   "cell_type": "code",
   "execution_count": 182,
   "metadata": {},
   "outputs": [],
   "source": [
    "# df_qc.columns"
   ]
  },
  {
   "cell_type": "code",
   "execution_count": 185,
   "metadata": {},
   "outputs": [],
   "source": [
    "df_qc['soustraction'] = df_qc['COUT_TOTAL'].subtract(df_qc['MONTANT_TOTAL_QUEBEC'])"
   ]
  },
  {
   "cell_type": "code",
   "execution_count": 186,
   "metadata": {},
   "outputs": [
    {
     "data": {
      "text/plain": [
       "ETABLISSEMENT\n",
       "Université du Québec à Chicoutimi (UQAC)     874758\n",
       "École Polytechnique de Montréal             1657488\n",
       "Université de Sherbrooke                    3566908\n",
       "Université de Sherbrooke                    2603516\n",
       "Université Laval                            3317547\n",
       "Name: soustraction, dtype: int64"
      ]
     },
     "execution_count": 186,
     "metadata": {},
     "output_type": "execute_result"
    }
   ],
   "source": [
    "df_qc['soustraction'].head()"
   ]
  },
  {
   "cell_type": "markdown",
   "metadata": {},
   "source": [
    "<div class=\"alert alert-danger\">\n",
    "<h3>Exercise</h3>\n",
    "<li> Comment vérifier si le code de soustraction est correct ?\n",
    "</div>"
   ]
  },
  {
   "cell_type": "code",
   "execution_count": 189,
   "metadata": {},
   "outputs": [
    {
     "data": {
      "text/plain": [
       "ETABLISSEMENT\n",
       "Université du Québec à Chicoutimi (UQAC)    1457930\n",
       "École Polytechnique de Montréal             2725474\n",
       "Université de Sherbrooke                    5944847\n",
       "Université de Sherbrooke                    4248206\n",
       "Université Laval                            5521200\n",
       "Name: COUT_TOTAL, dtype: int64"
      ]
     },
     "execution_count": 189,
     "metadata": {},
     "output_type": "execute_result"
    }
   ],
   "source": [
    "df_qc.COUT_TOTAL.head()"
   ]
  },
  {
   "cell_type": "code",
   "execution_count": 190,
   "metadata": {},
   "outputs": [
    {
     "data": {
      "text/plain": [
       "ETABLISSEMENT\n",
       "Université du Québec à Chicoutimi (UQAC)     583172\n",
       "École Polytechnique de Montréal             1067986\n",
       "Université de Sherbrooke                    2377939\n",
       "Université de Sherbrooke                    1644690\n",
       "Université Laval                            2203653\n",
       "Name: MONTANT_TOTAL_QUEBEC, dtype: int64"
      ]
     },
     "execution_count": 190,
     "metadata": {},
     "output_type": "execute_result"
    }
   ],
   "source": [
    "df_qc.MONTANT_TOTAL_QUEBEC.head()"
   ]
  },
  {
   "cell_type": "code",
   "execution_count": 191,
   "metadata": {},
   "outputs": [
    {
     "data": {
      "text/plain": [
       "ETABLISSEMENT\n",
       "Université du Québec à Chicoutimi (UQAC)     874758\n",
       "École Polytechnique de Montréal             1657488\n",
       "Université de Sherbrooke                    3566908\n",
       "Université de Sherbrooke                    2603516\n",
       "Université Laval                            3317547\n",
       "Name: soustraction, dtype: int64"
      ]
     },
     "execution_count": 191,
     "metadata": {},
     "output_type": "execute_result"
    }
   ],
   "source": [
    "df_qc['soustraction'].head()"
   ]
  },
  {
   "cell_type": "code",
   "execution_count": 194,
   "metadata": {},
   "outputs": [
    {
     "data": {
      "text/plain": [
       "True"
      ]
     },
     "execution_count": 194,
     "metadata": {},
     "output_type": "execute_result"
    }
   ],
   "source": [
    "# vérification:\n",
    "val1 = df_qc['COUT_TOTAL'][1]\n",
    "val2 = df_qc['MONTANT_TOTAL_QUEBEC'][1]\n",
    "finale = val1-val2\n",
    "\n",
    "val3 = df_qc['soustraction'][1]\n",
    "finale == val3\n",
    "\n",
    "(df_qc.COUT_TOTAL[1])-(df_qc.MONTANT_TOTAL_QUEBEC[1]) == df_qc.soustraction[1]"
   ]
  },
  {
   "cell_type": "code",
   "execution_count": 192,
   "metadata": {},
   "outputs": [
    {
     "data": {
      "text/html": [
       "<div>\n",
       "<style scoped>\n",
       "    .dataframe tbody tr th:only-of-type {\n",
       "        vertical-align: middle;\n",
       "    }\n",
       "\n",
       "    .dataframe tbody tr th {\n",
       "        vertical-align: top;\n",
       "    }\n",
       "\n",
       "    .dataframe thead th {\n",
       "        text-align: right;\n",
       "    }\n",
       "</style>\n",
       "<table border=\"1\" class=\"dataframe\">\n",
       "  <thead>\n",
       "    <tr style=\"text-align: right;\">\n",
       "      <th></th>\n",
       "      <th>REGION_ADMINISTRATIVE</th>\n",
       "      <th>ANNEE_FINANCIERE</th>\n",
       "    </tr>\n",
       "    <tr>\n",
       "      <th>ETABLISSEMENT</th>\n",
       "      <th></th>\n",
       "      <th></th>\n",
       "    </tr>\n",
       "  </thead>\n",
       "  <tbody>\n",
       "    <tr>\n",
       "      <th>Université McGill</th>\n",
       "      <td>Montréal</td>\n",
       "      <td>2009-2010</td>\n",
       "    </tr>\n",
       "    <tr>\n",
       "      <th>Université de Montréal</th>\n",
       "      <td>Montréal</td>\n",
       "      <td>2009-2010</td>\n",
       "    </tr>\n",
       "    <tr>\n",
       "      <th>Université McGill</th>\n",
       "      <td>Montréal</td>\n",
       "      <td>2009-2010</td>\n",
       "    </tr>\n",
       "    <tr>\n",
       "      <th>Université Laval</th>\n",
       "      <td>Capitale-Nationale</td>\n",
       "      <td>2015-2016</td>\n",
       "    </tr>\n",
       "    <tr>\n",
       "      <th>Université McGill</th>\n",
       "      <td>Montréal</td>\n",
       "      <td>2015-2016</td>\n",
       "    </tr>\n",
       "  </tbody>\n",
       "</table>\n",
       "</div>"
      ],
      "text/plain": [
       "                       REGION_ADMINISTRATIVE ANNEE_FINANCIERE\n",
       "ETABLISSEMENT                                                \n",
       "Université McGill                   Montréal        2009-2010\n",
       "Université de Montréal              Montréal        2009-2010\n",
       "Université McGill                   Montréal        2009-2010\n",
       "Université Laval          Capitale-Nationale        2015-2016\n",
       "Université McGill                   Montréal        2015-2016"
      ]
     },
     "execution_count": 192,
     "metadata": {},
     "output_type": "execute_result"
    }
   ],
   "source": [
    "df_test1 = df_qc.loc[df_qc.COUT_TOTAL>20000000, ['REGION_ADMINISTRATIVE', 'ANNEE_FINANCIERE']].head()\n",
    "df_test1\n"
   ]
  },
  {
   "cell_type": "code",
   "execution_count": 12,
   "metadata": {
    "scrolled": true
   },
   "outputs": [
    {
     "ename": "NameError",
     "evalue": "name 'df_test1' is not defined",
     "output_type": "error",
     "traceback": [
      "\u001b[1;31m---------------------------------------------------------------------------\u001b[0m",
      "\u001b[1;31mNameError\u001b[0m                                 Traceback (most recent call last)",
      "\u001b[1;32m~\\AppData\\Local\\Temp/ipykernel_13356/2870531606.py\u001b[0m in \u001b[0;36m<module>\u001b[1;34m\u001b[0m\n\u001b[1;32m----> 1\u001b[1;33m \u001b[0mdf_test1\u001b[0m\u001b[1;33m.\u001b[0m\u001b[0mT\u001b[0m\u001b[1;33m\u001b[0m\u001b[1;33m\u001b[0m\u001b[0m\n\u001b[0m",
      "\u001b[1;31mNameError\u001b[0m: name 'df_test1' is not defined"
     ]
    }
   ],
   "source": [
    "df_test1.T"
   ]
  },
  {
   "cell_type": "code",
   "execution_count": 177,
   "metadata": {},
   "outputs": [],
   "source": [
    "# df_qc[df_qc.COUT_TOTAL > 200000]"
   ]
  },
  {
   "cell_type": "code",
   "execution_count": 179,
   "metadata": {},
   "outputs": [],
   "source": [
    "# df_qc.loc[df_qc.COUT_TOTAL>20000000, ['REGION_ADMINISTRATIVE', 'ANNEE_FINANCIERE']].head()"
   ]
  },
  {
   "cell_type": "code",
   "execution_count": null,
   "metadata": {},
   "outputs": [],
   "source": [
    "df_qc[(df_qc.COUT_TOTAL>1400000) & (df_qc.COUT_TOTAL<5500000)]"
   ]
  },
  {
   "cell_type": "markdown",
   "metadata": {},
   "source": [
    "<div class=\"alert alert-warning\">\n",
    "    <ul> <b>opérateurs arithmétiques - NumPy</b></div>"
   ]
  },
  {
   "cell_type": "code",
   "execution_count": null,
   "metadata": {},
   "outputs": [],
   "source": [
    "np.add\t\t\t+\tAddition (3 + 6 = 9)\n",
    "np.subtract\t\t-\tSubtraction (6 – 3 = 3)\n",
    "np.negative\t\t-\tNegation ( -3)\n",
    "np.multiply\t\t*\tMultiplication (3 * 3 = 9)\n",
    "np.divide\t\t/\tDivision (6/3 = 2; 3/2 = 1)\n",
    "np.floor_divide\t//\tFloor division (6//3 = 2; 3//2 = 1)\n",
    "np.power\t\t**\tExponentiation (3**3 = 27; 2**3 = 8)\n",
    "np.mod\t\t\t%\tModulus/remainder(9%3=0; 9%4 = 1)"
   ]
  },
  {
   "cell_type": "code",
   "execution_count": 15,
   "metadata": {},
   "outputs": [
    {
     "data": {
      "text/plain": [
       "(array([3, 3, 3, 1]), array([2, 3, 1, 0]))"
      ]
     },
     "execution_count": 15,
     "metadata": {},
     "output_type": "execute_result"
    }
   ],
   "source": [
    "# opérations arithmétiques \n",
    "\n",
    "arr1 = np.random.randint(5, size=4)\n",
    "arr2 = np.random.randint(5, size=4)\n",
    "arr1, arr2"
   ]
  },
  {
   "cell_type": "code",
   "execution_count": 114,
   "metadata": {},
   "outputs": [
    {
     "data": {
      "text/plain": [
       "array([2, 2, 1, 4])"
      ]
     },
     "execution_count": 114,
     "metadata": {},
     "output_type": "execute_result"
    }
   ],
   "source": [
    "# Ajouter des tableaux ensemble\n",
    "arr1 + arr2"
   ]
  },
  {
   "cell_type": "code",
   "execution_count": 115,
   "metadata": {},
   "outputs": [
    {
     "data": {
      "text/plain": [
       "array([0, 0, 0, 4])"
      ]
     },
     "execution_count": 115,
     "metadata": {},
     "output_type": "execute_result"
    }
   ],
   "source": [
    "# Multiplication matricielle\n",
    "arr1 * arr2"
   ]
  },
  {
   "cell_type": "code",
   "execution_count": 116,
   "metadata": {},
   "outputs": [
    {
     "data": {
      "text/plain": [
       "array([-2,  0,  0, -2])"
      ]
     },
     "execution_count": 116,
     "metadata": {},
     "output_type": "execute_result"
    }
   ],
   "source": [
    "-arr1"
   ]
  },
  {
   "cell_type": "code",
   "execution_count": 94,
   "metadata": {},
   "outputs": [
    {
     "data": {
      "text/plain": [
       "array([ 1, 27,  9,  4], dtype=int32)"
      ]
     },
     "execution_count": 94,
     "metadata": {},
     "output_type": "execute_result"
    }
   ],
   "source": [
    "arr1**arr2"
   ]
  },
  {
   "cell_type": "code",
   "execution_count": 16,
   "metadata": {},
   "outputs": [
    {
     "data": {
      "text/plain": [
       "array([5, 5, 5, 3])"
      ]
     },
     "execution_count": 16,
     "metadata": {},
     "output_type": "execute_result"
    }
   ],
   "source": [
    "import numpy as np\n",
    "np.add(arr1, 2)"
   ]
  },
  {
   "cell_type": "code",
   "execution_count": 96,
   "metadata": {},
   "outputs": [
    {
     "data": {
      "text/plain": [
       "array([ 0, -3, -3, -4])"
      ]
     },
     "execution_count": 96,
     "metadata": {},
     "output_type": "execute_result"
    }
   ],
   "source": [
    "np.negative(arr1)"
   ]
  },
  {
   "cell_type": "code",
   "execution_count": 13,
   "metadata": {},
   "outputs": [
    {
     "ename": "NameError",
     "evalue": "name 'np' is not defined",
     "output_type": "error",
     "traceback": [
      "\u001b[1;31m---------------------------------------------------------------------------\u001b[0m",
      "\u001b[1;31mNameError\u001b[0m                                 Traceback (most recent call last)",
      "\u001b[1;32m~\\AppData\\Local\\Temp/ipykernel_13356/2795249787.py\u001b[0m in \u001b[0;36m<module>\u001b[1;34m\u001b[0m\n\u001b[1;32m----> 1\u001b[1;33m \u001b[0mnp\u001b[0m\u001b[1;33m.\u001b[0m\u001b[0mmultiply\u001b[0m\u001b[1;33m(\u001b[0m\u001b[0marr1\u001b[0m\u001b[1;33m,\u001b[0m \u001b[1;36m3\u001b[0m\u001b[1;33m)\u001b[0m\u001b[1;33m\u001b[0m\u001b[1;33m\u001b[0m\u001b[0m\n\u001b[0m",
      "\u001b[1;31mNameError\u001b[0m: name 'np' is not defined"
     ]
    }
   ],
   "source": [
    "np.multiply(arr1, 3)"
   ]
  },
  {
   "cell_type": "code",
   "execution_count": 98,
   "metadata": {},
   "outputs": [
    {
     "data": {
      "text/plain": [
       "array([0, 3, 3, 4])"
      ]
     },
     "execution_count": 98,
     "metadata": {},
     "output_type": "execute_result"
    }
   ],
   "source": [
    "abs(arr1) #python command"
   ]
  },
  {
   "cell_type": "code",
   "execution_count": 99,
   "metadata": {},
   "outputs": [
    {
     "data": {
      "text/plain": [
       "array([0, 3, 3, 4])"
      ]
     },
     "execution_count": 99,
     "metadata": {},
     "output_type": "execute_result"
    }
   ],
   "source": [
    "np.absolute(arr1) #np command"
   ]
  },
  {
   "cell_type": "code",
   "execution_count": 19,
   "metadata": {},
   "outputs": [
    {
     "ename": "TypeError",
     "evalue": "add() takes from 2 to 3 positional arguments but 1 were given",
     "output_type": "error",
     "traceback": [
      "\u001b[1;31m---------------------------------------------------------------------------\u001b[0m",
      "\u001b[1;31mTypeError\u001b[0m                                 Traceback (most recent call last)",
      "\u001b[1;32m~\\AppData\\Local\\Temp/ipykernel_13356/2574848151.py\u001b[0m in \u001b[0;36m<module>\u001b[1;34m\u001b[0m\n\u001b[0;32m      1\u001b[0m \u001b[0mnp\u001b[0m\u001b[1;33m.\u001b[0m\u001b[0madd\u001b[0m\u001b[1;33m.\u001b[0m\u001b[0mreduce\u001b[0m\u001b[1;33m(\u001b[0m\u001b[0marr1\u001b[0m\u001b[1;33m)\u001b[0m \u001b[1;31m# renvoie l'addition de tous les éléments\u001b[0m\u001b[1;33m\u001b[0m\u001b[1;33m\u001b[0m\u001b[0m\n\u001b[1;32m----> 2\u001b[1;33m \u001b[0mnp\u001b[0m\u001b[1;33m.\u001b[0m\u001b[0madd\u001b[0m\u001b[1;33m(\u001b[0m\u001b[0marr1\u001b[0m\u001b[1;33m)\u001b[0m\u001b[1;33m\u001b[0m\u001b[1;33m\u001b[0m\u001b[0m\n\u001b[0m",
      "\u001b[1;31mTypeError\u001b[0m: add() takes from 2 to 3 positional arguments but 1 were given"
     ]
    }
   ],
   "source": [
    "np.add.reduce(arr1) # renvoie l'addition de tous les éléments\n"
   ]
  },
  {
   "cell_type": "code",
   "execution_count": 124,
   "metadata": {},
   "outputs": [
    {
     "data": {
      "text/plain": [
       "24"
      ]
     },
     "execution_count": 124,
     "metadata": {},
     "output_type": "execute_result"
    }
   ],
   "source": [
    "np.multiply.reduce(a) #produire de multiplier tous les éléments"
   ]
  },
  {
   "cell_type": "code",
   "execution_count": 125,
   "metadata": {},
   "outputs": [
    {
     "data": {
      "text/plain": [
       "array([ 1,  3,  6, 10], dtype=int32)"
      ]
     },
     "execution_count": 125,
     "metadata": {},
     "output_type": "execute_result"
    }
   ],
   "source": [
    "np.add.accumulate(a) #afficher toutes les valeurs intermédiaires"
   ]
  },
  {
   "cell_type": "code",
   "execution_count": 126,
   "metadata": {},
   "outputs": [
    {
     "data": {
      "text/plain": [
       "array([[ 1,  2,  3,  4],\n",
       "       [ 2,  4,  6,  8],\n",
       "       [ 3,  6,  9, 12],\n",
       "       [ 4,  8, 12, 16]])"
      ]
     },
     "execution_count": 126,
     "metadata": {},
     "output_type": "execute_result"
    }
   ],
   "source": [
    "np.multiply.outer(a,a) #créer une table de multiplication"
   ]
  },
  {
   "cell_type": "markdown",
   "metadata": {},
   "source": [
    "<div class=\"alert alert-warning\">\n",
    "<h3>opérateurs trigonométrique; exponents, logarithms</h3></div>"
   ]
  },
  {
   "cell_type": "code",
   "execution_count": 117,
   "metadata": {},
   "outputs": [
    {
     "data": {
      "text/plain": [
       "array([0.        , 1.33333333, 2.66666667, 4.        ])"
      ]
     },
     "execution_count": 117,
     "metadata": {},
     "output_type": "execute_result"
    }
   ],
   "source": [
    "exmpl = np.linspace(0, 4, 4)\n",
    "exmpl"
   ]
  },
  {
   "cell_type": "code",
   "execution_count": null,
   "metadata": {},
   "outputs": [],
   "source": [
    "sin, cos, tan, arcsin, arccos, arctan\n",
    "\n",
    "np.sin(exmpl)\n",
    "np.cos(exmpl)\n",
    "np.tan(exmpl)\n",
    "\n",
    "exp, exp2, power, log, log2, log10\n",
    "\n",
    "np.exp(exmpl)\n",
    "np.exp2(exmpl)\n",
    "np.log(exmpl)\n",
    "np.log2(exmpl)\n",
    "np.power(exmpl, 2)"
   ]
  },
  {
   "cell_type": "code",
   "execution_count": 102,
   "metadata": {},
   "outputs": [
    {
     "data": {
      "text/plain": [
       "array([ 0.        ,  1.77777778,  7.11111111, 16.        ])"
      ]
     },
     "execution_count": 102,
     "metadata": {},
     "output_type": "execute_result"
    }
   ],
   "source": [
    "np.power(exmpl, 2)"
   ]
  },
  {
   "cell_type": "code",
   "execution_count": 101,
   "metadata": {},
   "outputs": [
    {
     "data": {
      "text/plain": [
       "array([ 0.        ,  0.9719379 ,  0.45727263, -0.7568025 ])"
      ]
     },
     "execution_count": 101,
     "metadata": {},
     "output_type": "execute_result"
    }
   ],
   "source": [
    "np.sin(exmpl)"
   ]
  },
  {
   "cell_type": "markdown",
   "metadata": {},
   "source": [
    "<div class=\"alert alert-warning\">\n",
    "<h3>opérateurs sur les valuers manquantes</h3></div>"
   ]
  },
  {
   "cell_type": "markdown",
   "metadata": {},
   "source": [
    "<div class=\"alert alert-success\">\n",
    "<li>pandas marque les données manquantes avec NaN (pas un nombre) ou aucun (méthode du masque)\n",
    "<li>NaN / None - ne sont pas disponibles pour tous les types de données\n",
    "<li>-9999 (valeur sentinelle)\n",
    "<li>la valeur sentinelle réduit la plage de valeurs valides pouvant être représentées et peut nécessiter une logique supplémentaire dans l'arithmétique CPU et GPU</div>"
   ]
  },
  {
   "cell_type": "code",
   "execution_count": 210,
   "metadata": {},
   "outputs": [],
   "source": [
    "# quand quelque chose manque, pandas fusionne la cellule avec NaN:\n",
    "\n",
    "A = {'a':1, 'b':2}\n",
    "B = {'b':3, 'c':4}\n",
    "\n",
    "df_na = pandas.DataFrame([A, B])"
   ]
  },
  {
   "cell_type": "code",
   "execution_count": 211,
   "metadata": {},
   "outputs": [
    {
     "data": {
      "text/html": [
       "<div>\n",
       "<style scoped>\n",
       "    .dataframe tbody tr th:only-of-type {\n",
       "        vertical-align: middle;\n",
       "    }\n",
       "\n",
       "    .dataframe tbody tr th {\n",
       "        vertical-align: top;\n",
       "    }\n",
       "\n",
       "    .dataframe thead th {\n",
       "        text-align: right;\n",
       "    }\n",
       "</style>\n",
       "<table border=\"1\" class=\"dataframe\">\n",
       "  <thead>\n",
       "    <tr style=\"text-align: right;\">\n",
       "      <th></th>\n",
       "      <th>a</th>\n",
       "      <th>b</th>\n",
       "      <th>c</th>\n",
       "    </tr>\n",
       "  </thead>\n",
       "  <tbody>\n",
       "    <tr>\n",
       "      <th>0</th>\n",
       "      <td>1.0</td>\n",
       "      <td>2</td>\n",
       "      <td>NaN</td>\n",
       "    </tr>\n",
       "    <tr>\n",
       "      <th>1</th>\n",
       "      <td>NaN</td>\n",
       "      <td>3</td>\n",
       "      <td>4.0</td>\n",
       "    </tr>\n",
       "  </tbody>\n",
       "</table>\n",
       "</div>"
      ],
      "text/plain": [
       "     a  b    c\n",
       "0  1.0  2  NaN\n",
       "1  NaN  3  4.0"
      ]
     },
     "execution_count": 211,
     "metadata": {},
     "output_type": "execute_result"
    }
   ],
   "source": [
    "df_na"
   ]
  },
  {
   "cell_type": "code",
   "execution_count": 212,
   "metadata": {},
   "outputs": [
    {
     "data": {
      "text/plain": [
       "numpy.float64"
      ]
     },
     "execution_count": 212,
     "metadata": {},
     "output_type": "execute_result"
    }
   ],
   "source": [
    "type(df_na['a'][0])"
   ]
  },
  {
   "cell_type": "markdown",
   "metadata": {
    "slideshow": {
     "slide_type": "subslide"
    }
   },
   "source": [
    "<div class=\"alert alert-success\">\n",
    "<li>isnull()&nbsp;&nbsp;&nbsp;&nbsp; = générer un masque booléen indiquant les valeurs manquantes\n",
    "<li>notnull()&nbsp; = opposé à isnull()\n",
    "<li>dropna() = renvoie une version filtrée des données, les NaN sont supprimés\n",
    "<li>fillna()&nbsp;&nbsp;&nbsp;&nbsp; = renvoie une copie des données avec les valeurs manquantes renseignées ou imputées</div>"
   ]
  },
  {
   "cell_type": "code",
   "execution_count": 213,
   "metadata": {
    "scrolled": true
   },
   "outputs": [
    {
     "data": {
      "text/html": [
       "<div>\n",
       "<style scoped>\n",
       "    .dataframe tbody tr th:only-of-type {\n",
       "        vertical-align: middle;\n",
       "    }\n",
       "\n",
       "    .dataframe tbody tr th {\n",
       "        vertical-align: top;\n",
       "    }\n",
       "\n",
       "    .dataframe thead th {\n",
       "        text-align: right;\n",
       "    }\n",
       "</style>\n",
       "<table border=\"1\" class=\"dataframe\">\n",
       "  <thead>\n",
       "    <tr style=\"text-align: right;\">\n",
       "      <th></th>\n",
       "      <th>a</th>\n",
       "      <th>b</th>\n",
       "      <th>c</th>\n",
       "    </tr>\n",
       "  </thead>\n",
       "  <tbody>\n",
       "    <tr>\n",
       "      <th>0</th>\n",
       "      <td>False</td>\n",
       "      <td>False</td>\n",
       "      <td>True</td>\n",
       "    </tr>\n",
       "    <tr>\n",
       "      <th>1</th>\n",
       "      <td>True</td>\n",
       "      <td>False</td>\n",
       "      <td>False</td>\n",
       "    </tr>\n",
       "  </tbody>\n",
       "</table>\n",
       "</div>"
      ],
      "text/plain": [
       "       a      b      c\n",
       "0  False  False   True\n",
       "1   True  False  False"
      ]
     },
     "execution_count": 213,
     "metadata": {},
     "output_type": "execute_result"
    }
   ],
   "source": [
    "# df_na.isnull()\n",
    "df_na.isna()"
   ]
  },
  {
   "cell_type": "code",
   "execution_count": 214,
   "metadata": {
    "scrolled": false
   },
   "outputs": [
    {
     "data": {
      "text/html": [
       "<div>\n",
       "<style scoped>\n",
       "    .dataframe tbody tr th:only-of-type {\n",
       "        vertical-align: middle;\n",
       "    }\n",
       "\n",
       "    .dataframe tbody tr th {\n",
       "        vertical-align: top;\n",
       "    }\n",
       "\n",
       "    .dataframe thead th {\n",
       "        text-align: right;\n",
       "    }\n",
       "</style>\n",
       "<table border=\"1\" class=\"dataframe\">\n",
       "  <thead>\n",
       "    <tr style=\"text-align: right;\">\n",
       "      <th></th>\n",
       "      <th>a</th>\n",
       "      <th>b</th>\n",
       "      <th>c</th>\n",
       "    </tr>\n",
       "  </thead>\n",
       "  <tbody>\n",
       "    <tr>\n",
       "      <th>0</th>\n",
       "      <td>True</td>\n",
       "      <td>True</td>\n",
       "      <td>False</td>\n",
       "    </tr>\n",
       "    <tr>\n",
       "      <th>1</th>\n",
       "      <td>False</td>\n",
       "      <td>True</td>\n",
       "      <td>True</td>\n",
       "    </tr>\n",
       "  </tbody>\n",
       "</table>\n",
       "</div>"
      ],
      "text/plain": [
       "       a     b      c\n",
       "0   True  True  False\n",
       "1  False  True   True"
      ]
     },
     "execution_count": 214,
     "metadata": {},
     "output_type": "execute_result"
    }
   ],
   "source": [
    "df_na.notnull()\n",
    "# df_na.notna()"
   ]
  },
  {
   "cell_type": "code",
   "execution_count": 215,
   "metadata": {},
   "outputs": [
    {
     "data": {
      "text/html": [
       "<div>\n",
       "<style scoped>\n",
       "    .dataframe tbody tr th:only-of-type {\n",
       "        vertical-align: middle;\n",
       "    }\n",
       "\n",
       "    .dataframe tbody tr th {\n",
       "        vertical-align: top;\n",
       "    }\n",
       "\n",
       "    .dataframe thead th {\n",
       "        text-align: right;\n",
       "    }\n",
       "</style>\n",
       "<table border=\"1\" class=\"dataframe\">\n",
       "  <thead>\n",
       "    <tr style=\"text-align: right;\">\n",
       "      <th></th>\n",
       "      <th>a</th>\n",
       "      <th>b</th>\n",
       "      <th>c</th>\n",
       "    </tr>\n",
       "  </thead>\n",
       "  <tbody>\n",
       "  </tbody>\n",
       "</table>\n",
       "</div>"
      ],
      "text/plain": [
       "Empty DataFrame\n",
       "Columns: [a, b, c]\n",
       "Index: []"
      ]
     },
     "execution_count": 215,
     "metadata": {},
     "output_type": "execute_result"
    }
   ],
   "source": [
    "df_na.dropna() # supprime les colonnes où au moins un élément est manquant"
   ]
  },
  {
   "cell_type": "code",
   "execution_count": 216,
   "metadata": {},
   "outputs": [
    {
     "data": {
      "text/plain": [
       "True"
      ]
     },
     "execution_count": 216,
     "metadata": {},
     "output_type": "execute_result"
    }
   ],
   "source": [
    "df_na['a'].isnull().values.any()\n",
    "# df_na.a.isnull().values.any()"
   ]
  },
  {
   "cell_type": "code",
   "execution_count": 246,
   "metadata": {},
   "outputs": [],
   "source": [
    "#df_na['a']"
   ]
  },
  {
   "cell_type": "code",
   "execution_count": 217,
   "metadata": {},
   "outputs": [
    {
     "data": {
      "text/plain": [
       "0    1.0\n",
       "1    0.0\n",
       "Name: a, dtype: float64"
      ]
     },
     "execution_count": 217,
     "metadata": {},
     "output_type": "execute_result"
    }
   ],
   "source": [
    "df_na['a'].fillna(0)"
   ]
  },
  {
   "cell_type": "code",
   "execution_count": 219,
   "metadata": {
    "scrolled": true
   },
   "outputs": [
    {
     "data": {
      "text/plain": [
       "0    1.0\n",
       "1    3.0\n",
       "Name: a, dtype: float64"
      ]
     },
     "execution_count": 219,
     "metadata": {},
     "output_type": "execute_result"
    }
   ],
   "source": [
    "df_na['a'].fillna(3)"
   ]
  },
  {
   "cell_type": "code",
   "execution_count": 250,
   "metadata": {},
   "outputs": [],
   "source": [
    "#df_na.fillna(0)"
   ]
  },
  {
   "cell_type": "code",
   "execution_count": null,
   "metadata": {},
   "outputs": [],
   "source": [
    "# plus d'informations ici:\n",
    "\n",
    "https://pandas.pydata.org/pandas-docs/stable/reference/api/pandas.DataFrame.dropna.html"
   ]
  },
  {
   "cell_type": "markdown",
   "metadata": {},
   "source": [
    "<div class=\"alert alert-info\">\n",
    "<h3>Groupby: pandas.DataFrame.groupby</h3></div>"
   ]
  },
  {
   "cell_type": "markdown",
   "metadata": {
    "slideshow": {
     "slide_type": "subslide"
    }
   },
   "source": [
    "<div class=\"alert alert-success\">\n",
    "<li> DataFrame.groupby(by=None, axis=0, level=None, as_index=True, sort=True, group_keys=True, squeeze=False, observed=False, **kwargs)\n",
    "\n",
    "<p>\n",
    "\n",
    "groupby s'effectue en 3 étapes:\n",
    "\n",
    "<li> <b>fractionnement</b> pour scinder et grouper un Cadre de données en fonction de la valeur de la clé spécifiée\n",
    "<li> <b>application</b> pour calculer une fonction (agrégat, transformation, filtrage, au sein des groupes individuels)\n",
    "<li> <b>combinaison</b> fusionne les résultats dans un tableau de sortie."
   ]
  },
  {
   "cell_type": "code",
   "execution_count": 79,
   "metadata": {},
   "outputs": [
    {
     "data": {
      "text/plain": [
       "Index(['method', 'number', 'orbital_period', 'mass', 'distance', 'year'], dtype='object')"
      ]
     },
     "execution_count": 79,
     "metadata": {},
     "output_type": "execute_result"
    }
   ],
   "source": [
    "planets.columns"
   ]
  },
  {
   "cell_type": "code",
   "execution_count": 80,
   "metadata": {},
   "outputs": [
    {
     "data": {
      "text/plain": [
       "['Radial Velocity',\n",
       " 'Radial Velocity',\n",
       " 'Radial Velocity',\n",
       " 'Radial Velocity',\n",
       " 'Radial Velocity',\n",
       " 'Radial Velocity',\n",
       " 'Radial Velocity',\n",
       " 'Radial Velocity',\n",
       " 'Radial Velocity',\n",
       " 'Radial Velocity',\n",
       " 'Radial Velocity',\n",
       " 'Radial Velocity',\n",
       " 'Radial Velocity',\n",
       " 'Radial Velocity',\n",
       " 'Radial Velocity',\n",
       " 'Radial Velocity',\n",
       " 'Radial Velocity',\n",
       " 'Radial Velocity',\n",
       " 'Radial Velocity',\n",
       " 'Radial Velocity',\n",
       " 'Radial Velocity',\n",
       " 'Radial Velocity',\n",
       " 'Radial Velocity',\n",
       " 'Radial Velocity',\n",
       " 'Radial Velocity',\n",
       " 'Radial Velocity',\n",
       " 'Radial Velocity',\n",
       " 'Radial Velocity',\n",
       " 'Radial Velocity',\n",
       " 'Imaging',\n",
       " 'Imaging',\n",
       " 'Imaging',\n",
       " 'Eclipse Timing Variations',\n",
       " 'Imaging',\n",
       " 'Imaging',\n",
       " 'Imaging',\n",
       " 'Imaging',\n",
       " 'Eclipse Timing Variations',\n",
       " 'Eclipse Timing Variations',\n",
       " 'Eclipse Timing Variations',\n",
       " 'Eclipse Timing Variations',\n",
       " 'Eclipse Timing Variations',\n",
       " 'Eclipse Timing Variations',\n",
       " 'Eclipse Timing Variations',\n",
       " 'Eclipse Timing Variations',\n",
       " 'Radial Velocity',\n",
       " 'Radial Velocity',\n",
       " 'Imaging',\n",
       " 'Radial Velocity',\n",
       " 'Radial Velocity',\n",
       " 'Radial Velocity',\n",
       " 'Radial Velocity',\n",
       " 'Radial Velocity',\n",
       " 'Radial Velocity',\n",
       " 'Imaging',\n",
       " 'Radial Velocity',\n",
       " 'Radial Velocity',\n",
       " 'Radial Velocity',\n",
       " 'Radial Velocity',\n",
       " 'Radial Velocity',\n",
       " 'Radial Velocity',\n",
       " 'Radial Velocity',\n",
       " 'Radial Velocity',\n",
       " 'Radial Velocity',\n",
       " 'Radial Velocity',\n",
       " 'Radial Velocity',\n",
       " 'Radial Velocity',\n",
       " 'Radial Velocity',\n",
       " 'Imaging',\n",
       " 'Imaging',\n",
       " 'Imaging',\n",
       " 'Imaging',\n",
       " 'Imaging',\n",
       " 'Imaging',\n",
       " 'Imaging',\n",
       " 'Imaging',\n",
       " 'Radial Velocity',\n",
       " 'Radial Velocity',\n",
       " 'Radial Velocity',\n",
       " 'Radial Velocity',\n",
       " 'Radial Velocity',\n",
       " 'Radial Velocity',\n",
       " 'Radial Velocity',\n",
       " 'Radial Velocity',\n",
       " 'Radial Velocity',\n",
       " 'Radial Velocity',\n",
       " 'Radial Velocity',\n",
       " 'Radial Velocity',\n",
       " 'Radial Velocity',\n",
       " 'Imaging',\n",
       " 'Imaging',\n",
       " 'Transit',\n",
       " 'Transit',\n",
       " 'Transit',\n",
       " 'Transit',\n",
       " 'Transit',\n",
       " 'Transit',\n",
       " 'Transit',\n",
       " 'Radial Velocity',\n",
       " 'Transit',\n",
       " 'Transit',\n",
       " 'Transit',\n",
       " 'Transit',\n",
       " 'Transit',\n",
       " 'Transit',\n",
       " 'Transit',\n",
       " 'Transit',\n",
       " 'Transit',\n",
       " 'Transit',\n",
       " 'Transit',\n",
       " 'Transit',\n",
       " 'Transit',\n",
       " 'Transit',\n",
       " 'Astrometry',\n",
       " 'Radial Velocity',\n",
       " 'Radial Velocity',\n",
       " 'Radial Velocity',\n",
       " 'Radial Velocity',\n",
       " 'Radial Velocity',\n",
       " 'Radial Velocity',\n",
       " 'Radial Velocity',\n",
       " 'Radial Velocity',\n",
       " 'Radial Velocity',\n",
       " 'Radial Velocity',\n",
       " 'Imaging',\n",
       " 'Radial Velocity',\n",
       " 'Radial Velocity',\n",
       " 'Radial Velocity',\n",
       " 'Radial Velocity',\n",
       " 'Radial Velocity',\n",
       " 'Radial Velocity',\n",
       " 'Radial Velocity',\n",
       " 'Radial Velocity',\n",
       " 'Radial Velocity',\n",
       " 'Radial Velocity',\n",
       " 'Radial Velocity',\n",
       " 'Radial Velocity',\n",
       " 'Radial Velocity',\n",
       " 'Radial Velocity',\n",
       " 'Radial Velocity',\n",
       " 'Radial Velocity',\n",
       " 'Radial Velocity',\n",
       " 'Radial Velocity',\n",
       " 'Radial Velocity',\n",
       " 'Radial Velocity',\n",
       " 'Radial Velocity',\n",
       " 'Transit',\n",
       " 'Radial Velocity',\n",
       " 'Radial Velocity',\n",
       " 'Radial Velocity',\n",
       " 'Imaging',\n",
       " 'Transit',\n",
       " 'Transit',\n",
       " 'Transit',\n",
       " 'Transit',\n",
       " 'Transit',\n",
       " 'Transit',\n",
       " 'Transit',\n",
       " 'Transit',\n",
       " 'Transit',\n",
       " 'Transit',\n",
       " 'Radial Velocity',\n",
       " 'Transit',\n",
       " 'Transit',\n",
       " 'Transit',\n",
       " 'Transit',\n",
       " 'Radial Velocity',\n",
       " 'Transit',\n",
       " 'Transit',\n",
       " 'Transit',\n",
       " 'Transit',\n",
       " 'Transit',\n",
       " 'Transit',\n",
       " 'Transit',\n",
       " 'Transit',\n",
       " 'Transit',\n",
       " 'Transit',\n",
       " 'Transit',\n",
       " 'Transit',\n",
       " 'Transit',\n",
       " 'Transit',\n",
       " 'Radial Velocity',\n",
       " 'Transit',\n",
       " 'Transit',\n",
       " 'Transit',\n",
       " 'Transit',\n",
       " 'Transit',\n",
       " 'Transit',\n",
       " 'Transit',\n",
       " 'Transit',\n",
       " 'Transit',\n",
       " 'Transit',\n",
       " 'Transit',\n",
       " 'Transit',\n",
       " 'Transit',\n",
       " 'Transit',\n",
       " 'Transit',\n",
       " 'Transit',\n",
       " 'Radial Velocity',\n",
       " 'Radial Velocity',\n",
       " 'Radial Velocity',\n",
       " 'Radial Velocity',\n",
       " 'Radial Velocity',\n",
       " 'Radial Velocity',\n",
       " 'Radial Velocity',\n",
       " 'Radial Velocity',\n",
       " 'Radial Velocity',\n",
       " 'Radial Velocity',\n",
       " 'Radial Velocity',\n",
       " 'Radial Velocity',\n",
       " 'Radial Velocity',\n",
       " 'Radial Velocity',\n",
       " 'Radial Velocity',\n",
       " 'Radial Velocity',\n",
       " 'Radial Velocity',\n",
       " 'Radial Velocity',\n",
       " 'Radial Velocity',\n",
       " 'Radial Velocity',\n",
       " 'Radial Velocity',\n",
       " 'Radial Velocity',\n",
       " 'Radial Velocity',\n",
       " 'Radial Velocity',\n",
       " 'Radial Velocity',\n",
       " 'Radial Velocity',\n",
       " 'Radial Velocity',\n",
       " 'Radial Velocity',\n",
       " 'Radial Velocity',\n",
       " 'Radial Velocity',\n",
       " 'Radial Velocity',\n",
       " 'Radial Velocity',\n",
       " 'Radial Velocity',\n",
       " 'Radial Velocity',\n",
       " 'Radial Velocity',\n",
       " 'Radial Velocity',\n",
       " 'Radial Velocity',\n",
       " 'Radial Velocity',\n",
       " 'Radial Velocity',\n",
       " 'Radial Velocity',\n",
       " 'Radial Velocity',\n",
       " 'Radial Velocity',\n",
       " 'Radial Velocity',\n",
       " 'Radial Velocity',\n",
       " 'Radial Velocity',\n",
       " 'Radial Velocity',\n",
       " 'Radial Velocity',\n",
       " 'Radial Velocity',\n",
       " 'Radial Velocity',\n",
       " 'Radial Velocity',\n",
       " 'Radial Velocity',\n",
       " 'Radial Velocity',\n",
       " 'Radial Velocity',\n",
       " 'Radial Velocity',\n",
       " 'Radial Velocity',\n",
       " 'Radial Velocity',\n",
       " 'Radial Velocity',\n",
       " 'Radial Velocity',\n",
       " 'Radial Velocity',\n",
       " 'Radial Velocity',\n",
       " 'Radial Velocity',\n",
       " 'Radial Velocity',\n",
       " 'Radial Velocity',\n",
       " 'Radial Velocity',\n",
       " 'Radial Velocity',\n",
       " 'Radial Velocity',\n",
       " 'Radial Velocity',\n",
       " 'Radial Velocity',\n",
       " 'Radial Velocity',\n",
       " 'Radial Velocity',\n",
       " 'Radial Velocity',\n",
       " 'Radial Velocity',\n",
       " 'Radial Velocity',\n",
       " 'Radial Velocity',\n",
       " 'Radial Velocity',\n",
       " 'Radial Velocity',\n",
       " 'Radial Velocity',\n",
       " 'Radial Velocity',\n",
       " 'Radial Velocity',\n",
       " 'Radial Velocity',\n",
       " 'Radial Velocity',\n",
       " 'Radial Velocity',\n",
       " 'Radial Velocity',\n",
       " 'Radial Velocity',\n",
       " 'Radial Velocity',\n",
       " 'Radial Velocity',\n",
       " 'Radial Velocity',\n",
       " 'Radial Velocity',\n",
       " 'Radial Velocity',\n",
       " 'Radial Velocity',\n",
       " 'Radial Velocity',\n",
       " 'Radial Velocity',\n",
       " 'Radial Velocity',\n",
       " 'Radial Velocity',\n",
       " 'Radial Velocity',\n",
       " 'Radial Velocity',\n",
       " 'Radial Velocity',\n",
       " 'Radial Velocity',\n",
       " 'Radial Velocity',\n",
       " 'Radial Velocity',\n",
       " 'Radial Velocity',\n",
       " 'Radial Velocity',\n",
       " 'Radial Velocity',\n",
       " 'Radial Velocity',\n",
       " 'Radial Velocity',\n",
       " 'Radial Velocity',\n",
       " 'Radial Velocity',\n",
       " 'Radial Velocity',\n",
       " 'Radial Velocity',\n",
       " 'Radial Velocity',\n",
       " 'Radial Velocity',\n",
       " 'Radial Velocity',\n",
       " 'Radial Velocity',\n",
       " 'Radial Velocity',\n",
       " 'Radial Velocity',\n",
       " 'Radial Velocity',\n",
       " 'Radial Velocity',\n",
       " 'Radial Velocity',\n",
       " 'Radial Velocity',\n",
       " 'Radial Velocity',\n",
       " 'Radial Velocity',\n",
       " 'Radial Velocity',\n",
       " 'Radial Velocity',\n",
       " 'Radial Velocity',\n",
       " 'Radial Velocity',\n",
       " 'Radial Velocity',\n",
       " 'Radial Velocity',\n",
       " 'Radial Velocity',\n",
       " 'Radial Velocity',\n",
       " 'Radial Velocity',\n",
       " 'Radial Velocity',\n",
       " 'Radial Velocity',\n",
       " 'Radial Velocity',\n",
       " 'Radial Velocity',\n",
       " 'Radial Velocity',\n",
       " 'Radial Velocity',\n",
       " 'Radial Velocity',\n",
       " 'Radial Velocity',\n",
       " 'Radial Velocity',\n",
       " 'Radial Velocity',\n",
       " 'Radial Velocity',\n",
       " 'Radial Velocity',\n",
       " 'Radial Velocity',\n",
       " 'Radial Velocity',\n",
       " 'Radial Velocity',\n",
       " 'Radial Velocity',\n",
       " 'Radial Velocity',\n",
       " 'Radial Velocity',\n",
       " 'Radial Velocity',\n",
       " 'Radial Velocity',\n",
       " 'Radial Velocity',\n",
       " 'Radial Velocity',\n",
       " 'Radial Velocity',\n",
       " 'Radial Velocity',\n",
       " 'Radial Velocity',\n",
       " 'Radial Velocity',\n",
       " 'Radial Velocity',\n",
       " 'Radial Velocity',\n",
       " 'Radial Velocity',\n",
       " 'Radial Velocity',\n",
       " 'Radial Velocity',\n",
       " 'Radial Velocity',\n",
       " 'Radial Velocity',\n",
       " 'Radial Velocity',\n",
       " 'Radial Velocity',\n",
       " 'Radial Velocity',\n",
       " 'Radial Velocity',\n",
       " 'Radial Velocity',\n",
       " 'Radial Velocity',\n",
       " 'Radial Velocity',\n",
       " 'Radial Velocity',\n",
       " 'Radial Velocity',\n",
       " 'Radial Velocity',\n",
       " 'Radial Velocity',\n",
       " 'Radial Velocity',\n",
       " 'Radial Velocity',\n",
       " 'Radial Velocity',\n",
       " 'Radial Velocity',\n",
       " 'Radial Velocity',\n",
       " 'Radial Velocity',\n",
       " 'Radial Velocity',\n",
       " 'Radial Velocity',\n",
       " 'Radial Velocity',\n",
       " 'Radial Velocity',\n",
       " 'Radial Velocity',\n",
       " 'Radial Velocity',\n",
       " 'Radial Velocity',\n",
       " 'Radial Velocity',\n",
       " 'Radial Velocity',\n",
       " 'Radial Velocity',\n",
       " 'Radial Velocity',\n",
       " 'Radial Velocity',\n",
       " 'Radial Velocity',\n",
       " 'Radial Velocity',\n",
       " 'Imaging',\n",
       " 'Radial Velocity',\n",
       " 'Radial Velocity',\n",
       " 'Radial Velocity',\n",
       " 'Radial Velocity',\n",
       " 'Radial Velocity',\n",
       " 'Radial Velocity',\n",
       " 'Radial Velocity',\n",
       " 'Radial Velocity',\n",
       " 'Radial Velocity',\n",
       " 'Radial Velocity',\n",
       " 'Radial Velocity',\n",
       " 'Radial Velocity',\n",
       " 'Radial Velocity',\n",
       " 'Radial Velocity',\n",
       " 'Radial Velocity',\n",
       " 'Radial Velocity',\n",
       " 'Radial Velocity',\n",
       " 'Radial Velocity',\n",
       " 'Radial Velocity',\n",
       " 'Radial Velocity',\n",
       " 'Radial Velocity',\n",
       " 'Radial Velocity',\n",
       " 'Radial Velocity',\n",
       " 'Radial Velocity',\n",
       " 'Radial Velocity',\n",
       " 'Radial Velocity',\n",
       " 'Radial Velocity',\n",
       " 'Radial Velocity',\n",
       " 'Radial Velocity',\n",
       " 'Radial Velocity',\n",
       " 'Imaging',\n",
       " 'Radial Velocity',\n",
       " 'Radial Velocity',\n",
       " 'Radial Velocity',\n",
       " 'Radial Velocity',\n",
       " 'Radial Velocity',\n",
       " 'Radial Velocity',\n",
       " 'Radial Velocity',\n",
       " 'Radial Velocity',\n",
       " 'Radial Velocity',\n",
       " 'Radial Velocity',\n",
       " 'Radial Velocity',\n",
       " 'Radial Velocity',\n",
       " 'Radial Velocity',\n",
       " 'Radial Velocity',\n",
       " 'Radial Velocity',\n",
       " 'Radial Velocity',\n",
       " 'Radial Velocity',\n",
       " 'Radial Velocity',\n",
       " 'Radial Velocity',\n",
       " 'Radial Velocity',\n",
       " 'Radial Velocity',\n",
       " 'Radial Velocity',\n",
       " 'Radial Velocity',\n",
       " 'Radial Velocity',\n",
       " 'Radial Velocity',\n",
       " 'Radial Velocity',\n",
       " 'Radial Velocity',\n",
       " 'Radial Velocity',\n",
       " 'Radial Velocity',\n",
       " 'Radial Velocity',\n",
       " 'Radial Velocity',\n",
       " 'Radial Velocity',\n",
       " 'Radial Velocity',\n",
       " 'Radial Velocity',\n",
       " 'Radial Velocity',\n",
       " 'Radial Velocity',\n",
       " 'Radial Velocity',\n",
       " 'Radial Velocity',\n",
       " 'Radial Velocity',\n",
       " 'Radial Velocity',\n",
       " 'Radial Velocity',\n",
       " 'Radial Velocity',\n",
       " 'Radial Velocity',\n",
       " 'Radial Velocity',\n",
       " 'Radial Velocity',\n",
       " 'Radial Velocity',\n",
       " 'Radial Velocity',\n",
       " 'Radial Velocity',\n",
       " 'Radial Velocity',\n",
       " 'Radial Velocity',\n",
       " 'Radial Velocity',\n",
       " 'Radial Velocity',\n",
       " 'Radial Velocity',\n",
       " 'Radial Velocity',\n",
       " 'Radial Velocity',\n",
       " 'Radial Velocity',\n",
       " 'Radial Velocity',\n",
       " 'Radial Velocity',\n",
       " 'Radial Velocity',\n",
       " 'Radial Velocity',\n",
       " 'Radial Velocity',\n",
       " 'Radial Velocity',\n",
       " 'Radial Velocity',\n",
       " 'Radial Velocity',\n",
       " 'Radial Velocity',\n",
       " 'Radial Velocity',\n",
       " 'Radial Velocity',\n",
       " 'Radial Velocity',\n",
       " 'Radial Velocity',\n",
       " 'Radial Velocity',\n",
       " 'Radial Velocity',\n",
       " 'Radial Velocity',\n",
       " 'Radial Velocity',\n",
       " 'Radial Velocity',\n",
       " 'Radial Velocity',\n",
       " 'Radial Velocity',\n",
       " 'Radial Velocity',\n",
       " 'Radial Velocity',\n",
       " 'Radial Velocity',\n",
       " 'Radial Velocity',\n",
       " 'Radial Velocity',\n",
       " 'Radial Velocity',\n",
       " 'Radial Velocity',\n",
       " 'Radial Velocity',\n",
       " 'Radial Velocity',\n",
       " 'Radial Velocity',\n",
       " 'Radial Velocity',\n",
       " 'Radial Velocity',\n",
       " 'Radial Velocity',\n",
       " 'Radial Velocity',\n",
       " 'Radial Velocity',\n",
       " 'Radial Velocity',\n",
       " 'Radial Velocity',\n",
       " 'Radial Velocity',\n",
       " 'Radial Velocity',\n",
       " 'Radial Velocity',\n",
       " 'Radial Velocity',\n",
       " 'Radial Velocity',\n",
       " 'Radial Velocity',\n",
       " 'Radial Velocity',\n",
       " 'Radial Velocity',\n",
       " 'Radial Velocity',\n",
       " 'Radial Velocity',\n",
       " 'Radial Velocity',\n",
       " 'Radial Velocity',\n",
       " 'Radial Velocity',\n",
       " 'Radial Velocity',\n",
       " 'Radial Velocity',\n",
       " 'Radial Velocity',\n",
       " 'Radial Velocity',\n",
       " 'Radial Velocity',\n",
       " 'Radial Velocity',\n",
       " 'Radial Velocity',\n",
       " 'Astrometry',\n",
       " 'Radial Velocity',\n",
       " 'Radial Velocity',\n",
       " 'Radial Velocity',\n",
       " 'Radial Velocity',\n",
       " 'Radial Velocity',\n",
       " 'Radial Velocity',\n",
       " 'Radial Velocity',\n",
       " 'Radial Velocity',\n",
       " 'Radial Velocity',\n",
       " 'Radial Velocity',\n",
       " 'Radial Velocity',\n",
       " 'Radial Velocity',\n",
       " 'Radial Velocity',\n",
       " 'Radial Velocity',\n",
       " 'Radial Velocity',\n",
       " 'Radial Velocity',\n",
       " 'Radial Velocity',\n",
       " 'Radial Velocity',\n",
       " 'Radial Velocity',\n",
       " 'Radial Velocity',\n",
       " 'Radial Velocity',\n",
       " 'Radial Velocity',\n",
       " 'Radial Velocity',\n",
       " 'Radial Velocity',\n",
       " 'Radial Velocity',\n",
       " 'Radial Velocity',\n",
       " 'Radial Velocity',\n",
       " 'Radial Velocity',\n",
       " 'Radial Velocity',\n",
       " 'Radial Velocity',\n",
       " 'Radial Velocity',\n",
       " 'Radial Velocity',\n",
       " 'Radial Velocity',\n",
       " 'Radial Velocity',\n",
       " 'Radial Velocity',\n",
       " 'Radial Velocity',\n",
       " 'Radial Velocity',\n",
       " 'Radial Velocity',\n",
       " 'Radial Velocity',\n",
       " 'Imaging',\n",
       " 'Radial Velocity',\n",
       " 'Radial Velocity',\n",
       " 'Radial Velocity',\n",
       " 'Radial Velocity',\n",
       " 'Radial Velocity',\n",
       " 'Radial Velocity',\n",
       " 'Radial Velocity',\n",
       " 'Radial Velocity',\n",
       " 'Radial Velocity',\n",
       " 'Radial Velocity',\n",
       " 'Radial Velocity',\n",
       " 'Radial Velocity',\n",
       " 'Radial Velocity',\n",
       " 'Radial Velocity',\n",
       " 'Radial Velocity',\n",
       " 'Radial Velocity',\n",
       " 'Radial Velocity',\n",
       " 'Radial Velocity',\n",
       " 'Radial Velocity',\n",
       " 'Radial Velocity',\n",
       " 'Radial Velocity',\n",
       " 'Radial Velocity',\n",
       " 'Radial Velocity',\n",
       " 'Radial Velocity',\n",
       " 'Radial Velocity',\n",
       " 'Radial Velocity',\n",
       " 'Radial Velocity',\n",
       " 'Radial Velocity',\n",
       " 'Radial Velocity',\n",
       " 'Radial Velocity',\n",
       " 'Radial Velocity',\n",
       " 'Radial Velocity',\n",
       " 'Radial Velocity',\n",
       " 'Radial Velocity',\n",
       " 'Radial Velocity',\n",
       " 'Radial Velocity',\n",
       " 'Radial Velocity',\n",
       " 'Radial Velocity',\n",
       " 'Radial Velocity',\n",
       " 'Radial Velocity',\n",
       " 'Radial Velocity',\n",
       " 'Radial Velocity',\n",
       " 'Radial Velocity',\n",
       " 'Radial Velocity',\n",
       " 'Radial Velocity',\n",
       " 'Radial Velocity',\n",
       " 'Radial Velocity',\n",
       " 'Radial Velocity',\n",
       " 'Radial Velocity',\n",
       " 'Radial Velocity',\n",
       " 'Radial Velocity',\n",
       " 'Radial Velocity',\n",
       " 'Radial Velocity',\n",
       " 'Radial Velocity',\n",
       " 'Radial Velocity',\n",
       " 'Radial Velocity',\n",
       " 'Radial Velocity',\n",
       " 'Imaging',\n",
       " 'Radial Velocity',\n",
       " 'Radial Velocity',\n",
       " 'Radial Velocity',\n",
       " 'Imaging',\n",
       " 'Radial Velocity',\n",
       " 'Radial Velocity',\n",
       " 'Radial Velocity',\n",
       " 'Imaging',\n",
       " 'Imaging',\n",
       " 'Imaging',\n",
       " 'Imaging',\n",
       " 'Transit',\n",
       " 'Transit',\n",
       " 'Transit',\n",
       " 'Transit',\n",
       " 'Transit',\n",
       " 'Transit',\n",
       " 'Transit',\n",
       " 'Transit',\n",
       " 'Transit',\n",
       " 'Transit',\n",
       " 'Transit',\n",
       " 'Transit',\n",
       " 'Transit',\n",
       " 'Transit',\n",
       " 'Transit',\n",
       " 'Transit',\n",
       " 'Transit',\n",
       " 'Transit',\n",
       " 'Transit',\n",
       " 'Transit',\n",
       " 'Transit',\n",
       " 'Transit',\n",
       " 'Transit',\n",
       " 'Transit',\n",
       " 'Transit',\n",
       " 'Transit',\n",
       " 'Transit',\n",
       " 'Transit',\n",
       " 'Transit',\n",
       " 'Transit',\n",
       " 'Transit',\n",
       " 'Transit',\n",
       " 'Transit',\n",
       " 'Transit Timing Variations',\n",
       " 'Transit',\n",
       " 'Transit',\n",
       " 'Transit',\n",
       " 'Transit',\n",
       " 'Transit',\n",
       " 'Transit',\n",
       " 'Transit',\n",
       " 'Transit',\n",
       " 'Transit',\n",
       " 'Transit',\n",
       " 'Transit',\n",
       " 'Transit',\n",
       " 'Transit',\n",
       " 'Radial Velocity',\n",
       " 'Transit',\n",
       " 'Transit',\n",
       " 'Transit',\n",
       " 'Transit',\n",
       " 'Transit',\n",
       " 'Transit',\n",
       " 'Transit',\n",
       " 'Transit',\n",
       " 'Transit',\n",
       " 'Transit',\n",
       " 'Transit',\n",
       " 'Transit',\n",
       " 'Transit',\n",
       " 'Transit',\n",
       " 'Transit',\n",
       " 'Transit',\n",
       " 'Transit',\n",
       " 'Transit',\n",
       " 'Transit',\n",
       " 'Transit',\n",
       " 'Transit',\n",
       " 'Transit',\n",
       " 'Transit',\n",
       " 'Transit',\n",
       " 'Transit',\n",
       " 'Transit',\n",
       " 'Transit',\n",
       " 'Transit',\n",
       " 'Transit',\n",
       " 'Transit',\n",
       " 'Transit',\n",
       " 'Transit',\n",
       " 'Transit',\n",
       " 'Transit',\n",
       " 'Transit',\n",
       " 'Transit',\n",
       " 'Transit',\n",
       " 'Transit',\n",
       " 'Transit',\n",
       " 'Transit',\n",
       " 'Transit',\n",
       " 'Transit Timing Variations',\n",
       " 'Transit',\n",
       " 'Transit',\n",
       " 'Transit',\n",
       " 'Transit',\n",
       " 'Transit',\n",
       " 'Radial Velocity',\n",
       " 'Transit',\n",
       " 'Transit',\n",
       " 'Transit',\n",
       " 'Transit',\n",
       " 'Transit',\n",
       " 'Transit',\n",
       " 'Transit Timing Variations',\n",
       " 'Transit',\n",
       " 'Transit',\n",
       " 'Transit',\n",
       " 'Transit',\n",
       " 'Transit',\n",
       " 'Transit',\n",
       " 'Transit',\n",
       " 'Transit',\n",
       " 'Transit',\n",
       " 'Transit',\n",
       " 'Transit',\n",
       " 'Transit',\n",
       " 'Transit',\n",
       " 'Transit',\n",
       " 'Transit',\n",
       " 'Transit',\n",
       " 'Transit',\n",
       " 'Transit',\n",
       " 'Transit',\n",
       " 'Transit',\n",
       " 'Transit',\n",
       " 'Transit',\n",
       " 'Transit',\n",
       " 'Transit',\n",
       " 'Transit',\n",
       " 'Transit',\n",
       " 'Transit',\n",
       " 'Transit',\n",
       " 'Transit',\n",
       " 'Transit',\n",
       " 'Transit',\n",
       " 'Transit',\n",
       " 'Transit',\n",
       " 'Transit',\n",
       " 'Radial Velocity',\n",
       " 'Transit',\n",
       " 'Transit',\n",
       " 'Orbital Brightness Modulation',\n",
       " 'Orbital Brightness Modulation',\n",
       " 'Transit',\n",
       " 'Transit',\n",
       " 'Transit',\n",
       " 'Orbital Brightness Modulation',\n",
       " 'Transit',\n",
       " 'Transit',\n",
       " 'Transit',\n",
       " 'Transit',\n",
       " 'Transit',\n",
       " 'Transit',\n",
       " 'Transit',\n",
       " 'Transit',\n",
       " 'Transit',\n",
       " 'Transit',\n",
       " 'Transit',\n",
       " 'Transit',\n",
       " 'Transit',\n",
       " 'Transit',\n",
       " 'Transit',\n",
       " 'Transit',\n",
       " 'Transit',\n",
       " 'Transit',\n",
       " 'Transit',\n",
       " 'Transit',\n",
       " 'Transit Timing Variations',\n",
       " 'Transit',\n",
       " 'Transit',\n",
       " 'Transit',\n",
       " 'Transit',\n",
       " 'Transit',\n",
       " 'Transit',\n",
       " 'Transit',\n",
       " 'Transit',\n",
       " 'Transit',\n",
       " 'Transit',\n",
       " 'Transit',\n",
       " 'Transit',\n",
       " 'Transit',\n",
       " 'Transit',\n",
       " 'Transit',\n",
       " 'Radial Velocity',\n",
       " 'Transit',\n",
       " 'Radial Velocity',\n",
       " 'Transit',\n",
       " 'Transit',\n",
       " 'Transit',\n",
       " 'Radial Velocity',\n",
       " 'Transit',\n",
       " 'Transit',\n",
       " 'Transit',\n",
       " 'Transit',\n",
       " 'Transit',\n",
       " 'Transit',\n",
       " 'Transit',\n",
       " 'Transit',\n",
       " 'Transit',\n",
       " 'Transit',\n",
       " 'Transit',\n",
       " 'Transit',\n",
       " 'Transit',\n",
       " 'Transit',\n",
       " 'Transit',\n",
       " 'Transit',\n",
       " 'Transit',\n",
       " 'Transit',\n",
       " 'Transit',\n",
       " 'Transit',\n",
       " 'Transit',\n",
       " 'Transit',\n",
       " 'Transit',\n",
       " 'Transit',\n",
       " 'Transit',\n",
       " 'Transit',\n",
       " 'Transit',\n",
       " 'Transit',\n",
       " 'Transit',\n",
       " 'Transit',\n",
       " 'Transit',\n",
       " 'Transit',\n",
       " 'Transit',\n",
       " 'Transit',\n",
       " 'Transit',\n",
       " 'Transit',\n",
       " 'Transit',\n",
       " 'Transit',\n",
       " 'Transit',\n",
       " 'Transit',\n",
       " 'Transit',\n",
       " 'Transit',\n",
       " 'Transit',\n",
       " 'Transit',\n",
       " 'Transit',\n",
       " 'Transit',\n",
       " 'Transit',\n",
       " 'Transit',\n",
       " 'Transit',\n",
       " 'Transit',\n",
       " 'Transit',\n",
       " 'Transit',\n",
       " 'Transit',\n",
       " 'Transit',\n",
       " 'Transit',\n",
       " 'Transit',\n",
       " 'Transit',\n",
       " 'Radial Velocity',\n",
       " 'Transit',\n",
       " 'Transit',\n",
       " 'Transit',\n",
       " 'Transit',\n",
       " 'Transit',\n",
       " 'Transit',\n",
       " 'Imaging',\n",
       " 'Transit',\n",
       " 'Microlensing',\n",
       " 'Microlensing',\n",
       " 'Microlensing',\n",
       " 'Microlensing',\n",
       " 'Microlensing',\n",
       " 'Microlensing',\n",
       " 'Microlensing',\n",
       " 'Microlensing',\n",
       " 'Microlensing',\n",
       " 'Microlensing',\n",
       " 'Microlensing',\n",
       " 'Radial Velocity',\n",
       " 'Radial Velocity',\n",
       " 'Radial Velocity',\n",
       " 'Radial Velocity',\n",
       " 'Microlensing',\n",
       " 'Microlensing',\n",
       " 'Microlensing',\n",
       " 'Microlensing',\n",
       " 'Microlensing',\n",
       " 'Microlensing',\n",
       " 'Microlensing',\n",
       " 'Microlensing',\n",
       " 'Microlensing',\n",
       " 'Microlensing',\n",
       " 'Microlensing',\n",
       " 'Microlensing',\n",
       " 'Transit',\n",
       " 'Transit',\n",
       " 'Transit',\n",
       " 'Transit',\n",
       " 'Transit',\n",
       " 'Transit',\n",
       " 'Transit',\n",
       " 'Transit',\n",
       " 'Imaging',\n",
       " 'Transit',\n",
       " 'Radial Velocity',\n",
       " 'Radial Velocity',\n",
       " 'Pulsar Timing',\n",
       " 'Pulsar Timing',\n",
       " 'Pulsar Timing',\n",
       " 'Pulsar Timing',\n",
       " 'Pulsar Timing',\n",
       " 'Transit',\n",
       " 'Transit',\n",
       " 'Imaging',\n",
       " 'Imaging',\n",
       " 'Imaging',\n",
       " 'Transit',\n",
       " 'Transit',\n",
       " 'Transit',\n",
       " 'Transit',\n",
       " 'Transit',\n",
       " 'Transit',\n",
       " 'Imaging',\n",
       " 'Pulsation Timing Variations',\n",
       " 'Transit',\n",
       " 'Transit',\n",
       " 'Transit',\n",
       " 'Transit',\n",
       " 'Transit',\n",
       " 'Transit',\n",
       " 'Transit',\n",
       " 'Transit',\n",
       " 'Transit',\n",
       " 'Transit',\n",
       " 'Transit',\n",
       " 'Transit',\n",
       " 'Transit',\n",
       " 'Transit',\n",
       " 'Transit',\n",
       " 'Transit',\n",
       " 'Transit',\n",
       " 'Transit',\n",
       " 'Transit',\n",
       " 'Transit',\n",
       " 'Transit',\n",
       " 'Transit',\n",
       " 'Transit',\n",
       " 'Transit',\n",
       " 'Transit',\n",
       " 'Transit',\n",
       " 'Transit',\n",
       " 'Transit',\n",
       " 'Transit',\n",
       " 'Transit',\n",
       " 'Transit',\n",
       " 'Transit',\n",
       " 'Transit',\n",
       " 'Transit',\n",
       " 'Transit',\n",
       " 'Transit',\n",
       " 'Transit',\n",
       " 'Transit',\n",
       " 'Transit',\n",
       " 'Transit',\n",
       " 'Transit',\n",
       " ...]"
      ]
     },
     "execution_count": 80,
     "metadata": {},
     "output_type": "execute_result"
    }
   ],
   "source": [
    "planets.method.tolist()"
   ]
  },
  {
   "cell_type": "code",
   "execution_count": 82,
   "metadata": {},
   "outputs": [
    {
     "name": "stderr",
     "output_type": "stream",
     "text": [
      "C:\\Users\\Dylan\\AppData\\Local\\Temp/ipykernel_162560/569095186.py:1: FutureWarning: As the xlwt package is no longer maintained, the xlwt engine will be removed in a future version of pandas. This is the only engine in pandas that supports writing in the xls format. Install openpyxl and write to an xlsx file instead. You can set the option io.excel.xls.writer to 'xlwt' to silence this warning. While this option is deprecated and will also raise a warning, it can be globally set and the warning suppressed.\n",
      "  planets.to_excel(r\"C:\\Users\\Dylan\\Downloads\\tmp3.xls\")\n"
     ]
    },
    {
     "ename": "ModuleNotFoundError",
     "evalue": "No module named 'xlwt'",
     "output_type": "error",
     "traceback": [
      "\u001b[1;31m---------------------------------------------------------------------------\u001b[0m",
      "\u001b[1;31mModuleNotFoundError\u001b[0m                       Traceback (most recent call last)",
      "\u001b[1;32m~\\AppData\\Local\\Temp/ipykernel_162560/569095186.py\u001b[0m in \u001b[0;36m<module>\u001b[1;34m\u001b[0m\n\u001b[1;32m----> 1\u001b[1;33m \u001b[0mplanets\u001b[0m\u001b[1;33m.\u001b[0m\u001b[0mto_excel\u001b[0m\u001b[1;33m(\u001b[0m\u001b[1;34mr\"C:\\Users\\Dylan\\Downloads\\tmp3.xls\"\u001b[0m\u001b[1;33m)\u001b[0m\u001b[1;33m\u001b[0m\u001b[1;33m\u001b[0m\u001b[0m\n\u001b[0m",
      "\u001b[1;32m~\\AppData\\Local\\Programs\\Python\\Python310\\lib\\site-packages\\pandas\\core\\generic.py\u001b[0m in \u001b[0;36mto_excel\u001b[1;34m(self, excel_writer, sheet_name, na_rep, float_format, columns, header, index, index_label, startrow, startcol, engine, merge_cells, encoding, inf_rep, verbose, freeze_panes, storage_options)\u001b[0m\n\u001b[0;32m   2282\u001b[0m             \u001b[0minf_rep\u001b[0m\u001b[1;33m=\u001b[0m\u001b[0minf_rep\u001b[0m\u001b[1;33m,\u001b[0m\u001b[1;33m\u001b[0m\u001b[1;33m\u001b[0m\u001b[0m\n\u001b[0;32m   2283\u001b[0m         )\n\u001b[1;32m-> 2284\u001b[1;33m         formatter.write(\n\u001b[0m\u001b[0;32m   2285\u001b[0m             \u001b[0mexcel_writer\u001b[0m\u001b[1;33m,\u001b[0m\u001b[1;33m\u001b[0m\u001b[1;33m\u001b[0m\u001b[0m\n\u001b[0;32m   2286\u001b[0m             \u001b[0msheet_name\u001b[0m\u001b[1;33m=\u001b[0m\u001b[0msheet_name\u001b[0m\u001b[1;33m,\u001b[0m\u001b[1;33m\u001b[0m\u001b[1;33m\u001b[0m\u001b[0m\n",
      "\u001b[1;32m~\\AppData\\Local\\Programs\\Python\\Python310\\lib\\site-packages\\pandas\\io\\formats\\excel.py\u001b[0m in \u001b[0;36mwrite\u001b[1;34m(self, writer, sheet_name, startrow, startcol, freeze_panes, engine, storage_options)\u001b[0m\n\u001b[0;32m    832\u001b[0m             \u001b[1;31m# error: Cannot instantiate abstract class 'ExcelWriter' with abstract\u001b[0m\u001b[1;33m\u001b[0m\u001b[1;33m\u001b[0m\u001b[0m\n\u001b[0;32m    833\u001b[0m             \u001b[1;31m# attributes 'engine', 'save', 'supported_extensions' and 'write_cells'\u001b[0m\u001b[1;33m\u001b[0m\u001b[1;33m\u001b[0m\u001b[0m\n\u001b[1;32m--> 834\u001b[1;33m             writer = ExcelWriter(  # type: ignore[abstract]\n\u001b[0m\u001b[0;32m    835\u001b[0m                 \u001b[0mwriter\u001b[0m\u001b[1;33m,\u001b[0m \u001b[0mengine\u001b[0m\u001b[1;33m=\u001b[0m\u001b[0mengine\u001b[0m\u001b[1;33m,\u001b[0m \u001b[0mstorage_options\u001b[0m\u001b[1;33m=\u001b[0m\u001b[0mstorage_options\u001b[0m\u001b[1;33m\u001b[0m\u001b[1;33m\u001b[0m\u001b[0m\n\u001b[0;32m    836\u001b[0m             )\n",
      "\u001b[1;32m~\\AppData\\Local\\Programs\\Python\\Python310\\lib\\site-packages\\pandas\\io\\excel\\_xlwt.py\u001b[0m in \u001b[0;36m__init__\u001b[1;34m(self, path, engine, date_format, datetime_format, encoding, mode, storage_options, if_sheet_exists, engine_kwargs, **kwargs)\u001b[0m\n\u001b[0;32m     37\u001b[0m     ):\n\u001b[0;32m     38\u001b[0m         \u001b[1;31m# Use the xlwt module as the Excel writer.\u001b[0m\u001b[1;33m\u001b[0m\u001b[1;33m\u001b[0m\u001b[0m\n\u001b[1;32m---> 39\u001b[1;33m         \u001b[1;32mimport\u001b[0m \u001b[0mxlwt\u001b[0m\u001b[1;33m\u001b[0m\u001b[1;33m\u001b[0m\u001b[0m\n\u001b[0m\u001b[0;32m     40\u001b[0m \u001b[1;33m\u001b[0m\u001b[0m\n\u001b[0;32m     41\u001b[0m         \u001b[0mengine_kwargs\u001b[0m \u001b[1;33m=\u001b[0m \u001b[0mcombine_kwargs\u001b[0m\u001b[1;33m(\u001b[0m\u001b[0mengine_kwargs\u001b[0m\u001b[1;33m,\u001b[0m \u001b[0mkwargs\u001b[0m\u001b[1;33m)\u001b[0m\u001b[1;33m\u001b[0m\u001b[1;33m\u001b[0m\u001b[0m\n",
      "\u001b[1;31mModuleNotFoundError\u001b[0m: No module named 'xlwt'"
     ]
    }
   ],
   "source": [
    "planets.to_excel(r\"C:\\Users\\Dylan\\Downloads\\tmp3.xls\")"
   ]
  },
  {
   "cell_type": "code",
   "execution_count": 20,
   "metadata": {},
   "outputs": [
    {
     "ename": "NameError",
     "evalue": "name 'planets' is not defined",
     "output_type": "error",
     "traceback": [
      "\u001b[1;31m---------------------------------------------------------------------------\u001b[0m",
      "\u001b[1;31mNameError\u001b[0m                                 Traceback (most recent call last)",
      "\u001b[1;32m~\\AppData\\Local\\Temp/ipykernel_13356/3670012047.py\u001b[0m in \u001b[0;36m<module>\u001b[1;34m\u001b[0m\n\u001b[1;32m----> 1\u001b[1;33m \u001b[0mplanets\u001b[0m\u001b[1;33m.\u001b[0m\u001b[0mgroupby\u001b[0m\u001b[1;33m(\u001b[0m\u001b[1;34m'method'\u001b[0m\u001b[1;33m)\u001b[0m\u001b[1;33m.\u001b[0m\u001b[0mmean\u001b[0m\u001b[1;33m(\u001b[0m\u001b[1;33m)\u001b[0m\u001b[1;33m\u001b[0m\u001b[1;33m\u001b[0m\u001b[0m\n\u001b[0m",
      "\u001b[1;31mNameError\u001b[0m: name 'planets' is not defined"
     ]
    }
   ],
   "source": [
    "planets.groupby('method').mean()"
   ]
  },
  {
   "cell_type": "code",
   "execution_count": 265,
   "metadata": {},
   "outputs": [
    {
     "data": {
      "text/plain": [
       "631.1800000000001"
      ]
     },
     "execution_count": 265,
     "metadata": {},
     "output_type": "execute_result"
    }
   ],
   "source": [
    "planets.orbital_period[planets.method=='Astrometry'].mean()"
   ]
  },
  {
   "cell_type": "code",
   "execution_count": 266,
   "metadata": {},
   "outputs": [
    {
     "data": {
      "text/plain": [
       "17.875"
      ]
     },
     "execution_count": 266,
     "metadata": {},
     "output_type": "execute_result"
    }
   ],
   "source": [
    "planets.distance[planets.method=='Astrometry'].mean()"
   ]
  },
  {
   "cell_type": "code",
   "execution_count": 267,
   "metadata": {},
   "outputs": [
    {
     "data": {
      "text/plain": [
       "dict_keys(['Astrometry', 'Eclipse Timing Variations', 'Imaging', 'Microlensing', 'Orbital Brightness Modulation', 'Pulsar Timing', 'Pulsation Timing Variations', 'Radial Velocity', 'Transit', 'Transit Timing Variations'])"
      ]
     },
     "execution_count": 267,
     "metadata": {},
     "output_type": "execute_result"
    }
   ],
   "source": [
    "planets.groupby('method').groups.keys()"
   ]
  },
  {
   "cell_type": "code",
   "execution_count": 268,
   "metadata": {},
   "outputs": [
    {
     "data": {
      "text/html": [
       "<div>\n",
       "<style scoped>\n",
       "    .dataframe tbody tr th:only-of-type {\n",
       "        vertical-align: middle;\n",
       "    }\n",
       "\n",
       "    .dataframe tbody tr th {\n",
       "        vertical-align: top;\n",
       "    }\n",
       "\n",
       "    .dataframe thead th {\n",
       "        text-align: right;\n",
       "    }\n",
       "</style>\n",
       "<table border=\"1\" class=\"dataframe\">\n",
       "  <thead>\n",
       "    <tr style=\"text-align: right;\">\n",
       "      <th></th>\n",
       "      <th></th>\n",
       "      <th>number</th>\n",
       "      <th>orbital_period</th>\n",
       "      <th>mass</th>\n",
       "      <th>distance</th>\n",
       "    </tr>\n",
       "    <tr>\n",
       "      <th>method</th>\n",
       "      <th>year</th>\n",
       "      <th></th>\n",
       "      <th></th>\n",
       "      <th></th>\n",
       "      <th></th>\n",
       "    </tr>\n",
       "  </thead>\n",
       "  <tbody>\n",
       "    <tr>\n",
       "      <th rowspan=\"2\" valign=\"top\">Astrometry</th>\n",
       "      <th>2010</th>\n",
       "      <td>1</td>\n",
       "      <td>1016.00000</td>\n",
       "      <td>NaN</td>\n",
       "      <td>14.98</td>\n",
       "    </tr>\n",
       "    <tr>\n",
       "      <th>2013</th>\n",
       "      <td>1</td>\n",
       "      <td>246.36000</td>\n",
       "      <td>NaN</td>\n",
       "      <td>20.77</td>\n",
       "    </tr>\n",
       "    <tr>\n",
       "      <th rowspan=\"3\" valign=\"top\">Eclipse Timing Variations</th>\n",
       "      <th>2008</th>\n",
       "      <td>2</td>\n",
       "      <td>5767.00000</td>\n",
       "      <td>NaN</td>\n",
       "      <td>130.72</td>\n",
       "    </tr>\n",
       "    <tr>\n",
       "      <th>2009</th>\n",
       "      <td>1</td>\n",
       "      <td>10220.00000</td>\n",
       "      <td>6.05</td>\n",
       "      <td>NaN</td>\n",
       "    </tr>\n",
       "    <tr>\n",
       "      <th>2010</th>\n",
       "      <td>2</td>\n",
       "      <td>5573.55000</td>\n",
       "      <td>NaN</td>\n",
       "      <td>500.00</td>\n",
       "    </tr>\n",
       "    <tr>\n",
       "      <th>...</th>\n",
       "      <th>...</th>\n",
       "      <td>...</td>\n",
       "      <td>...</td>\n",
       "      <td>...</td>\n",
       "      <td>...</td>\n",
       "    </tr>\n",
       "    <tr>\n",
       "      <th>Transit</th>\n",
       "      <th>2014</th>\n",
       "      <td>1</td>\n",
       "      <td>3.57532</td>\n",
       "      <td>NaN</td>\n",
       "      <td>322.00</td>\n",
       "    </tr>\n",
       "    <tr>\n",
       "      <th rowspan=\"4\" valign=\"top\">Transit Timing Variations</th>\n",
       "      <th>2011</th>\n",
       "      <td>2</td>\n",
       "      <td>160.00000</td>\n",
       "      <td>NaN</td>\n",
       "      <td>2119.00</td>\n",
       "    </tr>\n",
       "    <tr>\n",
       "      <th>2012</th>\n",
       "      <td>2</td>\n",
       "      <td>57.01100</td>\n",
       "      <td>NaN</td>\n",
       "      <td>855.00</td>\n",
       "    </tr>\n",
       "    <tr>\n",
       "      <th>2013</th>\n",
       "      <td>2</td>\n",
       "      <td>22.33950</td>\n",
       "      <td>NaN</td>\n",
       "      <td>339.00</td>\n",
       "    </tr>\n",
       "    <tr>\n",
       "      <th>2014</th>\n",
       "      <td>3</td>\n",
       "      <td>NaN</td>\n",
       "      <td>NaN</td>\n",
       "      <td>NaN</td>\n",
       "    </tr>\n",
       "  </tbody>\n",
       "</table>\n",
       "<p>69 rows × 4 columns</p>\n",
       "</div>"
      ],
      "text/plain": [
       "                                number  orbital_period  mass  distance\n",
       "method                    year                                        \n",
       "Astrometry                2010       1      1016.00000   NaN     14.98\n",
       "                          2013       1       246.36000   NaN     20.77\n",
       "Eclipse Timing Variations 2008       2      5767.00000   NaN    130.72\n",
       "                          2009       1     10220.00000  6.05       NaN\n",
       "                          2010       2      5573.55000   NaN    500.00\n",
       "...                                ...             ...   ...       ...\n",
       "Transit                   2014       1         3.57532   NaN    322.00\n",
       "Transit Timing Variations 2011       2       160.00000   NaN   2119.00\n",
       "                          2012       2        57.01100   NaN    855.00\n",
       "                          2013       2        22.33950   NaN    339.00\n",
       "                          2014       3             NaN   NaN       NaN\n",
       "\n",
       "[69 rows x 4 columns]"
      ]
     },
     "execution_count": 268,
     "metadata": {},
     "output_type": "execute_result"
    }
   ],
   "source": [
    "planets.groupby(['method','year']).first()"
   ]
  },
  {
   "cell_type": "code",
   "execution_count": null,
   "metadata": {},
   "outputs": [],
   "source": [
    "planets.groupby('method')['year'].describe()"
   ]
  },
  {
   "cell_type": "code",
   "execution_count": 269,
   "metadata": {},
   "outputs": [
    {
     "data": {
      "text/plain": [
       "       method                       \n",
       "count  Astrometry                          2.0\n",
       "       Eclipse Timing Variations           9.0\n",
       "       Imaging                            38.0\n",
       "       Microlensing                       23.0\n",
       "       Orbital Brightness Modulation       3.0\n",
       "                                         ...  \n",
       "max    Pulsar Timing                    2011.0\n",
       "       Pulsation Timing Variations      2007.0\n",
       "       Radial Velocity                  2014.0\n",
       "       Transit                          2014.0\n",
       "       Transit Timing Variations        2014.0\n",
       "Length: 80, dtype: float64"
      ]
     },
     "execution_count": 269,
     "metadata": {},
     "output_type": "execute_result"
    }
   ],
   "source": [
    "#dispatch:\n",
    "\n",
    "planets.groupby('method')['year'].describe().unstack()"
   ]
  },
  {
   "cell_type": "code",
   "execution_count": null,
   "metadata": {},
   "outputs": [],
   "source": [
    "# python commands:\n",
    "# help(i)\n",
    "sorted()"
   ]
  },
  {
   "cell_type": "markdown",
   "metadata": {},
   "source": [
    "<div class=\"alert alert-danger\">\n",
    "<b>les commandes et codes à apprendre par cœur </b></div>"
   ]
  },
  {
   "cell_type": "raw",
   "metadata": {},
   "source": [
    "STRINGS:\n",
    "    ''.replace()\n",
    "    ''.strip() ! Attention\n",
    "    ''.rstrip() ! Attention\n",
    "    ''.split()\n",
    "    ''.find()\n",
    "    ''.rfind()\n",
    "    ''.upper()\n",
    "    ''.lower()\n",
    "    ''.isdigit()\n",
    "    ''.isupper()\n",
    "    ''.islower()\n",
    "    ''.endswith()\n",
    "    ''.startswith()\n",
    "    ''.count()\n",
    "    ''.join()\n",
    "    ''.zfill()\n",
    "    https://docs.python.org/3/library/stdtypes.html\n",
    "    https://www.programiz.com/python-programming/methods/string\n",
    "    \n",
    "LIST:\n",
    "    ls.remove()\n",
    "    ls.append()\n",
    "    ls.pop\n",
    "    ls.sort()\n",
    "    ls.reverse\n",
    "    ls+ls\n",
    "    https://docs.python.org/3/library/stdtypes.html\n",
    "\n",
    "TUPLE:\n",
    "    tup+tup\n",
    "    https://docs.python.org/3/library/stdtypes.html\n",
    "\n",
    "DICTIONARY:\n",
    "    d.copy()\n",
    "    d.deepcopy()\n",
    "    d.get(cle)\n",
    "    d.pop()\n",
    "    del d[cle]\n",
    "    d.clear()\n",
    "\n",
    "COPY\n",
    "    copy.deepcopy(d)\n",
    "\n",
    "PANDAS:\n",
    "    df.loc, df.iloc, df.at\n",
    "    df.copy(deep=True)\n",
    "    df.set_index(NAME, inplace=True)\n",
    "    df.describe()\n",
    "    COMBINAISON:\n",
    "        df_A.append(df_B)\n",
    "        pandas.concat([df_A, df_B], keys=['rouge','bleue'], axis=0, sort=True)\n",
    "        df_A.merge(df_B)\n",
    "        df_A.join(df_B.set_index('name'), on='name')\n",
    "    GROUPBY:\n",
    "        df.groupby('COL').mean()\n",
    "        df.distance[df.COL=='VAL'].mean()\n",
    "        df.groupby('COL')['COL2'].describe().unstack()\n",
    "        df.groupby(['COL' , decade])['COL1'].sum().unstack().fillna(0)\n",
    "NUMPY:\n",
    "    np.reshape\n",
    "    np.newaxis\n",
    "    np.sort\n",
    "    np.argsort\n",
    "    np.concatenate\n",
    "    np.vstack\n",
    "    np.hstack\n",
    "    np.split\n",
    "    np.vsplit\n",
    "    np.hsplit\n",
    "\n",
    "   \n",
    "OPÉRATEURS:\n",
    "    == != < > <= >=\n",
    "    and or not\n",
    "    is, is not\n",
    "    in, not in\n",
    "    & |\n",
    "    astype()\n",
    "    PANDAS:\n",
    "        df[df.COL > int]\n",
    "        df.loc[df.COL > int, ['COL1', 'COL2']].head()\n",
    "        dfc[(dfc.COL>int) & (df.COL<int]\n",
    "        count, first, last, mean, median, min, max, sum, std, var, mad, prod\n",
    "        mean(), add(), sub(), substract(), mul(), multiply(), div(), divide()\n",
    "        df.COL.mean()\n",
    "        df['COL'] = df_qc['COL1'].subtract(df_qc['COL2'])\n",
    "        NAN:\n",
    "            isnull, notnull, dropna, fillna\n",
    "            isnull().values.any()\n",
    "    NUMPY:\n",
    "        np.min\n",
    "        np.max\n",
    "        np.sum\n",
    "        np.mean\n",
    "        np.std\n",
    "        np.any\n",
    "        np.all\n",
    "        np.percentile\n",
    "        np.add\n",
    "        np.subtract\n",
    "        np.negative\n",
    "        np.multiply\n",
    "        np.divide"
   ]
  },
  {
   "cell_type": "markdown",
   "metadata": {
    "slideshow": {
     "slide_type": "slide"
    }
   },
   "source": [
    "<div class=\"alert alert-danger\">\n",
    "<h3>Exercises</h3>\n",
    "</div>"
   ]
  },
  {
   "cell_type": "markdown",
   "metadata": {},
   "source": [
    "<div class=\"alert alert-success\">\n",
    "<li> Comment ajouter une variable à un tuple ?\n",
    "<li> Triez et affichez la liste\n",
    "<li> Ajoutez l’élément 12 à la liste et affichez la liste \n",
    "<li> Enlevez l’élément 38 et affichez la liste\n",
    "<li>convertir un tableau 1D en tableau 2D avec 2 lignes\n",
    "    </ul>\n",
    "</div>"
   ]
  },
  {
   "cell_type": "markdown",
   "metadata": {},
   "source": [
    "<div class=\"alert alert-success\">\n",
    "<li> Comment concaténer 2 listes ?\n",
    "<li> Comment concaténer un tuple et une liste ?\n",
    "<li> Quelles sont les commandes habituelles utilisées pour travailler avec une liste ?\n",
    "<li> Quelles sont les commandes pour travailler avec une chaîne ?\n",
    "</ul>\n",
    "</div>"
   ]
  },
  {
   "cell_type": "code",
   "execution_count": 7,
   "metadata": {},
   "outputs": [
    {
     "ename": "TypeError",
     "evalue": "list indices must be integers or slices, not str",
     "output_type": "error",
     "traceback": [
      "\u001b[1;31m---------------------------------------------------------------------------\u001b[0m",
      "\u001b[1;31mTypeError\u001b[0m                                 Traceback (most recent call last)",
      "\u001b[1;32m~\\AppData\\Local\\Temp/ipykernel_264612/651434338.py\u001b[0m in \u001b[0;36m<module>\u001b[1;34m\u001b[0m\n\u001b[0;32m      4\u001b[0m \u001b[0mlist3\u001b[0m \u001b[1;33m=\u001b[0m \u001b[1;33m(\u001b[0m\u001b[1;34m'e'\u001b[0m\u001b[1;33m,\u001b[0m\u001b[1;34m'f'\u001b[0m\u001b[1;33m,\u001b[0m\u001b[1;34m'g'\u001b[0m\u001b[1;33m,\u001b[0m\u001b[1;34m'h'\u001b[0m\u001b[1;33m)\u001b[0m\u001b[1;33m\u001b[0m\u001b[1;33m\u001b[0m\u001b[0m\n\u001b[0;32m      5\u001b[0m \u001b[1;33m\u001b[0m\u001b[0m\n\u001b[1;32m----> 6\u001b[1;33m \u001b[0mprint\u001b[0m\u001b[1;33m(\u001b[0m\u001b[0mlist1\u001b[0m\u001b[1;33m+\u001b[0m\u001b[0mlist1\u001b[0m\u001b[1;33m[\u001b[0m\u001b[1;34m'3'\u001b[0m\u001b[1;33m]\u001b[0m\u001b[1;33m)\u001b[0m\u001b[1;33m\u001b[0m\u001b[1;33m\u001b[0m\u001b[0m\n\u001b[0m\u001b[0;32m      7\u001b[0m \u001b[1;31m#print(list1[3]+list2)\u001b[0m\u001b[1;33m\u001b[0m\u001b[1;33m\u001b[0m\u001b[0m\n\u001b[0;32m      8\u001b[0m \u001b[1;31m#print(list1+list3)\u001b[0m\u001b[1;33m\u001b[0m\u001b[1;33m\u001b[0m\u001b[0m\n",
      "\u001b[1;31mTypeError\u001b[0m: list indices must be integers or slices, not str"
     ]
    }
   ],
   "source": [
    "# Trouvez l'erreur\n",
    "list1 = ['1','2','3', 4, '5', 6, 'c']\n",
    "list2 = ['a','b','c','d']\n",
    "list3 = ('e','f','g','h')\n",
    "\n",
    "print(list1+list1['3'])\n",
    "#print(list1[3]+list2)\n",
    "#print(list1+list3)"
   ]
  },
  {
   "cell_type": "code",
   "execution_count": 29,
   "metadata": {},
   "outputs": [
    {
     "data": {
      "text/plain": [
       "0       2000\n",
       "1       2000\n",
       "2       2010\n",
       "3       2000\n",
       "4       2000\n",
       "        ... \n",
       "1030    2000\n",
       "1031    2000\n",
       "1032    2000\n",
       "1033    2000\n",
       "1034    2000\n",
       "Name: year, Length: 1035, dtype: int64"
      ]
     },
     "execution_count": 29,
     "metadata": {},
     "output_type": "execute_result"
    }
   ],
   "source": [
    "planets.head()\n",
    "decade = 10 * (planets['year'] // 10)\n",
    "decade\n"
   ]
  },
  {
   "cell_type": "markdown",
   "metadata": {},
   "source": [
    "<div class=\"alert alert-success\">\n",
    "<li> Décrivez les étapes du code 'CODE GROUPBY EXERCISE'\n",
    "<li> Qu'est-ce que la fonction fillna() apportera au code final?\n",
    "</div>"
   ]
  },
  {
   "cell_type": "code",
   "execution_count": 202,
   "metadata": {},
   "outputs": [
    {
     "data": {
      "text/html": [
       "<div>\n",
       "<style scoped>\n",
       "    .dataframe tbody tr th:only-of-type {\n",
       "        vertical-align: middle;\n",
       "    }\n",
       "\n",
       "    .dataframe tbody tr th {\n",
       "        vertical-align: top;\n",
       "    }\n",
       "\n",
       "    .dataframe thead th {\n",
       "        text-align: right;\n",
       "    }\n",
       "</style>\n",
       "<table border=\"1\" class=\"dataframe\">\n",
       "  <thead>\n",
       "    <tr style=\"text-align: right;\">\n",
       "      <th>decade</th>\n",
       "      <th>1980s</th>\n",
       "      <th>1990s</th>\n",
       "      <th>2000s</th>\n",
       "      <th>2010s</th>\n",
       "    </tr>\n",
       "    <tr>\n",
       "      <th>method</th>\n",
       "      <th></th>\n",
       "      <th></th>\n",
       "      <th></th>\n",
       "      <th></th>\n",
       "    </tr>\n",
       "  </thead>\n",
       "  <tbody>\n",
       "    <tr>\n",
       "      <th>Astrometry</th>\n",
       "      <td>0.0</td>\n",
       "      <td>0.0</td>\n",
       "      <td>0.0</td>\n",
       "      <td>2.0</td>\n",
       "    </tr>\n",
       "    <tr>\n",
       "      <th>Eclipse Timing Variations</th>\n",
       "      <td>0.0</td>\n",
       "      <td>0.0</td>\n",
       "      <td>5.0</td>\n",
       "      <td>10.0</td>\n",
       "    </tr>\n",
       "    <tr>\n",
       "      <th>Imaging</th>\n",
       "      <td>0.0</td>\n",
       "      <td>0.0</td>\n",
       "      <td>29.0</td>\n",
       "      <td>21.0</td>\n",
       "    </tr>\n",
       "    <tr>\n",
       "      <th>Microlensing</th>\n",
       "      <td>0.0</td>\n",
       "      <td>0.0</td>\n",
       "      <td>12.0</td>\n",
       "      <td>15.0</td>\n",
       "    </tr>\n",
       "    <tr>\n",
       "      <th>Orbital Brightness Modulation</th>\n",
       "      <td>0.0</td>\n",
       "      <td>0.0</td>\n",
       "      <td>0.0</td>\n",
       "      <td>5.0</td>\n",
       "    </tr>\n",
       "    <tr>\n",
       "      <th>Pulsar Timing</th>\n",
       "      <td>0.0</td>\n",
       "      <td>9.0</td>\n",
       "      <td>1.0</td>\n",
       "      <td>1.0</td>\n",
       "    </tr>\n",
       "    <tr>\n",
       "      <th>Pulsation Timing Variations</th>\n",
       "      <td>0.0</td>\n",
       "      <td>0.0</td>\n",
       "      <td>1.0</td>\n",
       "      <td>0.0</td>\n",
       "    </tr>\n",
       "    <tr>\n",
       "      <th>Radial Velocity</th>\n",
       "      <td>1.0</td>\n",
       "      <td>52.0</td>\n",
       "      <td>475.0</td>\n",
       "      <td>424.0</td>\n",
       "    </tr>\n",
       "    <tr>\n",
       "      <th>Transit</th>\n",
       "      <td>0.0</td>\n",
       "      <td>0.0</td>\n",
       "      <td>64.0</td>\n",
       "      <td>712.0</td>\n",
       "    </tr>\n",
       "    <tr>\n",
       "      <th>Transit Timing Variations</th>\n",
       "      <td>0.0</td>\n",
       "      <td>0.0</td>\n",
       "      <td>0.0</td>\n",
       "      <td>9.0</td>\n",
       "    </tr>\n",
       "  </tbody>\n",
       "</table>\n",
       "</div>"
      ],
      "text/plain": [
       "decade                         1980s  1990s  2000s  2010s\n",
       "method                                                   \n",
       "Astrometry                       0.0    0.0    0.0    2.0\n",
       "Eclipse Timing Variations        0.0    0.0    5.0   10.0\n",
       "Imaging                          0.0    0.0   29.0   21.0\n",
       "Microlensing                     0.0    0.0   12.0   15.0\n",
       "Orbital Brightness Modulation    0.0    0.0    0.0    5.0\n",
       "Pulsar Timing                    0.0    9.0    1.0    1.0\n",
       "Pulsation Timing Variations      0.0    0.0    1.0    0.0\n",
       "Radial Velocity                  1.0   52.0  475.0  424.0\n",
       "Transit                          0.0    0.0   64.0  712.0\n",
       "Transit Timing Variations        0.0    0.0    0.0    9.0"
      ]
     },
     "execution_count": 202,
     "metadata": {},
     "output_type": "execute_result"
    }
   ],
   "source": [
    "# CODE GROUPBY EXERCISE\n",
    "\n",
    "decade = decade.astype(str) + 's'\n",
    "decade.name = 'decade'\n",
    "planets.groupby(['method' , decade])['number'].sum().unstack().fillna(0)"
   ]
  },
  {
   "cell_type": "code",
   "execution_count": 18,
   "metadata": {
    "slideshow": {
     "slide_type": "subslide"
    }
   },
   "outputs": [
    {
     "ename": "NameError",
     "evalue": "name 'mylist' is not defined",
     "output_type": "error",
     "traceback": [
      "\u001b[1;31m---------------------------------------------------------------------------\u001b[0m",
      "\u001b[1;31mNameError\u001b[0m                                 Traceback (most recent call last)",
      "\u001b[1;32m~\\AppData\\Local\\Temp/ipykernel_264612/1326521802.py\u001b[0m in \u001b[0;36m<module>\u001b[1;34m\u001b[0m\n\u001b[0;32m      2\u001b[0m \u001b[1;31m# à partir  des éléments ci-dessous:\u001b[0m\u001b[1;33m\u001b[0m\u001b[1;33m\u001b[0m\u001b[0m\n\u001b[0;32m      3\u001b[0m \u001b[1;33m\u001b[0m\u001b[0m\n\u001b[1;32m----> 4\u001b[1;33m \u001b[0mmydict\u001b[0m \u001b[1;33m=\u001b[0m \u001b[0mdict\u001b[0m\u001b[1;33m(\u001b[0m\u001b[0mzip\u001b[0m\u001b[1;33m(\u001b[0m\u001b[0mmylist\u001b[0m\u001b[1;33m,\u001b[0m \u001b[0mmyarr\u001b[0m\u001b[1;33m)\u001b[0m\u001b[1;33m)\u001b[0m\u001b[1;33m\u001b[0m\u001b[1;33m\u001b[0m\u001b[0m\n\u001b[0m",
      "\u001b[1;31mNameError\u001b[0m: name 'mylist' is not defined"
     ]
    }
   ],
   "source": [
    "# Créez un cadre de données de pandas\n",
    "# à partir  des éléments ci-dessous:\n",
    "\n",
    "mydict = dict(zip(mylist, myarr))"
   ]
  },
  {
   "cell_type": "code",
   "execution_count": 8,
   "metadata": {},
   "outputs": [],
   "source": [
    "# Combinez ls1 et dict1 pour former une base de données\n",
    "\n",
    "ls1 = list('abcedfghijklmnopqrstuvwxyz')\n",
    "dict1 = {i: [str(i)+'_'+str(i*2)] for i in range(1,len(ls1))}"
   ]
  },
  {
   "cell_type": "code",
   "execution_count": 17,
   "metadata": {},
   "outputs": [
    {
     "data": {
      "text/plain": [
       "{1: ['1_2'],\n",
       " 2: ['2_4'],\n",
       " 3: ['3_6'],\n",
       " 4: ['4_8'],\n",
       " 5: ['5_10'],\n",
       " 6: ['6_12'],\n",
       " 7: ['7_14'],\n",
       " 8: ['8_16'],\n",
       " 9: ['9_18'],\n",
       " 10: ['10_20'],\n",
       " 11: ['11_22'],\n",
       " 12: ['12_24'],\n",
       " 13: ['13_26'],\n",
       " 14: ['14_28'],\n",
       " 15: ['15_30'],\n",
       " 16: ['16_32'],\n",
       " 17: ['17_34'],\n",
       " 18: ['18_36'],\n",
       " 19: ['19_38'],\n",
       " 20: ['20_40'],\n",
       " 21: ['21_42'],\n",
       " 22: ['22_44'],\n",
       " 23: ['23_46'],\n",
       " 24: ['24_48'],\n",
       " 25: ['25_50']}"
      ]
     },
     "execution_count": 17,
     "metadata": {},
     "output_type": "execute_result"
    }
   ],
   "source": [
    "np.concatenate"
   ]
  },
  {
   "cell_type": "markdown",
   "metadata": {},
   "source": [
    "Créez un tableau numpy 3 × 3 de tous les True"
   ]
  },
  {
   "cell_type": "code",
   "execution_count": 15,
   "metadata": {},
   "outputs": [
    {
     "data": {
      "text/plain": [
       "array([[ True,  True,  True],\n",
       "       [ True,  True,  True]])"
      ]
     },
     "execution_count": 15,
     "metadata": {},
     "output_type": "execute_result"
    }
   ],
   "source": [
    "import numpy as np\n",
    "np.ones((2, 3), dtype=bool)"
   ]
  },
  {
   "cell_type": "markdown",
   "metadata": {},
   "source": [
    "obtenir les positions de 2 élèments dans un tableau numpy, où les éléments A et B correspondent"
   ]
  },
  {
   "cell_type": "markdown",
   "metadata": {},
   "source": [
    "joindre deux tableaux verticalement"
   ]
  },
  {
   "cell_type": "code",
   "execution_count": null,
   "metadata": {},
   "outputs": [],
   "source": [
    "# réponses pour la quéstion dans chapitre 2\n",
    "\n",
    "# version 1\n",
    "d1 = {'Subj_ID':['001'],'score': [16], 'group': [2], 'condition': ['cognition']}\n",
    "df_d = pandas.DataFrame(d1)\n",
    "\n",
    "# version 2\n",
    "d1 = {'Subj_ID':'001','score': 16, 'group': 2, 'condition': 'cognition'}\n",
    "df_d = pandas.DataFrame(d1, index=[0])"
   ]
  }
 ],
 "metadata": {
  "anaconda-cloud": {},
  "celltoolbar": "Slideshow",
  "kernelspec": {
   "display_name": "Python 3 (ipykernel)",
   "language": "python",
   "name": "python3"
  },
  "language_info": {
   "codemirror_mode": {
    "name": "ipython",
    "version": 3
   },
   "file_extension": ".py",
   "mimetype": "text/x-python",
   "name": "python",
   "nbconvert_exporter": "python",
   "pygments_lexer": "ipython3",
   "version": "3.10.1"
  }
 },
 "nbformat": 4,
 "nbformat_minor": 2
}
