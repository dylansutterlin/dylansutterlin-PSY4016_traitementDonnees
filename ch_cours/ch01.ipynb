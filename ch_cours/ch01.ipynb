{
 "cells": [
  {
   "cell_type": "markdown",
   "metadata": {},
   "source": [
    "<div class=\"alert alert-info\">\n",
    "\n",
    "# PSY 4016-G-H21\n",
    "# Cueillette et traitement des données en neurosciences cognitives\n",
    "## Chapitre 1: Introduction\n",
    "<p>\n",
    "<li>Le terminal / L'invite de command\n",
    "<li>Les fichiers python\n",
    "<li>Pandas\n",
    "<li>Jupyter\n",
    "<li>Python"
   ]
  },
  {
   "cell_type": "markdown",
   "metadata": {},
   "source": [
    "<div class=\"alert alert-info\">\n",
    "<h2>Le terminal (Mac/Linux). L'invite de command (Win)</h2>\n",
    "</div>"
   ]
  },
  {
   "cell_type": "raw",
   "metadata": {},
   "source": [
    "Win: win-key + R -> cmd\n",
    "     ctrl+x -> command line\n",
    "Mac: /Applications/Utilities/Terminal\n",
    "Linux: ctrl+shift+t"
   ]
  },
  {
   "cell_type": "markdown",
   "metadata": {},
   "source": [
    "Win:\n",
    "    cd C:\\\n",
    "Mac:\n",
    "    cd /\n",
    "Linus:\n",
    "    cd /"
   ]
  },
  {
   "cell_type": "markdown",
   "metadata": {},
   "source": [
    "<div class=\"alert alert-success\">\n",
    "\n",
    "<h4>Commandes: Terminal vs. Invite de commande:</h4>\n",
    "<li>changer le dossier:\n",
    "\n",
    "    cd /    cd\n",
    "\n",
    "<li>contenu du dossier:\n",
    "\n",
    "    ls /    dir\n",
    "\n",
    "<li>créer le dossier:\n",
    "\n",
    "    mkdir / mkdir\n",
    "\n",
    "<li>dossier en cours:\n",
    "\n",
    "    pwd /   echo %cd%\n",
    "</div>"
   ]
  },
  {
   "cell_type": "markdown",
   "metadata": {},
   "source": [
    "<div class=\"alert alert-info\">\n",
    "<h2>Les fichiers python</h2>\n",
    "</div>"
   ]
  },
  {
   "cell_type": "markdown",
   "metadata": {},
   "source": [
    ".py  (ouvrira le terminal)\n",
    ".pyw (sans ouvrir le terminal)"
   ]
  },
  {
   "cell_type": "markdown",
   "metadata": {},
   "source": [
    "Win:\n",
    "    > python file.py\n",
    "Mac/Linux:\n",
    "    > python file.py"
   ]
  },
  {
   "cell_type": "code",
   "execution_count": 1,
   "metadata": {},
   "outputs": [
    {
     "name": "stdout",
     "output_type": "stream",
     "text": [
      "Bonjour!\n"
     ]
    }
   ],
   "source": [
    "# python\n",
    "print(\"Bonjour!\")"
   ]
  },
  {
   "cell_type": "markdown",
   "metadata": {},
   "source": [
    "# dans le terminal:\n",
    "$nano\n",
    "\n",
    "sauvegarder: CTRL+x -> y"
   ]
  },
  {
   "cell_type": "markdown",
   "metadata": {},
   "source": [
    "<div class=\"alert alert-info\">\n",
    "<h2>Pandas</h2>\n",
    "</div>"
   ]
  },
  {
   "cell_type": "markdown",
   "metadata": {},
   "source": [
    "<div class=\"alert alert-success\">\n",
    "\n",
    "Le prétraitement des données implique plusieurs étapes :\n",
    "\n",
    "- traitements des valeurs manquantes ou invalides\n",
    "- extraire des informations utilisables de textes (string) en désordre\n",
    "- transformation / normalisation de variables et de noms de variables\n",
    "- filtrage des données redondantes ou incorrectes\n",
    "- fusion avec d'autres jeux de données\n",
    "</div>"
   ]
  },
  {
   "cell_type": "markdown",
   "metadata": {},
   "source": [
    "#### commandes pour le terminal:\n",
    "\n",
    "pip3 install pandas"
   ]
  },
  {
   "cell_type": "code",
   "execution_count": 3,
   "metadata": {},
   "outputs": [],
   "source": [
    "import pandas"
   ]
  },
  {
   "cell_type": "code",
   "execution_count": 4,
   "metadata": {},
   "outputs": [
    {
     "data": {
      "text/plain": [
       "'1.3.5'"
      ]
     },
     "execution_count": 4,
     "metadata": {},
     "output_type": "execute_result"
    }
   ],
   "source": [
    "pandas.__version__"
   ]
  },
  {
   "cell_type": "markdown",
   "metadata": {
    "slideshow": {
     "slide_type": "subslide"
    }
   },
   "source": [
    "## <div class=\"alert alert-success\">\n",
    "\n",
    "Méthodes de lecture des fichiers:\n",
    "\n",
    "- read_table(); pour le texte générique délimité\n",
    "- read_excel(); pour les fichiers Excel (.xls/ .xslx)\n",
    "- read_csv(); pour les fichiers .csv/ .tsv\n",
    "- read_json(); pour les fichiers JSON\n",
    "- read_sql(); pour les bases de données SQL\n",
    "- read_stata(); pour les fichiers Stata\n",
    "- read_sas(); pour les fichiers SAS\n",
    "</div>"
   ]
  },
  {
   "cell_type": "code",
   "execution_count": 5,
   "metadata": {},
   "outputs": [],
   "source": [
    "# pandas accepte les URL en plus des fichiers locaux\n",
    "df = pandas.read_json('https://data.seattle.gov/resource/frxe-s3us.json')"
   ]
  },
  {
   "cell_type": "code",
   "execution_count": 4,
   "metadata": {},
   "outputs": [],
   "source": [
    "url = 'https://data.seattle.gov/resource/frxe-s3us.json'\n",
    "\n",
    "df = pandas.read_json(url)"
   ]
  },
  {
   "cell_type": "code",
   "execution_count": 7,
   "metadata": {},
   "outputs": [
    {
     "data": {
      "text/html": [
       "<div>\n",
       "<style scoped>\n",
       "    .dataframe tbody tr th:only-of-type {\n",
       "        vertical-align: middle;\n",
       "    }\n",
       "\n",
       "    .dataframe tbody tr th {\n",
       "        vertical-align: top;\n",
       "    }\n",
       "\n",
       "    .dataframe thead th {\n",
       "        text-align: right;\n",
       "    }\n",
       "</style>\n",
       "<table border=\"1\" class=\"dataframe\">\n",
       "  <thead>\n",
       "    <tr style=\"text-align: right;\">\n",
       "      <th></th>\n",
       "      <th>department</th>\n",
       "      <th>bcl</th>\n",
       "      <th>program</th>\n",
       "      <th>_2013_adopted</th>\n",
       "      <th>_2014_endorsed</th>\n",
       "      <th>_2014_proposed</th>\n",
       "      <th>_2012_actual</th>\n",
       "    </tr>\n",
       "  </thead>\n",
       "  <tbody>\n",
       "    <tr>\n",
       "      <th>0</th>\n",
       "      <td>12LIBLEVY</td>\n",
       "      <td>Library Levy Operating Transfer</td>\n",
       "      <td>Library Levy Operating Transfer</td>\n",
       "      <td>13049781.0</td>\n",
       "      <td>12658704.0</td>\n",
       "      <td>12658704.0</td>\n",
       "      <td>NaN</td>\n",
       "    </tr>\n",
       "    <tr>\n",
       "      <th>1</th>\n",
       "      <td>ARTS</td>\n",
       "      <td>Arts Account</td>\n",
       "      <td>Administrative Services</td>\n",
       "      <td>400683.0</td>\n",
       "      <td>411913.0</td>\n",
       "      <td>587579.0</td>\n",
       "      <td>409133.0</td>\n",
       "    </tr>\n",
       "    <tr>\n",
       "      <th>2</th>\n",
       "      <td>ARTS</td>\n",
       "      <td>Arts Account</td>\n",
       "      <td>Community Development and Outreach</td>\n",
       "      <td>518398.0</td>\n",
       "      <td>534369.0</td>\n",
       "      <td>524770.0</td>\n",
       "      <td>1721308.0</td>\n",
       "    </tr>\n",
       "    <tr>\n",
       "      <th>3</th>\n",
       "      <td>ARTS</td>\n",
       "      <td>Arts Account</td>\n",
       "      <td>Cultural Partnerships</td>\n",
       "      <td>3030729.0</td>\n",
       "      <td>3005137.0</td>\n",
       "      <td>3440764.0</td>\n",
       "      <td>2502448.0</td>\n",
       "    </tr>\n",
       "    <tr>\n",
       "      <th>4</th>\n",
       "      <td>ARTS</td>\n",
       "      <td>Arts Account</td>\n",
       "      <td>Langston Hughes Performing Arts Institute</td>\n",
       "      <td>745698.0</td>\n",
       "      <td>778669.0</td>\n",
       "      <td>809180.0</td>\n",
       "      <td>NaN</td>\n",
       "    </tr>\n",
       "    <tr>\n",
       "      <th>...</th>\n",
       "      <td>...</td>\n",
       "      <td>...</td>\n",
       "      <td>...</td>\n",
       "      <td>...</td>\n",
       "      <td>...</td>\n",
       "      <td>...</td>\n",
       "      <td>...</td>\n",
       "    </tr>\n",
       "    <tr>\n",
       "      <th>475</th>\n",
       "      <td>SPU</td>\n",
       "      <td>Watershed Stewardship</td>\n",
       "      <td>Watershed Stewardship</td>\n",
       "      <td>3000.0</td>\n",
       "      <td>1999.0</td>\n",
       "      <td>227000.0</td>\n",
       "      <td>1169111.0</td>\n",
       "    </tr>\n",
       "    <tr>\n",
       "      <th>476</th>\n",
       "      <td>STCAR</td>\n",
       "      <td>Streetcar Operations</td>\n",
       "      <td>Streetcar Operations</td>\n",
       "      <td>730935.0</td>\n",
       "      <td>5736749.0</td>\n",
       "      <td>5736611.0</td>\n",
       "      <td>670732.0</td>\n",
       "    </tr>\n",
       "    <tr>\n",
       "      <th>477</th>\n",
       "      <td>SZF</td>\n",
       "      <td>Camera Operations, Administration, and Enforce...</td>\n",
       "      <td>Camera Operations, Administration, and Enforce...</td>\n",
       "      <td>NaN</td>\n",
       "      <td>NaN</td>\n",
       "      <td>1530586.0</td>\n",
       "      <td>NaN</td>\n",
       "    </tr>\n",
       "    <tr>\n",
       "      <th>478</th>\n",
       "      <td>SZF</td>\n",
       "      <td>School Safety Education and Outreach, Infrastr...</td>\n",
       "      <td>Capital Improvements</td>\n",
       "      <td>NaN</td>\n",
       "      <td>NaN</td>\n",
       "      <td>6599000.0</td>\n",
       "      <td>NaN</td>\n",
       "    </tr>\n",
       "    <tr>\n",
       "      <th>479</th>\n",
       "      <td>NaN</td>\n",
       "      <td>NaN</td>\n",
       "      <td>Non-Capital Operations and Maintenance</td>\n",
       "      <td>NaN</td>\n",
       "      <td>NaN</td>\n",
       "      <td>489500.0</td>\n",
       "      <td>NaN</td>\n",
       "    </tr>\n",
       "  </tbody>\n",
       "</table>\n",
       "<p>480 rows × 7 columns</p>\n",
       "</div>"
      ],
      "text/plain": [
       "    department                                                bcl  \\\n",
       "0    12LIBLEVY                    Library Levy Operating Transfer   \n",
       "1         ARTS                                       Arts Account   \n",
       "2         ARTS                                       Arts Account   \n",
       "3         ARTS                                       Arts Account   \n",
       "4         ARTS                                       Arts Account   \n",
       "..         ...                                                ...   \n",
       "475        SPU                              Watershed Stewardship   \n",
       "476      STCAR                               Streetcar Operations   \n",
       "477        SZF  Camera Operations, Administration, and Enforce...   \n",
       "478        SZF  School Safety Education and Outreach, Infrastr...   \n",
       "479        NaN                                                NaN   \n",
       "\n",
       "                                               program  _2013_adopted  \\\n",
       "0                      Library Levy Operating Transfer     13049781.0   \n",
       "1                              Administrative Services       400683.0   \n",
       "2                   Community Development and Outreach       518398.0   \n",
       "3                                Cultural Partnerships      3030729.0   \n",
       "4            Langston Hughes Performing Arts Institute       745698.0   \n",
       "..                                                 ...            ...   \n",
       "475                              Watershed Stewardship         3000.0   \n",
       "476                               Streetcar Operations       730935.0   \n",
       "477  Camera Operations, Administration, and Enforce...            NaN   \n",
       "478                               Capital Improvements            NaN   \n",
       "479             Non-Capital Operations and Maintenance            NaN   \n",
       "\n",
       "     _2014_endorsed  _2014_proposed  _2012_actual  \n",
       "0        12658704.0      12658704.0           NaN  \n",
       "1          411913.0        587579.0      409133.0  \n",
       "2          534369.0        524770.0     1721308.0  \n",
       "3         3005137.0       3440764.0     2502448.0  \n",
       "4          778669.0        809180.0           NaN  \n",
       "..              ...             ...           ...  \n",
       "475          1999.0        227000.0     1169111.0  \n",
       "476       5736749.0       5736611.0      670732.0  \n",
       "477             NaN       1530586.0           NaN  \n",
       "478             NaN       6599000.0           NaN  \n",
       "479             NaN        489500.0           NaN  \n",
       "\n",
       "[480 rows x 7 columns]"
      ]
     },
     "execution_count": 7,
     "metadata": {},
     "output_type": "execute_result"
    }
   ],
   "source": [
    "df"
   ]
  },
  {
   "cell_type": "markdown",
   "metadata": {},
   "source": [
    "<div class=\"alert alert-success\">\n",
    "\n",
    "Cadres de données (DataFrames):\n",
    "\n",
    "- Un conteneur de plusieurs séries alignées\n",
    "- Hétérogène - peut avoir plusieurs types de données différents\n",
    "- La méthode principale d'analyse de données via pandas\n",
    "</div>"
   ]
  },
  {
   "cell_type": "code",
   "execution_count": 11,
   "metadata": {},
   "outputs": [
    {
     "ename": "FileNotFoundError",
     "evalue": "[Errno 2] No such file or directory: '\\\\Dylan\\\\Downloads\\tmp.csv'",
     "output_type": "error",
     "traceback": [
      "\u001b[1;31m---------------------------------------------------------------------------\u001b[0m",
      "\u001b[1;31mFileNotFoundError\u001b[0m                         Traceback (most recent call last)",
      "\u001b[1;32m~\\AppData\\Local\\Temp/ipykernel_20552/4267533040.py\u001b[0m in \u001b[0;36m<module>\u001b[1;34m\u001b[0m\n\u001b[0;32m      1\u001b[0m \u001b[1;31m#df.to_csv(\"C:///Desktop/tmp.csv\") #Windows\u001b[0m\u001b[1;33m\u001b[0m\u001b[1;33m\u001b[0m\u001b[0m\n\u001b[1;32m----> 2\u001b[1;33m \u001b[0mdf\u001b[0m\u001b[1;33m.\u001b[0m\u001b[0mto_csv\u001b[0m\u001b[1;33m(\u001b[0m\u001b[1;34m\"\\Dylan\\Downloads\\tmp.csv\"\u001b[0m\u001b[1;33m)\u001b[0m \u001b[1;31m#Mac\u001b[0m\u001b[1;33m\u001b[0m\u001b[1;33m\u001b[0m\u001b[0m\n\u001b[0m",
      "\u001b[1;32m~\\AppData\\Local\\Programs\\Python\\Python310\\lib\\site-packages\\pandas\\core\\generic.py\u001b[0m in \u001b[0;36mto_csv\u001b[1;34m(self, path_or_buf, sep, na_rep, float_format, columns, header, index, index_label, mode, encoding, compression, quoting, quotechar, line_terminator, chunksize, date_format, doublequote, escapechar, decimal, errors, storage_options)\u001b[0m\n\u001b[0;32m   3464\u001b[0m         )\n\u001b[0;32m   3465\u001b[0m \u001b[1;33m\u001b[0m\u001b[0m\n\u001b[1;32m-> 3466\u001b[1;33m         return DataFrameRenderer(formatter).to_csv(\n\u001b[0m\u001b[0;32m   3467\u001b[0m             \u001b[0mpath_or_buf\u001b[0m\u001b[1;33m,\u001b[0m\u001b[1;33m\u001b[0m\u001b[1;33m\u001b[0m\u001b[0m\n\u001b[0;32m   3468\u001b[0m             \u001b[0mline_terminator\u001b[0m\u001b[1;33m=\u001b[0m\u001b[0mline_terminator\u001b[0m\u001b[1;33m,\u001b[0m\u001b[1;33m\u001b[0m\u001b[1;33m\u001b[0m\u001b[0m\n",
      "\u001b[1;32m~\\AppData\\Local\\Programs\\Python\\Python310\\lib\\site-packages\\pandas\\io\\formats\\format.py\u001b[0m in \u001b[0;36mto_csv\u001b[1;34m(self, path_or_buf, encoding, sep, columns, index_label, mode, compression, quoting, quotechar, line_terminator, chunksize, date_format, doublequote, escapechar, errors, storage_options)\u001b[0m\n\u001b[0;32m   1103\u001b[0m             \u001b[0mformatter\u001b[0m\u001b[1;33m=\u001b[0m\u001b[0mself\u001b[0m\u001b[1;33m.\u001b[0m\u001b[0mfmt\u001b[0m\u001b[1;33m,\u001b[0m\u001b[1;33m\u001b[0m\u001b[1;33m\u001b[0m\u001b[0m\n\u001b[0;32m   1104\u001b[0m         )\n\u001b[1;32m-> 1105\u001b[1;33m         \u001b[0mcsv_formatter\u001b[0m\u001b[1;33m.\u001b[0m\u001b[0msave\u001b[0m\u001b[1;33m(\u001b[0m\u001b[1;33m)\u001b[0m\u001b[1;33m\u001b[0m\u001b[1;33m\u001b[0m\u001b[0m\n\u001b[0m\u001b[0;32m   1106\u001b[0m \u001b[1;33m\u001b[0m\u001b[0m\n\u001b[0;32m   1107\u001b[0m         \u001b[1;32mif\u001b[0m \u001b[0mcreated_buffer\u001b[0m\u001b[1;33m:\u001b[0m\u001b[1;33m\u001b[0m\u001b[1;33m\u001b[0m\u001b[0m\n",
      "\u001b[1;32m~\\AppData\\Local\\Programs\\Python\\Python310\\lib\\site-packages\\pandas\\io\\formats\\csvs.py\u001b[0m in \u001b[0;36msave\u001b[1;34m(self)\u001b[0m\n\u001b[0;32m    235\u001b[0m         \"\"\"\n\u001b[0;32m    236\u001b[0m         \u001b[1;31m# apply compression and byte/text conversion\u001b[0m\u001b[1;33m\u001b[0m\u001b[1;33m\u001b[0m\u001b[0m\n\u001b[1;32m--> 237\u001b[1;33m         with get_handle(\n\u001b[0m\u001b[0;32m    238\u001b[0m             \u001b[0mself\u001b[0m\u001b[1;33m.\u001b[0m\u001b[0mfilepath_or_buffer\u001b[0m\u001b[1;33m,\u001b[0m\u001b[1;33m\u001b[0m\u001b[1;33m\u001b[0m\u001b[0m\n\u001b[0;32m    239\u001b[0m             \u001b[0mself\u001b[0m\u001b[1;33m.\u001b[0m\u001b[0mmode\u001b[0m\u001b[1;33m,\u001b[0m\u001b[1;33m\u001b[0m\u001b[1;33m\u001b[0m\u001b[0m\n",
      "\u001b[1;32m~\\AppData\\Local\\Programs\\Python\\Python310\\lib\\site-packages\\pandas\\io\\common.py\u001b[0m in \u001b[0;36mget_handle\u001b[1;34m(path_or_buf, mode, encoding, compression, memory_map, is_text, errors, storage_options)\u001b[0m\n\u001b[0;32m    700\u001b[0m         \u001b[1;32mif\u001b[0m \u001b[0mioargs\u001b[0m\u001b[1;33m.\u001b[0m\u001b[0mencoding\u001b[0m \u001b[1;32mand\u001b[0m \u001b[1;34m\"b\"\u001b[0m \u001b[1;32mnot\u001b[0m \u001b[1;32min\u001b[0m \u001b[0mioargs\u001b[0m\u001b[1;33m.\u001b[0m\u001b[0mmode\u001b[0m\u001b[1;33m:\u001b[0m\u001b[1;33m\u001b[0m\u001b[1;33m\u001b[0m\u001b[0m\n\u001b[0;32m    701\u001b[0m             \u001b[1;31m# Encoding\u001b[0m\u001b[1;33m\u001b[0m\u001b[1;33m\u001b[0m\u001b[0m\n\u001b[1;32m--> 702\u001b[1;33m             handle = open(\n\u001b[0m\u001b[0;32m    703\u001b[0m                 \u001b[0mhandle\u001b[0m\u001b[1;33m,\u001b[0m\u001b[1;33m\u001b[0m\u001b[1;33m\u001b[0m\u001b[0m\n\u001b[0;32m    704\u001b[0m                 \u001b[0mioargs\u001b[0m\u001b[1;33m.\u001b[0m\u001b[0mmode\u001b[0m\u001b[1;33m,\u001b[0m\u001b[1;33m\u001b[0m\u001b[1;33m\u001b[0m\u001b[0m\n",
      "\u001b[1;31mFileNotFoundError\u001b[0m: [Errno 2] No such file or directory: '\\\\Dylan\\\\Downloads\\tmp.csv'"
     ]
    }
   ],
   "source": [
    "#df.to_csv(\"C:///Desktop/tmp.csv\") #Windows\n",
    "df.to_csv(\"\\Dylan\\Downloads\\tmp.csv\") #Mac"
   ]
  },
  {
   "cell_type": "code",
   "execution_count": 12,
   "metadata": {},
   "outputs": [
    {
     "ename": "ModuleNotFoundError",
     "evalue": "No module named 'openpyxl'",
     "output_type": "error",
     "traceback": [
      "\u001b[1;31m---------------------------------------------------------------------------\u001b[0m",
      "\u001b[1;31mModuleNotFoundError\u001b[0m                       Traceback (most recent call last)",
      "\u001b[1;32m~\\AppData\\Local\\Temp/ipykernel_20552/3147627843.py\u001b[0m in \u001b[0;36m<module>\u001b[1;34m\u001b[0m\n\u001b[1;32m----> 1\u001b[1;33m \u001b[0mdf\u001b[0m\u001b[1;33m.\u001b[0m\u001b[0mto_excel\u001b[0m\u001b[1;33m(\u001b[0m\u001b[1;34m'C://dylan/Desktop/dylan.xlsx'\u001b[0m\u001b[1;33m,\u001b[0m \u001b[0mengine\u001b[0m\u001b[1;33m=\u001b[0m\u001b[1;34m'openpyxl'\u001b[0m\u001b[1;33m)\u001b[0m\u001b[1;33m\u001b[0m\u001b[1;33m\u001b[0m\u001b[0m\n\u001b[0m",
      "\u001b[1;32m~\\AppData\\Local\\Programs\\Python\\Python310\\lib\\site-packages\\pandas\\core\\generic.py\u001b[0m in \u001b[0;36mto_excel\u001b[1;34m(self, excel_writer, sheet_name, na_rep, float_format, columns, header, index, index_label, startrow, startcol, engine, merge_cells, encoding, inf_rep, verbose, freeze_panes, storage_options)\u001b[0m\n\u001b[0;32m   2282\u001b[0m             \u001b[0minf_rep\u001b[0m\u001b[1;33m=\u001b[0m\u001b[0minf_rep\u001b[0m\u001b[1;33m,\u001b[0m\u001b[1;33m\u001b[0m\u001b[1;33m\u001b[0m\u001b[0m\n\u001b[0;32m   2283\u001b[0m         )\n\u001b[1;32m-> 2284\u001b[1;33m         formatter.write(\n\u001b[0m\u001b[0;32m   2285\u001b[0m             \u001b[0mexcel_writer\u001b[0m\u001b[1;33m,\u001b[0m\u001b[1;33m\u001b[0m\u001b[1;33m\u001b[0m\u001b[0m\n\u001b[0;32m   2286\u001b[0m             \u001b[0msheet_name\u001b[0m\u001b[1;33m=\u001b[0m\u001b[0msheet_name\u001b[0m\u001b[1;33m,\u001b[0m\u001b[1;33m\u001b[0m\u001b[1;33m\u001b[0m\u001b[0m\n",
      "\u001b[1;32m~\\AppData\\Local\\Programs\\Python\\Python310\\lib\\site-packages\\pandas\\io\\formats\\excel.py\u001b[0m in \u001b[0;36mwrite\u001b[1;34m(self, writer, sheet_name, startrow, startcol, freeze_panes, engine, storage_options)\u001b[0m\n\u001b[0;32m    832\u001b[0m             \u001b[1;31m# error: Cannot instantiate abstract class 'ExcelWriter' with abstract\u001b[0m\u001b[1;33m\u001b[0m\u001b[1;33m\u001b[0m\u001b[0m\n\u001b[0;32m    833\u001b[0m             \u001b[1;31m# attributes 'engine', 'save', 'supported_extensions' and 'write_cells'\u001b[0m\u001b[1;33m\u001b[0m\u001b[1;33m\u001b[0m\u001b[0m\n\u001b[1;32m--> 834\u001b[1;33m             writer = ExcelWriter(  # type: ignore[abstract]\n\u001b[0m\u001b[0;32m    835\u001b[0m                 \u001b[0mwriter\u001b[0m\u001b[1;33m,\u001b[0m \u001b[0mengine\u001b[0m\u001b[1;33m=\u001b[0m\u001b[0mengine\u001b[0m\u001b[1;33m,\u001b[0m \u001b[0mstorage_options\u001b[0m\u001b[1;33m=\u001b[0m\u001b[0mstorage_options\u001b[0m\u001b[1;33m\u001b[0m\u001b[1;33m\u001b[0m\u001b[0m\n\u001b[0;32m    836\u001b[0m             )\n",
      "\u001b[1;32m~\\AppData\\Local\\Programs\\Python\\Python310\\lib\\site-packages\\pandas\\io\\excel\\_openpyxl.py\u001b[0m in \u001b[0;36m__init__\u001b[1;34m(self, path, engine, date_format, datetime_format, mode, storage_options, if_sheet_exists, engine_kwargs, **kwargs)\u001b[0m\n\u001b[0;32m     46\u001b[0m     ):\n\u001b[0;32m     47\u001b[0m         \u001b[1;31m# Use the openpyxl module as the Excel writer.\u001b[0m\u001b[1;33m\u001b[0m\u001b[1;33m\u001b[0m\u001b[0m\n\u001b[1;32m---> 48\u001b[1;33m         \u001b[1;32mfrom\u001b[0m \u001b[0mopenpyxl\u001b[0m\u001b[1;33m.\u001b[0m\u001b[0mworkbook\u001b[0m \u001b[1;32mimport\u001b[0m \u001b[0mWorkbook\u001b[0m\u001b[1;33m\u001b[0m\u001b[1;33m\u001b[0m\u001b[0m\n\u001b[0m\u001b[0;32m     49\u001b[0m \u001b[1;33m\u001b[0m\u001b[0m\n\u001b[0;32m     50\u001b[0m         \u001b[0mengine_kwargs\u001b[0m \u001b[1;33m=\u001b[0m \u001b[0mcombine_kwargs\u001b[0m\u001b[1;33m(\u001b[0m\u001b[0mengine_kwargs\u001b[0m\u001b[1;33m,\u001b[0m \u001b[0mkwargs\u001b[0m\u001b[1;33m)\u001b[0m\u001b[1;33m\u001b[0m\u001b[1;33m\u001b[0m\u001b[0m\n",
      "\u001b[1;31mModuleNotFoundError\u001b[0m: No module named 'openpyxl'"
     ]
    }
   ],
   "source": [
    "df.to_excel('C://dylan/Desktop/dylan.xlsx', engine='openpyxl')"
   ]
  },
  {
   "cell_type": "markdown",
   "metadata": {},
   "source": [
    "<div class=\"alert alert-success\">\n",
    "\n",
    "Méthodes d'enregistrement :\n",
    "\n",
    "- to_csv(); pour les fichers csv\n",
    "- to_excel(); pour les fichiers Excel\n",
    "- to_json(); pour les fichiers json\n",
    "- to_pickle(); pour les fichiers pkl\n",
    "- to_feathure(); pour les fichiers ft (très vite)\n",
    "- to_stata(); pour les fichiers Stata\n",
    "</div>"
   ]
  },
  {
   "cell_type": "code",
   "execution_count": 13,
   "metadata": {},
   "outputs": [
    {
     "data": {
      "text/html": [
       "<div>\n",
       "<style scoped>\n",
       "    .dataframe tbody tr th:only-of-type {\n",
       "        vertical-align: middle;\n",
       "    }\n",
       "\n",
       "    .dataframe tbody tr th {\n",
       "        vertical-align: top;\n",
       "    }\n",
       "\n",
       "    .dataframe thead th {\n",
       "        text-align: right;\n",
       "    }\n",
       "</style>\n",
       "<table border=\"1\" class=\"dataframe\">\n",
       "  <thead>\n",
       "    <tr style=\"text-align: right;\">\n",
       "      <th></th>\n",
       "      <th>department</th>\n",
       "      <th>bcl</th>\n",
       "      <th>program</th>\n",
       "      <th>_2013_adopted</th>\n",
       "      <th>_2014_endorsed</th>\n",
       "      <th>_2014_proposed</th>\n",
       "      <th>_2012_actual</th>\n",
       "    </tr>\n",
       "  </thead>\n",
       "  <tbody>\n",
       "    <tr>\n",
       "      <th>0</th>\n",
       "      <td>12LIBLEVY</td>\n",
       "      <td>Library Levy Operating Transfer</td>\n",
       "      <td>Library Levy Operating Transfer</td>\n",
       "      <td>13049781.0</td>\n",
       "      <td>12658704.0</td>\n",
       "      <td>12658704.0</td>\n",
       "      <td>NaN</td>\n",
       "    </tr>\n",
       "    <tr>\n",
       "      <th>1</th>\n",
       "      <td>ARTS</td>\n",
       "      <td>Arts Account</td>\n",
       "      <td>Administrative Services</td>\n",
       "      <td>400683.0</td>\n",
       "      <td>411913.0</td>\n",
       "      <td>587579.0</td>\n",
       "      <td>409133.0</td>\n",
       "    </tr>\n",
       "    <tr>\n",
       "      <th>2</th>\n",
       "      <td>ARTS</td>\n",
       "      <td>Arts Account</td>\n",
       "      <td>Community Development and Outreach</td>\n",
       "      <td>518398.0</td>\n",
       "      <td>534369.0</td>\n",
       "      <td>524770.0</td>\n",
       "      <td>1721308.0</td>\n",
       "    </tr>\n",
       "    <tr>\n",
       "      <th>3</th>\n",
       "      <td>ARTS</td>\n",
       "      <td>Arts Account</td>\n",
       "      <td>Cultural Partnerships</td>\n",
       "      <td>3030729.0</td>\n",
       "      <td>3005137.0</td>\n",
       "      <td>3440764.0</td>\n",
       "      <td>2502448.0</td>\n",
       "    </tr>\n",
       "    <tr>\n",
       "      <th>4</th>\n",
       "      <td>ARTS</td>\n",
       "      <td>Arts Account</td>\n",
       "      <td>Langston Hughes Performing Arts Institute</td>\n",
       "      <td>745698.0</td>\n",
       "      <td>778669.0</td>\n",
       "      <td>809180.0</td>\n",
       "      <td>NaN</td>\n",
       "    </tr>\n",
       "    <tr>\n",
       "      <th>...</th>\n",
       "      <td>...</td>\n",
       "      <td>...</td>\n",
       "      <td>...</td>\n",
       "      <td>...</td>\n",
       "      <td>...</td>\n",
       "      <td>...</td>\n",
       "      <td>...</td>\n",
       "    </tr>\n",
       "    <tr>\n",
       "      <th>475</th>\n",
       "      <td>SPU</td>\n",
       "      <td>Watershed Stewardship</td>\n",
       "      <td>Watershed Stewardship</td>\n",
       "      <td>3000.0</td>\n",
       "      <td>1999.0</td>\n",
       "      <td>227000.0</td>\n",
       "      <td>1169111.0</td>\n",
       "    </tr>\n",
       "    <tr>\n",
       "      <th>476</th>\n",
       "      <td>STCAR</td>\n",
       "      <td>Streetcar Operations</td>\n",
       "      <td>Streetcar Operations</td>\n",
       "      <td>730935.0</td>\n",
       "      <td>5736749.0</td>\n",
       "      <td>5736611.0</td>\n",
       "      <td>670732.0</td>\n",
       "    </tr>\n",
       "    <tr>\n",
       "      <th>477</th>\n",
       "      <td>SZF</td>\n",
       "      <td>Camera Operations, Administration, and Enforce...</td>\n",
       "      <td>Camera Operations, Administration, and Enforce...</td>\n",
       "      <td>NaN</td>\n",
       "      <td>NaN</td>\n",
       "      <td>1530586.0</td>\n",
       "      <td>NaN</td>\n",
       "    </tr>\n",
       "    <tr>\n",
       "      <th>478</th>\n",
       "      <td>SZF</td>\n",
       "      <td>School Safety Education and Outreach, Infrastr...</td>\n",
       "      <td>Capital Improvements</td>\n",
       "      <td>NaN</td>\n",
       "      <td>NaN</td>\n",
       "      <td>6599000.0</td>\n",
       "      <td>NaN</td>\n",
       "    </tr>\n",
       "    <tr>\n",
       "      <th>479</th>\n",
       "      <td>NaN</td>\n",
       "      <td>NaN</td>\n",
       "      <td>Non-Capital Operations and Maintenance</td>\n",
       "      <td>NaN</td>\n",
       "      <td>NaN</td>\n",
       "      <td>489500.0</td>\n",
       "      <td>NaN</td>\n",
       "    </tr>\n",
       "  </tbody>\n",
       "</table>\n",
       "<p>480 rows × 7 columns</p>\n",
       "</div>"
      ],
      "text/plain": [
       "    department                                                bcl  \\\n",
       "0    12LIBLEVY                    Library Levy Operating Transfer   \n",
       "1         ARTS                                       Arts Account   \n",
       "2         ARTS                                       Arts Account   \n",
       "3         ARTS                                       Arts Account   \n",
       "4         ARTS                                       Arts Account   \n",
       "..         ...                                                ...   \n",
       "475        SPU                              Watershed Stewardship   \n",
       "476      STCAR                               Streetcar Operations   \n",
       "477        SZF  Camera Operations, Administration, and Enforce...   \n",
       "478        SZF  School Safety Education and Outreach, Infrastr...   \n",
       "479        NaN                                                NaN   \n",
       "\n",
       "                                               program  _2013_adopted  \\\n",
       "0                      Library Levy Operating Transfer     13049781.0   \n",
       "1                              Administrative Services       400683.0   \n",
       "2                   Community Development and Outreach       518398.0   \n",
       "3                                Cultural Partnerships      3030729.0   \n",
       "4            Langston Hughes Performing Arts Institute       745698.0   \n",
       "..                                                 ...            ...   \n",
       "475                              Watershed Stewardship         3000.0   \n",
       "476                               Streetcar Operations       730935.0   \n",
       "477  Camera Operations, Administration, and Enforce...            NaN   \n",
       "478                               Capital Improvements            NaN   \n",
       "479             Non-Capital Operations and Maintenance            NaN   \n",
       "\n",
       "     _2014_endorsed  _2014_proposed  _2012_actual  \n",
       "0        12658704.0      12658704.0           NaN  \n",
       "1          411913.0        587579.0      409133.0  \n",
       "2          534369.0        524770.0     1721308.0  \n",
       "3         3005137.0       3440764.0     2502448.0  \n",
       "4          778669.0        809180.0           NaN  \n",
       "..              ...             ...           ...  \n",
       "475          1999.0        227000.0     1169111.0  \n",
       "476       5736749.0       5736611.0      670732.0  \n",
       "477             NaN       1530586.0           NaN  \n",
       "478             NaN       6599000.0           NaN  \n",
       "479             NaN        489500.0           NaN  \n",
       "\n",
       "[480 rows x 7 columns]"
      ]
     },
     "execution_count": 13,
     "metadata": {},
     "output_type": "execute_result"
    }
   ],
   "source": [
    "df"
   ]
  },
  {
   "cell_type": "code",
   "execution_count": 8,
   "metadata": {},
   "outputs": [],
   "source": [
    "\n",
    "fichier = pandas.read_csv(r\"C:\\Users\\Dylan\\Downloads\\proj_infra_rechr_approu_20210423.csv\")\n"
   ]
  },
  {
   "cell_type": "code",
   "execution_count": null,
   "metadata": {},
   "outputs": [],
   "source": [
    "fichier.spl"
   ]
  },
  {
   "cell_type": "code",
   "execution_count": 19,
   "metadata": {},
   "outputs": [
    {
     "ename": "KeyError",
     "evalue": "1",
     "output_type": "error",
     "traceback": [
      "\u001b[1;31m---------------------------------------------------------------------------\u001b[0m",
      "\u001b[1;31mKeyError\u001b[0m                                  Traceback (most recent call last)",
      "\u001b[1;32m~\\AppData\\Local\\Programs\\Python\\Python310\\lib\\site-packages\\pandas\\core\\indexes\\base.py\u001b[0m in \u001b[0;36mget_loc\u001b[1;34m(self, key, method, tolerance)\u001b[0m\n\u001b[0;32m   3360\u001b[0m             \u001b[1;32mtry\u001b[0m\u001b[1;33m:\u001b[0m\u001b[1;33m\u001b[0m\u001b[1;33m\u001b[0m\u001b[0m\n\u001b[1;32m-> 3361\u001b[1;33m                 \u001b[1;32mreturn\u001b[0m \u001b[0mself\u001b[0m\u001b[1;33m.\u001b[0m\u001b[0m_engine\u001b[0m\u001b[1;33m.\u001b[0m\u001b[0mget_loc\u001b[0m\u001b[1;33m(\u001b[0m\u001b[0mcasted_key\u001b[0m\u001b[1;33m)\u001b[0m\u001b[1;33m\u001b[0m\u001b[1;33m\u001b[0m\u001b[0m\n\u001b[0m\u001b[0;32m   3362\u001b[0m             \u001b[1;32mexcept\u001b[0m \u001b[0mKeyError\u001b[0m \u001b[1;32mas\u001b[0m \u001b[0merr\u001b[0m\u001b[1;33m:\u001b[0m\u001b[1;33m\u001b[0m\u001b[1;33m\u001b[0m\u001b[0m\n",
      "\u001b[1;32m~\\AppData\\Local\\Programs\\Python\\Python310\\lib\\site-packages\\pandas\\_libs\\index.pyx\u001b[0m in \u001b[0;36mpandas._libs.index.IndexEngine.get_loc\u001b[1;34m()\u001b[0m\n",
      "\u001b[1;32m~\\AppData\\Local\\Programs\\Python\\Python310\\lib\\site-packages\\pandas\\_libs\\index.pyx\u001b[0m in \u001b[0;36mpandas._libs.index.IndexEngine.get_loc\u001b[1;34m()\u001b[0m\n",
      "\u001b[1;32mpandas\\_libs\\hashtable_class_helper.pxi\u001b[0m in \u001b[0;36mpandas._libs.hashtable.PyObjectHashTable.get_item\u001b[1;34m()\u001b[0m\n",
      "\u001b[1;32mpandas\\_libs\\hashtable_class_helper.pxi\u001b[0m in \u001b[0;36mpandas._libs.hashtable.PyObjectHashTable.get_item\u001b[1;34m()\u001b[0m\n",
      "\u001b[1;31mKeyError\u001b[0m: 1",
      "\nThe above exception was the direct cause of the following exception:\n",
      "\u001b[1;31mKeyError\u001b[0m                                  Traceback (most recent call last)",
      "\u001b[1;32m~\\AppData\\Local\\Temp/ipykernel_20552/134454917.py\u001b[0m in \u001b[0;36m<module>\u001b[1;34m\u001b[0m\n\u001b[0;32m      1\u001b[0m \u001b[0mdf\u001b[0m\u001b[1;33m.\u001b[0m\u001b[0mindex\u001b[0m\u001b[1;33m\u001b[0m\u001b[1;33m\u001b[0m\u001b[0m\n\u001b[1;32m----> 2\u001b[1;33m \u001b[0mdf\u001b[0m\u001b[1;33m[\u001b[0m\u001b[1;36m1\u001b[0m\u001b[1;33m]\u001b[0m\u001b[1;33m\u001b[0m\u001b[1;33m\u001b[0m\u001b[0m\n\u001b[0m",
      "\u001b[1;32m~\\AppData\\Local\\Programs\\Python\\Python310\\lib\\site-packages\\pandas\\core\\frame.py\u001b[0m in \u001b[0;36m__getitem__\u001b[1;34m(self, key)\u001b[0m\n\u001b[0;32m   3456\u001b[0m             \u001b[1;32mif\u001b[0m \u001b[0mself\u001b[0m\u001b[1;33m.\u001b[0m\u001b[0mcolumns\u001b[0m\u001b[1;33m.\u001b[0m\u001b[0mnlevels\u001b[0m \u001b[1;33m>\u001b[0m \u001b[1;36m1\u001b[0m\u001b[1;33m:\u001b[0m\u001b[1;33m\u001b[0m\u001b[1;33m\u001b[0m\u001b[0m\n\u001b[0;32m   3457\u001b[0m                 \u001b[1;32mreturn\u001b[0m \u001b[0mself\u001b[0m\u001b[1;33m.\u001b[0m\u001b[0m_getitem_multilevel\u001b[0m\u001b[1;33m(\u001b[0m\u001b[0mkey\u001b[0m\u001b[1;33m)\u001b[0m\u001b[1;33m\u001b[0m\u001b[1;33m\u001b[0m\u001b[0m\n\u001b[1;32m-> 3458\u001b[1;33m             \u001b[0mindexer\u001b[0m \u001b[1;33m=\u001b[0m \u001b[0mself\u001b[0m\u001b[1;33m.\u001b[0m\u001b[0mcolumns\u001b[0m\u001b[1;33m.\u001b[0m\u001b[0mget_loc\u001b[0m\u001b[1;33m(\u001b[0m\u001b[0mkey\u001b[0m\u001b[1;33m)\u001b[0m\u001b[1;33m\u001b[0m\u001b[1;33m\u001b[0m\u001b[0m\n\u001b[0m\u001b[0;32m   3459\u001b[0m             \u001b[1;32mif\u001b[0m \u001b[0mis_integer\u001b[0m\u001b[1;33m(\u001b[0m\u001b[0mindexer\u001b[0m\u001b[1;33m)\u001b[0m\u001b[1;33m:\u001b[0m\u001b[1;33m\u001b[0m\u001b[1;33m\u001b[0m\u001b[0m\n\u001b[0;32m   3460\u001b[0m                 \u001b[0mindexer\u001b[0m \u001b[1;33m=\u001b[0m \u001b[1;33m[\u001b[0m\u001b[0mindexer\u001b[0m\u001b[1;33m]\u001b[0m\u001b[1;33m\u001b[0m\u001b[1;33m\u001b[0m\u001b[0m\n",
      "\u001b[1;32m~\\AppData\\Local\\Programs\\Python\\Python310\\lib\\site-packages\\pandas\\core\\indexes\\base.py\u001b[0m in \u001b[0;36mget_loc\u001b[1;34m(self, key, method, tolerance)\u001b[0m\n\u001b[0;32m   3361\u001b[0m                 \u001b[1;32mreturn\u001b[0m \u001b[0mself\u001b[0m\u001b[1;33m.\u001b[0m\u001b[0m_engine\u001b[0m\u001b[1;33m.\u001b[0m\u001b[0mget_loc\u001b[0m\u001b[1;33m(\u001b[0m\u001b[0mcasted_key\u001b[0m\u001b[1;33m)\u001b[0m\u001b[1;33m\u001b[0m\u001b[1;33m\u001b[0m\u001b[0m\n\u001b[0;32m   3362\u001b[0m             \u001b[1;32mexcept\u001b[0m \u001b[0mKeyError\u001b[0m \u001b[1;32mas\u001b[0m \u001b[0merr\u001b[0m\u001b[1;33m:\u001b[0m\u001b[1;33m\u001b[0m\u001b[1;33m\u001b[0m\u001b[0m\n\u001b[1;32m-> 3363\u001b[1;33m                 \u001b[1;32mraise\u001b[0m \u001b[0mKeyError\u001b[0m\u001b[1;33m(\u001b[0m\u001b[0mkey\u001b[0m\u001b[1;33m)\u001b[0m \u001b[1;32mfrom\u001b[0m \u001b[0merr\u001b[0m\u001b[1;33m\u001b[0m\u001b[1;33m\u001b[0m\u001b[0m\n\u001b[0m\u001b[0;32m   3364\u001b[0m \u001b[1;33m\u001b[0m\u001b[0m\n\u001b[0;32m   3365\u001b[0m         \u001b[1;32mif\u001b[0m \u001b[0mis_scalar\u001b[0m\u001b[1;33m(\u001b[0m\u001b[0mkey\u001b[0m\u001b[1;33m)\u001b[0m \u001b[1;32mand\u001b[0m \u001b[0misna\u001b[0m\u001b[1;33m(\u001b[0m\u001b[0mkey\u001b[0m\u001b[1;33m)\u001b[0m \u001b[1;32mand\u001b[0m \u001b[1;32mnot\u001b[0m \u001b[0mself\u001b[0m\u001b[1;33m.\u001b[0m\u001b[0mhasnans\u001b[0m\u001b[1;33m:\u001b[0m\u001b[1;33m\u001b[0m\u001b[1;33m\u001b[0m\u001b[0m\n",
      "\u001b[1;31mKeyError\u001b[0m: 1"
     ]
    }
   ],
   "source": [
    "df.index\n",
    "df[1]"
   ]
  },
  {
   "cell_type": "code",
   "execution_count": 25,
   "metadata": {},
   "outputs": [
    {
     "data": {
      "text/plain": [
       "0      12LIBLEVY\n",
       "1           ARTS\n",
       "2           ARTS\n",
       "3           ARTS\n",
       "4           ARTS\n",
       "         ...    \n",
       "475          SPU\n",
       "476        STCAR\n",
       "477          SZF\n",
       "478          SZF\n",
       "479          NaN\n",
       "Name: department, Length: 480, dtype: object"
      ]
     },
     "execution_count": 25,
     "metadata": {},
     "output_type": "execute_result"
    }
   ],
   "source": [
    "df['department']"
   ]
  },
  {
   "cell_type": "code",
   "execution_count": 20,
   "metadata": {
    "scrolled": true
   },
   "outputs": [
    {
     "data": {
      "text/plain": [
       "0      12LIBLEVY\n",
       "1           ARTS\n",
       "2           ARTS\n",
       "3           ARTS\n",
       "4           ARTS\n",
       "         ...    \n",
       "475          SPU\n",
       "476        STCAR\n",
       "477          SZF\n",
       "478          SZF\n",
       "479          NaN\n",
       "Name: department, Length: 480, dtype: object"
      ]
     },
     "execution_count": 20,
     "metadata": {},
     "output_type": "execute_result"
    }
   ],
   "source": [
    "df.department"
   ]
  },
  {
   "cell_type": "markdown",
   "metadata": {},
   "source": [
    "<div class=\"alert alert-info\">\n",
    "<h2>Github</h2>\n",
    "</div>"
   ]
  },
  {
   "cell_type": "markdown",
   "metadata": {},
   "source": [
    "<div class=\"alert alert-success\">\n",
    "<h4>créer un compte:</h4>\n",
    "    <li>github.com -> Sign Up\n",
    "\n",
    "<h4>accéder à un compte:</h4>\n",
    "    <li>github.com -> Sign In\n",
    "</div>"
   ]
  },
  {
   "cell_type": "markdown",
   "metadata": {},
   "source": [
    "<div class=\"alert alert-success\">\n",
    "\n",
    "<li>coin supérieur droit -> choisissez votre image -> Settings -> Developer settings -> Personal access tokens\n",
    "\n",
    "<li>-> Generate new token\n",
    "\n",
    "<li>-> enregistrez le mot de passe dans un fichier\n",
    "\n",
    "<li>-> utilisez-le pour pousser depuis le terminal / invite de commande</div>"
   ]
  },
  {
   "cell_type": "markdown",
   "metadata": {},
   "source": [
    "<div class=\"alert alert-success\">\n",
    "\n",
    "<li>coin supérieur droit -> choisissez le signe plus -> nouveau référentiel (new repository)\n",
    "\n",
    "<li>-> Repository name: choisissez un nom pour votre référentiel\n",
    "\n",
    "<li>-> Private\n",
    "\n",
    "<li>-> Add a README file\n",
    "\n",
    "<li>-> Add .gitignore -> python\n",
    "\n",
    "<li>-> Choose a licence -> BDS 3-Caluse 'New' or 'Revised' License\n",
    "\n",
    "<li>Create repository\n",
    "</div>"
   ]
  },
  {
   "cell_type": "markdown",
   "metadata": {},
   "source": [
    "<div class=\"alert alert-success\">\n",
    "\n",
    "<li>ouvrez le terminal (sous mac ou linux) ou l'invite de commande (sous windows)\n",
    "\n",
    "<li>vérifiez que github est installé en tapant la commande:\n",
    "\n",
    "    $git\n",
    "    >git\n",
    "\n",
    "<li>S'il est installé: vous recevrez une liste d'utilisation.\n",
    "</div>"
   ]
  },
  {
   "cell_type": "markdown",
   "metadata": {},
   "source": [
    "<div class=\"alert alert-success\">\n",
    "\n",
    "<li>commandes github:\n",
    "\n",
    "    cd DOSSIER_POUR_GITHUB\n",
    "    git clone https://github.com/USERNAME/GITHUB_REPOSITORY\n",
    "    e.g.: git clone https://github.com/alexhanganu/psy4016_UdeM\n",
    "    \n",
    "        Username: USERNAME\n",
    "        Password: GITHUB_PASSWORD\n",
    "        \n",
    "        Si cloné: \"Resolving deltas: 100% (XX/XX) done.\n",
    "\n",
    "<li>toutes les modifications apportées au référentiel doivent être effectuées à partir du dossier racine.\n",
    "\n",
    "    cd ../GITHUB_REPOSITORY\n",
    "\n",
    "<li>vérifier l'état du référentiel local par rapport au référentiel github:\n",
    "\n",
    "    git status\n",
    "\n",
    "<li>vérifier les différences entre les référentiels locaux et distants:\n",
    "\n",
    "    git diff origin/main\n",
    "    q #(quit)\n",
    "\n",
    "<li>lors de la mise à jour de la version locale à l'aide de la version de github, utilisez la commande:\n",
    "\n",
    "    git pull\n",
    "\n",
    "<li>après avoir appliqué des modifications aux fichiers dans le référentiel local et avoir l'intention de modifier le référentiel github avec cette nouvelle version du référentiel local: \n",
    "\n",
    "    git add .\n",
    "    git commit\n",
    "    git push origin main\n",
    "    \n",
    "<li>alternativement, nous ne pouvons mettre à jour qu'un seul fichier, en utilisant la commande:\n",
    "\n",
    "    git add file\n",
    "</div>"
   ]
  },
  {
   "cell_type": "markdown",
   "metadata": {},
   "source": [
    "<div class=\"alert alert-success\">\n",
    "essayer le git-tower:\n",
    "\n",
    "    https://www.git-tower.com/\n",
    "</div>"
   ]
  },
  {
   "cell_type": "markdown",
   "metadata": {},
   "source": [
    "<div class=\"alert alert-info\">\n",
    "<h2>Jupyter:</h2>\n",
    "</div>"
   ]
  },
  {
   "cell_type": "markdown",
   "metadata": {},
   "source": [
    "<div class=\"alert alert-success\">\n",
    "<li> Développé par \tFernando Pérez, première version 2015\n",
    "<li> Est une application web utilisée pour programmer dans plus de 40 langages de programmation\n",
    "<li> Approche basée sur la une console web\n",
    "<li> Utilisée pour le développement, la documentation, l'exécution de code, et la communication des résultats.\n",
    "</div>"
   ]
  },
  {
   "cell_type": "markdown",
   "metadata": {},
   "source": [
    "#### INSTALLATION  du jupyter à l'aide du terminal si python a été installé à partir du site Web python.org\n",
    "\n",
    "ouvrez le terminal:\n",
    "\n",
    "Windows:\n",
    "start -> cmd\n",
    "\n",
    "ou\n",
    "\n",
    "Win + r -> cmd -> Enter\n",
    "\n",
    "MacOS:\n",
    "\n",
    "/Applications/Utilities -> Terminal\n",
    "\n",
    "\n",
    "\n",
    "#### commandes pour le terminal:\n",
    "\n",
    "Windows:\n",
    "cd C:\\Users\\USER\\AppData\\Local\\Programs\\Python\\Python37-32\\Scripts\n",
    "python -m pip instal -U pip setuptools\n",
    "\n",
    "pip3 install jupyter notebook\n",
    "\n",
    "\n",
    "Mac OS X:\n",
    "pip install -U pip setuptools\n",
    "pip3 install jupyter\n",
    "\n",
    "\n",
    "\n",
    "\n",
    "#### démarrer le jupyter en ligne de commande:\n",
    "\n",
    "jupyter notebook"
   ]
  },
  {
   "cell_type": "code",
   "execution_count": null,
   "metadata": {},
   "outputs": [],
   "source": [
    "python -m notebook"
   ]
  },
  {
   "cell_type": "markdown",
   "metadata": {},
   "source": [
    "\n",
    "Raccourcis\n",
    "\n",
    "ESC Basculer entre l'édition de cellule (ligne verte) et les fonctions de cellule (ligne bleue)\n",
    "\n",
    "a ajouter une cellule au-dessus\n",
    "\n",
    "b ajouter une cellule ci-dessous\n",
    "\n",
    "x Couper une cellule (supprimer)\n",
    "\n",
    "v Coller une cellule\n",
    "https://www.ibm.com/support/knowledgecenter/en/SSAS34_1.2.1/analyze-data/markd-jupyter.html\n",
    "\n",
    "Shift+V (au dessus)"
   ]
  },
  {
   "cell_type": "code",
   "execution_count": 3,
   "metadata": {},
   "outputs": [
    {
     "name": "stdout",
     "output_type": "stream",
     "text": [
      "15\n"
     ]
    }
   ],
   "source": [
    "# code en cours d'exécution:\n",
    "\n",
    "#l'affectation:\n",
    "\n",
    "a = 15\n",
    "print(a)"
   ]
  },
  {
   "cell_type": "code",
   "execution_count": 2,
   "metadata": {},
   "outputs": [
    {
     "data": {
      "text/plain": [
       "(2.3, 2.3)"
      ]
     },
     "execution_count": 2,
     "metadata": {},
     "output_type": "execute_result"
    }
   ],
   "source": [
    "k = r = 2.3\n",
    "k, r"
   ]
  },
  {
   "cell_type": "code",
   "execution_count": null,
   "metadata": {},
   "outputs": [],
   "source": [
    "# c'est un commentaire"
   ]
  },
  {
   "cell_type": "markdown",
   "metadata": {},
   "source": [
    "Utilisez TAB pour répertorier les options possibles"
   ]
  },
  {
   "cell_type": "code",
   "execution_count": null,
   "metadata": {},
   "outputs": [],
   "source": [
    "from os import #appuyer TAB\n",
    "\n",
    "from os import path as chemin"
   ]
  },
  {
   "cell_type": "markdown",
   "metadata": {},
   "source": [
    "Utilisez le signe '?' après un nom de commande pour obtenir l'aide"
   ]
  },
  {
   "cell_type": "code",
   "execution_count": null,
   "metadata": {},
   "outputs": [],
   "source": [
    "import os\n",
    "\n",
    "os.chdir()\n",
    "os.getcwd()\n",
    "\n",
    "from os import path\n",
    "\n",
    "path.abspath()"
   ]
  },
  {
   "cell_type": "code",
   "execution_count": 10,
   "metadata": {},
   "outputs": [],
   "source": [
    "len?"
   ]
  },
  {
   "cell_type": "code",
   "execution_count": 2,
   "metadata": {},
   "outputs": [
    {
     "name": "stdout",
     "output_type": "stream",
     "text": [
      "Help on built-in function len in module builtins:\n",
      "\n",
      "len(obj, /)\n",
      "    Return the number of items in a container.\n",
      "\n"
     ]
    }
   ],
   "source": [
    "help(len)\n",
    "# inline help"
   ]
  },
  {
   "cell_type": "code",
   "execution_count": 7,
   "metadata": {},
   "outputs": [
    {
     "name": "stdout",
     "output_type": "stream",
     "text": [
      "entrez votre nom svp:test\n"
     ]
    }
   ],
   "source": [
    "# input / raw_input prend les valeurs définies par l’utilisateur\n",
    "\n",
    "a = input('entrez votre nom svp:')"
   ]
  },
  {
   "cell_type": "code",
   "execution_count": null,
   "metadata": {},
   "outputs": [],
   "source": [
    "id(a) #permet d’avoir l’adresse d’un objet"
   ]
  },
  {
   "cell_type": "code",
   "execution_count": null,
   "metadata": {},
   "outputs": [],
   "source": [
    "#dir(a)# permet de voir les objet et méthodes disponibles"
   ]
  },
  {
   "cell_type": "markdown",
   "metadata": {},
   "source": [
    "#### autres codes:\n",
    "https://github.com/streamnsight/jupyter-notebook-cheatsheet/blob/master/Magic%20functions%2C%20help%20and%20doc.ipynb"
   ]
  },
  {
   "cell_type": "markdown",
   "metadata": {},
   "source": [
    "<div class=\"alert alert-info\">\n",
    "<h2>Python</h2>\n",
    "</div>"
   ]
  },
  {
   "cell_type": "markdown",
   "metadata": {},
   "source": [
    "<div class=\"alert alert-success\">\n",
    "<li> Développé par Guido van Rossum, première version 1991, dernière version 18 décembre 2019\n",
    "<li> Est un langage de programmation \n",
    "<li> Il est similaire à Perl, Ruby, Scheme, Smalltalk et Tcl\n",
    "</div>"
   ]
  },
  {
   "cell_type": "markdown",
   "metadata": {},
   "source": [
    "<div class=\"alert alert-success\">\n",
    "<ul> <b>Avantages Python par rapport à C++</b>\n",
    "<li> Langage très simple\n",
    "<li> Installé presque partout\n",
    "    <li> N'a pas besoin d'un compilateur, donc pas besoin d'attendre longtemps avec des projets de 10.000 lignes\n",
    "    <li> Est là depuis longtemps, donc beacoup de soutien sur le web, grande communauté\n",
    "    <li> Lisibilité des codes\n",
    "    <li> Fait gagner du temps\n",
    "    <li> Il est hackable (absence de mécanisme de sécurité)\n",
    "    <li> Excellent testeur d'algorithme\n",
    "    <li> Un programme python qui fait 50 lignes peut représenter un code C++ ayant plusieurs centaine/milliers de lignes</ul>\n",
    "    <p>\n",
    "    <ul> <b>Désavantages Python Par rapport à C++</b>\n",
    "    <li> Jusqu'à 800 fois plus lent que C++ (https://benchmarksgame-team.pages.debian.net/benchmarksgame/fastest/gpp-python3.html)(vous pouvez passer plus tard de Python à julia, qui est plus rapide que C ++)(https://discourse.julialang.org/t/comparing-python-julia-and-c/17019)\n",
    "    <li> C++ est mieux pour inclure des assemblages pour code encore plus rapide\n",
    "    <li> C++ est mieux pour le développement sur micro-processeur\n",
    "    <li> C++ est mieux pour développement de GUI\n",
    "    <li> C++ est mieux pour le développement pour Windows</ul>\n",
    "</div>"
   ]
  },
  {
   "cell_type": "code",
   "execution_count": null,
   "metadata": {},
   "outputs": [],
   "source": [
    "# python\n",
    "print(\"Bonjour!\")\n",
    "\n",
    "\n",
    "# C++\n",
    "using namespace std;\n",
    "int main() \n",
    "{\n",
    "    cout << \"Bonjour!\";\n",
    "    return 0;\n",
    "}"
   ]
  },
  {
   "cell_type": "markdown",
   "metadata": {},
   "source": [
    "<div class=\"alert alert-danger\">\n",
    "<b>les commandes et codes à apprendre par cœur </b></div>"
   ]
  },
  {
   "cell_type": "raw",
   "metadata": {},
   "source": [
    "PYTHON:\n",
    "    import \n",
    "    import ... as ...\n",
    "    from ... import ... as ...\n",
    "    from ... import #appuyer TAB\n",
    "    help()\n",
    "    len()\n",
    "    input()\n",
    "    type()\n",
    "    sorted()\n",
    "    \n",
    "OS:\n",
    "    import os\n",
    "    os.chdir()\n",
    "    os.getcwd()\n",
    "\n",
    "PANDAS:\n",
    "    read_csv, read_excel, read_table, read_json,\n",
    "    df.to_csv, to_excel, to_json, to_pickle\n",
    "    df.columns\n",
    "    df.index\n",
    "    df.COLUMN_NAME\n",
    "    df[\"COLUMN_NAME\"]\n",
    "    df['COLUMN_NAME']"
   ]
  },
  {
   "cell_type": "markdown",
   "metadata": {},
   "source": [
    "<div class=\"alert alert-success\">\n",
    "<h3>Les projets</h3>\n",
    "<ul>\n",
    "<li> Human Activity Recognition Data (for cognitive behavioral projects)\n",
    "<li> https://archive.ics.uci.edu/ml/datasets/human+activity+recognition+using+smartphones\n",
    "<li> https://healthdata.gov/search/type/dataset\n",
    "<li> https://github.com/awesomedata/awesome-public-datasets\n",
    "<li> https://medium.com/datadriveninvestor/the-50-best-public-datasets-for-machine-lerning-d80e9f030279\n",
    "<li> https://aws.amazon.com/opendata/public-datasets\n",
    "<li> https://registry.opendata.aws/\n",
    "<li> Time Series Analysis Data (for fMRI, EEG projects)\n",
    "<li> Turkiye Student Evaluation Data (for cognitive assessment projects)\n",
    "<li> Siam Competition Data (for inter-group evaluations)\n",
    "<li> Million Song Data (for audio-data based projects)\n",
    "<li> Census Income Data (for big-data based projects)\n",
    "<li> Movie Lens Data (for video-data based projects)\n",
    "<li> Twitter Classification Data (for text-data based projects)\n",
    "<li> Google 25 million datasets: https://datasetsearch.research.google.com/\n",
    "<li> Publica Datasets: https://github.com/awesomedata/awesome-public-datasets\n",
    "    </ul>\n",
    "</div>"
   ]
  },
  {
   "cell_type": "markdown",
   "metadata": {},
   "source": [
    "<div class=\"alert alert-danger\">\n",
    "<h3>Exercises</h3>\n",
    "</div> "
   ]
  },
  {
   "cell_type": "markdown",
   "metadata": {},
   "source": [
    "<div class=\"alert alert-success\">\n",
    "<ul> <b>veuillez écrire les réponses à ces questions:</b>\n",
    "<li> Qu'est-ce qu'un entier ?\n",
    "<li> Qu'est-ce qu'une chaîne ?\n",
    "<li> Quelle est la différence entre un entier et un flottant?\n",
    "<li> Qu'est-ce qu'une liste ?\n",
    "<li> Quels sont les avantages d'un tuple ?\n",
    "\n",
    "<li> Comment importer un fichier excel dans pandas ?\n",
    "<li> Quels types de fichiers peuvent être importés dans pandas ?\n",
    "<li> Comment sauvegarder les fichiers des pandas ?\n",
    "\n",
    "<li> Comment transformer une colonne pandas en liste ?\n",
    "<li> Comment extraire la valeur de la liste située en position 10 ?\n",
    "\n",
    "<li> Comment concaténer 2 listes ?\n",
    "<li> Quelles sont les méthodes pour définir les variables ?\n",
    "<li> Que signifie réellement la méthode d'importation ?\n",
    "<li> Quelles sont les méthodes d'importations ?\n",
    "<li> Comment vérifier le type d'une variable ?\n",
    "<li> Comment obtenir une variable avec un nput de l'utilisateur ?\n",
    "<li> Comment ajouter une variable à un tuple ?\n",
    "<li> Comment concaténer un tuple et une liste ?\n",
    "<li> Comment envoyer toutes les valeurs d'une trame de données à une liste ?\n",
    "<li> Quelles sont les commandes habituelles utilisées pour travailler avec une liste ?\n",
    "<li> Comment créer une trame de données à partir d'une liste ?\n",
    "<li> Comment accéder à une lettre dans une chaîne à une certaine position ?\n",
    "<li> Comment définir plusieurs variables en même temps ?\n",
    "<li> Quelles sont les commandes pour travailler avec une chaîne ?</ul>\n",
    "</div>"
   ]
  },
  {
   "cell_type": "markdown",
   "metadata": {},
   "source": [
    "<div class=\"alert alert-success\">\n",
    "<ul>\n",
    "<li> Affectez les variable temps et distance par les valeurs 6.89 et 19.7\n",
    "<li> Définir un nom et un âge en utilisant l’instruction input(). Affichez les variables.\n",
    "<li> Définir un flottant\n",
    "<li> Initialisez deux entiers : a = 0 et b = 10 \n",
    "<li> Veuillez définir la liste : liste =[17, 38, 10, 25, 72]\n",
    "<li> Triez et affichez la liste\n",
    "<li> Ajoutez l’élément 12 à la liste et affichez la liste \n",
    "<li> Inversez et affichez la liste\n",
    "<li> Affichez l’indice de l’élément 17\n",
    "<li> Enlevez l’élément 38 et affichez la liste\n",
    "<li> Affichez la sous-liste du 2e au 3e élément\n",
    "<li> Affichez la sous-liste du début au 2e élément\n",
    "<li> Affichez la sous-liste du 3e élément à la fin de la liste \n",
    "<li> Affichez la sous-liste complète de la liste\n",
    "<li> Affichez le dernier élément en utilisant un indiçage négatif</ul>\n",
    "</div>"
   ]
  }
 ],
 "metadata": {
  "anaconda-cloud": {},
  "celltoolbar": "Slideshow",
  "kernelspec": {
   "display_name": "Python 3 (ipykernel)",
   "language": "python",
   "name": "python3"
  },
  "language_info": {
   "codemirror_mode": {
    "name": "ipython",
    "version": 3
   },
   "file_extension": ".py",
   "mimetype": "text/x-python",
   "name": "python",
   "nbconvert_exporter": "python",
   "pygments_lexer": "ipython3",
   "version": "3.10.1"
  }
 },
 "nbformat": 4,
 "nbformat_minor": 2
}
