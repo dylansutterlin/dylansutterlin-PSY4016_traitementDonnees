{
 "cells": [
  {
   "cell_type": "markdown",
   "metadata": {
    "slideshow": {
     "slide_type": "slide"
    }
   },
   "source": [
    "<div class=\"alert alert-info\">\n",
    "\n",
    "# PSY 4016 / 6973\n",
    "# Cueillette et traitement des données en neurosciences cognitives\n",
    "## Chapitre 8: Apprentissage automatique (Machine learning)\n",
    "<p>\n",
    "<li>Introduction AA\n",
    "<li>Erreur de généralisation\n",
    "<li>Validation croisée / Entrainement / test\n",
    "<li>Importance de la mise à l'échelle des fonctionnalités\n",
    "<li>Stats AA: Matrice de confusion (confusion matrix)\n",
    "<li>Stats AA: Caractéristique de Fonctionnement du récepteur (ROC: Region under the courve)\n",
    "<li>Exemple algorithm AA supervisé: Régression linéaire\n",
    "</div>"
   ]
  },
  {
   "cell_type": "code",
   "execution_count": null,
   "metadata": {},
   "outputs": [],
   "source": []
  },
  {
   "cell_type": "markdown",
   "metadata": {
    "slideshow": {
     "slide_type": "slide"
    }
   },
   "source": [
    "<div class=\"alert alert-info\">\n",
    "\n",
    "<b><h2>Introduction AA</h2></b>"
   ]
  },
  {
   "cell_type": "markdown",
   "metadata": {
    "slideshow": {
     "slide_type": "subslide"
    }
   },
   "source": [
    "<div class=\"alert alert-success\">\n",
    "<li>L'apprentissage automatique est la capacité de trouver des modèles dans les données\n",
    "<li>L'apprentissage automatique signifie la construction de modèles mathématiques facilitant la compréhension des données.\n",
    "<li>Ces modèles reçoivent des paramètres ajustables qui peuvent être adaptés aux données observées (phase d'apprentissage/ entraînement)\n",
    "<li>* Une fois que le modèle est adapté, il peut être utilisé pour prédire les aspects d'autres données\n",
    "<li>* fondamentalement, l’apprentissage automatique peut être classé en deux types principaux: l’apprentissage supervisé et l’apprentissage non-supervisé.\n",
    "</div>"
   ]
  },
  {
   "cell_type": "markdown",
   "metadata": {
    "slideshow": {
     "slide_type": "subslide"
    }
   },
   "source": [
    "<div class=\"alert alert-success\">\n",
    "<b><h2>AA supervisé</h2></b>\n",
    "<br>\n",
    "Définition1:\n",
    "<li>tâche d'apprentissage automatique\n",
    "<li>consistant à apprendre une fonction de prédiction\n",
    "<li>à partir d'exemples annotés.\n",
    "<br><br>\n",
    "Définition2:\n",
    "<li>consiste à modéliser la relation \n",
    "<li>entre les caractéristiques mesurées des données \n",
    "<li>et certaines étiquettes associées aux données\n",
    "<li>Une fois formé, le modèle peut être utilisé pour appliquer des étiquettes à de nouvelles données inconnues.\n",
    "\n",
    "<br><p>L'apprentissage supervisé est subdivisé en tâches de classification et de régression.\n",
    "<li>Dans la classification, les étiquettes sont des catégories discrètes / variable qualitative\n",
    "<li>En régression - les étiquettes sont des quantités continues / variable quantitative.\n",
    "</div>"
   ]
  },
  {
   "cell_type": "markdown",
   "metadata": {
    "slideshow": {
     "slide_type": "subslide"
    }
   },
   "source": [
    "<div class=\"alert alert-success\">\n",
    "<b><h2>AA supervisé, Méthodes</h2></b>\n",
    "<ul><b>régression</b>\n",
    "<li>régression linéaire\n",
    "<li>régression logistique</ul>\n",
    "\n",
    "<ul><b>classification:</b>\n",
    "<li>SVM = Machine à vecteurs de support (support vector machine)\n",
    "<li>KNN = Méthodes des k plus proches voisins (k-nearest neighbor algorithm)\n",
    "<li>Arbre de décision (Decision Trees)\n",
    "<li>Classification naïve bayesienne (naive Bayes)\n",
    "<li>LDA = Linear Distriminant Analysis\n",
    "<li>Réseau de neurones (Multilayer perceptron)\n",
    "<li>Espace de versions (Version space learning)\n",
    "<li>Similarity learning\n",
    "<li>Boosting\n",
    "<li>Inférence grammaticale\n",
    "<li>Mélanges de lois</ul>\n",
    "\n",
    "</div>"
   ]
  },
  {
   "cell_type": "markdown",
   "metadata": {
    "slideshow": {
     "slide_type": "subslide"
    }
   },
   "source": [
    "<div class=\"alert alert-success\">\n",
    "<b><h2>AA non-supervisé</h2></b>\n",
    "\n",
    "Définition1:\n",
    "<li>cherche des structures sous-jacentes\n",
    "<li>à partir de données non étiquetées\n",
    "<li>puisque les données ne sont pas étiquetées, il n'est pas possible d'affecter au résultat de l'algorithme utilisé un score d'adéquation.\n",
    "<br><br>\n",
    "Définition2:\n",
    "<li>consiste à modéliser les caractéristiques d'un jeu de données\n",
    "<li>sans faire référence à une étiquette\n",
    "<li>est souvent décrit comme \"laissant les données parler pour lui-même\".\n",
    "<br><br>\n",
    "Ces modèles incluent le regroupement (clustering) et la réduction de la dimensionnalité.\n",
    "<li>Les algorithmes de regroupement identifient les groupes de données distint.\n",
    "<li>Les algorithmes de réduction de dimensionnalité recherchent davantage de représentations succinctes des données.\n",
    "</div>"
   ]
  },
  {
   "cell_type": "markdown",
   "metadata": {
    "slideshow": {
     "slide_type": "subslide"
    }
   },
   "source": [
    "<div class=\"alert alert-success\">\n",
    "<b><h2>AA non-supervisé, Méthodes</h2></b>\n",
    "<ul><b>Partitionnement / Regroupement / Clustering:</b>\n",
    "<li>k-moyennes\n",
    "<li>k-médoïdes\n",
    "<li>modeles mixte\n",
    "<li>DBSCAN\n",
    "<li>OPTICS\n",
    "<li>latent variable models:\n",
    "<ul><li>Expectation-maximization algorithm (EM)\n",
    "<li>Method of moments (MoM)</ul>\n",
    "<li>Anomaly detection (LOF = local outlier factor)\n",
    "<li>Réseau de neurones / Neural networks:\n",
    "<ul><li>carte auto-adaptative/Autoencoders\n",
    "<li>Deep Belief Nets\n",
    "<li>Hebbian Learning\n",
    "<li>Generative Adversarial Networks\n",
    "<li>Self-organizing map</ul>\n",
    "</ul>\n",
    "\n",
    "<ul><b>Regroupement hiérarchique / Réduction de la dimensionnalité:</b>\n",
    "<li>BSS = Blind signal separation:\n",
    "<ul><li>PCA = analyse en composantes principales / principal component analysis\n",
    "<li>ICA = independent component analysis\n",
    "<li>Non-negative matrix factorization\n",
    "<li>SVD = Singular value decomposition</ul></ul\n",
    "</div>"
   ]
  },
  {
   "cell_type": "code",
   "execution_count": 3,
   "metadata": {},
   "outputs": [],
   "source": [
    "# lorsque les données ne sont pas étiquettés, nous avons un modèle non-supervisé, \n",
    "# car observe le modèle le plus efficace pour prédire les valeurs d'un autre modèle\n",
    "# algorithme va définir les caractéristiques différenciels pour chaque groupe\n",
    "# les triangles ont la même probabilité d'avoir les mêmes caractéristiques"
   ]
  },
  {
   "cell_type": "markdown",
   "metadata": {},
   "source": [
    "<center><img src=\"img/Apprentissage_Supervisé_Vs_Non_Supervisé.png\"></center>"
   ]
  },
  {
   "cell_type": "markdown",
   "metadata": {
    "slideshow": {
     "slide_type": "subslide"
    }
   },
   "source": [
    "<div class=\"alert alert-success\">\n",
    "<b><h2>en bref:</h2></b>\n",
    "\n",
    "<br>\n",
    "aprentissage supervisé:\n",
    "<li>modèles capables de prédire les étiquettes en fonction des données d'entraînement étiquetées\n",
    "<br><br>\n",
    "classification:\n",
    "<li>modèles prédisant des étiquettes sous forme de deux ou plusieurs catégories distinctes\n",
    "<br><br>\n",
    "régression:\n",
    "<li>modèles prédisant des étiquettes continues\n",
    "<br><br>\n",
    "aprentissage non-supervisé:\n",
    "<li>modèles qui identifient des étiquettes continues\n",
    "<br><br>\n",
    "clustering:\n",
    "<li>modèles qui détectent et identifient des groupes distincts dans les données\n",
    "<br><br>\n",
    "réduction de dimensionnalité\n",
    "<li>modèles qui détectent et identifient la structure de dimension inférieure dans les données de dimension supérieure\n",
    "</div>"
   ]
  },
  {
   "cell_type": "markdown",
   "metadata": {
    "slideshow": {
     "slide_type": "subslide"
    }
   },
   "source": [
    "<div class=\"alert alert-success\">\n",
    "<b>Types de bibliothèque python pour AA</b>\n",
    "<li> Scikit-Learn\n",
    "<li> Theano\n",
    "<li> TensorFlow\n",
    "<li> Keras\n",
    "<li>PyTorch\n",
    "</div>"
   ]
  },
  {
   "cell_type": "markdown",
   "metadata": {
    "slideshow": {
     "slide_type": "subslide"
    }
   },
   "source": [
    "<div class=\"alert alert-success\">\n",
    "<b>Les étapes les plus courantes d'utilisation des estimateurs:</b>\n",
    "<ol>\n",
    "<li> Choisir la classe de modèle / estimateur\n",
    "<li> Choisir les hyperparameters du modèle\n",
    "<li> Organiser les données dans une matrice d'entités et un vecteur cible\n",
    "<li> Adapter le modèle à vos données, méthode <i><b>fit()</b></i>\n",
    "<li> Appliquez le modèle à de nouvelles données</ol>\n",
    "<ul><li> Pour l'apprentissage supervisé nous prédisons les étiquettes (généralement) à l'aide de la méthode <i><b>predict()</b></i>\n",
    "<li> Pour un apprentissage non supervisé, nous transformons / inférons les propriétés à l'aide de la méthode <i><b>transform()</b></i> ou <i><b>predict()</b></i></ul>\n",
    "</div>"
   ]
  },
  {
   "cell_type": "markdown",
   "metadata": {
    "slideshow": {
     "slide_type": "subslide"
    }
   },
   "source": [
    "<div class=\"alert alert-success\">\n",
    "L'apprentissage automatique consiste à créer des modèles à partir de données.\n",
    "<li> il est préférable de voir les données sous forme de tableaux de données (IMPORTANT).\n",
    "<br><br>\n",
    "<li> Une tableaux de base est une grille de données en deux dimensions\n",
    "<li> dans laquelle les lignes représentent des éléments individuels du jeu de données\n",
    "<li> et les colonnes représentent des quantités liées à chacun de ces éléments.\n",
    "<li>Pratiquons avec le célèbre jeu de données Iris\n",
    "</div>"
   ]
  },
  {
   "cell_type": "code",
   "execution_count": 2,
   "metadata": {},
   "outputs": [],
   "source": [
    "import matplotlib.pyplot as plt\n",
    "import seaborn as sns\n",
    "%matplotlib inline\n",
    "sns.set()"
   ]
  },
  {
   "cell_type": "code",
   "execution_count": 5,
   "metadata": {},
   "outputs": [
    {
     "data": {
      "text/html": [
       "<div>\n",
       "<style scoped>\n",
       "    .dataframe tbody tr th:only-of-type {\n",
       "        vertical-align: middle;\n",
       "    }\n",
       "\n",
       "    .dataframe tbody tr th {\n",
       "        vertical-align: top;\n",
       "    }\n",
       "\n",
       "    .dataframe thead th {\n",
       "        text-align: right;\n",
       "    }\n",
       "</style>\n",
       "<table border=\"1\" class=\"dataframe\">\n",
       "  <thead>\n",
       "    <tr style=\"text-align: right;\">\n",
       "      <th></th>\n",
       "      <th>sepal_length</th>\n",
       "      <th>sepal_width</th>\n",
       "      <th>petal_length</th>\n",
       "      <th>petal_width</th>\n",
       "      <th>species</th>\n",
       "    </tr>\n",
       "  </thead>\n",
       "  <tbody>\n",
       "    <tr>\n",
       "      <th>0</th>\n",
       "      <td>5.1</td>\n",
       "      <td>3.5</td>\n",
       "      <td>1.4</td>\n",
       "      <td>0.2</td>\n",
       "      <td>setosa</td>\n",
       "    </tr>\n",
       "    <tr>\n",
       "      <th>1</th>\n",
       "      <td>4.9</td>\n",
       "      <td>3.0</td>\n",
       "      <td>1.4</td>\n",
       "      <td>0.2</td>\n",
       "      <td>setosa</td>\n",
       "    </tr>\n",
       "    <tr>\n",
       "      <th>2</th>\n",
       "      <td>4.7</td>\n",
       "      <td>3.2</td>\n",
       "      <td>1.3</td>\n",
       "      <td>0.2</td>\n",
       "      <td>setosa</td>\n",
       "    </tr>\n",
       "    <tr>\n",
       "      <th>3</th>\n",
       "      <td>4.6</td>\n",
       "      <td>3.1</td>\n",
       "      <td>1.5</td>\n",
       "      <td>0.2</td>\n",
       "      <td>setosa</td>\n",
       "    </tr>\n",
       "    <tr>\n",
       "      <th>4</th>\n",
       "      <td>5.0</td>\n",
       "      <td>3.6</td>\n",
       "      <td>1.4</td>\n",
       "      <td>0.2</td>\n",
       "      <td>setosa</td>\n",
       "    </tr>\n",
       "  </tbody>\n",
       "</table>\n",
       "</div>"
      ],
      "text/plain": [
       "   sepal_length  sepal_width  petal_length  petal_width species\n",
       "0           5.1          3.5           1.4          0.2  setosa\n",
       "1           4.9          3.0           1.4          0.2  setosa\n",
       "2           4.7          3.2           1.3          0.2  setosa\n",
       "3           4.6          3.1           1.5          0.2  setosa\n",
       "4           5.0          3.6           1.4          0.2  setosa"
      ]
     },
     "execution_count": 5,
     "metadata": {},
     "output_type": "execute_result"
    }
   ],
   "source": [
    "iris.head()"
   ]
  },
  {
   "cell_type": "code",
   "execution_count": 3,
   "metadata": {
    "scrolled": true
   },
   "outputs": [
    {
     "data": {
      "text/plain": [
       "<seaborn.axisgrid.PairGrid at 0x207af07a4a0>"
      ]
     },
     "execution_count": 3,
     "metadata": {},
     "output_type": "execute_result"
    },
    {
     "data": {
      "image/png": "[encoded data removed]",
      "text/plain": [
       "<Figure size 662.85x576 with 20 Axes>"
      ]
     },
     "metadata": {},
     "output_type": "display_data"
    }
   ],
   "source": [
    "iris = sns.load_dataset('iris')\n",
    "sns.pairplot(iris, hue='species', height=2)\n",
    "#sns.pairplot(iris, hue='species', height=2)"
   ]
  },
  {
   "cell_type": "code",
   "execution_count": 4,
   "metadata": {},
   "outputs": [
    {
     "data": {
      "text/html": [
       "<div>\n",
       "<style scoped>\n",
       "    .dataframe tbody tr th:only-of-type {\n",
       "        vertical-align: middle;\n",
       "    }\n",
       "\n",
       "    .dataframe tbody tr th {\n",
       "        vertical-align: top;\n",
       "    }\n",
       "\n",
       "    .dataframe thead th {\n",
       "        text-align: right;\n",
       "    }\n",
       "</style>\n",
       "<table border=\"1\" class=\"dataframe\">\n",
       "  <thead>\n",
       "    <tr style=\"text-align: right;\">\n",
       "      <th></th>\n",
       "      <th>sepal_length</th>\n",
       "      <th>sepal_width</th>\n",
       "      <th>petal_length</th>\n",
       "      <th>petal_width</th>\n",
       "      <th>species</th>\n",
       "    </tr>\n",
       "  </thead>\n",
       "  <tbody>\n",
       "    <tr>\n",
       "      <th>0</th>\n",
       "      <td>5.1</td>\n",
       "      <td>3.5</td>\n",
       "      <td>1.4</td>\n",
       "      <td>0.2</td>\n",
       "      <td>setosa</td>\n",
       "    </tr>\n",
       "    <tr>\n",
       "      <th>1</th>\n",
       "      <td>4.9</td>\n",
       "      <td>3.0</td>\n",
       "      <td>1.4</td>\n",
       "      <td>0.2</td>\n",
       "      <td>setosa</td>\n",
       "    </tr>\n",
       "    <tr>\n",
       "      <th>2</th>\n",
       "      <td>4.7</td>\n",
       "      <td>3.2</td>\n",
       "      <td>1.3</td>\n",
       "      <td>0.2</td>\n",
       "      <td>setosa</td>\n",
       "    </tr>\n",
       "    <tr>\n",
       "      <th>3</th>\n",
       "      <td>4.6</td>\n",
       "      <td>3.1</td>\n",
       "      <td>1.5</td>\n",
       "      <td>0.2</td>\n",
       "      <td>setosa</td>\n",
       "    </tr>\n",
       "    <tr>\n",
       "      <th>4</th>\n",
       "      <td>5.0</td>\n",
       "      <td>3.6</td>\n",
       "      <td>1.4</td>\n",
       "      <td>0.2</td>\n",
       "      <td>setosa</td>\n",
       "    </tr>\n",
       "    <tr>\n",
       "      <th>...</th>\n",
       "      <td>...</td>\n",
       "      <td>...</td>\n",
       "      <td>...</td>\n",
       "      <td>...</td>\n",
       "      <td>...</td>\n",
       "    </tr>\n",
       "    <tr>\n",
       "      <th>145</th>\n",
       "      <td>6.7</td>\n",
       "      <td>3.0</td>\n",
       "      <td>5.2</td>\n",
       "      <td>2.3</td>\n",
       "      <td>virginica</td>\n",
       "    </tr>\n",
       "    <tr>\n",
       "      <th>146</th>\n",
       "      <td>6.3</td>\n",
       "      <td>2.5</td>\n",
       "      <td>5.0</td>\n",
       "      <td>1.9</td>\n",
       "      <td>virginica</td>\n",
       "    </tr>\n",
       "    <tr>\n",
       "      <th>147</th>\n",
       "      <td>6.5</td>\n",
       "      <td>3.0</td>\n",
       "      <td>5.2</td>\n",
       "      <td>2.0</td>\n",
       "      <td>virginica</td>\n",
       "    </tr>\n",
       "    <tr>\n",
       "      <th>148</th>\n",
       "      <td>6.2</td>\n",
       "      <td>3.4</td>\n",
       "      <td>5.4</td>\n",
       "      <td>2.3</td>\n",
       "      <td>virginica</td>\n",
       "    </tr>\n",
       "    <tr>\n",
       "      <th>149</th>\n",
       "      <td>5.9</td>\n",
       "      <td>3.0</td>\n",
       "      <td>5.1</td>\n",
       "      <td>1.8</td>\n",
       "      <td>virginica</td>\n",
       "    </tr>\n",
       "  </tbody>\n",
       "</table>\n",
       "<p>150 rows × 5 columns</p>\n",
       "</div>"
      ],
      "text/plain": [
       "     sepal_length  sepal_width  petal_length  petal_width    species\n",
       "0             5.1          3.5           1.4          0.2     setosa\n",
       "1             4.9          3.0           1.4          0.2     setosa\n",
       "2             4.7          3.2           1.3          0.2     setosa\n",
       "3             4.6          3.1           1.5          0.2     setosa\n",
       "4             5.0          3.6           1.4          0.2     setosa\n",
       "..            ...          ...           ...          ...        ...\n",
       "145           6.7          3.0           5.2          2.3  virginica\n",
       "146           6.3          2.5           5.0          1.9  virginica\n",
       "147           6.5          3.0           5.2          2.0  virginica\n",
       "148           6.2          3.4           5.4          2.3  virginica\n",
       "149           5.9          3.0           5.1          1.8  virginica\n",
       "\n",
       "[150 rows x 5 columns]"
      ]
     },
     "execution_count": 4,
     "metadata": {},
     "output_type": "execute_result"
    }
   ],
   "source": [
    "iris\n",
    "# Données de type int\n",
    "# Species = string\n",
    "# il faut faire un changement des valeurs en int *important*"
   ]
  },
  {
   "cell_type": "markdown",
   "metadata": {
    "slideshow": {
     "slide_type": "subslide"
    }
   },
   "source": [
    "<div class=\"alert alert-success\">\n",
    "<li> chaque ligne de données fait référence à une seule fleur observée\n",
    "<li> et le nombre de lignes réprensents le nombre total de fleurs dans le jeu de données\n",
    "<li> les lignes sont les échantillons.\n",
    "<br><br>\n",
    "<li> chaque colonne de données fait référence à une information quantitative particulière\n",
    "<li> elle décrit chaque échantillon\n",
    "<li> les colonnes sont les caractèristiques\n",
    "<br><br>\n",
    "<li> par convention, cette matrice de caractéristiques est souvent stockée dans une variable nommée X\n",
    "<li> la matrice de caractéristiques est supposée être bidimensionnelle, avec une forme [n_échantillons, n\\_caractèristiques]\n",
    "<li> les lignes se réfèrent toujours aux objets individuels (une fleur, une personne, un document - mesures quantitatives)\n",
    "<li> les colonnes (colonnes) font toujours référence aux observations distinctes (quantitative) avec une valeur réelle, booléennes ou discrètes.\n",
    "<br><br>\n",
    "<li> en plus de la matrice de caractéristiques X, nous avons besoin d'une étiquette / tableau cible, par convention - Y\n",
    "<li> le Y est généralement unidimensionnel, de longueur n_échantillons\n",
    "<li> le tableau Y est généralement la quantité que nous voulons prédire (la variable dépendante)\n",
    "<li> Par exemple, voyons comment nous pouvons prédire la colonne des espèces sur la base des autres mesures\n",
    "<li> la colonne espèce devient la cible - Y.\n",
    "</div>"
   ]
  },
  {
   "cell_type": "code",
   "execution_count": null,
   "metadata": {},
   "outputs": [],
   "source": [
    "# ligne = mesure quantitative\n",
    "# colonne = observation disctincte, avec une valeur réelle\n",
    "# le cadre de données doit être bidimensionnelle (1 entité, 1 caractéristique pour toutes les paramètres individuels)"
   ]
  },
  {
   "cell_type": "code",
   "execution_count": null,
   "metadata": {},
   "outputs": [],
   "source": [
    "# on doit implémenter plusieurs script (pandas, numpy) pour qu'il devienne une matrice\n",
    "# colonne cible = lettre Y\n",
    "# tableau Y = variable dépendante\n",
    "\n",
    "\n",
    "# si notre objectif est de prédire les espèsces/species - devient la colonne Y \n",
    "# le reste du tableau devient le tableau Y "
   ]
  },
  {
   "cell_type": "code",
   "execution_count": 6,
   "metadata": {
    "slideshow": {
     "slide_type": "fragment"
    }
   },
   "outputs": [],
   "source": [
    "# Extrayons la matrice des fonctionnalités et le tableau cible:\n",
    "\n",
    "X_iris = iris.drop('species', axis=1) \n",
    "y_iris = iris['species'] # extraction de la colonne"
   ]
  },
  {
   "cell_type": "code",
   "execution_count": 7,
   "metadata": {},
   "outputs": [
    {
     "data": {
      "text/plain": [
       "(150, 4)"
      ]
     },
     "execution_count": 7,
     "metadata": {},
     "output_type": "execute_result"
    }
   ],
   "source": [
    "X_iris.shape \n",
    "\n",
    "#150 variables\n",
    "#4 caractéristiques/features"
   ]
  },
  {
   "cell_type": "code",
   "execution_count": 8,
   "metadata": {},
   "outputs": [
    {
     "data": {
      "text/plain": [
       "(150,)"
      ]
     },
     "execution_count": 8,
     "metadata": {},
     "output_type": "execute_result"
    }
   ],
   "source": [
    "y_iris.shape"
   ]
  },
  {
   "cell_type": "markdown",
   "metadata": {
    "slideshow": {
     "slide_type": "slide"
    }
   },
   "source": [
    "<div class=\"alert alert-info\">\n",
    "\n",
    "<b><h2>Erreur de généralisation</h2></b>"
   ]
  },
  {
   "cell_type": "code",
   "execution_count": 6,
   "metadata": {},
   "outputs": [],
   "source": [
    "#Étape 2 : créer les données X et Y\n",
    "iris = sns.load_dataset('iris')\n",
    "X_iris = iris.drop('species', axis=1)\n",
    "y_iris = iris['species']"
   ]
  },
  {
   "cell_type": "markdown",
   "metadata": {
    "slideshow": {
     "slide_type": "subslide"
    }
   },
   "source": [
    "<div class=\"alert alert-success\">\n",
    "<b>question 2: avec quelle précision pouvons-nous prédire les étiquettes?</b>\n",
    "<br><br>\n",
    "<li>le modèle à utiliser est Bayes naive Gaussien\n",
    "<li>ce modèle suppose que chaque classe est tirée d'une distribution gaussienne alignée sur les axes\n",
    "<li> c'est un model si vite\n",
    "<li>il n'y a pas d'hyperparamètres\n",
    "<li>il est est souvent un bon modèle de classification de base\n",
    "</div>"
   ]
  },
  {
   "cell_type": "raw",
   "metadata": {},
   "source": [
    "Les étapes les plus courantes d'utilisation des estimateurs:\n",
    "1-Choisir la classe de modèle / estimateur\n",
    "2-Choisir les hyperparameters du modèle\n",
    "3-Organiser les données dans une matrice d'entités et un vecteur cible\n",
    "4-Adapter le modèle à vos données, méthode fit()\n",
    "5-Appliquez le modèle à de nouvelles données"
   ]
  },
  {
   "cell_type": "code",
   "execution_count": 7,
   "metadata": {},
   "outputs": [],
   "source": [
    "import sklearn"
   ]
  },
  {
   "cell_type": "code",
   "execution_count": 8,
   "metadata": {},
   "outputs": [],
   "source": [
    "from sklearn import metrics"
   ]
  },
  {
   "cell_type": "code",
   "execution_count": 9,
   "metadata": {},
   "outputs": [
    {
     "name": "stdout",
     "output_type": "stream",
     "text": [
      "Prediction accuracy 96.00%\n"
     ]
    }
   ],
   "source": [
    "from sklearn import naive_bayes\n",
    "# Étape 1 : choisir classe de modèle et les hyperparameters du modèle\n",
    "model = naive_bayes.GaussianNB() #créer le modèle \n",
    "\n",
    "#Étape 2 et 3 : créer les données X et Y (définir les paramètres)\n",
    "iris = sns.load_dataset('iris')\n",
    "X_iris = iris.drop('species', axis=1) #entrainer un modèle X_iris afin de prédire Y_iris\n",
    "y_iris = iris['species'] # organiser les données dans une matrice\n",
    "\n",
    "# Étape 4 : adapter le modèle aux données\n",
    "model.fit(X_iris, y_iris) #implémente la base de données\n",
    "\n",
    "#cadre de données = X_iris -> contient les colonnes sepal_length, sepal_width, petal_lengt, petal_width\n",
    "# il va apprendre les caractéristiques Y_iris -> species.\n",
    "\n",
    "# Étape 5 : appliquer le modèle\n",
    "y_model = model.predict(X_iris) #prédiction\n",
    "\n",
    "#ici ERREUR, on voit des erreurs dans la prédiction de l'algorithme -> devrait être 100%. \n",
    "# problème, nous avons appliqué le modèle sur le même cadre de données... \n",
    "# On appelle ceci un erreur de généralisation\n",
    "# il faut l'appliquée sur un nouveau modèle, des nouvelles données!\n",
    "\n",
    "# Afficher la précision des prédictions\n",
    "print(f'Prediction accuracy {sklearn.metrics.accuracy_score(y_iris, y_model):.2%}')\n",
    "#print(f'Prediction accuracy {model.metrics.accuracy_score(y_iris, y_model):.2%}')\n"
   ]
  },
  {
   "cell_type": "markdown",
   "metadata": {
    "slideshow": {
     "slide_type": "subslide"
    }
   },
   "source": [
    "<div class=\"alert alert-success\">\n",
    "<li>quand on entrâine l'algorithm d'apprentissage avec notre ensemble de données et ensuite nous testons l'algorithm avec le même ensemble de données => l'erreur que nous calculons est biaisée, car l'algorithm est devenu spécialiste de l'ensemble d'entraînement. L'erreur calculée ne dit absolument rien des capacités qu'aura l'algorithm sur de nouvelles données.\n",
    "<li>quand on utilise 2 ensembles de données (entraînement + test), l'erreur de généralisation peut être calculer avec l'ensemble de test\n",
    "</div>"
   ]
  },
  {
   "cell_type": "code",
   "execution_count": null,
   "metadata": {},
   "outputs": [],
   "source": [
    "# cadre données contient des données plus large ou moins de données\n",
    "# il y a une grande ou moins grande distribution entre les données\n",
    "\n",
    "#TROP DE DONNÉES\n",
    "# si cadre de données trop grand -> ça va diminuer la variance entre les données (meilleure précision de la prédiction)\n",
    "# mais augmente le biais car le cadre données va être concentré dans une direction \n",
    "#peut mener à une conclusion qui n'est pas en lien avec le cadre de données -> inférences\n",
    "\n",
    "#PAS ASSEZ DE DONNÉES\n",
    "# si cadre de données trop petit -> ça va augmenter la variance entre les données (mauvaise précision de la prédiction)\n",
    "# mais diminue le biais, donc diminution de la précision -> prediction accuracy\n",
    "\n",
    "\n"
   ]
  },
  {
   "cell_type": "markdown",
   "metadata": {},
   "source": [
    "<center><img src=\"img/trade_off_bias.jpg\"></center>"
   ]
  },
  {
   "cell_type": "markdown",
   "metadata": {
    "slideshow": {
     "slide_type": "subslide"
    }
   },
   "source": [
    "<div class=\"alert alert-success\">\n",
    "<li>les résultats dépendent du nombre de formations à évaluer; si les données de formation sont peu nombreuses, vous ne vous en tirez peut-être pas aussi bien, mais uniquement parce que vous n'avez pas vu suffisamment de données.\n",
    "<li>c'est l'erreur sur de nouvelles données</div>"
   ]
  },
  {
   "cell_type": "markdown",
   "metadata": {
    "slideshow": {
     "slide_type": "subslide"
    }
   },
   "source": [
    "<div class=\"alert alert-success\">\n",
    "<li>Pour tester le modèle Bayes naive Gaussien, nous avons besoin de données qui n'ont pas été utilisées dans l'analyse. Pour cela, nous allons scinder les données en:\n",
    "<ol><li>un ensemble de formation\n",
    "<li>un ensemble de test</ol>\n",
    "</div>"
   ]
  },
  {
   "cell_type": "code",
   "execution_count": 28,
   "metadata": {},
   "outputs": [
    {
     "data": {
      "text/plain": [
       "750"
      ]
     },
     "execution_count": 28,
     "metadata": {},
     "output_type": "execute_result"
    }
   ],
   "source": [
    "iris.size"
   ]
  },
  {
   "cell_type": "code",
   "execution_count": 10,
   "metadata": {},
   "outputs": [],
   "source": [
    "# ont doit eviter la division en groupes:\n",
    "\n",
    "# on va créer deux groupes \n",
    "# contient les 50 dernières valeurs\n",
    "\n",
    "Xtrain = X_iris[:-50]\n",
    "Xtest = X_iris[-50:]\n",
    "ytrain = y_iris[:-50]\n",
    "ytest = y_iris[-50:]\n",
    "\n",
    "\n",
    "\n",
    "# cette approche augmente la probabilité qu'un cadre donéées contiennent \n",
    "# plus de données qu'un autre -> donc mauvaise distribution \n",
    "\n",
    "# pour éviter cette limitation -> train_test_split() \n",
    "# -> permet de faire aléatoirement l'extractions des données"
   ]
  },
  {
   "cell_type": "markdown",
   "metadata": {
    "slideshow": {
     "slide_type": "subslide"
    }
   },
   "source": [
    "<div class=\"alert alert-success\">\n",
    "<li>ou nous pouvons utiliser la fonction <i><b>train_test_split()<b></i>\n",
    "</div>"
   ]
  },
  {
   "cell_type": "code",
   "execution_count": 11,
   "metadata": {},
   "outputs": [],
   "source": [
    "from sklearn import model_selection"
   ]
  },
  {
   "cell_type": "code",
   "execution_count": 12,
   "metadata": {},
   "outputs": [
    {
     "data": {
      "text/plain": [
       "0.9736842105263158"
      ]
     },
     "execution_count": 12,
     "metadata": {},
     "output_type": "execute_result"
    }
   ],
   "source": [
    "# 1. choisir la classe de modèle\n",
    "# from sklearn.naive_bayes import GaussianNB\n",
    "\n",
    "# 2. choisir les hyperparameters du modèle\n",
    "model = naive_bayes.GaussianNB()\n",
    "\n",
    "#ici même chose que vue plus bas\n",
    "#composantes = ecomposition.PCA(n_components=2\n",
    "#model = naive_bayes.GaussianNB().fit(composantes, ytrain)\n",
    "#unscaled_clf = pipeline.make_pipeline(\n",
    "#                            decomposition.PCA(n_components=2), \n",
    "#                            naive_bayes.GaussianNB())\n",
    "\n",
    "# 3.  arranger les données\n",
    "# from sklearn.model_selection import train_test_split\n",
    "#créer deux cadres de données \n",
    "#train = entrainement de la création du modèle\n",
    "#\n",
    "\n",
    "Xtrain, Xtest, ytrain, ytest = model_selection.train_test_split(\n",
    "                                                X_iris, y_iris,\n",
    "                                                random_state=1)\n",
    "#on créer un cadre de données \n",
    "# radom_state=1 -> permet de reproduire le même cadre de données\n",
    "# chaque fois qu'on implémente selection.train_test_split -> ça va créer un nouveau cadre de données\n",
    "\n",
    "# 4. adapter le modèle aux données\n",
    "model.fit(Xtrain, ytrain)\n",
    "\n",
    "#pour créer les règles = ytrain, il faut que ça soit appliqué sur notre cadre de données = Xtrain\n",
    "\n",
    "\n",
    "# 5. appliquer le modèle à de nouvelles données\n",
    "y_model = model.predict(Xtest)\n",
    "\n",
    "#y_model va être prédit à partir du Xtest, et non le Xtrain\n",
    "#permet de faire une prédiction sur un nouveau cadre de données, sinon erreur de généralisation\n",
    "\n",
    "# Utilisez l'utilitaire accuracy_score\n",
    "# pour afficher la fraction d'étiquettes prédites correspondant à leur valeur réelle:\n",
    "\n",
    "sklearn.metrics.accuracy_score(ytest, y_model)\n",
    "\n",
    "#fait le comparaison entre y test(qui doit être prédit) et le y_model qui était prédit.\n",
    "\n",
    "# réussit à faire seulement 3 % d'erreur\n",
    "# y_model réussit de prédire 97% des valeurs"
   ]
  },
  {
   "cell_type": "markdown",
   "metadata": {
    "slideshow": {
     "slide_type": "subslide"
    }
   },
   "source": [
    "<div class=\"alert alert-success\">\n",
    "<li>quand nous n'avons pas beaucoup de données et l'algorithm à besoin de \"toutes\" les données ? => Utiliser la validation-croisée\n",
    "</div>"
   ]
  },
  {
   "cell_type": "markdown",
   "metadata": {
    "slideshow": {
     "slide_type": "slide"
    }
   },
   "source": [
    "<div class=\"alert alert-info\">\n",
    "\n",
    "### Validation croisée (cross-validation) /  Entrainement / test"
   ]
  },
  {
   "cell_type": "markdown",
   "metadata": {
    "slideshow": {
     "slide_type": "subslide"
    }
   },
   "source": [
    "<div class=\"alert alert-success\">\n",
    "<ul>\n",
    "<li>Supposons un modèle statistique avec un ou plusieurs paramètres inconnus\n",
    "<li>et un ensemble de données d'apprentissage sur lequel on peut entraîner le modèle\n",
    "<li>le processus d'apprentissage optimise les paramètres du modèle afin que celui-ci corresponde aux données le mieux possible\n",
    "<li>si on prend ensuite un échantillon de validation indépendant issu de la même population d'entraînement, il s'avérera en général que le modèle ne réagit pas aussi bien à la validation que durant l'entraînement : on parle parfois de surapprentissage\n",
    "<li>la validation croisée est un moyen de prédire l'efficacité d'un modèle sur un ensemble de validation hypothétique lorsqu'un ensemble de validation indépendant et explicite n'est pas disponible. </ul>\n",
    "\n",
    "</div>"
   ]
  },
  {
   "cell_type": "code",
   "execution_count": 27,
   "metadata": {},
   "outputs": [],
   "source": [
    "# validation doit toujours être la méthode utilisée\n",
    "# méthode implémenter sur les scripts d'apprentissage automatique\n",
    "\n",
    "#cadre de données accpetables = habituellement 20-25 participants et + \n",
    "\n",
    "#algorithme non-supervisé -> la grande variation entre les données peut influencé notre modèle \n",
    "#erreur éviter avec la validation croisée\n",
    "\n",
    "#Algorithme supervisé -> peut être implémenter sur un cadre de données de 20 à 25, mais évaluateurs vont \n",
    "# demander de fournir une explication pour que l'algorithme soit bon avec un petit échantillon"
   ]
  },
  {
   "cell_type": "markdown",
   "metadata": {},
   "source": [
    "<div class=\"alert alert-success\">\n",
    "<b>3 variantes sont utilisé:</b>\n",
    "\n",
    "<ol><li>testset validation / holdout validation / split sample\n",
    "    <li>k-fold cross-validation \n",
    "    <li>LOOCV - leave-one-out cross-validation </ol></div>"
   ]
  },
  {
   "cell_type": "markdown",
   "metadata": {},
   "source": [
    "<div class=\"alert alert-success\">\n",
    "<b>testset validation / holdout validation / split sample</b>\n",
    "<p>\n",
    "<li>on divise l'échantillon de taille n en deux sous-échantillons:  échantillon d'apprentissage (communément supérieur à 60 % de l'échantillon) et échantillon test\n",
    "<li>le modèle est bâti sur l'échantillon d'apprentissage et validé sur l'échantillon de test\n",
    "<li>l'erreur est estimée en calculant un test, une mesure ou un score de performance du modèle sur l'échantillon de test (e.g., l'erreur quadratique moyenne) "
   ]
  },
  {
   "cell_type": "code",
   "execution_count": 13,
   "metadata": {},
   "outputs": [],
   "source": [
    "# même approche que testset validation\n",
    "Xtrain = X_iris[:-50]\n",
    "Xtest = X_iris[-50:] # colonne avec une prédiction de 100% \n",
    "ytrain = y_iris[:-50] # colonne utiliser pour la prédiction\n",
    "ytest = y_iris[-50:]\n",
    "\n",
    "# objectif y model = à 100% à y_test\n",
    "\n",
    "#mais il va créer une boucle\n",
    "#établit les régles dans le train_test_split"
   ]
  },
  {
   "cell_type": "markdown",
   "metadata": {
    "slideshow": {
     "slide_type": "subslide"
    }
   },
   "source": [
    "<div class=\"alert alert-success\">\n",
    "<b>k-fold cross-validation</b>\n",
    "<ul>\n",
    "<li>on divise l'échantillon original en k échantillons\n",
    "<li>puis on sélectionne un des k échantillons comme ensemble de validation\n",
    "<li>et les k − 1 autres échantillons constitueront l'ensemble d'apprentissage\n",
    "<li>on calcule comme dans la première méthode le score de performance\n",
    "<li>puis on répète l'opération en sélectionnant un autre échantillon de validation parmi les k − 1 échantillons qui n'ont pas encore été utilisés pour la validation du modèle\n",
    "<li>l'opération se répète ainsi k fois pour qu'en fin de compte chaque sous-échantillon ait été utilisé exactement une fois comme ensemble de validation\n",
    "<li>la moyenne des k erreurs quadratiques moyennes est enfin calculée pour estimer l'erreur de prédiction</ul>\n",
    "\n",
    "<br><br><b>Déscription algorithm</b>\n",
    "<br>Conditions:\n",
    "<li>diviser toutes les données disponibles en k groupes\n",
    "<li>erreur = 0\n",
    "\n",
    "<br><br>\n",
    "Algorithm:\n",
    "<li>Pour i allant de 1 à k:\n",
    "\n",
    "<li> ensemble_Test = groupe(i);\n",
    "<li> ensemble_Entraînement = groupe(1 à k-i);\n",
    "<li> AA(ensemble_Entraînement)\n",
    "<li> Erreur += erreur_test_AA(AA, ensemble_Entraînement)\n",
    "</div>"
   ]
  },
  {
   "cell_type": "code",
   "execution_count": null,
   "metadata": {},
   "outputs": [],
   "source": [
    "#méthode à utiliser le plus souvent -> k-fold cross-validation (celle qu'il conseil d'utiliser)"
   ]
  },
  {
   "cell_type": "markdown",
   "metadata": {},
   "source": [
    "<center><img src=\"img/grid_search_cross_validation.png\"></center>\n",
    "source: https://scikit-learn.org/stable/_images/grid_search_cross_validation.png"
   ]
  },
  {
   "cell_type": "markdown",
   "metadata": {
    "slideshow": {
     "slide_type": "subslide"
    }
   },
   "source": [
    "<div class=\"alert alert-success\">\n",
    "<b>LOOCV - leave-one-out cross-validation</b>\n",
    "<ul>\n",
    "<li>cas particulier de la deuxième méthode où k = n\n",
    "<li>on apprend sur n − 1 observations\n",
    "<li>puis on valide le modèle sur la énième observation\n",
    "<li>et l'on répète cette opération n fois</ul>\n",
    "\n",
    "<br><br><b>Déscription algorithm</b>\n",
    "<br>Conditions:\n",
    "<li> n données\n",
    "<li> k = n\n",
    "<li> groupes de dimension 1\n",
    "<li> Erreur = 0\n",
    "<br><br>\n",
    "Algorithm:\n",
    "<li>Pour i allant de 1 à n:\n",
    "\n",
    "<li>   ensemble_Test = N(i);\n",
    "<li>   ensemble_Entraînement = N(1 à k-i);\n",
    "<li>   AA(ensemble_Entraînement)\n",
    "<li>   Erreur += erreur_test_AA(AA, ensemble_Entraînement)\n",
    "</div>"
   ]
  },
  {
   "cell_type": "code",
   "execution_count": null,
   "metadata": {},
   "outputs": [],
   "source": [
    "# cadre de données de 10 valeurs \n",
    "# dernière valeur utilisé pour la prédiction \n",
    "# autres valeurs utilisées pour créer le modèle \n",
    "\n",
    "# et ainsi de suite. 9,8,7,6,5,4,3,2,1."
   ]
  },
  {
   "cell_type": "markdown",
   "metadata": {},
   "source": [
    "<center><img src=\"img/loocv.png\"></center>\n",
    "source: https://sebastianraschka.com/images/blog/2016/model-evaluation-selection-part3/loocv.png"
   ]
  },
  {
   "cell_type": "markdown",
   "metadata": {},
   "source": [
    "<center><img src=\"img/ML_prediction_potential_Bzdok.png\"></center>"
   ]
  },
  {
   "cell_type": "code",
   "execution_count": null,
   "metadata": {},
   "outputs": [],
   "source": [
    "# après la validation croisée -> on doit trouver un algorithme\n",
    "#on peut commencer avec régresion linéaire, et ensuite augmenter la difficulté avec un plus difficile\n",
    "\n",
    "# certains modèles ont un plus grande capacité à prédire des modèles complexes\n",
    "# chaque algorithme va créer un résultat\n",
    "\n",
    "# algorithme qui sont difficile à trouver une régle : régression linéaire, arbre de décision, vecteurs de support, \n",
    "# algorithme complexe : K-near, arbre aléatoire, deep learning"
   ]
  },
  {
   "cell_type": "markdown",
   "metadata": {
    "slideshow": {
     "slide_type": "slide"
    }
   },
   "source": [
    "<div class=\"alert alert-info\">\n",
    "<h3>Importance de la mise à l'échelle des fonctionnalités </h3></div>"
   ]
  },
  {
   "cell_type": "markdown",
   "metadata": {},
   "source": [
    "\n",
    "<div class=\"alert alert-success\">\n",
    "<li> Voici un exemple avec PCA qui souligne l'importance de la normalisation des fonctionnalités: l'ACP est effectuée en comparant l'utilisation des données avec StandardScaler appliqué, aux données non mises à l'échelle.\n",
    "<li> PCA décrit les composants qui maximisent la variance. Si un composant (par exemple la taille humaine) varie moins qu'un autre (par exemple le poids) en raison de leurs échelles respectives (mètres par rapport aux kilos) et que les caractéristiques ne sont pas normalisées, l'ACP pourrait déterminer que la direction de la variance maximale correspond plus à l'axe du poids. Étant donné qu'un changement de hauteur d'un mètre peut être considéré comme beaucoup plus important que le changement de poids d'un kilogramme (c'est incorrect)\n",
    "</div>"
   ]
  },
  {
   "cell_type": "markdown",
   "metadata": {},
   "source": [
    "<div class=\"alert alert-success\">\n",
    "<li>L'ensemble de données utilisé est l'ensemble de données du Vin <i>(California housing dataset)</i>.\n",
    "<li>L'ensemblre de données présente des caractéristiques continues dont l'échelle est hétérogène en raison des propriétés différentes qu'elles mesurent (la teneur en alcool et l'acide malique)</div>"
   ]
  },
  {
   "cell_type": "code",
   "execution_count": null,
   "metadata": {},
   "outputs": [],
   "source": [
    "# exemple visuelle qui explique pourquoi c'est important de faire la standardisation"
   ]
  },
  {
   "cell_type": "markdown",
   "metadata": {},
   "source": [
    "<div class=\"alert alert-danger\">\n",
    "    \n",
    "### but de cette section? "
   ]
  },
  {
   "cell_type": "code",
   "execution_count": 14,
   "metadata": {},
   "outputs": [],
   "source": [
    "import sklearn\n",
    "import numpy as np"
   ]
  },
  {
   "cell_type": "code",
   "execution_count": 30,
   "metadata": {},
   "outputs": [],
   "source": [
    "# Code source: Tyler Lanigan <tylerlanigan@gmail.com>\n",
    "#              Sebastian Raschka <mail@sebastianraschka.com>\n",
    "\n",
    "# License: BSD 3 clause\n",
    "\n",
    "RANDOM_STATE = 42\n",
    "FIG_SIZE = (10, 7)\n",
    "\n",
    "\n",
    "#features, target = sklearn.datasets.load_wine(return_X_y=True)\n",
    "\n",
    "from sklearn import datasets\n",
    "features, target = datasets.load_wine(return_X_y=True)"
   ]
  },
  {
   "cell_type": "code",
   "execution_count": 31,
   "metadata": {},
   "outputs": [
    {
     "data": {
      "text/plain": [
       "array([[1.423e+01, 1.710e+00, 2.430e+00, ..., 1.040e+00, 3.920e+00,\n",
       "        1.065e+03],\n",
       "       [1.320e+01, 1.780e+00, 2.140e+00, ..., 1.050e+00, 3.400e+00,\n",
       "        1.050e+03],\n",
       "       [1.316e+01, 2.360e+00, 2.670e+00, ..., 1.030e+00, 3.170e+00,\n",
       "        1.185e+03],\n",
       "       ...,\n",
       "       [1.327e+01, 4.280e+00, 2.260e+00, ..., 5.900e-01, 1.560e+00,\n",
       "        8.350e+02],\n",
       "       [1.317e+01, 2.590e+00, 2.370e+00, ..., 6.000e-01, 1.620e+00,\n",
       "        8.400e+02],\n",
       "       [1.413e+01, 4.100e+00, 2.740e+00, ..., 6.100e-01, 1.600e+00,\n",
       "        5.600e+02]])"
      ]
     },
     "execution_count": 31,
     "metadata": {},
     "output_type": "execute_result"
    }
   ],
   "source": [
    "features #structure ordre numpy"
   ]
  },
  {
   "cell_type": "code",
   "execution_count": 32,
   "metadata": {},
   "outputs": [
    {
     "data": {
      "text/plain": [
       "array([0, 0, 0, 0, 0, 0, 0, 0, 0, 0, 0, 0, 0, 0, 0, 0, 0, 0, 0, 0, 0, 0,\n",
       "       0, 0, 0, 0, 0, 0, 0, 0, 0, 0, 0, 0, 0, 0, 0, 0, 0, 0, 0, 0, 0, 0,\n",
       "       0, 0, 0, 0, 0, 0, 0, 0, 0, 0, 0, 0, 0, 0, 0, 1, 1, 1, 1, 1, 1, 1,\n",
       "       1, 1, 1, 1, 1, 1, 1, 1, 1, 1, 1, 1, 1, 1, 1, 1, 1, 1, 1, 1, 1, 1,\n",
       "       1, 1, 1, 1, 1, 1, 1, 1, 1, 1, 1, 1, 1, 1, 1, 1, 1, 1, 1, 1, 1, 1,\n",
       "       1, 1, 1, 1, 1, 1, 1, 1, 1, 1, 1, 1, 1, 1, 1, 1, 1, 1, 1, 1, 2, 2,\n",
       "       2, 2, 2, 2, 2, 2, 2, 2, 2, 2, 2, 2, 2, 2, 2, 2, 2, 2, 2, 2, 2, 2,\n",
       "       2, 2, 2, 2, 2, 2, 2, 2, 2, 2, 2, 2, 2, 2, 2, 2, 2, 2, 2, 2, 2, 2,\n",
       "       2, 2])"
      ]
     },
     "execution_count": 32,
     "metadata": {},
     "output_type": "execute_result"
    }
   ],
   "source": [
    "target #cadre de données dans des valeurs integer "
   ]
  },
  {
   "cell_type": "code",
   "execution_count": 33,
   "metadata": {},
   "outputs": [],
   "source": [
    " from sklearn import model_selection\n",
    "\n",
    "X_train, X_test, y_train, y_test =sklearn.model_selection.train_test_split(features, target,\n",
    "                                                     test_size=0.30,\n",
    "                                                     random_state=RANDOM_STATE)\n"
   ]
  },
  {
   "cell_type": "code",
   "execution_count": 69,
   "metadata": {},
   "outputs": [],
   "source": [
    "# Faire une séparation train/test en utilisant une taille de test de 30%\n",
    "\n",
    "# X_train, X_test, y_train, y_test =sklearn.model_selection.train_test_split(features, target,\n",
    "#                                                     test_size=0.30,\n",
    "#                                                     random_state=RANDOM_STATE)\n",
    "\n",
    "from sklearn import model_selection\n",
    "X_train, X_test, y_train, y_test =model_selection.train_test_split(features, target,\n",
    "                                                    test_size=0.30,\n",
    "                                                   random_state=RANDOM_STATE)"
   ]
  },
  {
   "cell_type": "markdown",
   "metadata": {},
   "source": [
    "<div class=\"alert alert-success\">\n",
    "<li>Les données sont ensuite utilisées pour entraîner un classificateur Bayes naïf - GaussianNB</div>"
   ]
  },
  {
   "cell_type": "code",
   "execution_count": 71,
   "metadata": {},
   "outputs": [
    {
     "data": {
      "text/plain": [
       "array([0, 0, 2, 0, 1, 0, 1, 2, 1, 2, 0, 2, 0, 1, 0, 1, 1, 1, 0, 1, 0, 1,\n",
       "       1, 2, 2, 2, 1, 1, 1, 0, 0, 1, 2, 0, 0, 0, 2, 2, 1, 2, 1, 1, 1, 1,\n",
       "       2, 0, 1, 1, 2, 0, 1, 0, 0, 2])"
      ]
     },
     "execution_count": 71,
     "metadata": {},
     "output_type": "execute_result"
    }
   ],
   "source": [
    "# Ajuster aux données et prédire à l'aide de GNB et l'ACP en pipeline (extraction des composantes).\n",
    "# pour les données non mises à l'échelle\n",
    "\n",
    "from sklearn import pipeline\n",
    "from sklearn import decomposition\n",
    "from sklearn import naive_bayes\n",
    "\n",
    "# unscaled_clf = sklearn.pipeline.make_pipeline(decomposition.PCA(n_components=2), naive_bayes.GaussianNB())\n",
    "unscaled_clf = pipeline.make_pipeline(\n",
    "                            decomposition.PCA(n_components=2), #calcul les deux composantes les plus importantes\n",
    "                            naive_bayes.GaussianNB()) # permet de faire la prédiction\n",
    "\n",
    "unscaled_clf.fit(X_train, y_train) # prend les données de X_train et y_train\n",
    "\n",
    "\n",
    "pred_test = unscaled_clf.predict(X_test)\n",
    "\n",
    "# pour les données mises à l'échelle\n",
    "# std_clf = sklearn.pipeline.make_pipeline(preprocessing.StandardScaler(), decomposition.PCA(n_components=2), naive_bayes.GaussianNB())\n",
    "std_clf = pipeline.make_pipeline(sklearn.preprocessing.StandardScaler(), #ajouter la standardisation\n",
    "                                 decomposition.PCA(n_components=2),\n",
    "                                 naive_bayes.GaussianNB())\n",
    "std_clf.fit(X_train, y_train) #le fit\n",
    "pred_test_std = std_clf.predict(X_test) # la prédiction \n",
    "pred_test_std"
   ]
  },
  {
   "cell_type": "code",
   "execution_count": 74,
   "metadata": {},
   "outputs": [],
   "source": [
    "# Extraire l'ACP du pipeline\n",
    "pca = unscaled_clf.named_steps['pca']\n",
    "pca_std = std_clf.named_steps['pca']"
   ]
  },
  {
   "cell_type": "code",
   "execution_count": 75,
   "metadata": {},
   "outputs": [
    {
     "name": "stdout",
     "output_type": "stream",
     "text": [
      "PC 1 without scaling:\n",
      " [ 1.76342917e-03 -8.35544737e-04  1.54623496e-04 -5.31136096e-03\n",
      "  2.01663336e-02  1.02440667e-03  1.53155502e-03 -1.11663562e-04\n",
      "  6.31071580e-04  2.32645551e-03  1.53606718e-04  7.43176482e-04\n",
      "  9.99775716e-01]\n",
      "\n",
      "PC 1 with scaling:\n",
      " [ 0.13443023 -0.25680248 -0.0113463  -0.23405337  0.15840049  0.39194918\n",
      "  0.41607649 -0.27871336  0.33129255 -0.11383282  0.29726413  0.38054255\n",
      "  0.27507157]\n"
     ]
    }
   ],
   "source": [
    "# Afficher les premiers composants principaux\n",
    "print('PC 1 without scaling:\\n', pca.components_[0])\n",
    "print('\\nPC 1 with scaling:\\n', pca_std.components_[0])\n",
    "\n",
    "#on voit une différence entre les composantes "
   ]
  },
  {
   "cell_type": "code",
   "execution_count": 38,
   "metadata": {},
   "outputs": [
    {
     "data": {
      "image/png": "[encoded data removed]",
      "text/plain": [
       "<Figure size 720x504 with 2 Axes>"
      ]
     },
     "metadata": {},
     "output_type": "display_data"
    }
   ],
   "source": [
    "# Utiliser l'ACP sans et avec échelle sur les données X_train\n",
    "# pour la visualisation.\n",
    "X_train_transformed = pca.transform(X_train)\n",
    "scaler = std_clf.named_steps['standardscaler']\n",
    "X_train_std_transformed = pca_std.transform(scaler.transform(X_train))\n",
    "\n",
    "# visualiser un ensemble de données standardisé\n",
    "# ou non standardisé avec l'ACP effectuée\n",
    "fig, (ax1, ax2) = plt.subplots(ncols=2, figsize=FIG_SIZE)\n",
    "\n",
    "\n",
    "for l, c, m in zip(range(0, 3), ('blue', 'red', 'green'), ('^', 's', 'o')):\n",
    "    ax1.scatter(X_train_transformed[y_train == l, 0],\n",
    "                X_train_transformed[y_train == l, 1],\n",
    "                color=c,\n",
    "                label='groupe %s' % l,\n",
    "                alpha=0.5,\n",
    "                marker=m\n",
    "                )\n",
    "\n",
    "for l, c, m in zip(range(0, 3), ('blue', 'red', 'green'), ('^', 's', 'o')):\n",
    "    ax2.scatter(X_train_std_transformed[y_train == l, 0],\n",
    "                X_train_std_transformed[y_train == l, 1],\n",
    "                color=c,\n",
    "                label='groupe %s' % l,\n",
    "                alpha=0.5,\n",
    "                marker=m\n",
    "                )\n",
    "\n",
    "ax1.set_title('données d\\'entraînement NON standardisé après l\\'ACP')\n",
    "ax2.set_title('données d\\'entraînement standardisé après l\\'ACP')\n",
    "\n",
    "for ax in (ax1, ax2):\n",
    "    ax.set_xlabel('1er composante principale')\n",
    "    ax.set_ylabel('2e composante principale')\n",
    "    ax.legend(loc='upper right')\n",
    "    ax.grid()\n",
    "\n",
    "plt.tight_layout()\n",
    "\n",
    "plt.show()"
   ]
  },
  {
   "cell_type": "code",
   "execution_count": 39,
   "metadata": {},
   "outputs": [],
   "source": [
    "# voit qu'il y a une meilleure standardisation dans l'entrainement standardisé\n",
    "# il arrive à mieux classifier"
   ]
  },
  {
   "cell_type": "markdown",
   "metadata": {},
   "source": [
    "<div class=\"alert alert-success\">\n",
    "<li>Voici les résultats du 1er volet principal\n",
    "<li>dans l'ensemble non mis à l'échelle, la caractéristique bleue domine la direction\n",
    "<li>dans la version à l'échelle, l'importance des fonctionnalités est à peu près la même</div>"
   ]
  },
  {
   "cell_type": "markdown",
   "metadata": {},
   "source": [
    "<div class=\"alert alert-success\">\n",
    "<li>les précisions de prédiction montrent des différences importantes. <li>Les données qui ont été mises à l'échelle avant que PCA surpasse largement la version non mise à l'échelle.</div>"
   ]
  },
  {
   "cell_type": "code",
   "execution_count": 40,
   "metadata": {},
   "outputs": [
    {
     "name": "stdout",
     "output_type": "stream",
     "text": [
      "Prediction accuracy for the normal test:       81.48%\n",
      "\n",
      "Prediction accuracy for the standardized test:      98.15%\n"
     ]
    }
   ],
   "source": [
    "# Afficher la précision des prédictions\n",
    "# dans les données non mises à l'échelle\n",
    "# print('{:.2%}\\n'.format(sklearn.metrics.accuracy_score(y_test, pred_test)))\n",
    "print(f'Prediction accuracy for the normal test: \\\n",
    "      {sklearn.metrics.accuracy_score(y_test, pred_test):.2%}')\n",
    "\n",
    "# et les données mises à l'échelle\n",
    "print(f'\\nPrediction accuracy for the standardized test:\\\n",
    "      {sklearn.metrics.accuracy_score(y_test, pred_test_std):.2%}')\n",
    "\n",
    "# le deux indiquent le nom de variables après la virgule \n"
   ]
  },
  {
   "cell_type": "markdown",
   "metadata": {},
   "source": [
    "<div class=\"alert alert-info\">\n",
    "<h3>Visualisation stats:\n",
    "    <br><br>\n",
    "    Matrice de confusion (confusion matrix)</h3></div>"
   ]
  },
  {
   "cell_type": "markdown",
   "metadata": {},
   "source": [
    "<div class=\"alert alert-success\">\n",
    "<li>Pour évaluer la qualité de la sortie d'un classificateur, une matrice de confusion peut être utilisée: <b>sklearn.metrics.plot_confusion_matrix</b><p></div>"
   ]
  },
  {
   "cell_type": "code",
   "execution_count": 41,
   "metadata": {},
   "outputs": [],
   "source": [
    "class_names = datasets.load_wine().target_names\n",
    "classifier_unscaled = unscaled_clf.fit(X_train, y_train) # prédiction sur le cadre de données non-standardisée\n",
    "classifier_scaled = std_clf.fit(X_train, y_train) # prédiction sur le cadre de données standardisée"
   ]
  },
  {
   "cell_type": "code",
   "execution_count": 42,
   "metadata": {},
   "outputs": [
    {
     "data": {
      "text/plain": [
       "array(['class_0', 'class_1', 'class_2'], dtype='<U7')"
      ]
     },
     "execution_count": 42,
     "metadata": {},
     "output_type": "execute_result"
    }
   ],
   "source": [
    "datasets.load_wine().target_names"
   ]
  },
  {
   "cell_type": "markdown",
   "metadata": {},
   "source": [
    "<div class=\"alert alert-danger\">\n",
    "    \n",
    "### utilise quelles données dans la matrice de confusion? "
   ]
  },
  {
   "cell_type": "code",
   "execution_count": 43,
   "metadata": {},
   "outputs": [
    {
     "name": "stderr",
     "output_type": "stream",
     "text": [
      "C:\\Users\\Dylan\\AppData\\Roaming\\Python\\Python310\\site-packages\\sklearn\\utils\\deprecation.py:87: FutureWarning: Function plot_confusion_matrix is deprecated; Function `plot_confusion_matrix` is deprecated in 1.0 and will be removed in 1.2. Use one of the class methods: ConfusionMatrixDisplay.from_predictions or ConfusionMatrixDisplay.from_estimator.\n",
      "  warnings.warn(msg, category=FutureWarning)\n",
      "C:\\Users\\Dylan\\AppData\\Roaming\\Python\\Python310\\site-packages\\sklearn\\utils\\deprecation.py:87: FutureWarning: Function plot_confusion_matrix is deprecated; Function `plot_confusion_matrix` is deprecated in 1.0 and will be removed in 1.2. Use one of the class methods: ConfusionMatrixDisplay.from_predictions or ConfusionMatrixDisplay.from_estimator.\n",
      "  warnings.warn(msg, category=FutureWarning)\n"
     ]
    },
    {
     "name": "stdout",
     "output_type": "stream",
     "text": [
      "Matrice de confusion, sans normalisation\n",
      "[[19  0  0]\n",
      " [ 0 15  6]\n",
      " [ 1  3 10]]\n",
      "Matrice de confusion normalisée\n",
      "[[1.         0.         0.        ]\n",
      " [0.         0.71428571 0.28571429]\n",
      " [0.07142857 0.21428571 0.71428571]]\n"
     ]
    },
    {
     "data": {
      "image/png": "[encoded data removed]",
      "text/plain": [
       "<Figure size 432x288 with 2 Axes>"
      ]
     },
     "metadata": {},
     "output_type": "display_data"
    },
    {
     "data": {
      "image/png": "[encoded data removed]",
      "text/plain": [
       "<Figure size 432x288 with 2 Axes>"
      ]
     },
     "metadata": {},
     "output_type": "display_data"
    }
   ],
   "source": [
    "# Tracer la matrice de confusion non normalisée\n",
    "titles_options = [(\"Matrice de confusion, sans normalisation\", None),\n",
    "                  (\"Matrice de confusion normalisée\", 'true')]\n",
    "\n",
    "for titre, normalize in titles_options:\n",
    "    disp = sklearn.metrics.plot_confusion_matrix(classifier_unscaled, X_test, y_test,\n",
    "                                 display_labels=class_names,\n",
    "                                 cmap=plt.cm.Blues,\n",
    "                                 normalize=normalize)\n",
    "    disp.ax_.set_title(titre)\n",
    "\n",
    "    print(titre)\n",
    "    print(disp.confusion_matrix)\n",
    "\n",
    "plt.show()"
   ]
  },
  {
   "cell_type": "code",
   "execution_count": 44,
   "metadata": {},
   "outputs": [],
   "source": [
    "#  exemple : class 2 trois fois classifier comme une classe 1 \n",
    "# exemple :  classe 1 a étét clasifié 0,29 données dans notre cadre de données class 2 \n"
   ]
  },
  {
   "cell_type": "markdown",
   "metadata": {},
   "source": [
    "<div class=\"alert alert-success\">\n",
    "<li>Les éléments diagonaux représentent le nombre de points pour lesquels l'étiquette prédite est égale à l'étiquette vraie\n",
    "<li>les éléments hors diagonale sont ceux qui sont mal étiquetés par le classificateur\n",
    "<li>Des valeurs diagonales plus élevées indiquent de nombreuses prédictions correctes.</div>"
   ]
  },
  {
   "cell_type": "markdown",
   "metadata": {},
   "source": [
    "<div class=\"alert alert-info\">\n",
    "<h3>Visualisation stats: <br><br>Caractéristique de Fonctionnement du récepteur (ROC: Region under the courve)</h3></div>"
   ]
  },
  {
   "cell_type": "code",
   "execution_count": 45,
   "metadata": {},
   "outputs": [],
   "source": [
    "# autres méthodes pour visualiser nos résultats "
   ]
  },
  {
   "cell_type": "code",
   "execution_count": 46,
   "metadata": {},
   "outputs": [],
   "source": [
    "# from sklearn import metrics\n",
    "# from sklearn import model_selection\n",
    "# from sklearn import svm\n",
    "# from sklearn import preprocessing"
   ]
  },
  {
   "cell_type": "markdown",
   "metadata": {},
   "source": [
    "<div class=\"alert alert-danger\">\n",
    "    \n",
    "### À quel moment iris est devenu un numpy? Au début c'était un pandas\n",
    "    Comment faire pour transformer mon df en un un numpy s'il contient des var catégorielle?"
   ]
  },
  {
   "cell_type": "code",
   "execution_count": 105,
   "metadata": {},
   "outputs": [],
   "source": [
    "# Importer des données\n",
    "iris = datasets.load_iris()\n",
    "X = iris.data\n",
    "y = iris.target"
   ]
  },
  {
   "cell_type": "code",
   "execution_count": 113,
   "metadata": {},
   "outputs": [
    {
     "name": "stdout",
     "output_type": "stream",
     "text": [
      "{'data': array([[5.1, 3.5, 1.4, 0.2],\n",
      "       [4.9, 3. , 1.4, 0.2],\n",
      "       [4.7, 3.2, 1.3, 0.2],\n",
      "       [4.6, 3.1, 1.5, 0.2],\n",
      "       [5. , 3.6, 1.4, 0.2],\n",
      "       [5.4, 3.9, 1.7, 0.4],\n",
      "       [4.6, 3.4, 1.4, 0.3],\n",
      "       [5. , 3.4, 1.5, 0.2],\n",
      "       [4.4, 2.9, 1.4, 0.2],\n",
      "       [4.9, 3.1, 1.5, 0.1],\n",
      "       [5.4, 3.7, 1.5, 0.2],\n",
      "       [4.8, 3.4, 1.6, 0.2],\n",
      "       [4.8, 3. , 1.4, 0.1],\n",
      "       [4.3, 3. , 1.1, 0.1],\n",
      "       [5.8, 4. , 1.2, 0.2],\n",
      "       [5.7, 4.4, 1.5, 0.4],\n",
      "       [5.4, 3.9, 1.3, 0.4],\n",
      "       [5.1, 3.5, 1.4, 0.3],\n",
      "       [5.7, 3.8, 1.7, 0.3],\n",
      "       [5.1, 3.8, 1.5, 0.3],\n",
      "       [5.4, 3.4, 1.7, 0.2],\n",
      "       [5.1, 3.7, 1.5, 0.4],\n",
      "       [4.6, 3.6, 1. , 0.2],\n",
      "       [5.1, 3.3, 1.7, 0.5],\n",
      "       [4.8, 3.4, 1.9, 0.2],\n",
      "       [5. , 3. , 1.6, 0.2],\n",
      "       [5. , 3.4, 1.6, 0.4],\n",
      "       [5.2, 3.5, 1.5, 0.2],\n",
      "       [5.2, 3.4, 1.4, 0.2],\n",
      "       [4.7, 3.2, 1.6, 0.2],\n",
      "       [4.8, 3.1, 1.6, 0.2],\n",
      "       [5.4, 3.4, 1.5, 0.4],\n",
      "       [5.2, 4.1, 1.5, 0.1],\n",
      "       [5.5, 4.2, 1.4, 0.2],\n",
      "       [4.9, 3.1, 1.5, 0.2],\n",
      "       [5. , 3.2, 1.2, 0.2],\n",
      "       [5.5, 3.5, 1.3, 0.2],\n",
      "       [4.9, 3.6, 1.4, 0.1],\n",
      "       [4.4, 3. , 1.3, 0.2],\n",
      "       [5.1, 3.4, 1.5, 0.2],\n",
      "       [5. , 3.5, 1.3, 0.3],\n",
      "       [4.5, 2.3, 1.3, 0.3],\n",
      "       [4.4, 3.2, 1.3, 0.2],\n",
      "       [5. , 3.5, 1.6, 0.6],\n",
      "       [5.1, 3.8, 1.9, 0.4],\n",
      "       [4.8, 3. , 1.4, 0.3],\n",
      "       [5.1, 3.8, 1.6, 0.2],\n",
      "       [4.6, 3.2, 1.4, 0.2],\n",
      "       [5.3, 3.7, 1.5, 0.2],\n",
      "       [5. , 3.3, 1.4, 0.2],\n",
      "       [7. , 3.2, 4.7, 1.4],\n",
      "       [6.4, 3.2, 4.5, 1.5],\n",
      "       [6.9, 3.1, 4.9, 1.5],\n",
      "       [5.5, 2.3, 4. , 1.3],\n",
      "       [6.5, 2.8, 4.6, 1.5],\n",
      "       [5.7, 2.8, 4.5, 1.3],\n",
      "       [6.3, 3.3, 4.7, 1.6],\n",
      "       [4.9, 2.4, 3.3, 1. ],\n",
      "       [6.6, 2.9, 4.6, 1.3],\n",
      "       [5.2, 2.7, 3.9, 1.4],\n",
      "       [5. , 2. , 3.5, 1. ],\n",
      "       [5.9, 3. , 4.2, 1.5],\n",
      "       [6. , 2.2, 4. , 1. ],\n",
      "       [6.1, 2.9, 4.7, 1.4],\n",
      "       [5.6, 2.9, 3.6, 1.3],\n",
      "       [6.7, 3.1, 4.4, 1.4],\n",
      "       [5.6, 3. , 4.5, 1.5],\n",
      "       [5.8, 2.7, 4.1, 1. ],\n",
      "       [6.2, 2.2, 4.5, 1.5],\n",
      "       [5.6, 2.5, 3.9, 1.1],\n",
      "       [5.9, 3.2, 4.8, 1.8],\n",
      "       [6.1, 2.8, 4. , 1.3],\n",
      "       [6.3, 2.5, 4.9, 1.5],\n",
      "       [6.1, 2.8, 4.7, 1.2],\n",
      "       [6.4, 2.9, 4.3, 1.3],\n",
      "       [6.6, 3. , 4.4, 1.4],\n",
      "       [6.8, 2.8, 4.8, 1.4],\n",
      "       [6.7, 3. , 5. , 1.7],\n",
      "       [6. , 2.9, 4.5, 1.5],\n",
      "       [5.7, 2.6, 3.5, 1. ],\n",
      "       [5.5, 2.4, 3.8, 1.1],\n",
      "       [5.5, 2.4, 3.7, 1. ],\n",
      "       [5.8, 2.7, 3.9, 1.2],\n",
      "       [6. , 2.7, 5.1, 1.6],\n",
      "       [5.4, 3. , 4.5, 1.5],\n",
      "       [6. , 3.4, 4.5, 1.6],\n",
      "       [6.7, 3.1, 4.7, 1.5],\n",
      "       [6.3, 2.3, 4.4, 1.3],\n",
      "       [5.6, 3. , 4.1, 1.3],\n",
      "       [5.5, 2.5, 4. , 1.3],\n",
      "       [5.5, 2.6, 4.4, 1.2],\n",
      "       [6.1, 3. , 4.6, 1.4],\n",
      "       [5.8, 2.6, 4. , 1.2],\n",
      "       [5. , 2.3, 3.3, 1. ],\n",
      "       [5.6, 2.7, 4.2, 1.3],\n",
      "       [5.7, 3. , 4.2, 1.2],\n",
      "       [5.7, 2.9, 4.2, 1.3],\n",
      "       [6.2, 2.9, 4.3, 1.3],\n",
      "       [5.1, 2.5, 3. , 1.1],\n",
      "       [5.7, 2.8, 4.1, 1.3],\n",
      "       [6.3, 3.3, 6. , 2.5],\n",
      "       [5.8, 2.7, 5.1, 1.9],\n",
      "       [7.1, 3. , 5.9, 2.1],\n",
      "       [6.3, 2.9, 5.6, 1.8],\n",
      "       [6.5, 3. , 5.8, 2.2],\n",
      "       [7.6, 3. , 6.6, 2.1],\n",
      "       [4.9, 2.5, 4.5, 1.7],\n",
      "       [7.3, 2.9, 6.3, 1.8],\n",
      "       [6.7, 2.5, 5.8, 1.8],\n",
      "       [7.2, 3.6, 6.1, 2.5],\n",
      "       [6.5, 3.2, 5.1, 2. ],\n",
      "       [6.4, 2.7, 5.3, 1.9],\n",
      "       [6.8, 3. , 5.5, 2.1],\n",
      "       [5.7, 2.5, 5. , 2. ],\n",
      "       [5.8, 2.8, 5.1, 2.4],\n",
      "       [6.4, 3.2, 5.3, 2.3],\n",
      "       [6.5, 3. , 5.5, 1.8],\n",
      "       [7.7, 3.8, 6.7, 2.2],\n",
      "       [7.7, 2.6, 6.9, 2.3],\n",
      "       [6. , 2.2, 5. , 1.5],\n",
      "       [6.9, 3.2, 5.7, 2.3],\n",
      "       [5.6, 2.8, 4.9, 2. ],\n",
      "       [7.7, 2.8, 6.7, 2. ],\n",
      "       [6.3, 2.7, 4.9, 1.8],\n",
      "       [6.7, 3.3, 5.7, 2.1],\n",
      "       [7.2, 3.2, 6. , 1.8],\n",
      "       [6.2, 2.8, 4.8, 1.8],\n",
      "       [6.1, 3. , 4.9, 1.8],\n",
      "       [6.4, 2.8, 5.6, 2.1],\n",
      "       [7.2, 3. , 5.8, 1.6],\n",
      "       [7.4, 2.8, 6.1, 1.9],\n",
      "       [7.9, 3.8, 6.4, 2. ],\n",
      "       [6.4, 2.8, 5.6, 2.2],\n",
      "       [6.3, 2.8, 5.1, 1.5],\n",
      "       [6.1, 2.6, 5.6, 1.4],\n",
      "       [7.7, 3. , 6.1, 2.3],\n",
      "       [6.3, 3.4, 5.6, 2.4],\n",
      "       [6.4, 3.1, 5.5, 1.8],\n",
      "       [6. , 3. , 4.8, 1.8],\n",
      "       [6.9, 3.1, 5.4, 2.1],\n",
      "       [6.7, 3.1, 5.6, 2.4],\n",
      "       [6.9, 3.1, 5.1, 2.3],\n",
      "       [5.8, 2.7, 5.1, 1.9],\n",
      "       [6.8, 3.2, 5.9, 2.3],\n",
      "       [6.7, 3.3, 5.7, 2.5],\n",
      "       [6.7, 3. , 5.2, 2.3],\n",
      "       [6.3, 2.5, 5. , 1.9],\n",
      "       [6.5, 3. , 5.2, 2. ],\n",
      "       [6.2, 3.4, 5.4, 2.3],\n",
      "       [5.9, 3. , 5.1, 1.8]]), 'target': array([0, 0, 0, 0, 0, 0, 0, 0, 0, 0, 0, 0, 0, 0, 0, 0, 0, 0, 0, 0, 0, 0,\n",
      "       0, 0, 0, 0, 0, 0, 0, 0, 0, 0, 0, 0, 0, 0, 0, 0, 0, 0, 0, 0, 0, 0,\n",
      "       0, 0, 0, 0, 0, 0, 1, 1, 1, 1, 1, 1, 1, 1, 1, 1, 1, 1, 1, 1, 1, 1,\n",
      "       1, 1, 1, 1, 1, 1, 1, 1, 1, 1, 1, 1, 1, 1, 1, 1, 1, 1, 1, 1, 1, 1,\n",
      "       1, 1, 1, 1, 1, 1, 1, 1, 1, 1, 1, 1, 2, 2, 2, 2, 2, 2, 2, 2, 2, 2,\n",
      "       2, 2, 2, 2, 2, 2, 2, 2, 2, 2, 2, 2, 2, 2, 2, 2, 2, 2, 2, 2, 2, 2,\n",
      "       2, 2, 2, 2, 2, 2, 2, 2, 2, 2, 2, 2, 2, 2, 2, 2, 2, 2]), 'frame': None, 'target_names': array(['setosa', 'versicolor', 'virginica'], dtype='<U10'), 'DESCR': '.. _iris_dataset:\\n\\nIris plants dataset\\n--------------------\\n\\n**Data Set Characteristics:**\\n\\n    :Number of Instances: 150 (50 in each of three classes)\\n    :Number of Attributes: 4 numeric, predictive attributes and the class\\n    :Attribute Information:\\n        - sepal length in cm\\n        - sepal width in cm\\n        - petal length in cm\\n        - petal width in cm\\n        - class:\\n                - Iris-Setosa\\n                - Iris-Versicolour\\n                - Iris-Virginica\\n                \\n    :Summary Statistics:\\n\\n    ============== ==== ==== ======= ===== ====================\\n                    Min  Max   Mean    SD   Class Correlation\\n    ============== ==== ==== ======= ===== ====================\\n    sepal length:   4.3  7.9   5.84   0.83    0.7826\\n    sepal width:    2.0  4.4   3.05   0.43   -0.4194\\n    petal length:   1.0  6.9   3.76   1.76    0.9490  (high!)\\n    petal width:    0.1  2.5   1.20   0.76    0.9565  (high!)\\n    ============== ==== ==== ======= ===== ====================\\n\\n    :Missing Attribute Values: None\\n    :Class Distribution: 33.3% for each of 3 classes.\\n    :Creator: R.A. Fisher\\n    :Donor: Michael Marshall (MARSHALL%PLU@io.arc.nasa.gov)\\n    :Date: July, 1988\\n\\nThe famous Iris database, first used by Sir R.A. Fisher. The dataset is taken\\nfrom Fisher\\'s paper. Note that it\\'s the same as in R, but not as in the UCI\\nMachine Learning Repository, which has two wrong data points.\\n\\nThis is perhaps the best known database to be found in the\\npattern recognition literature.  Fisher\\'s paper is a classic in the field and\\nis referenced frequently to this day.  (See Duda & Hart, for example.)  The\\ndata set contains 3 classes of 50 instances each, where each class refers to a\\ntype of iris plant.  One class is linearly separable from the other 2; the\\nlatter are NOT linearly separable from each other.\\n\\n.. topic:: References\\n\\n   - Fisher, R.A. \"The use of multiple measurements in taxonomic problems\"\\n     Annual Eugenics, 7, Part II, 179-188 (1936); also in \"Contributions to\\n     Mathematical Statistics\" (John Wiley, NY, 1950).\\n   - Duda, R.O., & Hart, P.E. (1973) Pattern Classification and Scene Analysis.\\n     (Q327.D83) John Wiley & Sons.  ISBN 0-471-22361-1.  See page 218.\\n   - Dasarathy, B.V. (1980) \"Nosing Around the Neighborhood: A New System\\n     Structure and Classification Rule for Recognition in Partially Exposed\\n     Environments\".  IEEE Transactions on Pattern Analysis and Machine\\n     Intelligence, Vol. PAMI-2, No. 1, 67-71.\\n   - Gates, G.W. (1972) \"The Reduced Nearest Neighbor Rule\".  IEEE Transactions\\n     on Information Theory, May 1972, 431-433.\\n   - See also: 1988 MLC Proceedings, 54-64.  Cheeseman et al\"s AUTOCLASS II\\n     conceptual clustering system finds 3 classes in the data.\\n   - Many, many more ...', 'feature_names': ['sepal length (cm)', 'sepal width (cm)', 'petal length (cm)', 'petal width (cm)'], 'filename': 'iris.csv', 'data_module': 'sklearn.datasets.data'}\n"
     ]
    }
   ],
   "source": [
    "print(iris)"
   ]
  },
  {
   "cell_type": "markdown",
   "metadata": {},
   "source": [
    "<div class=\"alert alert-danger\">\n",
    "    \n",
    "### comment on peut binariser la sortie si on a trois classes? "
   ]
  },
  {
   "cell_type": "code",
   "execution_count": 85,
   "metadata": {},
   "outputs": [],
   "source": [
    "# Binariser la sortie\n",
    "y = sklearn.preprocessing.label_binarize(y, classes=[0, 1, 2])\n",
    "\n",
    "#permet de transformer notre classe y (en string) en des valeurs integer\n",
    "# créer 3 classes"
   ]
  },
  {
   "cell_type": "code",
   "execution_count": 86,
   "metadata": {},
   "outputs": [
    {
     "data": {
      "text/plain": [
       "3"
      ]
     },
     "execution_count": 86,
     "metadata": {},
     "output_type": "execute_result"
    }
   ],
   "source": [
    "n_classes = y.shape[1]\n",
    "n_classes"
   ]
  },
  {
   "cell_type": "code",
   "execution_count": 87,
   "metadata": {},
   "outputs": [],
   "source": [
    "# shuffle et split ensembles de formation et de test\n",
    "X_train, X_test, y_train, y_test = sklearn.model_selection.train_test_split(\n",
    "                                                    X, y, test_size=.5, #50%, les trois classes\n",
    "                                                    random_state=0)"
   ]
  },
  {
   "cell_type": "markdown",
   "metadata": {},
   "source": [
    "<div class=\"alert alert-danger\">\n",
    "    \n",
    "### SVC? "
   ]
  },
  {
   "cell_type": "code",
   "execution_count": 88,
   "metadata": {},
   "outputs": [],
   "source": [
    "# Apprenez à prédire chaque classe par rapport à l'autre\n",
    "from sklearn import multiclass\n",
    "\n",
    "random_state = np.random.RandomState(0)\n",
    "model = multiclass.OneVsRestClassifier( #classfication qui permet d'implémeter l'algorithme de prédiction SVC\n",
    "                                sklearn.svm.SVC(kernel='linear', probability=True, # permet de faire une classification de type linéaire\n",
    "                                 random_state=random_state))\n",
    "y_score = model.fit(X_train, y_train).decision_function(X_test) \n",
    "\n",
    "# on implémente le cadre de données sur X et Y train \n",
    "# et on va intégrer les paramètres de décisions dans notre fonction X_test\n",
    "# Descision fonction = le score Y "
   ]
  },
  {
   "cell_type": "code",
   "execution_count": 89,
   "metadata": {},
   "outputs": [],
   "source": [
    "# Calculer la courbe ROC et la zone ROC pour chaque classe\n",
    "fpr = dict()\n",
    "tpr = dict()\n",
    "roc_auc = dict()\n",
    "for i in range(n_classes):\n",
    "    fpr[i], tpr[i], _ = sklearn.metrics.roc_curve(y_test[:, i], y_score[:, i])\n",
    "    roc_auc[i] = sklearn.metrics.auc(fpr[i], tpr[i])\n",
    "    \n",
    "# Objectif est de créer deux listes avec les données de la courbe et les données faux positif/faux négatif"
   ]
  },
  {
   "cell_type": "code",
   "execution_count": 93,
   "metadata": {},
   "outputs": [
    {
     "data": {
      "image/png": "[encoded data removed]",
      "text/plain": [
       "<Figure size 432x288 with 1 Axes>"
      ]
     },
     "metadata": {},
     "output_type": "display_data"
    }
   ],
   "source": [
    "# Dès qu'on a créer les listes, on peut les visualiser\n",
    "plt.figure()\n",
    "lw = 2\n",
    "plt.plot(fpr[2], tpr[2], color='darkorange',\n",
    "         lw=lw, label='Courbe ROC (area = %0.2f)' % roc_auc[2])\n",
    "plt.plot([0, 1], [0, 1], color='navy',lw=lw, linestyle='--')\n",
    "plt.xlim([0.0, 1.0])\n",
    "plt.ylim([0.0, 1.05])\n",
    "plt.xlabel('Taux de faux positifs')\n",
    "plt.ylabel('Vrai taux positif')\n",
    "plt.title('Exemple de caractéristique de fonctionnement du récepteur')\n",
    "plt.legend(loc=\"lower right\")\n",
    "plt.show()"
   ]
  },
  {
   "cell_type": "code",
   "execution_count": 91,
   "metadata": {},
   "outputs": [],
   "source": [
    "# Ajoutez du bruit pour rendre le problème plus difficile\n",
    "n_samples, n_features = X.shape\n",
    "X = np.c_[X, random_state.randn(n_samples, 200 * n_features)]\n",
    "\n",
    "#pour créer des données randomisé -> utilise fct random_state.randn\n",
    "# créer un cadre de données aléatoire avec 200 valeurs randomisés \n",
    "# pour chaque caractéristique dans notre cadre de données \n",
    "# 200 * 150 caractéristiques "
   ]
  },
  {
   "cell_type": "code",
   "execution_count": 55,
   "metadata": {},
   "outputs": [],
   "source": [
    "X_train, X_test, y_train, y_test = sklearn.model_selection.train_test_split(\n",
    "                                                    X, y, test_size=.5,\n",
    "                                                    random_state=0)\n",
    "#on implémente sur le cadre de données x\n",
    "#50% VA ÊTRE UTILISÉ POUR ENTRAINEMENT, et 50% pour l'apprentissage\n",
    "# si objectif est d'avoir un résultat chaque fois que le script est rouler -> retirer random_state=0\n",
    "\n",
    "model = sklearn.multiclass.OneVsRestClassifier(sklearn.svm.SVC(kernel='linear',\n",
    "                                                                    probability=True,\n",
    "                                     random_state=random_state))\n",
    "y_score = model.fit(X_train, y_train).decision_function(X_test)\n",
    "\n",
    "fpr = dict()\n",
    "tpr = dict()\n",
    "roc_auc = dict()\n",
    "for i in range(n_classes):\n",
    "    fpr[i], tpr[i], _ = sklearn.metrics.roc_curve(\n",
    "        y_test[:, i], \n",
    "        y_score[:, i])\n",
    "    roc_auc[i] = sklearn.metrics.auc(fpr[i], tpr[i])\n",
    "    \n",
    "# 2 paramiètres de la régions sous la courbe"
   ]
  },
  {
   "cell_type": "code",
   "execution_count": 56,
   "metadata": {},
   "outputs": [
    {
     "data": {
      "image/png": "[encoded data removed]",
      "text/plain": [
       "<Figure size 432x288 with 1 Axes>"
      ]
     },
     "metadata": {},
     "output_type": "display_data"
    }
   ],
   "source": [
    "plt.figure()\n",
    "lw = 2\n",
    "plt.plot(fpr[2], tpr[2], color='darkorange',\n",
    "         lw=lw, label='Courbe ROC (area = %0.2f)' % roc_auc[2])\n",
    "plt.plot([0, 1], [0, 1], color='navy', lw=lw, linestyle='--')\n",
    "plt.xlim([0.0, 1.0])\n",
    "plt.ylim([0.0, 1.05])\n",
    "plt.xlabel('Taux de faux positifs')\n",
    "plt.ylabel('Vrai taux positif')\n",
    "plt.title('Exemple de caractéristique de fonctionnement du récepteur')\n",
    "plt.legend(loc=\"lower right\")\n",
    "plt.show()"
   ]
  },
  {
   "cell_type": "code",
   "execution_count": 57,
   "metadata": {},
   "outputs": [],
   "source": [
    "# Courbe présente taux vrai positif et faux positif \n",
    "# seulement 80 % -> plus de bruit\n",
    "# image montre que les premiers 30 % des résultats ont été classifier correctement\n",
    "# seulement 70 % après ont eu une meilleure classification (rapport augmente, donc valeur des taux positifs va augmenter jusqu'à 100%)\n",
    "\n",
    "# on a seulement besoin de 58 % des données pour atteindre une prédiction\n",
    "# après ce niveau, la majorité des valeurs vont être bien classifié "
   ]
  },
  {
   "cell_type": "code",
   "execution_count": 58,
   "metadata": {},
   "outputs": [],
   "source": [
    "X = iris.data\n",
    "y = iris.target"
   ]
  },
  {
   "cell_type": "code",
   "execution_count": 59,
   "metadata": {},
   "outputs": [],
   "source": [
    "X, y = X[y != 2], y[y != 2]\n",
    "\n",
    "# bruit:\n",
    "# script plus spécifique\n",
    "n_samples, n_features = X.shape\n",
    "random_state = np.random.RandomState(0)\n",
    "X = np.c_[X, random_state.randn(n_samples, 200 * n_features)]"
   ]
  },
  {
   "cell_type": "code",
   "execution_count": 60,
   "metadata": {},
   "outputs": [],
   "source": [
    "# Exécuter le classificateur avec validation croisée\n",
    "# script plus général\n",
    "cv = sklearn.model_selection.StratifiedKFold(n_splits=6)\n",
    "classifier = sklearn.svm.SVC(kernel='linear', probability=True,\n",
    "                     random_state=random_state)\n",
    "\n",
    "# cv est une variable pour définir une cross validation\n",
    "# on utilise le même cadre de données avec du bruit\n",
    "# ensuite, implémente StratifiedKFold avec 6 divisions\n",
    "# pour le modèle de classification, on utilise le SVC de type linéaire. \n",
    "# on va sauvegarder le modèle en utilisant le random_state (on peut juste écrire random_state=0)"
   ]
  },
  {
   "cell_type": "code",
   "execution_count": 61,
   "metadata": {},
   "outputs": [
    {
     "name": "stdout",
     "output_type": "stream",
     "text": [
      "0\n",
      "1\n",
      "2\n",
      "3\n",
      "4\n"
     ]
    }
   ],
   "source": [
    "lsl = ['a', 'b', 'v','c','e']\n",
    "for i, val in enumerate(lsl):\n",
    "    print(i)"
   ]
  },
  {
   "cell_type": "code",
   "execution_count": 62,
   "metadata": {
    "scrolled": true
   },
   "outputs": [
    {
     "name": "stderr",
     "output_type": "stream",
     "text": [
      "C:\\Users\\Dylan\\AppData\\Roaming\\Python\\Python310\\site-packages\\sklearn\\utils\\deprecation.py:87: FutureWarning: Function plot_roc_curve is deprecated; Function :func:`plot_roc_curve` is deprecated in 1.0 and will be removed in 1.2. Use one of the class methods: :meth:`sklearn.metric.RocCurveDisplay.from_predictions` or :meth:`sklearn.metric.RocCurveDisplay.from_estimator`.\n",
      "  warnings.warn(msg, category=FutureWarning)\n",
      "C:\\Users\\Dylan\\AppData\\Roaming\\Python\\Python310\\site-packages\\sklearn\\utils\\deprecation.py:87: FutureWarning: Function plot_roc_curve is deprecated; Function :func:`plot_roc_curve` is deprecated in 1.0 and will be removed in 1.2. Use one of the class methods: :meth:`sklearn.metric.RocCurveDisplay.from_predictions` or :meth:`sklearn.metric.RocCurveDisplay.from_estimator`.\n",
      "  warnings.warn(msg, category=FutureWarning)\n",
      "C:\\Users\\Dylan\\AppData\\Roaming\\Python\\Python310\\site-packages\\sklearn\\utils\\deprecation.py:87: FutureWarning: Function plot_roc_curve is deprecated; Function :func:`plot_roc_curve` is deprecated in 1.0 and will be removed in 1.2. Use one of the class methods: :meth:`sklearn.metric.RocCurveDisplay.from_predictions` or :meth:`sklearn.metric.RocCurveDisplay.from_estimator`.\n",
      "  warnings.warn(msg, category=FutureWarning)\n",
      "C:\\Users\\Dylan\\AppData\\Roaming\\Python\\Python310\\site-packages\\sklearn\\utils\\deprecation.py:87: FutureWarning: Function plot_roc_curve is deprecated; Function :func:`plot_roc_curve` is deprecated in 1.0 and will be removed in 1.2. Use one of the class methods: :meth:`sklearn.metric.RocCurveDisplay.from_predictions` or :meth:`sklearn.metric.RocCurveDisplay.from_estimator`.\n",
      "  warnings.warn(msg, category=FutureWarning)\n",
      "C:\\Users\\Dylan\\AppData\\Roaming\\Python\\Python310\\site-packages\\sklearn\\utils\\deprecation.py:87: FutureWarning: Function plot_roc_curve is deprecated; Function :func:`plot_roc_curve` is deprecated in 1.0 and will be removed in 1.2. Use one of the class methods: :meth:`sklearn.metric.RocCurveDisplay.from_predictions` or :meth:`sklearn.metric.RocCurveDisplay.from_estimator`.\n",
      "  warnings.warn(msg, category=FutureWarning)\n",
      "C:\\Users\\Dylan\\AppData\\Roaming\\Python\\Python310\\site-packages\\sklearn\\utils\\deprecation.py:87: FutureWarning: Function plot_roc_curve is deprecated; Function :func:`plot_roc_curve` is deprecated in 1.0 and will be removed in 1.2. Use one of the class methods: :meth:`sklearn.metric.RocCurveDisplay.from_predictions` or :meth:`sklearn.metric.RocCurveDisplay.from_estimator`.\n",
      "  warnings.warn(msg, category=FutureWarning)\n"
     ]
    },
    {
     "data": {
      "image/png": "[encoded data removed]",
      "text/plain": [
       "<Figure size 432x288 with 1 Axes>"
      ]
     },
     "metadata": {},
     "output_type": "display_data"
    }
   ],
   "source": [
    "tprs = []\n",
    "aucs = []\n",
    "mean_fpr = np.linspace(0, 1, 100)\n",
    "\n",
    "# tracer les courbes ROC\n",
    "fig, ax = plt.subplots()\n",
    "for i, (train, test) in enumerate(cv.split(X, y)):\n",
    "    classifier.fit(X[train], y[train])\n",
    "    viz = sklearn.metrics.plot_roc_curve(\n",
    "                        classifier, X[test], y[test],\n",
    "                         name='ROC fold {}'.format(i),\n",
    "                         alpha=0.3, lw=1, ax=ax)\n",
    "    interp_tpr = np.interp(mean_fpr, viz.fpr, viz.tpr)\n",
    "    interp_tpr[0] = 0.0\n",
    "    tprs.append(interp_tpr)\n",
    "    aucs.append(viz.roc_auc)\n",
    "    \n",
    "    #utilise le cv = sklearn.model_selection.StratifiedKFold(n_splits=6), qui va créer 6 groups train et test\n",
    "    #chaque train et test vont être lu\n",
    "    #enumerate : donne le résultat initiale + positionnement \n",
    "    # i = position (1,2,3,4,5,6) -> du n_splits dans la case plus haut\n",
    "    # optient 6 groupes (x,y)\n",
    "    #\n",
    "\n",
    "ax.plot([0, 1], [0, 1], linestyle='--', lw=2, color='r',\n",
    "        label='Chance', alpha=.8)\n",
    "\n",
    "mean_tpr = np.mean(tprs, axis=0)\n",
    "mean_tpr[-1] = 1.0\n",
    "mean_auc = sklearn.metrics.auc(mean_fpr, mean_tpr)\n",
    "std_auc = np.std(aucs)\n",
    "ax.plot(mean_fpr, mean_tpr, color='b',\n",
    "        label=r'ROC moyen (AUC = %0.2f $\\pm$ %0.2f)' % (mean_auc, std_auc),\n",
    "        lw=2, alpha=.8)\n",
    "\n",
    "# std_tpr = np.std(tprs, axis=0)\n",
    "# tprs_upper = np.minimum(mean_tpr + std_tpr, 1)\n",
    "# tprs_lower = np.maximum(mean_tpr - std_tpr, 0)\n",
    "# ax.fill_between(mean_fpr, tprs_lower, tprs_upper, color='grey', alpha=.2,\n",
    "#                 label=r'$\\pm$ 1 std. dev.')\n",
    "\n",
    "ax.set(xlim=[-0.05, 1.05], ylim=[-0.05, 1.05],\n",
    "       title=\"Exemple de caractéristique de fonctionnement du récepteur\")\n",
    "ax.legend(loc=\"lower right\")\n",
    "plt.show()"
   ]
  },
  {
   "cell_type": "code",
   "execution_count": 63,
   "metadata": {},
   "outputs": [],
   "source": [
    "#Première validation croisée = 79%\n",
    "#Deuxième validation croisée = 79%\n",
    "#Troisième validation croisée = 72%\n",
    "#Quatrième validation croisée = 76%\n",
    "#Cinquième validation croisée = 80%\n",
    "#Sixième validation croisée = 88%\n",
    "\n",
    "#On a fait 6 prédictions sur le même cadre de données \n",
    "#Le résultat pour les 6 prédictions est de 79% de précision"
   ]
  },
  {
   "cell_type": "markdown",
   "metadata": {
    "slideshow": {
     "slide_type": "slide"
    }
   },
   "source": [
    "<div class=\"alert alert-info\">\n",
    "\n",
    "### Exemple algorithm AA supervisé: Régression linéaire (modèle linéaire, modèle de régression linéaire)  (apprentissage supervisé)"
   ]
  },
  {
   "cell_type": "markdown",
   "metadata": {
    "slideshow": {
     "slide_type": "subslide"
    }
   },
   "source": [
    "<div class=\"alert alert-success\">\n",
    "<b>Définition:</b>\n",
    "<br><li>est un modèle qui cherche à établir\n",
    "<li>une relation linéaire entre une variable, dite expliquée,\n",
    "<li>et une ou plusieurs variables, dites explicatives\n",
    "\n",
    "<br><br><b>Utilité :</b>\n",
    "<br>\n",
    "<li>dans les modèles simple l'espérance conditionnelle de y sachant x est une transformation affine en les paramètres. consiste à rechercher la droite permettant d'expliquer le comportement d'une variable statistique y comme étant une fonction affine d'une autre variable statistique x\n",
    "<li>dans d'autres modèles c'est la médiane conditionnelle de y sachant x ou n'importe quel quantile de la distribution de y sachant x qui est une transformation affine en les paramètres\n",
    "\n",
    "<br><br>Le modèle de régression linéaire peux être estimé par:\n",
    "<li>la méthode des moindres carrés\n",
    "<li>maximum de vraisemblance\n",
    "<li>inférence bayésienne.\n",
    "\n",
    "\n",
    "<br><br>le modèle de régression linéaire est aussi bien utilisé pour chercher à prédire un phénomène que pour chercher à l'expliquer.\n",
    "<li>Après avoir estimé un modèle de régression linéaire, on peut prédire quel serait le niveau de y pour des valeurs particulières de x.\n",
    "<li>En apprentissage statistique, la méthode de régression linéaire est considérée comme une méthode d'apprentissage supervisé utilisée pour prédire une variable quantitative\n",
    "    \n",
    "<br><br>\n",
    "<li>équation: Y = a + bX\n",
    "<li>X est la variable explicative\n",
    "<li>Y est la variable dépendante\n",
    "<li>La pente de la ligne est b\n",
    "<li>a est l'ordonnée à l'origine (la valeur de y lorsque x = 0)\n",
    "</div>"
   ]
  },
  {
   "cell_type": "code",
   "execution_count": 64,
   "metadata": {},
   "outputs": [],
   "source": [
    "import numpy as np\n",
    "\n",
    "rng = np.random.RandomState(42)\n",
    "x = 10 * rng.rand(50)\n",
    "y = 2 * x - 1 + rng.randn(50)"
   ]
  },
  {
   "cell_type": "code",
   "execution_count": 65,
   "metadata": {},
   "outputs": [
    {
     "data": {
      "text/plain": [
       "<matplotlib.collections.PathCollection at 0x207b6a48fa0>"
      ]
     },
     "execution_count": 65,
     "metadata": {},
     "output_type": "execute_result"
    },
    {
     "data": {
      "image/png": "[encoded data removed]",
      "text/plain": [
       "<Figure size 432x288 with 1 Axes>"
      ]
     },
     "metadata": {},
     "output_type": "display_data"
    }
   ],
   "source": [
    "plt.scatter(x, y)"
   ]
  },
  {
   "cell_type": "code",
   "execution_count": 66,
   "metadata": {},
   "outputs": [],
   "source": [
    "# étape 1: Choisissons la classe de modèle / estimateur\n",
    "from sklearn.linear_model import LinearRegression\n",
    "# d'autres modèles de régression linéaire plus généraux existent\n",
    "# voir documentation du sklearn.linear_model"
   ]
  },
  {
   "cell_type": "code",
   "execution_count": 67,
   "metadata": {},
   "outputs": [
    {
     "name": "stdout",
     "output_type": "stream",
     "text": [
      "Entrez le nombre de points de données: \n"
     ]
    },
    {
     "ename": "ValueError",
     "evalue": "invalid literal for int() with base 10: ''",
     "output_type": "error",
     "traceback": [
      "\u001b[1;31m---------------------------------------------------------------------------\u001b[0m",
      "\u001b[1;31mValueError\u001b[0m                                Traceback (most recent call last)",
      "\u001b[1;32m~\\AppData\\Local\\Temp/ipykernel_21516/1125664149.py\u001b[0m in \u001b[0;36m<module>\u001b[1;34m\u001b[0m\n\u001b[0;32m      4\u001b[0m \u001b[1;31m# Définir les données\u001b[0m\u001b[1;33m\u001b[0m\u001b[1;33m\u001b[0m\u001b[0m\n\u001b[0;32m      5\u001b[0m \u001b[0mdata\u001b[0m \u001b[1;33m=\u001b[0m \u001b[0mset\u001b[0m\u001b[1;33m(\u001b[0m\u001b[1;33m)\u001b[0m\u001b[1;33m\u001b[0m\u001b[1;33m\u001b[0m\u001b[0m\n\u001b[1;32m----> 6\u001b[1;33m \u001b[0mcount\u001b[0m \u001b[1;33m=\u001b[0m \u001b[0mint\u001b[0m\u001b[1;33m(\u001b[0m\u001b[0minput\u001b[0m\u001b[1;33m(\u001b[0m\u001b[1;34m\"Entrez le nombre de points de données: \"\u001b[0m\u001b[1;33m)\u001b[0m\u001b[1;33m)\u001b[0m\u001b[1;33m\u001b[0m\u001b[1;33m\u001b[0m\u001b[0m\n\u001b[0m\u001b[0;32m      7\u001b[0m \u001b[1;32mfor\u001b[0m \u001b[0mi\u001b[0m \u001b[1;32min\u001b[0m \u001b[0mrange\u001b[0m\u001b[1;33m(\u001b[0m\u001b[0mcount\u001b[0m\u001b[1;33m)\u001b[0m\u001b[1;33m:\u001b[0m\u001b[1;33m\u001b[0m\u001b[1;33m\u001b[0m\u001b[0m\n\u001b[0;32m      8\u001b[0m     \u001b[0mx\u001b[0m\u001b[1;33m=\u001b[0m\u001b[0mfloat\u001b[0m\u001b[1;33m(\u001b[0m\u001b[0minput\u001b[0m\u001b[1;33m(\u001b[0m\u001b[1;34m\"X\"\u001b[0m\u001b[1;33m+\u001b[0m\u001b[0mstr\u001b[0m\u001b[1;33m(\u001b[0m\u001b[0mi\u001b[0m\u001b[1;33m+\u001b[0m\u001b[1;36m1\u001b[0m\u001b[1;33m)\u001b[0m\u001b[1;33m+\u001b[0m\u001b[1;34m\": \"\u001b[0m\u001b[1;33m)\u001b[0m\u001b[1;33m)\u001b[0m\u001b[1;33m\u001b[0m\u001b[1;33m\u001b[0m\u001b[0m\n",
      "\u001b[1;31mValueError\u001b[0m: invalid literal for int() with base 10: ''"
     ]
    }
   ],
   "source": [
    "# Régression Linéaire en python\n",
    "\n",
    "#https://gist.github.com/cartr/6513044\n",
    "# Définir les données\n",
    "data = set()\n",
    "count = int(input(\"Entrez le nombre de points de données: \"))\n",
    "for i in range(count):\n",
    "    x=float(input(\"X\"+str(i+1)+\": \"))\n",
    "    y=float(input(\"Y\"+str(i+1)+\": \"))\n",
    "    data.add((x,y))\n",
    "\n",
    "# Trouver la moyenne x et y\n",
    "avgx = 0.0\n",
    "avgy = 0.0\n",
    "for i in data:\n",
    "    avgx += i[0]/len(data)\n",
    "    avgy += i[1]/len(data)\n",
    "\n",
    "# Trouver les sommes\n",
    "totalxx = 0\n",
    "totalxy = 0\n",
    "\n",
    "for i in data:\n",
    "    totalxx += (i[0]-avgx)**2\n",
    "    totalxy += (i[0]-avgx)*(i[1]-avgy)\n",
    "\n",
    "# Forme d'interception de pente\n",
    "m = totalxy/totalxx\n",
    "b = avgy-m*avgx\n",
    "\n",
    "print(\"Meilleure ligne de coupe:\")\n",
    "print(\"y = \"+str(m)+\"x + \"+str(b))\n",
    "\n",
    "x = float(input(\"Entrez une valeur à calculer: \"))\n",
    "print(\"y = \"+str(m*x+b))"
   ]
  },
  {
   "cell_type": "markdown",
   "metadata": {},
   "source": [
    "<center><img src=\"img/régression_linéaire_flowchart.png\"></center>"
   ]
  },
  {
   "cell_type": "markdown",
   "metadata": {
    "slideshow": {
     "slide_type": "subslide"
    }
   },
   "source": [
    "<div class=\"alert alert-success\">\n",
    "<b>étape 2 - Choisir les hyperparameters du modèle</b>\n",
    "<br><br>En fonction du modèle, nous pourrions avoir besoin de répondre à une ou plusieurs questions:\n",
    "\n",
    "<li>Est-ce que l'ajustement pour le décalage (c'est-à-dire, y-intercept)?\n",
    "<li>Le modèle devrait-il être normalisé?\n",
    "<li>Est-il nécessaire de prétraiter les fonctionnalités? (pour ajouter de la flexibilité au modèle)\n",
    "<li>Quel est le degré de régularisation?\n",
    "<li>Combien de composants du modèle doivent être utilisés?\n",
    "\n",
    "<br>Les réponses sont généralement représentées sous forme d'hyperparamètres, qui doivent être définis avant l'ajustement du modèle aux données.\n",
    "</div>"
   ]
  },
  {
   "cell_type": "code",
   "execution_count": 19,
   "metadata": {},
   "outputs": [],
   "source": [
    "# Pour la régression linéaire, nous pouvons utiliser l'hyperparamètre fit_intercept:\n",
    "\n",
    "model = LinearRegression(fit_intercept=True)\n",
    "model"
   ]
  },
  {
   "cell_type": "markdown",
   "metadata": {},
   "source": [
    "<div class=\"alert alert-success\">\n",
    "<li>Les performances du modèle dépendent du nombre de points de données. Si vous ne changez rien, vous modélisez les changements de performances. Cela n'a rien à voir avec le modèle, c'est juste un peu de chance.\n",
    "\n",
    "<li>Hyper-paramètres - sont des choses qui aident le modèle à gérer l'algorithme utilisé. Les hyperparamètres sont différents du poids de vos entrées.</div>"
   ]
  },
  {
   "cell_type": "markdown",
   "metadata": {
    "slideshow": {
     "slide_type": "subslide"
    }
   },
   "source": [
    "<div class=\"alert alert-success\">\n",
    "<b>étape 3: Organiser les données dans une matrice d'entités et un vecteur cible</b>\n",
    "<br><br>la représentation des données nécessite: \n",
    "\n",
    "<li>une matrice de caractéristiques bidimensionnelles\n",
    "<li>et un tableau cible unidimensionnel.\n",
    "<li>la variable cible y est dans le format correcte (un tableau de longueur-n_échantillons)\n",
    "<li>les données x doivent être une matrice de taille [n_échantillons, n_ caractéristiques]\n",
    "<li>ce qui peut être effectué en remodelant le tableau unidimensionnel.\n",
    "</div>"
   ]
  },
  {
   "cell_type": "code",
   "execution_count": 25,
   "metadata": {},
   "outputs": [],
   "source": [
    "x.shape"
   ]
  },
  {
   "cell_type": "code",
   "execution_count": 8,
   "metadata": {},
   "outputs": [],
   "source": [
    "X = x[:, np.newaxis]"
   ]
  },
  {
   "cell_type": "code",
   "execution_count": 24,
   "metadata": {},
   "outputs": [],
   "source": [
    "X.shape"
   ]
  },
  {
   "cell_type": "code",
   "execution_count": 23,
   "metadata": {},
   "outputs": [],
   "source": [
    "y.shape"
   ]
  },
  {
   "cell_type": "code",
   "execution_count": 20,
   "metadata": {},
   "outputs": [],
   "source": [
    "# étape 4: Adapter le modèle à vos données, méthode fit()\n",
    "\n",
    "model.fit(X, y)"
   ]
  },
  {
   "cell_type": "code",
   "execution_count": 21,
   "metadata": {},
   "outputs": [],
   "source": [
    "model.coef_"
   ]
  },
  {
   "cell_type": "code",
   "execution_count": 22,
   "metadata": {},
   "outputs": [],
   "source": [
    "model.intercept_"
   ]
  },
  {
   "cell_type": "markdown",
   "metadata": {
    "slideshow": {
     "slide_type": "subslide"
    }
   },
   "source": [
    "<div class=\"alert alert-success\">\n",
    "<li> par convention, tous les paramètres de modèle appris au cours du processus fit() ont des traits de soulignement de fin:\n",
    "<br><br>\n",
    "<li>model.coef\\_ = la pente \n",
    "<li>model.intercept\\_ = l'interception de l'ajustement linéaire simple aux données\n",
    " \n",
    "<br><br><b>FAITES ATTENTION:</b>\n",
    "<li> l'apprentissage automatique se concentre sur ce que le modèle prédit\n",
    "<li> les résultats NE fournissent PAS de conclusions à partir des paramètres internes du modèle c'est une question de modélisation statistique\n",
    "<li> pour les statistiques, d'autres librairie peuvent être utilisés:<b><i> statsmodels, scipy</b></i>\n",
    "</div>"
   ]
  },
  {
   "cell_type": "markdown",
   "metadata": {
    "slideshow": {
     "slide_type": "subslide"
    }
   },
   "source": [
    "<div class=\"alert alert-success\">\n",
    "<b>étape 5 - Appliquer le modèle à de nouvelles données</b>\n",
    "<br><br>\n",
    "<li>la tâche principale de l’AA supervisé est d’évaluer le modèle sur les nouvelles données \n",
    "<li>dans Scikit-Learn on utilise la méthode predict()\n",
    "<br><br>exemple:\n",
    "<li> les \"nouvelles données\" sont une grille de valeurs x - xfit\n",
    "<li> nous demanderons quelles valeurs y (yfit) le modèle prédit\n",
    "</div>"
   ]
  },
  {
   "cell_type": "code",
   "execution_count": 19,
   "metadata": {},
   "outputs": [],
   "source": [
    "xfit = np.linspace(-1, 11)\n",
    "Xfit = xfit[:, np.newaxis]\n",
    "yfit = model.predict(Xfit)"
   ]
  },
  {
   "cell_type": "code",
   "execution_count": 27,
   "metadata": {
    "scrolled": false
   },
   "outputs": [],
   "source": [
    "plt.scatter(x, y)\n",
    "plt.plot(xfit, yfit)"
   ]
  },
  {
   "cell_type": "markdown",
   "metadata": {
    "slideshow": {
     "slide_type": "slide"
    }
   },
   "source": [
    "<div class=\"alert alert-danger\">\n",
    "\n",
    "## Régression Linéaire. exercise."
   ]
  },
  {
   "cell_type": "code",
   "execution_count": 41,
   "metadata": {},
   "outputs": [],
   "source": [
    "import pandas as pd\n",
    "\n",
    "%matplotlib inline\n",
    "'''import Boston Housing Data Set from sklearn.datasets\n",
    "'''\n",
    "\n",
    "boston = sklearn.datasets.load_boston()"
   ]
  },
  {
   "cell_type": "code",
   "execution_count": 28,
   "metadata": {},
   "outputs": [],
   "source": [
    "# vérifier les clés.\n",
    "boston.keys()"
   ]
  },
  {
   "cell_type": "code",
   "execution_count": 29,
   "metadata": {},
   "outputs": [],
   "source": [
    "boston.data.shape"
   ]
  },
  {
   "cell_type": "code",
   "execution_count": 30,
   "metadata": {},
   "outputs": [],
   "source": [
    "# vérifier les noms des paramètres\n",
    "boston.feature_names"
   ]
  },
  {
   "cell_type": "code",
   "execution_count": 84,
   "metadata": {},
   "outputs": [],
   "source": [
    "# DESCRiption\n",
    "#print(boston.DESCR)"
   ]
  },
  {
   "cell_type": "code",
   "execution_count": 85,
   "metadata": {},
   "outputs": [],
   "source": [
    "# convertir boston.data en cadre de données pandas\n",
    "\n",
    "df_boston = pd.DataFrame(boston.data)"
   ]
  },
  {
   "cell_type": "code",
   "execution_count": 31,
   "metadata": {},
   "outputs": [],
   "source": [
    "# vérifier le head\n",
    "df_boston.head()"
   ]
  },
  {
   "cell_type": "code",
   "execution_count": 87,
   "metadata": {},
   "outputs": [],
   "source": [
    "# importer les noms de colonne à partir des feature_names\n",
    "df_boston.columns = boston.feature_names"
   ]
  },
  {
   "cell_type": "code",
   "execution_count": 88,
   "metadata": {},
   "outputs": [],
   "source": [
    "# crée la colonne 'PRICE' qui a les valeurs de boston.target\n",
    "df_boston['PRICE'] = boston.target"
   ]
  },
  {
   "cell_type": "code",
   "execution_count": null,
   "metadata": {
    "collapsed": true
   },
   "outputs": [],
   "source": [
    "# quelle colonne est le X?\n",
    "# quelle colonne est le y?"
   ]
  },
  {
   "cell_type": "code",
   "execution_count": 90,
   "metadata": {},
   "outputs": [],
   "source": [
    "# créer les variables x et y\n",
    "x = df_boston.drop('PRICE', axis=1)"
   ]
  },
  {
   "cell_type": "code",
   "execution_count": 32,
   "metadata": {},
   "outputs": [],
   "source": [
    "# fit le modèle\n",
    "model = LinearRegression()\n",
    "model.fit(x, df_boston.PRICE)"
   ]
  },
  {
   "cell_type": "code",
   "execution_count": 33,
   "metadata": {},
   "outputs": [],
   "source": [
    "# imprimer le coefficient d'interception estimé \n",
    "print('estimated intercept: ',model.intercept_)\n",
    "\n",
    "# imprimer le nombre de coefficients\n",
    "print('number of coefficients: ',len(model.coef_))"
   ]
  },
  {
   "cell_type": "code",
   "execution_count": 34,
   "metadata": {},
   "outputs": [],
   "source": [
    "# construire un bloc de données contenant des caractéristiques et des coefficients estimés\n",
    "pd.DataFrame(zip(x.columns, model.coef_), columns=['features', 'estim_coef'])"
   ]
  },
  {
   "cell_type": "code",
   "execution_count": 35,
   "metadata": {},
   "outputs": [],
   "source": [
    "# vérifier les résultats\n",
    "for key in zip(x.columns, model.coef_):\n",
    "    print(key)"
   ]
  },
  {
   "cell_type": "code",
   "execution_count": 36,
   "metadata": {},
   "outputs": [],
   "source": [
    "# il existe une forte corrélation entre la RM et les prix\n",
    "\n",
    "# tracer une dispersion des résultats significatifs\n",
    "plt.scatter(df_boston.RM, df_boston.PRICE)\n",
    "plt.xlabel('Nombre moyen de pièces par logement - RM')\n",
    "plt.ylabel('Prix du logement')\n",
    "plt.title(\"Relation entre le ..\")\n",
    "plt.show()"
   ]
  },
  {
   "cell_type": "code",
   "execution_count": 37,
   "metadata": {},
   "outputs": [],
   "source": [
    "# prédire les prix sur les données initiales\n",
    "plt.scatter(df_boston.PRICE, model.predict(x))"
   ]
  },
  {
   "cell_type": "code",
   "execution_count": 38,
   "metadata": {},
   "outputs": [],
   "source": [
    "# vérifier les erreurs\n",
    "\n",
    "# il y a une erreur dans la prédiction, car les prix des logements augmentent\n",
    "\n",
    "# pour cela nous pouvons calculer le MSE - erreur quadratique moyenne.\n",
    "# comme exemple, voyons l'erreur pour une fonctionnalité - PTRATIO: \n",
    "\n",
    "model.fit(x[['PTRATIO']], df_boston.PRICE)\n",
    "msePTRATIO = np.mean((df_boston.PRICE - model.predict(x[['PTRATIO']]))**2)\n",
    "print(msePTRATIO)\n",
    "\n",
    "# l'erreur est élevée car nous avons ajusté la régression linéaire pour une entité.\n",
    "model.fit(x, df_boston.PRICE)\n",
    "mseFull = np.mean((df_boston.PRICE - model.predict(x))**2)\n",
    "print(mseFull)"
   ]
  },
  {
   "cell_type": "code",
   "execution_count": 98,
   "metadata": {},
   "outputs": [],
   "source": [
    "# créer des données de train / test\n",
    "\n",
    "Xtrain, Xtest, ytrain, ytest = sklearn.model_selection.train_test_split(x, df_boston.PRICE, test_size = 0.33, random_state=5)"
   ]
  },
  {
   "cell_type": "code",
   "execution_count": 39,
   "metadata": {},
   "outputs": [],
   "source": [
    "print(ytrain.shape)"
   ]
  },
  {
   "cell_type": "code",
   "execution_count": 100,
   "metadata": {},
   "outputs": [],
   "source": [
    "# créer le modèle de prédiction\n",
    "model.fit(Xtrain, ytrain)\n",
    "train_predict = model.predict(Xtrain)\n",
    "test_predict = model.predict(Xtest)"
   ]
  },
  {
   "cell_type": "code",
   "execution_count": 41,
   "metadata": {},
   "outputs": [],
   "source": [
    "# calculer l'erreur quadratique moyenne pour les données d'entraînement et de test\n",
    "print('Fit le modèle Xtrain et montrer le MSE avec ytrain:', np.mean((ytrain-model.predict(Xtrain))**2))\n",
    "print('Fit le modèle Xtrain et montrer le MSE avec Xtest, ytest:', np.mean((ytest-model.predict(Xtest))**2))"
   ]
  },
  {
   "cell_type": "code",
   "execution_count": 42,
   "metadata": {},
   "outputs": [],
   "source": [
    "# imprimer les résultats\n",
    "\n",
    "# si l'analyse est bonne, les données doivent être dispersées autour de la ligne zéro.\n",
    "# s'il n'y a pas de structure dans les données, cela peut signifier que le modèle ne capture pas quelque chose\n",
    "# il y a peut-être une interaction entre 2 variables.\n",
    "# ou les données dépendent du temps.\n",
    "\n",
    "plt.scatter(model.predict(Xtrain), model.predict(Xtrain)-ytrain, c = 'b', s=40, alpha=0.5)\n",
    "plt.scatter(model.predict(Xtest), model.predict(Xtest)-ytest, c='r', s=40)\n",
    "plt.hlines(y=0, xmin=0, xmax=50)"
   ]
  },
  {
   "cell_type": "markdown",
   "metadata": {
    "slideshow": {
     "slide_type": "slide"
    }
   },
   "source": [
    "### Régression Linéaire. 1 variable."
   ]
  },
  {
   "cell_type": "code",
   "execution_count": 105,
   "metadata": {},
   "outputs": [],
   "source": [
    "'''Use the file PSY4016_reg_lin_1var.txt, load the data,\n",
    "set X as data from column 0\n",
    "set y as data from column 1'''\n",
    "\n",
    "file = \"PSY4016_reg_lin_1var.txt\"\n",
    "\n",
    "data = np.loadtxt(open(file, \"r\"), delimiter=\",\")\n",
    "x = data[:, 0]\n",
    "y = data[:, 1]"
   ]
  },
  {
   "cell_type": "code",
   "execution_count": 106,
   "metadata": {},
   "outputs": [],
   "source": [
    "\n",
    "'''create function that takes x and y as arguments\n",
    "and plots the data point x and y\n",
    "Parameters:\n",
    "x : array-like\n",
    "    Data on x axis\n",
    "y : array-like\n",
    "    Data on y axis\n",
    "'''\n",
    "\n",
    "def plot_data(x, y):\n",
    "    \"\"\"\n",
    "    Plots the data points x and y.\n",
    "\n",
    "    Parameters\n",
    "    ----------\n",
    "    x : array-like\n",
    "        Data on x axis.\n",
    "    y : array-like\n",
    "        Data on y axis.\n",
    "    \"\"\"\n",
    "    plt.plot(x, y, linestyle='', marker='x', color='r', label='Training data')\n",
    "    plt.xlabel('Population of City in 10,000s')\n",
    "    plt.ylabel('Profit in $10,000s')"
   ]
  },
  {
   "cell_type": "code",
   "execution_count": 43,
   "metadata": {},
   "outputs": [],
   "source": [
    "''' show the plot using the previous function'''\n",
    "\n",
    "plt.figure()\n",
    "plot_data(x, y)\n",
    "plt.show()"
   ]
  },
  {
   "cell_type": "code",
   "execution_count": 108,
   "metadata": {},
   "outputs": [],
   "source": [
    "'''use LinearRegression model to predict and plot'''\n",
    "model = LinearRegression(fit_intercept=True)"
   ]
  },
  {
   "cell_type": "code",
   "execution_count": 109,
   "metadata": {},
   "outputs": [],
   "source": [
    "X = x[:, np.newaxis]\n",
    "Xtrain, Xtest, ytrain, ytest = sklearn.model_selection.train_test_split(X, y, random_state=1)\n",
    "model.fit(Xtrain, ytrain)\n",
    "y_predict = model.predict(Xtest)"
   ]
  },
  {
   "cell_type": "code",
   "execution_count": 44,
   "metadata": {},
   "outputs": [],
   "source": [
    "%matplotlib inline\n",
    "plt.scatter(x, y, marker='x',)\n",
    "\n",
    "plt.plot(Xtest, y_predict,  color='r')"
   ]
  },
  {
   "cell_type": "code",
   "execution_count": null,
   "metadata": {},
   "outputs": [],
   "source": []
  }
 ],
 "metadata": {
  "anaconda-cloud": {},
  "celltoolbar": "Slideshow",
  "kernelspec": {
   "display_name": "Python 3 (ipykernel)",
   "language": "python",
   "name": "python3"
  },
  "language_info": {
   "codemirror_mode": {
    "name": "ipython",
    "version": 3
   },
   "file_extension": ".py",
   "mimetype": "text/x-python",
   "name": "python",
   "nbconvert_exporter": "python",
   "pygments_lexer": "ipython3",
   "version": "3.10.1"
  }
 },
 "nbformat": 4,
 "nbformat_minor": 2
}
