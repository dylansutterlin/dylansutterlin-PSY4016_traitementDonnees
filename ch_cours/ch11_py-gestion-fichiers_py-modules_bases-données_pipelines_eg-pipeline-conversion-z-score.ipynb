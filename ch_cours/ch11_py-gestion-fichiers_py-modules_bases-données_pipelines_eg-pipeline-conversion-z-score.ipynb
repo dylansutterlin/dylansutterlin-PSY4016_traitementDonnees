{
 "cells": [
  {
   "cell_type": "markdown",
   "metadata": {
    "slideshow": {
     "slide_type": "slide"
    }
   },
   "source": [
    "<div class=\"alert alert-info\">\n",
    "\n",
    "# PSY 4016 / 6973\n",
    "# Cueillette et traitement des données en neurosciences cognitives\n",
    "## Chapitre 11: Automatisation des traitements\n",
    "<p>\n",
    "<li>Gestion des fichiers\n",
    "<li>Structure du module en python\n",
    "<li>Les Bases de données\n",
    "<li>Les pipelines\n",
    "<li>Pipeline - conversion en z-scores\n",
    "</div>"
   ]
  },
  {
   "cell_type": "markdown",
   "metadata": {
    "slideshow": {
     "slide_type": "subslide"
    }
   },
   "source": [
    "<div class=\"alert alert-info\">\n",
    "<b><h1>Gestion des fichiers</h1></b></div>"
   ]
  },
  {
   "cell_type": "markdown",
   "metadata": {},
   "source": [
    "# Structure:\n",
    "    fichier = open(NomFichier, Mode)\n",
    "    \n",
    "# Les Modes:\n",
    "    \"r\" = \"read\"\n",
    "       le fichier existe, il est en lecture\n",
    "       \n",
    "    \"w\" = \"write\"\n",
    "       le fichier est ouvert, en écriture\n",
    "       s'il existe - il est écrasé\n",
    "       sinon - il est crée\n",
    "       \n",
    "    \"a\" = \"append\"\n",
    "       le fichier exist\n",
    "       il est ouvert en écriture en continu"
   ]
  },
  {
   "cell_type": "markdown",
   "metadata": {},
   "source": [
    "# Les méthodes:\n",
    "    f.read()\n",
    "        lit le fichier f et renvoi le contenu sous forme de chaîne\n",
    "\n",
    "    f.readline(n)\n",
    "        lit et renvoie la ligne n du fichier f\n",
    "\n",
    "    f.readlines()\n",
    "        lit le fichier f et renvoie une liste de toutes les lignes\n",
    "\n",
    "    f.write(c)\n",
    "        écrit la chaîne c dans le fichier f\n",
    "\n",
    "    f.writelines(ls)\n",
    "        écrit la liste ls dans le fichier f\n",
    "\n",
    "    f.close()\n",
    "        ferme le fichier f"
   ]
  },
  {
   "cell_type": "code",
   "execution_count": 1,
   "metadata": {},
   "outputs": [],
   "source": [
    "mkdir tmp"
   ]
  },
  {
   "cell_type": "code",
   "execution_count": 2,
   "metadata": {},
   "outputs": [
    {
     "name": "stdout",
     "output_type": "stream",
     "text": [
      "D:\\tmp\n"
     ]
    }
   ],
   "source": [
    "cd tmp"
   ]
  },
  {
   "cell_type": "code",
   "execution_count": 3,
   "metadata": {},
   "outputs": [
    {
     "name": "stdout",
     "output_type": "stream",
     "text": [
      " Le volume dans le lecteur D n'a pas de nom.\n",
      " Le num‚ro de s‚rie du volume est 6A52-EDA8\n",
      "\n",
      " R‚pertoire de D:\\tmp\n",
      "\n",
      "2022-03-29  08:43    <DIR>          .\n",
      "2022-03-29  08:43    <DIR>          ..\n",
      "               0 fichier(s)                0 octets\n",
      "               2 R‚p(s)  122ÿ998ÿ390ÿ784 octets libres\n"
     ]
    }
   ],
   "source": [
    "ls"
   ]
  },
  {
   "cell_type": "code",
   "execution_count": 4,
   "metadata": {},
   "outputs": [],
   "source": [
    "open('f1.py', 'w').close()"
   ]
  },
  {
   "cell_type": "code",
   "execution_count": 5,
   "metadata": {},
   "outputs": [
    {
     "name": "stdout",
     "output_type": "stream",
     "text": [
      " Le volume dans le lecteur D n'a pas de nom.\n",
      " Le num‚ro de s‚rie du volume est 6A52-EDA8\n",
      "\n",
      " R‚pertoire de D:\\tmp\n",
      "\n",
      "2022-03-29  08:43    <DIR>          .\n",
      "2022-03-29  08:43    <DIR>          ..\n",
      "2022-03-29  08:45                 0 f1.py\n",
      "               1 fichier(s)                0 octets\n",
      "               2 R‚p(s)  122ÿ998ÿ390ÿ784 octets libres\n"
     ]
    }
   ],
   "source": [
    "ls"
   ]
  },
  {
   "cell_type": "code",
   "execution_count": 7,
   "metadata": {},
   "outputs": [],
   "source": [
    "cmd = [\"def f1():\\n\",\"    print(\\\"bonjour\\\")\"]\n",
    "f = open('f1.py', 'a')\n",
    "f.writelines(cmd)\n",
    "f.close()"
   ]
  },
  {
   "cell_type": "code",
   "execution_count": 8,
   "metadata": {},
   "outputs": [
    {
     "name": "stdout",
     "output_type": "stream",
     "text": [
      "def f1():\n",
      "    print(\"bonjour\")\n"
     ]
    }
   ],
   "source": [
    "f = open(\"f1.py\", \"r\")\n",
    "print(f.read()) "
   ]
  },
  {
   "cell_type": "code",
   "execution_count": 8,
   "metadata": {},
   "outputs": [],
   "source": [
    "rm f1.py"
   ]
  },
  {
   "cell_type": "code",
   "execution_count": 10,
   "metadata": {},
   "outputs": [],
   "source": [
    "# méthode boucle:\n",
    "\n",
    "with open(\"f1.py\", \"a\") as f:\n",
    "    for val in cmd:\n",
    "        f.write(val+'\\n') # replace('\\n\\r','')"
   ]
  },
  {
   "cell_type": "code",
   "execution_count": 11,
   "metadata": {},
   "outputs": [
    {
     "name": "stdout",
     "output_type": "stream",
     "text": [
      "def f1():\n",
      "    print(\"bonjour\")\n",
      "\n"
     ]
    }
   ],
   "source": [
    "f = open(\"f1.py\", \"r\")\n",
    "print(f.read())"
   ]
  },
  {
   "cell_type": "code",
   "execution_count": 9,
   "metadata": {},
   "outputs": [
    {
     "name": "stdout",
     "output_type": "stream",
     "text": [
      "D:\\\n"
     ]
    }
   ],
   "source": [
    "cd .."
   ]
  },
  {
   "cell_type": "code",
   "execution_count": null,
   "metadata": {},
   "outputs": [],
   "source": [
    "f = open(\"tmp/f1.py\", \"r\")\n",
    "import os\n",
    "os.sep # changer les barre oblique"
   ]
  },
  {
   "cell_type": "code",
   "execution_count": 13,
   "metadata": {},
   "outputs": [
    {
     "name": "stdout",
     "output_type": "stream",
     "text": [
      "tmp/fichier.txt\n"
     ]
    }
   ],
   "source": [
    "import os\n",
    "\n",
    "print(os.path.join('tmp', 'fichier.txt'))"
   ]
  },
  {
   "cell_type": "markdown",
   "metadata": {
    "slideshow": {
     "slide_type": "subslide"
    }
   },
   "source": [
    "<div class=\"alert alert-info\">\n",
    "<b><h1>structure du module en python </h1></b></div>"
   ]
  },
  {
   "cell_type": "markdown",
   "metadata": {},
   "source": [
    "<center><img src=\"img/module_py.png\"></center>"
   ]
  },
  {
   "cell_type": "markdown",
   "metadata": {},
   "source": [
    ".py  - fichier py\n",
    ".pyw - fichier py sans terminal"
   ]
  },
  {
   "cell_type": "markdown",
   "metadata": {
    "slideshow": {
     "slide_type": "subslide"
    }
   },
   "source": [
    "<div class=\"alert alert-success\">\n",
    "<h2>les fichiers:</h2>\n",
    "<br>\n",
    "<li><b>license.md</b>: contient le texte de la licence. Une version standard peut être choisie sur github\n",
    "<li><b>readme.md</b>: fichier qui comprend un texte et décrit ce que fait le pipeline\n",
    "<li>autres fichiers supplémentaires: requirements.txt (fichier qui comprend les versions des modules requis pour le pipeline), d'autres dossiers qui incluent un exemple standard afin de tester le fonctionnement du pipeline. \n",
    "</div>"
   ]
  },
  {
   "cell_type": "markdown",
   "metadata": {
    "slideshow": {
     "slide_type": "subslide"
    }
   },
   "source": [
    "<div class=\"alert alert-success\">\n",
    "<h2>__init.py__</h2>\n",
    "<br>\n",
    "<li>est obligatoire pour que python considère les répertoires comme contenant des paquetages\n",
    "<li>peut-être vide\n",
    "<li>peut contenir du code d’initialisation\n",
    "<li>peut contenir la variable _ _all_ _\n",
    "</div>"
   ]
  },
  {
   "cell_type": "markdown",
   "metadata": {},
   "source": [
    "# WINDOWS (command prompt):\n",
    "\n",
    "notepad bin\\fichier.py\n",
    "\n",
    "autres editeurs: notepad++, pycharms, etc.\n",
    "\n",
    "\n",
    "# MAC / Linux (terminal:\n",
    "\n",
    "nano bin/fichier.py\n",
    "\n",
    "autres editeurs: pico, vim, emacs, sublime, atom"
   ]
  },
  {
   "cell_type": "code",
   "execution_count": 3,
   "metadata": {},
   "outputs": [],
   "source": [
    "# exemple d'antêtes du fichier python\n",
    "\n",
    "#!/usr/bin/env python\n",
    "# -*- coding: utf-8 -*-"
   ]
  },
  {
   "cell_type": "markdown",
   "metadata": {},
   "source": [
    "# bin/fichier.py:\n",
    "    def f1():\n",
    "        print(\"bonjour\")\n",
    "\n",
    "\n",
    "# bin/_ _ init _ _.py:\n",
    "    __all__ = [\"fichier.py\"]\n",
    "\n",
    "\n",
    "\n",
    "# app.py:\n",
    "    from bin import fichier\n",
    "    \n",
    "    fichier.f1()\n",
    "    \n",
    "# fichier _ _ init _ _.py:\n"
   ]
  },
  {
   "cell_type": "markdown",
   "metadata": {},
   "source": [
    "cd ../dossier_racine/app_nom\n",
    "\n",
    "python3 app.py"
   ]
  },
  {
   "cell_type": "markdown",
   "metadata": {},
   "source": [
    "# terminer un fichier pour une exécution directe:\n",
    "\n",
    "    def f1():\n",
    "        print(\"bonjour\")\n",
    "        \n",
    "    def f2(n):\n",
    "        print(n)\n",
    "\n",
    "    def calc(n, m):\n",
    "        print(n + m)\n",
    "\n",
    "\n",
    "    if __name__ == \"__main__\":\n",
    "        f2(\"text\")\n",
    "        calc(2, 3)"
   ]
  },
  {
   "cell_type": "markdown",
   "metadata": {
    "slideshow": {
     "slide_type": "subslide"
    }
   },
   "source": [
    "<div class=\"alert alert-success\">\n",
    "    <br> le <i><b>import</b></i> définie explicitement certains attributs du module:\n",
    "<p>\n",
    "<li><b>__name__</b>: le nom du fichier\n",
    "<li><b>__main__</b>: Lorsque Python exécute le \"fichier source\" comme programme principal, il définit la variable spéciale (__name__) pour qu'elle ait une valeur (\"__main__\")\n",
    "<li> <b>__file__</b>: le fichier du module\n",
    "<li> <b>__doc__</b>: documentation du module\n",
    "<li> <b>__dict__</b>: dictionnaire utilisé par le module\n",
    "</div>"
   ]
  },
  {
   "cell_type": "markdown",
   "metadata": {},
   "source": [
    "app.py\n",
    "\n",
    "python -> __name__\n",
    "\n",
    "__name__ == app.py\n",
    "\n",
    "\n",
    "fichier2.py\n",
    "__name__ == fichier2.py"
   ]
  },
  {
   "cell_type": "markdown",
   "metadata": {},
   "source": [
    "cd ../dossier_racine/app_nom/bin\n",
    "\n",
    "python3 fichier.py"
   ]
  },
  {
   "cell_type": "code",
   "execution_count": null,
   "metadata": {},
   "outputs": [],
   "source": [
    "python3 app.py -> \"__main__\"\n",
    "\n",
    "\"__main__\" == app.py == __name__"
   ]
  },
  {
   "cell_type": "markdown",
   "metadata": {
    "slideshow": {
     "slide_type": "subslide"
    }
   },
   "source": [
    "<div class=\"alert alert-info\">\n",
    "<b><h1>Les Bases de données</h1></b></div>"
   ]
  },
  {
   "cell_type": "markdown",
   "metadata": {
    "slideshow": {
     "slide_type": "subslide"
    }
   },
   "source": [
    "<div class=\"alert alert-success\">\n",
    "<h2>Classification</h2>\n",
    "<br>\n",
    "<li><b>SGBDR</b> (systèmes de gestion de base de données relationnelle) (Microsoft SQL Server, Oracle Database MySQL, IBM DB2)\n",
    "    <ul>\n",
    "        <li>base de données structurée\n",
    "        <li>toutes les données sont disponibles sous la forme de tableaux composés de lignes et de colonnes\n",
    "        <li>Chaque table contiendra une clé primaire pour éviter la duplication\n",
    "        <li>En dehors de cela, la clé primaire d'une table peut être une clé d'une autre table\n",
    "    </ul>\n",
    "\n",
    "<li><b>NOSQL</b> Base de données non-relationnelle, qui ne relève pas du SGBDR\n",
    "    <ul>\n",
    "        <li>les données ne sont pas stockées dans le format de ligne Table\n",
    "        <li>Sont plus spécifique: bases de données de valeurs clés, données documentaires, graphiques, en continu\n",
    "    </ul>   \n",
    "\n",
    "<li><b>NewSQL (VoltDB, MemSQL)</b>\n",
    "    <ul>\n",
    "        <li>La dernière tendance dans le monde\n",
    "        <li>suit un schéma relationnel\n",
    "        <li>fonctionne sur la mémoire plutôt que sur le disque afin de surperformer les bases de données relationnelles traditionnelles\n",
    "        <li>Sont limités par la mémoire\n",
    "    </ul>\n",
    "</div>"
   ]
  },
  {
   "cell_type": "markdown",
   "metadata": {
    "slideshow": {
     "slide_type": "subslide"
    }
   },
   "source": [
    "<div class=\"alert alert-success\">\n",
    "<h2>SGBDR: La Base de données relationnelle</h2>\n",
    "<br>\n",
    "    <ul>\n",
    "        <li> utilise un \"langage de requête\n",
    "        <li>chaque colonne a un type de données spécifique (VARCHAR)\n",
    "            <ul>\n",
    "                <li>entier\n",
    "                <li>timestamp (horodatage)\n",
    "                <li>string (chaîne)\n",
    "            </ul>\n",
    "    <li>Le serveur MySQL est un ordinateur physiquement différent de celui sur lequel vous travaillez\n",
    "    <li>sont principalement utilisés dans les scénarios de grandes entreprises\n",
    "    <li>Ou également à stocker des données pour des applications Web.\n",
    "    <li>peuvent être utilisées pour gérer des applications orientées transaction\n",
    "    <li>peuvent être considérées comme des bases de données «opérationnelles», caractérisées par des transactions courtes et fréquentes comprenant des mises à jour, manipulant une petite quantité de données et fournissant une simultanéité à des milliers de transactions (exemple: les applications bancaires)\n",
    "    <li>Les SGBDR répondent aux besoins en intégrité des données depuis des décennies, mais la croissance exponentielle des données au cours des dix dernières années et de nombreux nouveaux types de données ont complètement modifié l'équation des données, de sorte que les bases de données non relationnelles ont évolué\n",
    "    </ul>\n",
    "</div>"
   ]
  },
  {
   "cell_type": "markdown",
   "metadata": {},
   "source": [
    "# exemple requête:\n",
    "\n",
    "    SELECT nom, âge FROM ma_base.personnes WHERE état =\"QC\"\n",
    "    \n",
    "\n",
    "    SELECT nom, âge\n",
    "        les données seront extraites des colonnes «nom» et «âge»\n",
    "\n",
    "    FROM personnes\n",
    "        les colonnes et les données seront lues dans le tableau “personnes”\n",
    "        dans la base de données ma_base (ou le nom du fichier de la base de données)\n",
    "\n",
    "    WHERE état = \"QC\"\n",
    "        les données seront sélectionnées si la colonne \"état\" a une valeur “QC”"
   ]
  },
  {
   "cell_type": "markdown",
   "metadata": {
    "slideshow": {
     "slide_type": "subslide"
    }
   },
   "source": [
    "<div class=\"alert alert-success\">\n",
    "<h2>NOSQL: Base de données non-relationnelle</h2>\n",
    "<br>\n",
    "    <ul>\n",
    "    <li>SQL Server sont utilisé pour indexer quelques milliers de documents/ quelques milliers de transactions par seconde et les rechercher, ont peux utiliser la recherche en texte intégral\n",
    "    <li>NoSQL – pour indexer, stocker et analyser quelques millions de documents/ millions de transactions par seconde.\n",
    "    <li>NoSQL peux être utiliser pour le stockage de données semi-structurées, des modèles de données sans schéma et le besoin de données à haute disponibilité\n",
    "    <li>Key-Value Stores: <b>[Redis]</b> «performance» la plus rapide. Utilisés pour le cache, les files d'attente tiennent dans la mémoire, changent rapidement de données et stockent des données d'objet blob. Exemples: données de capteur, panier d'achat, classements, bases de données graphiques, cours des actions\n",
    "    <li>Magasins de documents: <b>[MongoDB]</b> Développement le plus rapide. Avoir des schémas flexibles, des requêtes dynamiques, des index définis, de bonnes performances sur des bases de données volumineuses. Exemples: données de commande, données client, données de journal, catalogue de produits, contenu généré par l'utilisateur (sessions de discussion, tweets, billets de blog, notes, commentaires)\n",
    "    <li>Magasins à colonnes larges: <b>[Cassandra]</b> Vien avec interrogation en temps réel de données aléatoires (non séquentielles), grand nombre d'écritures, capteurs. Exemples: analyse Web, analyse de séries chronologiques, analyse de données en temps réel, secteur bancaire\n",
    "    </ul>\n",
    "</div>"
   ]
  },
  {
   "cell_type": "markdown",
   "metadata": {
    "slideshow": {
     "slide_type": "subslide"
    }
   },
   "source": [
    "<div class=\"alert alert-success\">\n",
    "<h2>NewSQL</h2>\n",
    "<br>\n",
    "    <ul>\n",
    "    <li>un mélange des différents modèles de données dans ce qui équivaut à un magasin relationnel + NoSQL\n",
    "    <li>Ils sont conçus pour des applications à l'échelle Web, mais nécessitent toujours des schémas, des jointures et une gestion de table initiaux pouvant nécessiter beaucoup de travail\n",
    "    <li>Les applications OLTP relationnel et évolutif fonctionnerait bien avec NewSQL.\n",
    "    </ul>\n",
    "</div>"
   ]
  },
  {
   "cell_type": "markdown",
   "metadata": {},
   "source": [
    "<center><img src=\"img/base_donnees_comparaison.png\"></center>"
   ]
  },
  {
   "cell_type": "markdown",
   "metadata": {
    "slideshow": {
     "slide_type": "subslide"
    }
   },
   "source": [
    "<div class=\"alert alert-success\">\n",
    "<h2>Choisir la base de données</h2>\n",
    "<br>\n",
    "    <ul>\n",
    "    <li>Le SGBDR concerne les bases de données de moins de 1 téraoctet. NoSQL est pour les documents JSON\n",
    "    <li>Si l’objectif est d’échelonner verticalement, envisagez un SGBDR\n",
    "    <li>NoSQL:\n",
    "        <ul>\n",
    "        <li>Lorsque vous importez de nouvelles données avec beaucoup de volume et / ou de variété\n",
    "        <li>Les données sont non relationnelles / semi-structurées\n",
    "        <li>Vous pouvez assouplir la cohérence transactionnelle lorsque l'évolutivité ou les performances sont plus importantes\n",
    "        <li>Vous pouvez traiter un grand nombre de demandes d'utilisateurs plutôt que de les appliquer rigoureusement\n",
    "        </ul>\n",
    "    <li>Si le système est massivement distribué et ont il est possible de se contenter d'une cohérence éventuelle sur certains nœuds / partitions - Cassandra ou Scylla\n",
    "    <li>Si les données d'entrée sont particulièrement hétérogènes et difficiles à encapsuler selon un schéma de normalisation - SGBD NoSQL\n",
    "    <li>Si l’objectif est d’échelonner horizontalement, un SGBD NoSQL peut être préférable\n",
    "    <li>Si ont utilise des bases de données relationnelles, non relationnelles ou un mélange des deux types de base de données - Alooma\n",
    "    </ul>\n",
    "</div>"
   ]
  },
  {
   "cell_type": "markdown",
   "metadata": {
    "slideshow": {
     "slide_type": "subslide"
    }
   },
   "source": [
    "<div class=\"alert alert-info\">\n",
    "<b><h1>Pipelines - règles</h1></b></div>"
   ]
  },
  {
   "cell_type": "markdown",
   "metadata": {
    "slideshow": {
     "slide_type": "subslide"
    }
   },
   "source": [
    "<div class=\"alert alert-success\">\n",
    "<h2>L'automatisation c'est:</h2>\n",
    "<br>\n",
    "<li>établir un <b>ensemble</b> d'actions / de décisions\n",
    "<li> qui sont effectués dans une <b>consécutiivité</b> définie\n",
    "<li> pour atteindre un <b>objectif</b>\n",
    "</div>"
   ]
  },
  {
   "cell_type": "markdown",
   "metadata": {
    "slideshow": {
     "slide_type": "subslide"
    }
   },
   "source": [
    "<div class=\"alert alert-success\">\n",
    "<h2>Exemples d'automatisation:</h2>\n",
    "<br>\n",
    "<li>marcher\n",
    "<li>tenir la cuillère\n",
    "<li>manger\n",
    "<li>lire\n",
    "<li>parler\n",
    "<li>coder\n",
    "<li>créer\n",
    "</div>"
   ]
  },
  {
   "cell_type": "markdown",
   "metadata": {
    "slideshow": {
     "slide_type": "subslide"
    }
   },
   "source": [
    "<div class=\"alert alert-success\">\n",
    "<h2>Paramètres d'automatisation:</h2>\n",
    "<br>\n",
    "<li><b>Répétition:</b> si l'action est utilisée plus d'une fois, l'action est considérée pour être automatisée\n",
    "<li><b>Energie/Temps:</b> chaque action nécessite de l'énergie/temps pour être réalisée. Lorsque l'action est automatisée, les actions utilisées sont minimes et sont les meilleures pour atteindre l'objectif. Cela permet d’atteindre l’objectif le plus performant possible en utilisant le moins d’énergie possible.\n",
    "<li><b>Efficacité:</b> une fois l'automatisation démarrée, des recherches approfondies sont en cours afin de trouver la méthode la plus efficace pour atteindre l'objectif et utiliser le moins d'énergie possible.\n",
    "<li><b>Durée de vie:</b> chaque processus automatisée a une durée de vie. La durée dépend de l'efficacité de l'action, de l'efficacité du but, du prix de l'algorithme.\n",
    "</div>"
   ]
  },
  {
   "cell_type": "markdown",
   "metadata": {
    "slideshow": {
     "slide_type": "subslide"
    }
   },
   "source": [
    "<div class=\"alert alert-success\">\n",
    "<h2>Stratégies pour une automatisation efficace:</h2>\n",
    "<br>\n",
    "<li>évite la <b>répétition</b>. \"La duplication est le principal ennemi d'un système bien conçu.\"\n",
    "<li>garder les <b>fonctions petites</b>\n",
    "<li>écrire du code uniquement pour les <b>besoins actuels</b>\n",
    "<li>commencer avec un <b>pseudo-code</b>\n",
    "</div>"
   ]
  },
  {
   "cell_type": "markdown",
   "metadata": {
    "slideshow": {
     "slide_type": "subslide"
    }
   },
   "source": [
    "<div class=\"alert alert-success\">\n",
    "<h2>Paramètres des Pipelines:</h2>\n",
    "<br>\n",
    "<li> facilement modifiable\n",
    "<li> robuste aux changements\n",
    "<li> réplicable\n",
    "</div>"
   ]
  },
  {
   "cell_type": "markdown",
   "metadata": {
    "slideshow": {
     "slide_type": "subslide"
    }
   },
   "source": [
    "<div class=\"alert alert-success\">\n",
    "<h2>But du pipeline:</h2>\n",
    "<br>\n",
    "<li> données d'accès <ul>\n",
    "     <li> vérifier les nouvelles données\n",
    "     <li> stocker des données\n",
    "     <li> mettre à jour les données </ul>\n",
    "<li> données de nettoyage / pré-traitement <ul>\n",
    "     <li> normalisation\n",
    "     <li> supprimer les erreurs\n",
    "     <li> vérifier NAN\n",
    "     <li> normalisation (scores z) </ul>\n",
    "<li> analyser les données\n",
    "<li> fournir des résultats\n",
    "<li> fournir un retour d'analyse (journal) <ul>\n",
    "     <li> gérer les erreurs\n",
    "     <li> créer une redondance\n",
    "     <li> composants d'échelle\n",
    "     <li> augmenter le débit\n",
    "     <li> ajouter des étapes plus complexes </ul>\n",
    "\n",
    "</div>"
   ]
  },
  {
   "cell_type": "markdown",
   "metadata": {
    "slideshow": {
     "slide_type": "subslide"
    }
   },
   "source": [
    "<div class=\"alert alert-success\">\n",
    "<h2>Structures des Pipelines:</h2>\n",
    "<br>\n",
    "Un script de pipeline a besoin de:\n",
    "<li> script de programme\n",
    "<li> conteneur\n",
    "<br> <br>\n",
    "Un conteneur est un fichier autonome contenant tout le nécessaire pour exécuter un programme ou un système.\n",
    "<br> <br>\n",
    "POURQUOI un conteneur est nécessaire?\n",
    "<br>\n",
    "<li> défis logiciels\n",
    "<li> dépendances\n",
    "<li> il est difficile de reproduire exactement les mêmes résultats avec des collaborateurs\n",
    "<li> plus de revues exigent une reproductibilité\n",
    "<li> dans le conteneur, toutes les versions sont corrigées</div>"
   ]
  },
  {
   "cell_type": "markdown",
   "metadata": {
    "slideshow": {
     "slide_type": "subslide"
    }
   },
   "source": [
    "<div class=\"alert alert-info\">\n",
    "<b><h1>Pipeline - conversion en z-scores</h1></b></div>"
   ]
  },
  {
   "cell_type": "markdown",
   "metadata": {},
   "source": [
    "```\n",
    "# BUT:\n",
    "       Objectif: prendre un fichier csv avec des données et convertir automatiquement toutes les valeurs en z-scores\n",
    "\n",
    "# PseudoCode\n",
    "\n",
    "    (1) fonction pour lire le fichier\n",
    "\n",
    "    (2) fonction pour extraire les noms de colonnes\n",
    "\n",
    "    (3) fonction pour trouver le nom de colonne requis\n",
    "\n",
    "    (4) fonction pour calculer le score z pour chaque valeur\n",
    "\n",
    "    (5) fonction pour sauvegarder les nouveaux résultats dans un nouveau fichier\n",
    "    \n",
    "\n",
    "# Appliquer les stratégies:\n",
    "\n",
    "    Répétition\n",
    "    Fonctions petites\n",
    "    Code pour les besoins actuels\n",
    "    \n",
    "\n",
    "# Vérification des paramètres:\n",
    "\n",
    "    écrire les fonctions:            5 x 10 min = 50 min.\n",
    "    test et débogage:                30 min.\n",
    "    durée de vie de la pipeline:     jusqu'à la publication de l'article\n",
    "```"
   ]
  }
 ],
 "metadata": {
  "anaconda-cloud": {},
  "celltoolbar": "Slideshow",
  "kernelspec": {
   "display_name": "Python 3 (ipykernel)",
   "language": "python",
   "name": "python3"
  },
  "language_info": {
   "codemirror_mode": {
    "name": "ipython",
    "version": 3
   },
   "file_extension": ".py",
   "mimetype": "text/x-python",
   "name": "python",
   "nbconvert_exporter": "python",
   "pygments_lexer": "ipython3",
   "version": "3.10.1"
  }
 },
 "nbformat": 4,
 "nbformat_minor": 2
}
