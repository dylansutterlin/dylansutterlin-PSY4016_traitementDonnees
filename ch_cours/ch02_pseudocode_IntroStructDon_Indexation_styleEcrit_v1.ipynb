{
 "cells": [
  {
   "cell_type": "markdown",
   "metadata": {},
   "source": [
    "<div class=\"alert alert-info\">\n",
    "\n",
    "# PSY 4016-G-H20\n",
    "# Cueillette et traitement des données en neurosciences cognitives\n",
    "## Chapitre 2: les structures de données, intro\n",
    "<p>\n",
    "<li> Structures de données:\n",
    "    <ul>\n",
    "        <li>la chaîne\n",
    "        <li>l'entier\n",
    "        <li>la flotte\n",
    "        <li>la liste\n",
    "        <li>le tuple\n",
    "        <li>le dictionnaire\n",
    "        <li>Pandas DataFrame\n",
    "        <li>Numpy</ul>\n",
    "\n",
    "<li> Les styles d'écriture de code python\n",
    "<li> Indexation des structures de données\n",
    "<li> Le Pseudo-code"
   ]
  },
  {
   "cell_type": "code",
   "execution_count": null,
   "metadata": {},
   "outputs": [],
   "source": []
  },
  {
   "cell_type": "code",
   "execution_count": null,
   "metadata": {},
   "outputs": [],
   "source": []
  },
  {
   "cell_type": "markdown",
   "metadata": {},
   "source": [
    "<div class=\"alert alert-info\">\n",
    "<h3>Les structures de données</h3>\n",
    "</div>"
   ]
  },
  {
   "cell_type": "markdown",
   "metadata": {},
   "source": [
    "<div class=\"alert alert-success\">\n",
    "<br>\n",
    "<li>Les chaînes de caractères (texte) en python sont entourés de guillemets simples ou de guillemets doubles.\n",
    "<li>les entiers sont des nombres\n",
    "<li>les flottantes sont des nombres avec une valeur après la virgule\n",
    "<li>la liste est une séquance de variables\n",
    "<li>le tuple est une séquance de variables NON modifiable\n",
    "<li>le dictionnaire est une structure avec de clés et de valeurs. Le dictionnaire N’EST pas une sequence\n",
    "<p><p>\n",
    "<li>les listes, tuples, dictionnaires, DataFrames sont hétérogènes et peuvent contenir:<ul>\n",
    "    <li> des chaînes de caractères (strings)\n",
    "    <li>des entiers\n",
    "    <li>des objets</ul>\n",
    "</div>"
   ]
  },
  {
   "cell_type": "markdown",
   "metadata": {},
   "source": [
    "<div class=\"alert alert-success\">\n",
    "\n",
    "### comment créer une structure de données :\n",
    "\n",
    "### chaîne:\n",
    "    str()\n",
    "    variable1 = str(\"variable\")\n",
    "\n",
    "### entiere:\n",
    "    int()\n",
    "    entiere1 = int(1)\n",
    "\n",
    "### flottante:\n",
    "    float()\n",
    "    flottante1 = float(1)\n",
    "\n",
    "### list - structure entre crochets:\n",
    "    list()\n",
    "    list1 = list()\n",
    "    list1 =[]\n",
    "\n",
    "### tuple - structure entre parenthèses:\n",
    "    tuple()\n",
    "    tuple1 = tuple()\n",
    "    tuple1 = ()\n",
    "\n",
    "### dictionnaire - structure entre accolades:\n",
    "    dict()\n",
    "    dictionnaire1 = dict()\n",
    "    dictionnaire1 = {}\n",
    "\n",
    "### pandas DataFrame:\n",
    "    pandas.DataFrame()\n",
    "    df1 = pandas.DataFrame()\n",
    "\n",
    "</div>"
   ]
  },
  {
   "cell_type": "markdown",
   "metadata": {},
   "source": [
    "<div class=\"alert alert-success\">\n",
    "    \n",
    "## commandes python\n",
    "    \n",
    "#### pour vérifier le type de variable, utilisez la commande :\n",
    "    \n",
    "    type()\n",
    "    \n",
    "#### pour vérifier le type de variable, utilisez la commande :\n",
    "    \n",
    "    len()\n",
    "</div>"
   ]
  },
  {
   "cell_type": "code",
   "execution_count": 1,
   "metadata": {},
   "outputs": [
    {
     "name": "stdout",
     "output_type": "stream",
     "text": [
      "bonjour\n"
     ]
    },
    {
     "data": {
      "text/plain": [
       "str"
      ]
     },
     "execution_count": 1,
     "metadata": {},
     "output_type": "execute_result"
    }
   ],
   "source": [
    "# créer une chaîne\n",
    "\n",
    "a = str(\"bonjour\") #Version 1\n",
    "#a = \"bonjour\" #Version 2\n",
    "\n",
    "print(a)\n",
    "type(a)"
   ]
  },
  {
   "cell_type": "code",
   "execution_count": 19,
   "metadata": {},
   "outputs": [],
   "source": [
    "len(a)"
   ]
  },
  {
   "cell_type": "code",
   "execution_count": 1,
   "metadata": {},
   "outputs": [],
   "source": [
    "# Vous pouvez affecter une chaîne multiligne \n",
    "# à une variable en utilisant trois guillemets:\n",
    "\n",
    "a = \"\"\"Lorem ipsum dolor sit amet,\n",
    "consectetur adipiscing elit,\n",
    "sed do eiusmod tempor incididunt\n",
    "ut labore et dolore magna aliqua.\"\"\"\n",
    "# print(a)"
   ]
  },
  {
   "cell_type": "code",
   "execution_count": 2,
   "metadata": {},
   "outputs": [
    {
     "data": {
      "text/plain": [
       "123"
      ]
     },
     "execution_count": 2,
     "metadata": {},
     "output_type": "execute_result"
    }
   ],
   "source": [
    "len(a)"
   ]
  },
  {
   "cell_type": "code",
   "execution_count": 2,
   "metadata": {},
   "outputs": [
    {
     "name": "stdout",
     "output_type": "stream",
     "text": [
      "300\n"
     ]
    },
    {
     "data": {
      "text/plain": [
       "int"
      ]
     },
     "execution_count": 2,
     "metadata": {},
     "output_type": "execute_result"
    }
   ],
   "source": [
    "# créer une entier\n",
    "\n",
    "i = 300\n",
    "print(i)\n",
    "type(i)"
   ]
  },
  {
   "cell_type": "code",
   "execution_count": 4,
   "metadata": {},
   "outputs": [
    {
     "ename": "TypeError",
     "evalue": "object of type 'int' has no len()",
     "output_type": "error",
     "traceback": [
      "\u001b[1;31m---------------------------------------------------------------------------\u001b[0m",
      "\u001b[1;31mTypeError\u001b[0m                                 Traceback (most recent call last)",
      "\u001b[1;32m~\\AppData\\Local\\Temp/ipykernel_205628/1459377155.py\u001b[0m in \u001b[0;36m<module>\u001b[1;34m\u001b[0m\n\u001b[0;32m      1\u001b[0m \u001b[1;31m# exception:\u001b[0m\u001b[1;33m\u001b[0m\u001b[1;33m\u001b[0m\u001b[0m\n\u001b[0;32m      2\u001b[0m \u001b[1;33m\u001b[0m\u001b[0m\n\u001b[1;32m----> 3\u001b[1;33m \u001b[0mlen\u001b[0m\u001b[1;33m(\u001b[0m\u001b[0mi\u001b[0m\u001b[1;33m)\u001b[0m\u001b[1;33m\u001b[0m\u001b[1;33m\u001b[0m\u001b[0m\n\u001b[0m",
      "\u001b[1;31mTypeError\u001b[0m: object of type 'int' has no len()"
     ]
    }
   ],
   "source": [
    "# exception:\n",
    "\n",
    "len(i)"
   ]
  },
  {
   "cell_type": "code",
   "execution_count": 6,
   "metadata": {},
   "outputs": [
    {
     "data": {
      "text/plain": [
       "3"
      ]
     },
     "execution_count": 6,
     "metadata": {},
     "output_type": "execute_result"
    }
   ],
   "source": [
    "# solution de contournement\n",
    "len(str(i))"
   ]
  },
  {
   "cell_type": "code",
   "execution_count": 7,
   "metadata": {},
   "outputs": [
    {
     "name": "stdout",
     "output_type": "stream",
     "text": [
      "1.0\n"
     ]
    },
    {
     "data": {
      "text/plain": [
       "float"
      ]
     },
     "execution_count": 7,
     "metadata": {},
     "output_type": "execute_result"
    }
   ],
   "source": [
    "# créer une flottante\n",
    "\n",
    "flottante1 = float(1)\n",
    "print(flottante1)\n",
    "type(flottante1)"
   ]
  },
  {
   "cell_type": "code",
   "execution_count": 34,
   "metadata": {},
   "outputs": [],
   "source": [
    "# exception:\n",
    "\n",
    "len(flottante1)"
   ]
  },
  {
   "cell_type": "code",
   "execution_count": 36,
   "metadata": {},
   "outputs": [],
   "source": [
    "# solution de contournement\n",
    "\n",
    "len(str(flottante1))"
   ]
  },
  {
   "cell_type": "code",
   "execution_count": 55,
   "metadata": {},
   "outputs": [],
   "source": [
    "# créer plusieurs variables:\n",
    "\n",
    "text3, c, text4 = 'montreal', 4, '.ca'\n",
    "print(text3, c, text4)"
   ]
  },
  {
   "cell_type": "code",
   "execution_count": 8,
   "metadata": {},
   "outputs": [
    {
     "name": "stdout",
     "output_type": "stream",
     "text": [
      "['text1', 'b', 'text2', 'text', [], ()]\n"
     ]
    },
    {
     "data": {
      "text/plain": [
       "list"
      ]
     },
     "execution_count": 8,
     "metadata": {},
     "output_type": "execute_result"
    }
   ],
   "source": [
    "# créer une liste\n",
    "\n",
    "ls1 = ['text1', 'b', 'text2', 'text', [], ()]\n",
    "print(ls1)\n",
    "type(ls1)"
   ]
  },
  {
   "cell_type": "code",
   "execution_count": null,
   "metadata": {},
   "outputs": [],
   "source": [
    "len(ls1)"
   ]
  },
  {
   "cell_type": "code",
   "execution_count": 11,
   "metadata": {},
   "outputs": [],
   "source": [
    "# créer un tuple\n",
    "\n",
    "tup1 = ('text1', 'b', 'text2', 'text')\n",
    "print(tup1)\n",
    "type(tup1)\n",
    "\n",
    "tup2 = 'test1', 'text3'\n",
    "print(tup2)\n",
    "type(tup2)"
   ]
  },
  {
   "cell_type": "code",
   "execution_count": null,
   "metadata": {},
   "outputs": [],
   "source": [
    "len(tup2)"
   ]
  },
  {
   "cell_type": "markdown",
   "metadata": {},
   "source": [
    "<div class=\"alert alert-warning\">\n",
    "\n",
    "<li>les listes et le tuples sont des structures 1D\n",
    "</div>"
   ]
  },
  {
   "cell_type": "markdown",
   "metadata": {},
   "source": [
    "<center><img src=\"img/numpy_1x3x1.png\"><center>"
   ]
  },
  {
   "cell_type": "code",
   "execution_count": 7,
   "metadata": {},
   "outputs": [
    {
     "name": "stdout",
     "output_type": "stream",
     "text": [
      "{'cle1': 'variable', 'cle2': [], 'cle3': [1, 2, 3], 'cle4': ('a', 'b')}\n"
     ]
    },
    {
     "data": {
      "text/plain": [
       "dict"
      ]
     },
     "execution_count": 7,
     "metadata": {},
     "output_type": "execute_result"
    }
   ],
   "source": [
    "# créer un dictionnaire\n",
    "\n",
    "d1 = {\n",
    "    'cle1':'variable',\n",
    "    'cle2':[],\n",
    "    'cle3': [1,2,3],\n",
    "    'cle4': ('a', 'b',)\n",
    "    }\n",
    "print(d1)\n",
    "type(d1)"
   ]
  },
  {
   "cell_type": "code",
   "execution_count": 18,
   "metadata": {},
   "outputs": [
    {
     "data": {
      "text/plain": [
       "4"
      ]
     },
     "execution_count": 18,
     "metadata": {},
     "output_type": "execute_result"
    }
   ],
   "source": [
    "len(d1)"
   ]
  },
  {
   "cell_type": "code",
   "execution_count": 21,
   "metadata": {
    "scrolled": true
   },
   "outputs": [
    {
     "ename": "ValueError",
     "evalue": "All arrays must be of the same length",
     "output_type": "error",
     "traceback": [
      "\u001b[1;31m---------------------------------------------------------------------------\u001b[0m",
      "\u001b[1;31mValueError\u001b[0m                                Traceback (most recent call last)",
      "\u001b[1;32m~\\AppData\\Local\\Temp/ipykernel_54580/3127333689.py\u001b[0m in \u001b[0;36m<module>\u001b[1;34m\u001b[0m\n\u001b[0;32m      2\u001b[0m \u001b[1;32mimport\u001b[0m \u001b[0mpandas\u001b[0m\u001b[1;33m\u001b[0m\u001b[1;33m\u001b[0m\u001b[0m\n\u001b[0;32m      3\u001b[0m \u001b[1;33m\u001b[0m\u001b[0m\n\u001b[1;32m----> 4\u001b[1;33m \u001b[0mdf\u001b[0m \u001b[1;33m=\u001b[0m \u001b[0mpandas\u001b[0m\u001b[1;33m.\u001b[0m\u001b[0mDataFrame\u001b[0m\u001b[1;33m(\u001b[0m\u001b[0md1\u001b[0m\u001b[1;33m)\u001b[0m\u001b[1;33m\u001b[0m\u001b[1;33m\u001b[0m\u001b[0m\n\u001b[0m\u001b[0;32m      5\u001b[0m \u001b[0mprint\u001b[0m\u001b[1;33m(\u001b[0m\u001b[0mdf\u001b[0m\u001b[1;33m)\u001b[0m\u001b[1;33m\u001b[0m\u001b[1;33m\u001b[0m\u001b[0m\n\u001b[0;32m      6\u001b[0m \u001b[0mtype\u001b[0m\u001b[1;33m(\u001b[0m\u001b[0mdf\u001b[0m\u001b[1;33m)\u001b[0m\u001b[1;33m\u001b[0m\u001b[1;33m\u001b[0m\u001b[0m\n",
      "\u001b[1;32m~\\AppData\\Local\\Programs\\Python\\Python310\\lib\\site-packages\\pandas\\core\\frame.py\u001b[0m in \u001b[0;36m__init__\u001b[1;34m(self, data, index, columns, dtype, copy)\u001b[0m\n\u001b[0;32m    612\u001b[0m         \u001b[1;32melif\u001b[0m \u001b[0misinstance\u001b[0m\u001b[1;33m(\u001b[0m\u001b[0mdata\u001b[0m\u001b[1;33m,\u001b[0m \u001b[0mdict\u001b[0m\u001b[1;33m)\u001b[0m\u001b[1;33m:\u001b[0m\u001b[1;33m\u001b[0m\u001b[1;33m\u001b[0m\u001b[0m\n\u001b[0;32m    613\u001b[0m             \u001b[1;31m# GH#38939 de facto copy defaults to False only in non-dict cases\u001b[0m\u001b[1;33m\u001b[0m\u001b[1;33m\u001b[0m\u001b[0m\n\u001b[1;32m--> 614\u001b[1;33m             \u001b[0mmgr\u001b[0m \u001b[1;33m=\u001b[0m \u001b[0mdict_to_mgr\u001b[0m\u001b[1;33m(\u001b[0m\u001b[0mdata\u001b[0m\u001b[1;33m,\u001b[0m \u001b[0mindex\u001b[0m\u001b[1;33m,\u001b[0m \u001b[0mcolumns\u001b[0m\u001b[1;33m,\u001b[0m \u001b[0mdtype\u001b[0m\u001b[1;33m=\u001b[0m\u001b[0mdtype\u001b[0m\u001b[1;33m,\u001b[0m \u001b[0mcopy\u001b[0m\u001b[1;33m=\u001b[0m\u001b[0mcopy\u001b[0m\u001b[1;33m,\u001b[0m \u001b[0mtyp\u001b[0m\u001b[1;33m=\u001b[0m\u001b[0mmanager\u001b[0m\u001b[1;33m)\u001b[0m\u001b[1;33m\u001b[0m\u001b[1;33m\u001b[0m\u001b[0m\n\u001b[0m\u001b[0;32m    615\u001b[0m         \u001b[1;32melif\u001b[0m \u001b[0misinstance\u001b[0m\u001b[1;33m(\u001b[0m\u001b[0mdata\u001b[0m\u001b[1;33m,\u001b[0m \u001b[0mma\u001b[0m\u001b[1;33m.\u001b[0m\u001b[0mMaskedArray\u001b[0m\u001b[1;33m)\u001b[0m\u001b[1;33m:\u001b[0m\u001b[1;33m\u001b[0m\u001b[1;33m\u001b[0m\u001b[0m\n\u001b[0;32m    616\u001b[0m             \u001b[1;32mimport\u001b[0m \u001b[0mnumpy\u001b[0m\u001b[1;33m.\u001b[0m\u001b[0mma\u001b[0m\u001b[1;33m.\u001b[0m\u001b[0mmrecords\u001b[0m \u001b[1;32mas\u001b[0m \u001b[0mmrecords\u001b[0m\u001b[1;33m\u001b[0m\u001b[1;33m\u001b[0m\u001b[0m\n",
      "\u001b[1;32m~\\AppData\\Local\\Programs\\Python\\Python310\\lib\\site-packages\\pandas\\core\\internals\\construction.py\u001b[0m in \u001b[0;36mdict_to_mgr\u001b[1;34m(data, index, columns, dtype, typ, copy)\u001b[0m\n\u001b[0;32m    462\u001b[0m         \u001b[1;31m# TODO: can we get rid of the dt64tz special case above?\u001b[0m\u001b[1;33m\u001b[0m\u001b[1;33m\u001b[0m\u001b[0m\n\u001b[0;32m    463\u001b[0m \u001b[1;33m\u001b[0m\u001b[0m\n\u001b[1;32m--> 464\u001b[1;33m     return arrays_to_mgr(\n\u001b[0m\u001b[0;32m    465\u001b[0m         \u001b[0marrays\u001b[0m\u001b[1;33m,\u001b[0m \u001b[0mdata_names\u001b[0m\u001b[1;33m,\u001b[0m \u001b[0mindex\u001b[0m\u001b[1;33m,\u001b[0m \u001b[0mcolumns\u001b[0m\u001b[1;33m,\u001b[0m \u001b[0mdtype\u001b[0m\u001b[1;33m=\u001b[0m\u001b[0mdtype\u001b[0m\u001b[1;33m,\u001b[0m \u001b[0mtyp\u001b[0m\u001b[1;33m=\u001b[0m\u001b[0mtyp\u001b[0m\u001b[1;33m,\u001b[0m \u001b[0mconsolidate\u001b[0m\u001b[1;33m=\u001b[0m\u001b[0mcopy\u001b[0m\u001b[1;33m\u001b[0m\u001b[1;33m\u001b[0m\u001b[0m\n\u001b[0;32m    466\u001b[0m     )\n",
      "\u001b[1;32m~\\AppData\\Local\\Programs\\Python\\Python310\\lib\\site-packages\\pandas\\core\\internals\\construction.py\u001b[0m in \u001b[0;36marrays_to_mgr\u001b[1;34m(arrays, arr_names, index, columns, dtype, verify_integrity, typ, consolidate)\u001b[0m\n\u001b[0;32m    117\u001b[0m         \u001b[1;31m# figure out the index, if necessary\u001b[0m\u001b[1;33m\u001b[0m\u001b[1;33m\u001b[0m\u001b[0m\n\u001b[0;32m    118\u001b[0m         \u001b[1;32mif\u001b[0m \u001b[0mindex\u001b[0m \u001b[1;32mis\u001b[0m \u001b[1;32mNone\u001b[0m\u001b[1;33m:\u001b[0m\u001b[1;33m\u001b[0m\u001b[1;33m\u001b[0m\u001b[0m\n\u001b[1;32m--> 119\u001b[1;33m             \u001b[0mindex\u001b[0m \u001b[1;33m=\u001b[0m \u001b[0m_extract_index\u001b[0m\u001b[1;33m(\u001b[0m\u001b[0marrays\u001b[0m\u001b[1;33m)\u001b[0m\u001b[1;33m\u001b[0m\u001b[1;33m\u001b[0m\u001b[0m\n\u001b[0m\u001b[0;32m    120\u001b[0m         \u001b[1;32melse\u001b[0m\u001b[1;33m:\u001b[0m\u001b[1;33m\u001b[0m\u001b[1;33m\u001b[0m\u001b[0m\n\u001b[0;32m    121\u001b[0m             \u001b[0mindex\u001b[0m \u001b[1;33m=\u001b[0m \u001b[0mensure_index\u001b[0m\u001b[1;33m(\u001b[0m\u001b[0mindex\u001b[0m\u001b[1;33m)\u001b[0m\u001b[1;33m\u001b[0m\u001b[1;33m\u001b[0m\u001b[0m\n",
      "\u001b[1;32m~\\AppData\\Local\\Programs\\Python\\Python310\\lib\\site-packages\\pandas\\core\\internals\\construction.py\u001b[0m in \u001b[0;36m_extract_index\u001b[1;34m(data)\u001b[0m\n\u001b[0;32m    633\u001b[0m             \u001b[0mlengths\u001b[0m \u001b[1;33m=\u001b[0m \u001b[0mlist\u001b[0m\u001b[1;33m(\u001b[0m\u001b[0mset\u001b[0m\u001b[1;33m(\u001b[0m\u001b[0mraw_lengths\u001b[0m\u001b[1;33m)\u001b[0m\u001b[1;33m)\u001b[0m\u001b[1;33m\u001b[0m\u001b[1;33m\u001b[0m\u001b[0m\n\u001b[0;32m    634\u001b[0m             \u001b[1;32mif\u001b[0m \u001b[0mlen\u001b[0m\u001b[1;33m(\u001b[0m\u001b[0mlengths\u001b[0m\u001b[1;33m)\u001b[0m \u001b[1;33m>\u001b[0m \u001b[1;36m1\u001b[0m\u001b[1;33m:\u001b[0m\u001b[1;33m\u001b[0m\u001b[1;33m\u001b[0m\u001b[0m\n\u001b[1;32m--> 635\u001b[1;33m                 \u001b[1;32mraise\u001b[0m \u001b[0mValueError\u001b[0m\u001b[1;33m(\u001b[0m\u001b[1;34m\"All arrays must be of the same length\"\u001b[0m\u001b[1;33m)\u001b[0m\u001b[1;33m\u001b[0m\u001b[1;33m\u001b[0m\u001b[0m\n\u001b[0m\u001b[0;32m    636\u001b[0m \u001b[1;33m\u001b[0m\u001b[0m\n\u001b[0;32m    637\u001b[0m             \u001b[1;32mif\u001b[0m \u001b[0mhave_dicts\u001b[0m\u001b[1;33m:\u001b[0m\u001b[1;33m\u001b[0m\u001b[1;33m\u001b[0m\u001b[0m\n",
      "\u001b[1;31mValueError\u001b[0m: All arrays must be of the same length"
     ]
    }
   ],
   "source": [
    "# créer un pandas DataFrame\n",
    "import pandas\n",
    "\n",
    "df = pandas.DataFrame(d1)\n",
    "print(df)\n",
    "type(df)"
   ]
  },
  {
   "cell_type": "code",
   "execution_count": 20,
   "metadata": {},
   "outputs": [
    {
     "data": {
      "text/plain": [
       "0"
      ]
     },
     "execution_count": 20,
     "metadata": {},
     "output_type": "execute_result"
    }
   ],
   "source": [
    "len(df)"
   ]
  },
  {
   "cell_type": "markdown",
   "metadata": {},
   "source": [
    "<div class=\"alert alert-warning\">\n",
    "\n",
    "les pandas DataFrames peuvent être créés à partir de:\n",
    "<li> fichiers (csv, excel, json, etc.)\n",
    "<li>listes\n",
    "<li>dictionnaires\n",
    "    </div>"
   ]
  },
  {
   "cell_type": "code",
   "execution_count": 11,
   "metadata": {},
   "outputs": [
    {
     "name": "stdout",
     "output_type": "stream",
     "text": [
      "       0\n",
      "0  text1\n",
      "1      b\n",
      "2  text2\n",
      "3   text\n"
     ]
    }
   ],
   "source": [
    "# pandas dataframes du liste:\n",
    "\n",
    "ls1 = ['text1', 'b', 'text2', 'text']\n",
    "df_du_ls = pandas.DataFrame(ls1, index=)\n",
    "\n",
    "print(df_du_ls)"
   ]
  },
  {
   "cell_type": "code",
   "execution_count": 23,
   "metadata": {},
   "outputs": [
    {
     "name": "stdout",
     "output_type": "stream",
     "text": [
      "      AA BB CC DD\n",
      "col_1  3  2  1  0\n",
      "col_2  a  b  c  d\n"
     ]
    }
   ],
   "source": [
    "# pandas dataframes du dictionnaire:\n",
    "\n",
    "data = {'col_1': [3, 2, 1, 0], 'col_2': ['a', 'b', 'c', 'd']}\n",
    "lstest = ['AA', 'BB', 'CC', 'DD']\n",
    "\n",
    "\n",
    "df_d = pandas.DataFrame.from_dict(data, orient= 'index', columns= lstest ) # Version 1\n",
    "print(df_d)"
   ]
  },
  {
   "cell_type": "code",
   "execution_count": 24,
   "metadata": {},
   "outputs": [
    {
     "name": "stdout",
     "output_type": "stream",
     "text": [
      "   col_1 col_2\n",
      "0      3     a\n",
      "1      2     b\n",
      "2      1     c\n",
      "3      0     d\n"
     ]
    }
   ],
   "source": [
    "df_dv2 = pandas.DataFrame(data) # Version 2\n",
    "print(df_dv2)"
   ]
  },
  {
   "cell_type": "code",
   "execution_count": 17,
   "metadata": {},
   "outputs": [
    {
     "data": {
      "text/plain": [
       "pandas.core.frame.DataFrame"
      ]
     },
     "execution_count": 17,
     "metadata": {},
     "output_type": "execute_result"
    }
   ],
   "source": [
    "type(df_d)"
   ]
  },
  {
   "cell_type": "code",
   "execution_count": 46,
   "metadata": {},
   "outputs": [
    {
     "data": {
      "text/html": [
       "<div>\n",
       "<style scoped>\n",
       "    .dataframe tbody tr th:only-of-type {\n",
       "        vertical-align: middle;\n",
       "    }\n",
       "\n",
       "    .dataframe tbody tr th {\n",
       "        vertical-align: top;\n",
       "    }\n",
       "\n",
       "    .dataframe thead th {\n",
       "        text-align: right;\n",
       "    }\n",
       "</style>\n",
       "<table border=\"1\" class=\"dataframe\">\n",
       "  <thead>\n",
       "    <tr style=\"text-align: right;\">\n",
       "      <th></th>\n",
       "      <th>col_1</th>\n",
       "      <th>col_2</th>\n",
       "    </tr>\n",
       "  </thead>\n",
       "  <tbody>\n",
       "    <tr>\n",
       "      <th>0</th>\n",
       "      <td>3</td>\n",
       "      <td>a</td>\n",
       "    </tr>\n",
       "    <tr>\n",
       "      <th>1</th>\n",
       "      <td>2</td>\n",
       "      <td>b</td>\n",
       "    </tr>\n",
       "    <tr>\n",
       "      <th>2</th>\n",
       "      <td>1</td>\n",
       "      <td>c</td>\n",
       "    </tr>\n",
       "    <tr>\n",
       "      <th>3</th>\n",
       "      <td>0</td>\n",
       "      <td>d</td>\n",
       "    </tr>\n",
       "  </tbody>\n",
       "</table>\n",
       "</div>"
      ],
      "text/plain": [
       "   col_1 col_2\n",
       "0      3     a\n",
       "1      2     b\n",
       "2      1     c\n",
       "3      0     d"
      ]
     },
     "execution_count": 46,
     "metadata": {},
     "output_type": "execute_result"
    }
   ],
   "source": [
    "# par défault les collones de la cadre de données correspond aux clés\n",
    "df_d"
   ]
  },
  {
   "cell_type": "code",
   "execution_count": 48,
   "metadata": {},
   "outputs": [
    {
     "data": {
      "text/html": [
       "<div>\n",
       "<style scoped>\n",
       "    .dataframe tbody tr th:only-of-type {\n",
       "        vertical-align: middle;\n",
       "    }\n",
       "\n",
       "    .dataframe tbody tr th {\n",
       "        vertical-align: top;\n",
       "    }\n",
       "\n",
       "    .dataframe thead th {\n",
       "        text-align: right;\n",
       "    }\n",
       "</style>\n",
       "<table border=\"1\" class=\"dataframe\">\n",
       "  <thead>\n",
       "    <tr style=\"text-align: right;\">\n",
       "      <th></th>\n",
       "      <th>0</th>\n",
       "      <th>1</th>\n",
       "      <th>2</th>\n",
       "      <th>3</th>\n",
       "    </tr>\n",
       "  </thead>\n",
       "  <tbody>\n",
       "    <tr>\n",
       "      <th>col_1</th>\n",
       "      <td>3</td>\n",
       "      <td>2</td>\n",
       "      <td>1</td>\n",
       "      <td>0</td>\n",
       "    </tr>\n",
       "    <tr>\n",
       "      <th>col_2</th>\n",
       "      <td>a</td>\n",
       "      <td>b</td>\n",
       "      <td>c</td>\n",
       "      <td>d</td>\n",
       "    </tr>\n",
       "  </tbody>\n",
       "</table>\n",
       "</div>"
      ],
      "text/plain": [
       "       0  1  2  3\n",
       "col_1  3  2  1  0\n",
       "col_2  a  b  c  d"
      ]
     },
     "execution_count": 48,
     "metadata": {},
     "output_type": "execute_result"
    }
   ],
   "source": [
    "# pour changer la structure, le paramètre \"orient\" peut être utilisé\n",
    "\n",
    "df_d = pandas.DataFrame.from_dict(data, orient = 'index')\n",
    "df_d"
   ]
  },
  {
   "cell_type": "code",
   "execution_count": 54,
   "metadata": {},
   "outputs": [
    {
     "data": {
      "text/html": [
       "<div>\n",
       "<style scoped>\n",
       "    .dataframe tbody tr th:only-of-type {\n",
       "        vertical-align: middle;\n",
       "    }\n",
       "\n",
       "    .dataframe tbody tr th {\n",
       "        vertical-align: top;\n",
       "    }\n",
       "\n",
       "    .dataframe thead th {\n",
       "        text-align: right;\n",
       "    }\n",
       "</style>\n",
       "<table border=\"1\" class=\"dataframe\">\n",
       "  <thead>\n",
       "    <tr style=\"text-align: right;\">\n",
       "      <th></th>\n",
       "      <th>col_1</th>\n",
       "      <th>col_2</th>\n",
       "    </tr>\n",
       "  </thead>\n",
       "  <tbody>\n",
       "    <tr>\n",
       "      <th>0</th>\n",
       "      <td>3</td>\n",
       "      <td>a</td>\n",
       "    </tr>\n",
       "    <tr>\n",
       "      <th>1</th>\n",
       "      <td>2</td>\n",
       "      <td>b</td>\n",
       "    </tr>\n",
       "    <tr>\n",
       "      <th>2</th>\n",
       "      <td>1</td>\n",
       "      <td>c</td>\n",
       "    </tr>\n",
       "    <tr>\n",
       "      <th>3</th>\n",
       "      <td>0</td>\n",
       "      <td>d</td>\n",
       "    </tr>\n",
       "  </tbody>\n",
       "</table>\n",
       "</div>"
      ],
      "text/plain": [
       "   col_1 col_2\n",
       "0      3     a\n",
       "1      2     b\n",
       "2      1     c\n",
       "3      0     d"
      ]
     },
     "execution_count": 54,
     "metadata": {},
     "output_type": "execute_result"
    }
   ],
   "source": [
    "# alternativement, la commande \"transpose\" peut être utilisée\n",
    "# qui est similaire à Microsoft Excel et LibreOffice calc\n",
    "\n",
    "df_d = pandas.DataFrame.from_dict(data)\n",
    "\n",
    "print(df_d)\n",
    "print(df_d.transpose())"
   ]
  },
  {
   "cell_type": "code",
   "execution_count": 55,
   "metadata": {},
   "outputs": [
    {
     "data": {
      "text/html": [
       "<div>\n",
       "<style scoped>\n",
       "    .dataframe tbody tr th:only-of-type {\n",
       "        vertical-align: middle;\n",
       "    }\n",
       "\n",
       "    .dataframe tbody tr th {\n",
       "        vertical-align: top;\n",
       "    }\n",
       "\n",
       "    .dataframe thead th {\n",
       "        text-align: right;\n",
       "    }\n",
       "</style>\n",
       "<table border=\"1\" class=\"dataframe\">\n",
       "  <thead>\n",
       "    <tr style=\"text-align: right;\">\n",
       "      <th></th>\n",
       "      <th>0</th>\n",
       "      <th>1</th>\n",
       "      <th>2</th>\n",
       "      <th>3</th>\n",
       "    </tr>\n",
       "  </thead>\n",
       "  <tbody>\n",
       "    <tr>\n",
       "      <th>col_1</th>\n",
       "      <td>3</td>\n",
       "      <td>2</td>\n",
       "      <td>1</td>\n",
       "      <td>0</td>\n",
       "    </tr>\n",
       "    <tr>\n",
       "      <th>col_2</th>\n",
       "      <td>a</td>\n",
       "      <td>b</td>\n",
       "      <td>c</td>\n",
       "      <td>d</td>\n",
       "    </tr>\n",
       "  </tbody>\n",
       "</table>\n",
       "</div>"
      ],
      "text/plain": [
       "       0  1  2  3\n",
       "col_1  3  2  1  0\n",
       "col_2  a  b  c  d"
      ]
     },
     "execution_count": 55,
     "metadata": {},
     "output_type": "execute_result"
    }
   ],
   "source": [
    "df_d = pandas.DataFrame.from_dict(data)\n",
    "\n",
    "print(df_d)\n",
    "print(df_d.T)"
   ]
  },
  {
   "cell_type": "code",
   "execution_count": 21,
   "metadata": {
    "scrolled": false
   },
   "outputs": [
    {
     "ename": "NameError",
     "evalue": "name 'os' is not defined",
     "output_type": "error",
     "traceback": [
      "\u001b[1;31m---------------------------------------------------------------------------\u001b[0m",
      "\u001b[1;31mNameError\u001b[0m                                 Traceback (most recent call last)",
      "\u001b[1;32m~\\AppData\\Local\\Temp/ipykernel_205628/2427657476.py\u001b[0m in \u001b[0;36m<module>\u001b[1;34m\u001b[0m\n\u001b[0;32m      5\u001b[0m                                  columns = ['A','B','C','D'])\n\u001b[0;32m      6\u001b[0m \u001b[0mdf_d\u001b[0m\u001b[1;33m\u001b[0m\u001b[1;33m\u001b[0m\u001b[0m\n\u001b[1;32m----> 7\u001b[1;33m \u001b[0mchemin\u001b[0m \u001b[1;33m=\u001b[0m \u001b[0mos\u001b[0m\u001b[1;33m.\u001b[0m\u001b[0mgetcwd\u001b[0m\u001b[1;33m(\u001b[0m\u001b[1;33m)\u001b[0m\u001b[1;33m\u001b[0m\u001b[1;33m\u001b[0m\u001b[0m\n\u001b[0m\u001b[0;32m      8\u001b[0m \u001b[1;33m\u001b[0m\u001b[0m\n\u001b[0;32m      9\u001b[0m \u001b[0moa\u001b[0m\u001b[1;33m.\u001b[0m\u001b[0mlistdir\u001b[0m\u001b[1;33m(\u001b[0m\u001b[0mchemin\u001b[0m\u001b[1;33m)\u001b[0m\u001b[1;33m\u001b[0m\u001b[1;33m\u001b[0m\u001b[0m\n",
      "\u001b[1;31mNameError\u001b[0m: name 'os' is not defined"
     ]
    }
   ],
   "source": [
    "# les noms des colonnes peuvent également\n",
    "# être définis à l'intérieur de la commande d'exécution\n",
    "\n",
    "df_d = pandas.DataFrame.from_dict(data, orient = 'index',\n",
    "                                 columns = ['A','B','C','D'])\n",
    "df_d\n",
    "chemin = os.getcwd()\n",
    "             \n",
    "oa.listdir(chemin)\n",
    "\n",
    "# pour plus d'info:\n",
    "# https://pandas.pydata.org/docs/reference/api/pandas.DataFrame.html"
   ]
  },
  {
   "cell_type": "markdown",
   "metadata": {},
   "source": [
    "<div class=\"alert alert-warning\">\n",
    "\n",
    "<li>le dictionnaire et pandas DataFrame sont des structures 2D: multiple listes/ tuples 1D\n",
    "</div>"
   ]
  },
  {
   "cell_type": "markdown",
   "metadata": {},
   "source": [
    "<center><img \n",
    "             \n",
    "\n",
    "             src=\"img/numpy_5x5x1.png\"><center>"
   ]
  },
  {
   "cell_type": "markdown",
   "metadata": {},
   "source": [
    "<div class=\"alert alert-warning\">\n",
    "\n",
    "<li>les données 3D = multiple 2D sur plusieurs feuilles Excel\n",
    "</div>"
   ]
  },
  {
   "cell_type": "markdown",
   "metadata": {},
   "source": [
    "<center><img \n",
    "             src=\"img/numpy_5x5x3.png\"><center>"
   ]
  },
  {
   "cell_type": "markdown",
   "metadata": {},
   "source": [
    "<div class=\"alert alert-warning\">\n",
    "\n",
    "<li>données 4D =<ul>\n",
    "    <li>1 dossier avec\n",
    "    <li>multiple fichiers Excel (3D)\n",
    "    <li>avec multiple feuilles (2D)</ul>\n",
    "</div>"
   ]
  },
  {
   "cell_type": "markdown",
   "metadata": {},
   "source": [
    "<div class=\"alert alert-warning\">\n",
    "\n",
    "<li>données 5D =<ul>\n",
    "    <li>multiple dossiers avec\n",
    "    <li>multiple fichiers Excel (3D)\n",
    "    <li>avec multiple feuilles (2D)</ul>\n",
    "</div>"
   ]
  },
  {
   "cell_type": "markdown",
   "metadata": {},
   "source": [
    "<div class=\"alert alert-warning\">\n",
    "Comment créer une structure 3/4/5D en python?</div>"
   ]
  },
  {
   "cell_type": "markdown",
   "metadata": {},
   "source": [
    "<div class=\"alert alert-success\">\n",
    "<h2>NumPy = Numerical Python</h2>\n",
    "</div>"
   ]
  },
  {
   "cell_type": "markdown",
   "metadata": {},
   "source": [
    "<div class=\"alert alert-success\">\n",
    "<b>pourquoi NumPy est-il nécessaire ?</b>\n",
    "<ul> \n",
    "    <li> Les variables en python sont flexibles, mais le coût est une manipulation moins efficace des données.\n",
    "    <li> numpy est de type fixe, ils manquent de flexibilité mais ils est beaucoup plus efficaces pour stocker et manipuler des données.</ul>\n",
    "\n",
    "<li> Auteur original Travis Oliphant, première version 1995, dernière 6 janvier 2020\n",
    "<li> Repository: ithub.com/numpy/numpy\n",
    "<li> Ref: https://www.nature.com/articles/s41586-020-2649-2</div>"
   ]
  },
  {
   "cell_type": "markdown",
   "metadata": {},
   "source": [
    "<div class=\"alert alert-success\">\n",
    "<ul> <b>Avantages contre MATLAB</b>\n",
    "    <li> Matlab fonctionne avec un grand nombre de boîtes à outils supplémentaires qui doivent être achetées. En Python, numpy est intégré ainsi qu'avec des packages python gratuits complémentaires comme SciPy \n",
    "    <li> MATLAB est un logiciel propriétaire à source fermée. Un code dans MATLAB, ne peut être utilisé que par des personnes qui peuvent se permettre une licence pour l'exécuter. Python est un logiciel gratuit et open-source. Non seulement vous pouvez télécharger Python gratuitement, mais vous pouvez également télécharger, consulter et modifier le code source. Le code Python pourrait être partagé et exécuté par tout lecteur intéressé.\n",
    "    <li> Le langage MATLAB est développé exclusivement par Mathworks. Si Mathworks devait cesser ses activités, MATLAB ne pourrait plus être développé et pourrait éventuellement cesser de fonctionner. Les parties sensibles aux performances de NumPy sont toutes écrites en langage C, donc elles sont <b>très rapides.</b></ul>\n",
    "    <p>\n",
    "<ul> <b>Limites</b>\n",
    "    <li> insérer / ajouter n'est pas aussi simple que pour les listes\n",
    "    <li> la concaténation ne lie pas les tableaux, mais en renvoie un nouveau\n",
    "    <li> le remodelage n'est possible que si le nombre d'éléments ne change pas. Un pack de remplacement Blaze tente de surmonter ce problème\n",
    "    <li> Les algorithmes qui ne sont pas exprimables en tant qu'opération vectorisée s'exécuteront généralement lentement, car ils sont implémentés en Python pur. Des compilations peuvent être utilisées pour éviter cela: scipy.weabe, numexpr, Numba, Cython</ul></div>"
   ]
  },
  {
   "cell_type": "code",
   "execution_count": 26,
   "metadata": {},
   "outputs": [
    {
     "data": {
      "text/plain": [
       "'1.22.0'"
      ]
     },
     "execution_count": 26,
     "metadata": {},
     "output_type": "execute_result"
    }
   ],
   "source": [
    "import numpy as np\n",
    "np.__version__"
   ]
  },
  {
   "cell_type": "markdown",
   "metadata": {},
   "source": [
    "<div class=\"alert alert-warning\">\n",
    "crée une structure numpy\n",
    "<li><b>principe fondamental de NumPy = tableaux multi-dimensionnels</b>\n",
    "    </div>"
   ]
  },
  {
   "cell_type": "markdown",
   "metadata": {},
   "source": [
    "<div class=\"alert alert-warning\">\n",
    "<li>np.array\n",
    "<li>np.empty\n",
    "<li>np.zeros\n",
    "<li>np.one\n",
    "<li>np.full\n",
    "<li>np.eye\n",
    "<li>np.repeat\n",
    "<li>np.linspace\n",
    "<li>np.arange\n",
    "<li>np.random\n",
    "<li>np.random.random\n",
    "<li>np.random.normal\n",
    "<li>np.random.randint\n",
    "</div>"
   ]
  },
  {
   "cell_type": "code",
   "execution_count": 27,
   "metadata": {},
   "outputs": [
    {
     "data": {
      "text/plain": [
       "array([1, 2, 3])"
      ]
     },
     "execution_count": 27,
     "metadata": {},
     "output_type": "execute_result"
    }
   ],
   "source": [
    "# Créer des tableaux de données\n",
    "# entier\n",
    "arr0 = np.array([1, 2, 3])\n",
    "arr0"
   ]
  },
  {
   "cell_type": "code",
   "execution_count": 28,
   "metadata": {},
   "outputs": [
    {
     "data": {
      "text/plain": [
       "(3,)"
      ]
     },
     "execution_count": 28,
     "metadata": {},
     "output_type": "execute_result"
    }
   ],
   "source": [
    "arr0.shape"
   ]
  },
  {
   "cell_type": "code",
   "execution_count": 29,
   "metadata": {},
   "outputs": [
    {
     "data": {
      "text/plain": [
       "array([1.1, 2.2, 3.3])"
      ]
     },
     "execution_count": 29,
     "metadata": {},
     "output_type": "execute_result"
    }
   ],
   "source": [
    "# flottante\n",
    "np.array([1.1, 2.2, 3.3]) # version 1"
   ]
  },
  {
   "cell_type": "code",
   "execution_count": 30,
   "metadata": {},
   "outputs": [
    {
     "data": {
      "text/plain": [
       "array([1., 2., 3., 4., 5.], dtype=float32)"
      ]
     },
     "execution_count": 30,
     "metadata": {},
     "output_type": "execute_result"
    }
   ],
   "source": [
    "# Les valeurs peuvent être spécifiées avec dtype:\n",
    "\n",
    "np.array([1,2,3,4,5], dtype='float32')  # version 2"
   ]
  },
  {
   "cell_type": "code",
   "execution_count": 31,
   "metadata": {},
   "outputs": [
    {
     "data": {
      "text/plain": [
       "array([[1, 2],\n",
       "       [3, 4]])"
      ]
     },
     "execution_count": 31,
     "metadata": {},
     "output_type": "execute_result"
    }
   ],
   "source": [
    "# multidimensionnel\n",
    "\n",
    "arr1 = np.array([[1, 2], [3, 4]])\n",
    "arr1"
   ]
  },
  {
   "cell_type": "code",
   "execution_count": 32,
   "metadata": {},
   "outputs": [
    {
     "data": {
      "text/plain": [
       "(2, 2)"
      ]
     },
     "execution_count": 32,
     "metadata": {},
     "output_type": "execute_result"
    }
   ],
   "source": [
    "arr1.shape"
   ]
  },
  {
   "cell_type": "code",
   "execution_count": 33,
   "metadata": {},
   "outputs": [
    {
     "data": {
      "text/plain": [
       "array([[5, 6],\n",
       "       [7, 8],\n",
       "       [3, 5]])"
      ]
     },
     "execution_count": 33,
     "metadata": {},
     "output_type": "execute_result"
    }
   ],
   "source": [
    "arr2 = np.array([[5, 6], [7, 8],[3, 5]])\n",
    "arr2"
   ]
  },
  {
   "cell_type": "code",
   "execution_count": null,
   "metadata": {},
   "outputs": [],
   "source": [
    "# créer des tableaux vides:\n",
    "# numpy.empty(shape, dtype, order)\n",
    "\n",
    "# shape (allure) = dimensions du tableaux\n",
    "# dtype = le typage attendu lors de son rendu (optionnel)\n",
    "# order (ordre) = pour un tableaux style C (C) ou FORTRAN (F)\n",
    "\n",
    "np.empty([3,3], dtype=int)"
   ]
  },
  {
   "cell_type": "code",
   "execution_count": null,
   "metadata": {},
   "outputs": [],
   "source": [
    "np.zeros(10, dtype=int)"
   ]
  },
  {
   "cell_type": "code",
   "execution_count": null,
   "metadata": {},
   "outputs": [],
   "source": [
    "# Les valeurs peuvent être spécifiées avec dtype chaîne:\n",
    "\n",
    "np.zeros(10, dtype='int16')"
   ]
  },
  {
   "cell_type": "code",
   "execution_count": null,
   "metadata": {},
   "outputs": [],
   "source": [
    "# ou avec dtype objet:\n",
    "\n",
    "np.zeros(10, dtype=np.int16)"
   ]
  },
  {
   "cell_type": "code",
   "execution_count": null,
   "metadata": {},
   "outputs": [],
   "source": [
    "unes_tab = np.ones([2,2], dtype=float)\n",
    "print(unes_tab)"
   ]
  },
  {
   "cell_type": "code",
   "execution_count": null,
   "metadata": {},
   "outputs": [],
   "source": [
    "# faire un tableau 3x5 avec 3,14\n",
    "\n",
    "np.full((3,5), 3.14)"
   ]
  },
  {
   "cell_type": "code",
   "execution_count": 34,
   "metadata": {},
   "outputs": [
    {
     "data": {
      "text/plain": [
       "array([[1., 0., 0.],\n",
       "       [0., 1., 0.],\n",
       "       [0., 0., 1.]])"
      ]
     },
     "execution_count": 34,
     "metadata": {},
     "output_type": "execute_result"
    }
   ],
   "source": [
    "# créer une matrice d'identité\n",
    "# avec de 1 par diagonale:\n",
    "\n",
    "np.eye(3)"
   ]
  },
  {
   "cell_type": "code",
   "execution_count": 25,
   "metadata": {},
   "outputs": [
    {
     "data": {
      "text/plain": [
       "array([1, 1, 1, 1, 1, 1, 1, 1, 1, 1])"
      ]
     },
     "execution_count": 25,
     "metadata": {},
     "output_type": "execute_result"
    }
   ],
   "source": [
    "# répéter\n",
    "\n",
    "np.repeat(1,10)"
   ]
  },
  {
   "cell_type": "code",
   "execution_count": 35,
   "metadata": {},
   "outputs": [
    {
     "data": {
      "text/plain": [
       "array([0.  , 0.25, 0.5 , 0.75, 1.  ])"
      ]
     },
     "execution_count": 35,
     "metadata": {},
     "output_type": "execute_result"
    }
   ],
   "source": [
    "# faire un tableau de 5 valeurs régulièrement espacées:\n",
    "np.linspace(0,1,5)"
   ]
  },
  {
   "cell_type": "code",
   "execution_count": 41,
   "metadata": {},
   "outputs": [
    {
     "data": {
      "text/plain": [
       "array([10, 11, 12, 13, 14])"
      ]
     },
     "execution_count": 41,
     "metadata": {},
     "output_type": "execute_result"
    }
   ],
   "source": [
    "# trancher\n",
    "\n",
    "# x[début : arrêt : étape]\n",
    "# x[start : stop : step]\n",
    "\n",
    "x = np.arange(10,15)\n",
    "x"
   ]
  },
  {
   "cell_type": "code",
   "execution_count": 37,
   "metadata": {},
   "outputs": [
    {
     "data": {
      "text/plain": [
       "array([1, 2, 3, 4, 5, 6, 7, 8, 9])"
      ]
     },
     "execution_count": 37,
     "metadata": {},
     "output_type": "execute_result"
    }
   ],
   "source": [
    "# valeurs réparties équitablement\n",
    "# numpy.arange(start, stop ,step, dtype)\n",
    "\n",
    "np.arange(1,10)"
   ]
  },
  {
   "cell_type": "code",
   "execution_count": null,
   "metadata": {},
   "outputs": [],
   "source": [
    "np.arange(1,10,2)"
   ]
  },
  {
   "cell_type": "code",
   "execution_count": null,
   "metadata": {},
   "outputs": [],
   "source": [
    "np.arange(1,10,3)"
   ]
  },
  {
   "cell_type": "code",
   "execution_count": null,
   "metadata": {},
   "outputs": [],
   "source": [
    "np.arange(1,10,2,float)"
   ]
  },
  {
   "cell_type": "code",
   "execution_count": 28,
   "metadata": {},
   "outputs": [],
   "source": [
    "# random\n",
    "# valeurs aléatoires uniformément réparties:\n",
    "\n",
    "x2 = np.random.random((3,3))\n",
    "x2"
   ]
  },
  {
   "cell_type": "code",
   "execution_count": null,
   "metadata": {},
   "outputs": [],
   "source": [
    "# aléatoire normalement distribué avec moyenne 0 et std 1:\n",
    "np.random.normal(0,1, (3,3))"
   ]
  },
  {
   "cell_type": "code",
   "execution_count": null,
   "metadata": {},
   "outputs": [],
   "source": [
    "# random entiers:\n",
    "np.random.randint(0,10,(3,3))"
   ]
  },
  {
   "cell_type": "markdown",
   "metadata": {},
   "source": [
    "<div class=\"alert alert-success\">\n",
    "<h2>Transformation Inter-Structure</h2>\n",
    "</div>"
   ]
  },
  {
   "cell_type": "code",
   "execution_count": 27,
   "metadata": {},
   "outputs": [
    {
     "data": {
      "text/plain": [
       "{'cle': ['text1', 'b', 'text2', 'text', [], ()]}"
      ]
     },
     "execution_count": 27,
     "metadata": {},
     "output_type": "execute_result"
    }
   ],
   "source": [
    "# list -> dictionnaire:\n",
    "\n",
    "ls1 = ['text1', 'b', 'text2', 'text', [], ()]\n",
    "\n",
    "d1 = {\"cle\": ls1}\n",
    "d1"
   ]
  },
  {
   "cell_type": "code",
   "execution_count": 28,
   "metadata": {},
   "outputs": [
    {
     "data": {
      "text/html": [
       "<div>\n",
       "<style scoped>\n",
       "    .dataframe tbody tr th:only-of-type {\n",
       "        vertical-align: middle;\n",
       "    }\n",
       "\n",
       "    .dataframe tbody tr th {\n",
       "        vertical-align: top;\n",
       "    }\n",
       "\n",
       "    .dataframe thead th {\n",
       "        text-align: right;\n",
       "    }\n",
       "</style>\n",
       "<table border=\"1\" class=\"dataframe\">\n",
       "  <thead>\n",
       "    <tr style=\"text-align: right;\">\n",
       "      <th></th>\n",
       "      <th>0</th>\n",
       "    </tr>\n",
       "  </thead>\n",
       "  <tbody>\n",
       "    <tr>\n",
       "      <th>0</th>\n",
       "      <td>text1</td>\n",
       "    </tr>\n",
       "    <tr>\n",
       "      <th>1</th>\n",
       "      <td>b</td>\n",
       "    </tr>\n",
       "    <tr>\n",
       "      <th>2</th>\n",
       "      <td>text2</td>\n",
       "    </tr>\n",
       "    <tr>\n",
       "      <th>3</th>\n",
       "      <td>text</td>\n",
       "    </tr>\n",
       "    <tr>\n",
       "      <th>4</th>\n",
       "      <td>[]</td>\n",
       "    </tr>\n",
       "    <tr>\n",
       "      <th>5</th>\n",
       "      <td>()</td>\n",
       "    </tr>\n",
       "  </tbody>\n",
       "</table>\n",
       "</div>"
      ],
      "text/plain": [
       "       0\n",
       "0  text1\n",
       "1      b\n",
       "2  text2\n",
       "3   text\n",
       "4     []\n",
       "5     ()"
      ]
     },
     "execution_count": 28,
     "metadata": {},
     "output_type": "execute_result"
    }
   ],
   "source": [
    "# list -> pandas DataFrame:\n",
    "\n",
    "df = pandas.DataFrame(ls1)\n",
    "df"
   ]
  },
  {
   "cell_type": "code",
   "execution_count": 30,
   "metadata": {},
   "outputs": [
    {
     "name": "stderr",
     "output_type": "stream",
     "text": [
      "C:\\Users\\Dylan\\AppData\\Local\\Temp/ipykernel_205628/1848270402.py:3: VisibleDeprecationWarning: Creating an ndarray from ragged nested sequences (which is a list-or-tuple of lists-or-tuples-or ndarrays with different lengths or shapes) is deprecated. If you meant to do this, you must specify 'dtype=object' when creating the ndarray.\n",
      "  ordre = np.asarray(ls1)\n"
     ]
    },
    {
     "data": {
      "text/plain": [
       "array(['text1', 'b', 'text2', 'text', list([]), ()], dtype=object)"
      ]
     },
     "execution_count": 30,
     "metadata": {},
     "output_type": "execute_result"
    }
   ],
   "source": [
    "# list -> numpy:\n",
    "\n",
    "ordre = np.asarray(ls1)\n",
    "ordre\n",
    "\n",
    "# faites attention aux annonces concernant les changements\n",
    "# dans les modules python."
   ]
  },
  {
   "cell_type": "code",
   "execution_count": 68,
   "metadata": {},
   "outputs": [],
   "source": [
    "ordre = numpy.asarray(ls1, dtype = None)\n",
    "ordre"
   ]
  },
  {
   "cell_type": "code",
   "execution_count": 33,
   "metadata": {},
   "outputs": [
    {
     "data": {
      "text/plain": [
       "[3, 2, 1, 0]"
      ]
     },
     "execution_count": 33,
     "metadata": {},
     "output_type": "execute_result"
    }
   ],
   "source": [
    "# dictionnaire -> list:\n",
    "\n",
    "d1 = {'col_1': [3, 2, 1, 0], 'col_2': ['a', 'b', 'c', 'd']}\n",
    "\n",
    "ls2 = d1[\"col_1\"]\n",
    "ls2"
   ]
  },
  {
   "cell_type": "code",
   "execution_count": 34,
   "metadata": {},
   "outputs": [
    {
     "data": {
      "text/plain": [
       "dict_keys(['col_1', 'col_2'])"
      ]
     },
     "execution_count": 34,
     "metadata": {},
     "output_type": "execute_result"
    }
   ],
   "source": [
    "ls3 = d1.keys()\n",
    "ls3"
   ]
  },
  {
   "cell_type": "code",
   "execution_count": 14,
   "metadata": {},
   "outputs": [
    {
     "data": {
      "text/plain": [
       "dict_keys"
      ]
     },
     "execution_count": 14,
     "metadata": {},
     "output_type": "execute_result"
    }
   ],
   "source": [
    "type(ls3)"
   ]
  },
  {
   "cell_type": "code",
   "execution_count": 16,
   "metadata": {},
   "outputs": [],
   "source": [
    "# ATTENTION\n",
    "\n",
    "ls4 = d1.keys().tolist()\n",
    "ls4\n",
    "\n",
    "# tolist() - ne fonctionne pour les keys / values d'un dictionnare"
   ]
  },
  {
   "cell_type": "code",
   "execution_count": 20,
   "metadata": {},
   "outputs": [],
   "source": [
    "ls5 = list(d1.keys())\n",
    "ls5"
   ]
  },
  {
   "cell_type": "code",
   "execution_count": 22,
   "metadata": {},
   "outputs": [],
   "source": [
    "ls6 = list(d1.values())\n",
    "ls6"
   ]
  },
  {
   "cell_type": "code",
   "execution_count": 35,
   "metadata": {},
   "outputs": [
    {
     "name": "stdout",
     "output_type": "stream",
     "text": [
      "   col_1 col_2\n",
      "0      3     a\n",
      "1      2     b\n",
      "2      1     c\n",
      "3      0     d\n",
      "   col_1 col_2\n",
      "0      3     a\n",
      "1      2     b\n",
      "2      1     c\n",
      "3      0     d\n"
     ]
    }
   ],
   "source": [
    "# dictionnaire -> pandas DataFrame:\n",
    "\n",
    "df2 = pandas.DataFrame(d1)\n",
    "df3 = pandas.DataFrame.from_dict(d1)\n",
    "print(df2)\n",
    "print(df3)"
   ]
  },
  {
   "cell_type": "code",
   "execution_count": 37,
   "metadata": {},
   "outputs": [
    {
     "data": {
      "text/plain": [
       "array([['col_1', list([3, 2, 1, 0])],\n",
       "       ['col_2', list(['a', 'b', 'c', 'd'])]], dtype=object)"
      ]
     },
     "execution_count": 37,
     "metadata": {},
     "output_type": "execute_result"
    }
   ],
   "source": [
    "# dictionnaire -> numpy:\n",
    "\n",
    "list(d1.items())\n",
    "\n",
    "np.asarray(list(d1.items()), dtype = dict)"
   ]
  },
  {
   "cell_type": "code",
   "execution_count": 38,
   "metadata": {},
   "outputs": [
    {
     "data": {
      "text/plain": [
       "[[3, 'a'], [2, 'b'], [1, 'c'], [0, 'd']]"
      ]
     },
     "execution_count": 38,
     "metadata": {},
     "output_type": "execute_result"
    }
   ],
   "source": [
    "# pandas DataFrame -> list:\n",
    "\n",
    "df3.values.tolist()"
   ]
  },
  {
   "cell_type": "code",
   "execution_count": 39,
   "metadata": {},
   "outputs": [
    {
     "data": {
      "text/plain": [
       "['col_1', 'col_2']"
      ]
     },
     "execution_count": 39,
     "metadata": {},
     "output_type": "execute_result"
    }
   ],
   "source": [
    "df3.columns.tolist()"
   ]
  },
  {
   "cell_type": "code",
   "execution_count": 40,
   "metadata": {},
   "outputs": [
    {
     "data": {
      "text/plain": [
       "[3, 2, 1, 0]"
      ]
     },
     "execution_count": 40,
     "metadata": {},
     "output_type": "execute_result"
    }
   ],
   "source": [
    "df3.col_1.tolist()"
   ]
  },
  {
   "cell_type": "code",
   "execution_count": 54,
   "metadata": {},
   "outputs": [],
   "source": [
    "# pandas DataFrame -> dictionnaire:\n",
    "\n",
    "df3.to_dict()"
   ]
  },
  {
   "cell_type": "code",
   "execution_count": 56,
   "metadata": {},
   "outputs": [],
   "source": [
    "# pandas DataFrame -> numpy:\n",
    "\n",
    "ordre = numpy.array(df3)\n",
    "ordre"
   ]
  },
  {
   "cell_type": "code",
   "execution_count": 32,
   "metadata": {},
   "outputs": [],
   "source": [
    "# numpy -> list:\n",
    "\n",
    "ordre = numpy.array([[1, 2, 3], [4, 5, 6], [7, 8, 9]])\n",
    "\n",
    "ls3 = ordre.tolist()\n",
    "ls3"
   ]
  },
  {
   "cell_type": "code",
   "execution_count": 40,
   "metadata": {},
   "outputs": [],
   "source": [
    "# numpy -> dictionnaire:\n",
    "\n",
    "d3 = {\"cle\":ordre.tolist()}\n",
    "# d3"
   ]
  },
  {
   "cell_type": "code",
   "execution_count": 30,
   "metadata": {},
   "outputs": [],
   "source": [
    "# numpy -> pandas DataFrame:\n",
    "\n",
    "df2 = pandas.DataFrame(ordre,\n",
    "                   columns=['a', 'b', 'c'])\n",
    "df2"
   ]
  },
  {
   "cell_type": "markdown",
   "metadata": {},
   "source": [
    "<div class=\"alert alert-info\">\n",
    "<h3>Les styles d'écriture de code python </h3>\n",
    "    \"Code is more often read than written\" - Guido van Rossum\n",
    "</div>"
   ]
  },
  {
   "cell_type": "code",
   "execution_count": null,
   "metadata": {},
   "outputs": [],
   "source": [
    "def ff(jj):\n",
    "    oo = list(); jj = list(jj)\n",
    "    for ii in jj: oo.append(str(ord(ii)))\n",
    "    return '+'.join(oo)"
   ]
  },
  {
   "cell_type": "code",
   "execution_count": null,
   "metadata": {},
   "outputs": [],
   "source": [
    "#ff('J\\'aime python.')"
   ]
  },
  {
   "cell_type": "markdown",
   "metadata": {},
   "source": [
    "<div class=\"alert alert-success\">\n",
    "<ul><b>Les noms</b>\n",
    "    <li>Utilisez des noms descriptifs de plus d'un caractère (modules, variables)\n",
    "    <li>Pour les variables et modules: utilisez les lettres minuscule et séparateur par soulignement\n",
    "    </ul></div>"
   ]
  },
  {
   "cell_type": "code",
   "execution_count": null,
   "metadata": {},
   "outputs": [],
   "source": [
    "# Écriture moche\n",
    "\n",
    "a = 12\n",
    "b = 24"
   ]
  },
  {
   "cell_type": "code",
   "execution_count": null,
   "metadata": {},
   "outputs": [],
   "source": [
    "# Écriture agréable\n",
    "\n",
    "n_filters = 12\n",
    "n_freqs = 24"
   ]
  },
  {
   "cell_type": "code",
   "execution_count": null,
   "metadata": {},
   "outputs": [],
   "source": [
    "# Écriture moche\n",
    "\n",
    "import os as OperatingSystem"
   ]
  },
  {
   "cell_type": "code",
   "execution_count": null,
   "metadata": {},
   "outputs": [],
   "source": [
    "# Écriture agréable\n",
    "\n",
    "import numpy as np"
   ]
  },
  {
   "cell_type": "markdown",
   "metadata": {},
   "source": [
    "<div class=\"alert alert-success\">\n",
    "<ul><b>Espacement</b>\n",
    "    <li>un (et un seul) espace entre chaque élément\n",
    "    <li>L’indexation et l’affectation n’ont pas d’espace entre ouverture et fermeture '()' ou '[]‘\n",
    "    </ul></div>"
   ]
  },
  {
   "cell_type": "code",
   "execution_count": 1,
   "metadata": {},
   "outputs": [],
   "source": [
    "# Écriture moche\n",
    "\n",
    "my_var=1+2==3\n",
    "my_list = [1,2,3,4]\n",
    "el = my_list [1]"
   ]
  },
  {
   "cell_type": "code",
   "execution_count": 2,
   "metadata": {},
   "outputs": [],
   "source": [
    "# Écriture agréable\n",
    "\n",
    "my_var = 1 + 2 == 3\n",
    "my_list = [1, 2, 3, 4]\n",
    "el = my_list[1]"
   ]
  },
  {
   "cell_type": "markdown",
   "metadata": {},
   "source": [
    "<div class=\"alert alert-success\">\n",
    "<ul><b>Importation des modules</b>\n",
    "    <li>Importer un module par ligne\n",
    "    <li>Eviter les importations ‘*’\n",
    "    <li>Uitlisez l’ordre d’importation:<ol>\n",
    "        <li>bibliothèque standard\n",
    "        <li>autres paquets\n",
    "        <li>code local / personnalisé</ol>\n",
    "    </ul></div>"
   ]
  },
  {
   "cell_type": "code",
   "execution_count": null,
   "metadata": {},
   "outputs": [],
   "source": [
    "# Écriture moche\n",
    "\n",
    "from numpy import *\n",
    "\n",
    "import os, sys"
   ]
  },
  {
   "cell_type": "code",
   "execution_count": null,
   "metadata": {},
   "outputs": [],
   "source": [
    "# Écriture agréable\n",
    "\n",
    "import os\n",
    "import sys\n",
    "\n",
    "import numpy as np\n",
    "\n",
    "from my_personal_lib import my_variable"
   ]
  },
  {
   "cell_type": "markdown",
   "metadata": {},
   "source": [
    "<div class=\"alert alert-success\">\n",
    "<ul>\n",
    "    <li>Évité les déclarations condensées.\n",
    "    <li>Privilégié les multilignes\n",
    "    <li>PEP8 recommande que chaque ligne ait jusqu’à 79 charactères\n",
    "    </ul></div>"
   ]
  },
  {
   "cell_type": "code",
   "execution_count": null,
   "metadata": {},
   "outputs": [],
   "source": [
    "ma_liste_long = [1, 2, 3, 4, 5,\n",
    "                6, 7, 8, 9, 10]"
   ]
  },
  {
   "cell_type": "code",
   "execution_count": null,
   "metadata": {},
   "outputs": [],
   "source": [
    "# Écriture agréable\n",
    "\n",
    "ma_liste_long = list(range(1,11))\n",
    "ma_liste_long"
   ]
  },
  {
   "cell_type": "markdown",
   "metadata": {},
   "source": [
    "<div class=\"alert alert-success\">\n",
    "<h4>Pour plus d'info:</h4>\n",
    "<ul>\n",
    "    <li>https://realpython.com/python-pep8/\n",
    "    </ul></div>"
   ]
  },
  {
   "cell_type": "markdown",
   "metadata": {},
   "source": [
    "<div class=\"alert alert-info\">\n",
    "<h3>Indexation des structures de données</h3>\n",
    "</div>"
   ]
  },
  {
   "cell_type": "markdown",
   "metadata": {},
   "source": [
    "<div class=\"alert alert-success\">\n",
    "\n",
    "dans python position 1 = 0\n",
    "    \n",
    "    0 1 2 3 4\n",
    "\n",
    "l'indexation est une commande utilisée entre chochets et prend la position de la valeur\n",
    "</div>"
   ]
  },
  {
   "cell_type": "code",
   "execution_count": 51,
   "metadata": {},
   "outputs": [
    {
     "name": "stdout",
     "output_type": "stream",
     "text": [
      "bonjour\n",
      "o\n"
     ]
    }
   ],
   "source": [
    "a = \"bonjour\"\n",
    "\n",
    "print(a)\n",
    "\n",
    "print(a[1])"
   ]
  },
  {
   "cell_type": "markdown",
   "metadata": {},
   "source": [
    "<div class=\"alert alert-success\">\n",
    "\n",
    "<li> l'indexation peut partir du début ou de la fin de la variable\n",
    "<li> pour effectuer l'indexation à partir de la fin, utilisez le signe moins\n",
    "</div>"
   ]
  },
  {
   "cell_type": "code",
   "execution_count": 42,
   "metadata": {},
   "outputs": [
    {
     "data": {
      "text/plain": [
       "'o'"
      ]
     },
     "execution_count": 42,
     "metadata": {},
     "output_type": "execute_result"
    }
   ],
   "source": [
    "a[-3]"
   ]
  },
  {
   "cell_type": "markdown",
   "metadata": {},
   "source": [
    "<div class=\"alert alert-success\">\n",
    "<li> l'indexation peut extraire une partie de la variable\n",
    "</div>"
   ]
  },
  {
   "cell_type": "code",
   "execution_count": 75,
   "metadata": {},
   "outputs": [],
   "source": [
    "a[3:5]"
   ]
  },
  {
   "cell_type": "code",
   "execution_count": 74,
   "metadata": {},
   "outputs": [],
   "source": [
    "a[3:]"
   ]
  },
  {
   "cell_type": "code",
   "execution_count": 45,
   "metadata": {},
   "outputs": [
    {
     "data": {
      "text/plain": [
       "'bonjo'"
      ]
     },
     "execution_count": 45,
     "metadata": {},
     "output_type": "execute_result"
    }
   ],
   "source": [
    "a[:5]"
   ]
  },
  {
   "cell_type": "code",
   "execution_count": 46,
   "metadata": {},
   "outputs": [
    {
     "data": {
      "text/plain": [
       "'ruojnob'"
      ]
     },
     "execution_count": 46,
     "metadata": {},
     "output_type": "execute_result"
    }
   ],
   "source": [
    "# l'indexation peut être utilisée pour inverser une variable\n",
    "\n",
    "a[::-1]"
   ]
  },
  {
   "cell_type": "markdown",
   "metadata": {},
   "source": [
    "<div class=\"alert alert-success\">\n",
    "<li> pour trouver la position de la valeur à l'intérieur de la variable, utilisez la commande : \"index\"\n",
    "</div>"
   ]
  },
  {
   "cell_type": "code",
   "execution_count": 54,
   "metadata": {},
   "outputs": [
    {
     "data": {
      "text/plain": [
       "6"
      ]
     },
     "execution_count": 54,
     "metadata": {},
     "output_type": "execute_result"
    }
   ],
   "source": [
    "a.index('e')\n"
   ]
  },
  {
   "cell_type": "markdown",
   "metadata": {},
   "source": [
    "<div class=\"alert alert-warning\">\n",
    "\n",
    "indexation des listes et tuples\n",
    "    </div>"
   ]
  },
  {
   "cell_type": "code",
   "execution_count": 62,
   "metadata": {},
   "outputs": [],
   "source": [
    "ls1 = ['text1', 'b', 'text2', 'text', [], ()]\n",
    "ls1[4]"
   ]
  },
  {
   "cell_type": "code",
   "execution_count": 64,
   "metadata": {},
   "outputs": [],
   "source": [
    "tup1 = ('text1', 'b', 'text2', 'text')\n",
    "tup1[3]"
   ]
  },
  {
   "cell_type": "code",
   "execution_count": 77,
   "metadata": {},
   "outputs": [],
   "source": [
    "ls1.index('text2')"
   ]
  },
  {
   "cell_type": "code",
   "execution_count": null,
   "metadata": {},
   "outputs": [],
   "source": [
    "ls1[2:]"
   ]
  },
  {
   "cell_type": "code",
   "execution_count": null,
   "metadata": {},
   "outputs": [],
   "source": [
    "ls1[:4]"
   ]
  },
  {
   "cell_type": "code",
   "execution_count": null,
   "metadata": {},
   "outputs": [],
   "source": [
    "ls1[::-1]"
   ]
  },
  {
   "cell_type": "code",
   "execution_count": 67,
   "metadata": {},
   "outputs": [],
   "source": [
    "# à resoudre\n",
    "\n",
    "ls1[6]"
   ]
  },
  {
   "cell_type": "code",
   "execution_count": 10,
   "metadata": {},
   "outputs": [],
   "source": [
    "ls_fruits = ['pomme','banane','orange','poire','raisins']\n",
    "\n",
    "index = ls_fruits.index('banane')\n",
    "print(ls_fruits[index])"
   ]
  },
  {
   "cell_type": "markdown",
   "metadata": {},
   "source": [
    "<div class=\"alert alert-warning\">\n",
    "\n",
    "<li>Le dictionnaire N’EST pas une sequence\n",
    "<li>l'indexation ne peut pas être utilisée sur les dictionnaires\n",
    "    </div>"
   ]
  },
  {
   "cell_type": "code",
   "execution_count": 19,
   "metadata": {},
   "outputs": [],
   "source": [
    "# pour accéder à toutes les clés :\n",
    "\n",
    "# créer un dictionnaire\n",
    "\n",
    "data = {'col_1': [3, 2, 1, 0], 'col_2': ['a', 'b', 'c', 'd']}\n",
    "\n",
    "data.keys()"
   ]
  },
  {
   "cell_type": "code",
   "execution_count": 8,
   "metadata": {},
   "outputs": [],
   "source": [
    "# pour afficher toutes les valeurs :\n",
    "\n",
    "data.values()"
   ]
  },
  {
   "cell_type": "code",
   "execution_count": 21,
   "metadata": {},
   "outputs": [],
   "source": [
    "# pour accéder à une valeur, utilisez la clé :\n",
    "\n",
    "data['col_1']"
   ]
  },
  {
   "cell_type": "markdown",
   "metadata": {},
   "source": [
    "<div class=\"alert alert-warning\">\n",
    "\n",
    "<li>l'indexation dans la base de données pandas est similaire à la liste et aux dictionnaires.\n",
    "<li>la trame de données a une liste d'indices (l'index) et une liste de colonnes.\n",
    "<li>l'index est un tableau immuable\n",
    "<li>l'index peut être un ensemble / multiset ordonné, car les objets Index peuvent contenir des valeurs répétées\n",
    "<li>les columns sont un objet Index contenant les étiquettes de colonne.\n",
    "</div>"
   ]
  },
  {
   "cell_type": "code",
   "execution_count": 55,
   "metadata": {},
   "outputs": [
    {
     "name": "stdout",
     "output_type": "stream",
     "text": [
      "   col_1 col_2\n",
      "0      3     a\n",
      "1      2     b\n",
      "2      1     c\n",
      "3      0     d\n"
     ]
    }
   ],
   "source": [
    "df1 = pandas.DataFrame(data)\n",
    "print(df1)"
   ]
  },
  {
   "cell_type": "code",
   "execution_count": 56,
   "metadata": {},
   "outputs": [
    {
     "data": {
      "text/plain": [
       "RangeIndex(start=0, stop=4, step=1)"
      ]
     },
     "execution_count": 56,
     "metadata": {},
     "output_type": "execute_result"
    }
   ],
   "source": [
    "df1.index"
   ]
  },
  {
   "cell_type": "code",
   "execution_count": 31,
   "metadata": {},
   "outputs": [
    {
     "data": {
      "text/plain": [
       "Index(['col_1', 'col_2'], dtype='object')"
      ]
     },
     "execution_count": 31,
     "metadata": {},
     "output_type": "execute_result"
    }
   ],
   "source": [
    "df1.columns"
   ]
  },
  {
   "cell_type": "code",
   "execution_count": 32,
   "metadata": {},
   "outputs": [
    {
     "data": {
      "text/plain": [
       "Index(['col_1', 'col_2'], dtype='object')"
      ]
     },
     "execution_count": 32,
     "metadata": {},
     "output_type": "execute_result"
    }
   ],
   "source": [
    "# la commande keys est dimilaire pour pandas\n",
    "# est pour les dictionnaires\n",
    "\n",
    "df1.keys()"
   ]
  },
  {
   "cell_type": "code",
   "execution_count": 36,
   "metadata": {},
   "outputs": [
    {
     "ename": "ParserError",
     "evalue": "Error tokenizing data. C error: Expected 1 fields in line 7, saw 2\n",
     "output_type": "error",
     "traceback": [
      "\u001b[1;31m---------------------------------------------------------------------------\u001b[0m",
      "\u001b[1;31mParserError\u001b[0m                               Traceback (most recent call last)",
      "\u001b[1;32m~\\AppData\\Local\\Temp/ipykernel_10748/312561482.py\u001b[0m in \u001b[0;36m<module>\u001b[1;34m\u001b[0m\n\u001b[0;32m      6\u001b[0m \u001b[0mdf_qc\u001b[0m \u001b[1;33m=\u001b[0m \u001b[0mpandas\u001b[0m\u001b[1;33m.\u001b[0m\u001b[0mread_csv\u001b[0m \u001b[1;33m(\u001b[0m\u001b[1;34mr\"C:\\Users\\Dylan\\Downloads\\proj_infra_rechr_approu_20210423.csv\"\u001b[0m\u001b[1;33m)\u001b[0m\u001b[1;33m\u001b[0m\u001b[1;33m\u001b[0m\u001b[0m\n\u001b[0;32m      7\u001b[0m \u001b[1;31m#'https://www.donneesquebec.ca/recherche/dataset/3aa1dce8-9d07-4274-b9d0-a92d5e06'\u001b[0m\u001b[1;33m\u001b[0m\u001b[1;33m\u001b[0m\u001b[0m\n\u001b[1;32m----> 8\u001b[1;33m \u001b[0mdf_qc\u001b[0m \u001b[1;33m=\u001b[0m \u001b[0mpandas\u001b[0m\u001b[1;33m.\u001b[0m\u001b[0mread_csv\u001b[0m\u001b[1;33m(\u001b[0m\u001b[0mfichier\u001b[0m\u001b[1;33m)\u001b[0m\u001b[1;33m\u001b[0m\u001b[1;33m\u001b[0m\u001b[0m\n\u001b[0m\u001b[0;32m      9\u001b[0m \u001b[1;31m#df_qc = pandas.read_csv(\"C:/Users/Dylan/Desktop/UdeM_H22/PSY4016_traitementDeDonnees/ch_cours/proj_infra_rechr_approu_20210423.csv\")\u001b[0m\u001b[1;33m\u001b[0m\u001b[1;33m\u001b[0m\u001b[0m\n\u001b[0;32m     10\u001b[0m \u001b[1;31m# # pour Windows:\u001b[0m\u001b[1;33m\u001b[0m\u001b[1;33m\u001b[0m\u001b[0m\n",
      "\u001b[1;32m~\\AppData\\Local\\Programs\\Python\\Python310\\lib\\site-packages\\pandas\\util\\_decorators.py\u001b[0m in \u001b[0;36mwrapper\u001b[1;34m(*args, **kwargs)\u001b[0m\n\u001b[0;32m    309\u001b[0m                     \u001b[0mstacklevel\u001b[0m\u001b[1;33m=\u001b[0m\u001b[0mstacklevel\u001b[0m\u001b[1;33m,\u001b[0m\u001b[1;33m\u001b[0m\u001b[1;33m\u001b[0m\u001b[0m\n\u001b[0;32m    310\u001b[0m                 )\n\u001b[1;32m--> 311\u001b[1;33m             \u001b[1;32mreturn\u001b[0m \u001b[0mfunc\u001b[0m\u001b[1;33m(\u001b[0m\u001b[1;33m*\u001b[0m\u001b[0margs\u001b[0m\u001b[1;33m,\u001b[0m \u001b[1;33m**\u001b[0m\u001b[0mkwargs\u001b[0m\u001b[1;33m)\u001b[0m\u001b[1;33m\u001b[0m\u001b[1;33m\u001b[0m\u001b[0m\n\u001b[0m\u001b[0;32m    312\u001b[0m \u001b[1;33m\u001b[0m\u001b[0m\n\u001b[0;32m    313\u001b[0m         \u001b[1;32mreturn\u001b[0m \u001b[0mwrapper\u001b[0m\u001b[1;33m\u001b[0m\u001b[1;33m\u001b[0m\u001b[0m\n",
      "\u001b[1;32m~\\AppData\\Local\\Programs\\Python\\Python310\\lib\\site-packages\\pandas\\io\\parsers\\readers.py\u001b[0m in \u001b[0;36mread_csv\u001b[1;34m(filepath_or_buffer, sep, delimiter, header, names, index_col, usecols, squeeze, prefix, mangle_dupe_cols, dtype, engine, converters, true_values, false_values, skipinitialspace, skiprows, skipfooter, nrows, na_values, keep_default_na, na_filter, verbose, skip_blank_lines, parse_dates, infer_datetime_format, keep_date_col, date_parser, dayfirst, cache_dates, iterator, chunksize, compression, thousands, decimal, lineterminator, quotechar, quoting, doublequote, escapechar, comment, encoding, encoding_errors, dialect, error_bad_lines, warn_bad_lines, on_bad_lines, delim_whitespace, low_memory, memory_map, float_precision, storage_options)\u001b[0m\n\u001b[0;32m    584\u001b[0m     \u001b[0mkwds\u001b[0m\u001b[1;33m.\u001b[0m\u001b[0mupdate\u001b[0m\u001b[1;33m(\u001b[0m\u001b[0mkwds_defaults\u001b[0m\u001b[1;33m)\u001b[0m\u001b[1;33m\u001b[0m\u001b[1;33m\u001b[0m\u001b[0m\n\u001b[0;32m    585\u001b[0m \u001b[1;33m\u001b[0m\u001b[0m\n\u001b[1;32m--> 586\u001b[1;33m     \u001b[1;32mreturn\u001b[0m \u001b[0m_read\u001b[0m\u001b[1;33m(\u001b[0m\u001b[0mfilepath_or_buffer\u001b[0m\u001b[1;33m,\u001b[0m \u001b[0mkwds\u001b[0m\u001b[1;33m)\u001b[0m\u001b[1;33m\u001b[0m\u001b[1;33m\u001b[0m\u001b[0m\n\u001b[0m\u001b[0;32m    587\u001b[0m \u001b[1;33m\u001b[0m\u001b[0m\n\u001b[0;32m    588\u001b[0m \u001b[1;33m\u001b[0m\u001b[0m\n",
      "\u001b[1;32m~\\AppData\\Local\\Programs\\Python\\Python310\\lib\\site-packages\\pandas\\io\\parsers\\readers.py\u001b[0m in \u001b[0;36m_read\u001b[1;34m(filepath_or_buffer, kwds)\u001b[0m\n\u001b[0;32m    486\u001b[0m \u001b[1;33m\u001b[0m\u001b[0m\n\u001b[0;32m    487\u001b[0m     \u001b[1;32mwith\u001b[0m \u001b[0mparser\u001b[0m\u001b[1;33m:\u001b[0m\u001b[1;33m\u001b[0m\u001b[1;33m\u001b[0m\u001b[0m\n\u001b[1;32m--> 488\u001b[1;33m         \u001b[1;32mreturn\u001b[0m \u001b[0mparser\u001b[0m\u001b[1;33m.\u001b[0m\u001b[0mread\u001b[0m\u001b[1;33m(\u001b[0m\u001b[0mnrows\u001b[0m\u001b[1;33m)\u001b[0m\u001b[1;33m\u001b[0m\u001b[1;33m\u001b[0m\u001b[0m\n\u001b[0m\u001b[0;32m    489\u001b[0m \u001b[1;33m\u001b[0m\u001b[0m\n\u001b[0;32m    490\u001b[0m \u001b[1;33m\u001b[0m\u001b[0m\n",
      "\u001b[1;32m~\\AppData\\Local\\Programs\\Python\\Python310\\lib\\site-packages\\pandas\\io\\parsers\\readers.py\u001b[0m in \u001b[0;36mread\u001b[1;34m(self, nrows)\u001b[0m\n\u001b[0;32m   1045\u001b[0m     \u001b[1;32mdef\u001b[0m \u001b[0mread\u001b[0m\u001b[1;33m(\u001b[0m\u001b[0mself\u001b[0m\u001b[1;33m,\u001b[0m \u001b[0mnrows\u001b[0m\u001b[1;33m=\u001b[0m\u001b[1;32mNone\u001b[0m\u001b[1;33m)\u001b[0m\u001b[1;33m:\u001b[0m\u001b[1;33m\u001b[0m\u001b[1;33m\u001b[0m\u001b[0m\n\u001b[0;32m   1046\u001b[0m         \u001b[0mnrows\u001b[0m \u001b[1;33m=\u001b[0m \u001b[0mvalidate_integer\u001b[0m\u001b[1;33m(\u001b[0m\u001b[1;34m\"nrows\"\u001b[0m\u001b[1;33m,\u001b[0m \u001b[0mnrows\u001b[0m\u001b[1;33m)\u001b[0m\u001b[1;33m\u001b[0m\u001b[1;33m\u001b[0m\u001b[0m\n\u001b[1;32m-> 1047\u001b[1;33m         \u001b[0mindex\u001b[0m\u001b[1;33m,\u001b[0m \u001b[0mcolumns\u001b[0m\u001b[1;33m,\u001b[0m \u001b[0mcol_dict\u001b[0m \u001b[1;33m=\u001b[0m \u001b[0mself\u001b[0m\u001b[1;33m.\u001b[0m\u001b[0m_engine\u001b[0m\u001b[1;33m.\u001b[0m\u001b[0mread\u001b[0m\u001b[1;33m(\u001b[0m\u001b[0mnrows\u001b[0m\u001b[1;33m)\u001b[0m\u001b[1;33m\u001b[0m\u001b[1;33m\u001b[0m\u001b[0m\n\u001b[0m\u001b[0;32m   1048\u001b[0m \u001b[1;33m\u001b[0m\u001b[0m\n\u001b[0;32m   1049\u001b[0m         \u001b[1;32mif\u001b[0m \u001b[0mindex\u001b[0m \u001b[1;32mis\u001b[0m \u001b[1;32mNone\u001b[0m\u001b[1;33m:\u001b[0m\u001b[1;33m\u001b[0m\u001b[1;33m\u001b[0m\u001b[0m\n",
      "\u001b[1;32m~\\AppData\\Local\\Programs\\Python\\Python310\\lib\\site-packages\\pandas\\io\\parsers\\c_parser_wrapper.py\u001b[0m in \u001b[0;36mread\u001b[1;34m(self, nrows)\u001b[0m\n\u001b[0;32m    222\u001b[0m         \u001b[1;32mtry\u001b[0m\u001b[1;33m:\u001b[0m\u001b[1;33m\u001b[0m\u001b[1;33m\u001b[0m\u001b[0m\n\u001b[0;32m    223\u001b[0m             \u001b[1;32mif\u001b[0m \u001b[0mself\u001b[0m\u001b[1;33m.\u001b[0m\u001b[0mlow_memory\u001b[0m\u001b[1;33m:\u001b[0m\u001b[1;33m\u001b[0m\u001b[1;33m\u001b[0m\u001b[0m\n\u001b[1;32m--> 224\u001b[1;33m                 \u001b[0mchunks\u001b[0m \u001b[1;33m=\u001b[0m \u001b[0mself\u001b[0m\u001b[1;33m.\u001b[0m\u001b[0m_reader\u001b[0m\u001b[1;33m.\u001b[0m\u001b[0mread_low_memory\u001b[0m\u001b[1;33m(\u001b[0m\u001b[0mnrows\u001b[0m\u001b[1;33m)\u001b[0m\u001b[1;33m\u001b[0m\u001b[1;33m\u001b[0m\u001b[0m\n\u001b[0m\u001b[0;32m    225\u001b[0m                 \u001b[1;31m# destructive to chunks\u001b[0m\u001b[1;33m\u001b[0m\u001b[1;33m\u001b[0m\u001b[0m\n\u001b[0;32m    226\u001b[0m                 \u001b[0mdata\u001b[0m \u001b[1;33m=\u001b[0m \u001b[0m_concatenate_chunks\u001b[0m\u001b[1;33m(\u001b[0m\u001b[0mchunks\u001b[0m\u001b[1;33m)\u001b[0m\u001b[1;33m\u001b[0m\u001b[1;33m\u001b[0m\u001b[0m\n",
      "\u001b[1;32m~\\AppData\\Local\\Programs\\Python\\Python310\\lib\\site-packages\\pandas\\_libs\\parsers.pyx\u001b[0m in \u001b[0;36mpandas._libs.parsers.TextReader.read_low_memory\u001b[1;34m()\u001b[0m\n",
      "\u001b[1;32m~\\AppData\\Local\\Programs\\Python\\Python310\\lib\\site-packages\\pandas\\_libs\\parsers.pyx\u001b[0m in \u001b[0;36mpandas._libs.parsers.TextReader._read_rows\u001b[1;34m()\u001b[0m\n",
      "\u001b[1;32m~\\AppData\\Local\\Programs\\Python\\Python310\\lib\\site-packages\\pandas\\_libs\\parsers.pyx\u001b[0m in \u001b[0;36mpandas._libs.parsers.TextReader._tokenize_rows\u001b[1;34m()\u001b[0m\n",
      "\u001b[1;32m~\\AppData\\Local\\Programs\\Python\\Python310\\lib\\site-packages\\pandas\\_libs\\parsers.pyx\u001b[0m in \u001b[0;36mpandas._libs.parsers.raise_parser_error\u001b[1;34m()\u001b[0m\n",
      "\u001b[1;31mParserError\u001b[0m: Error tokenizing data. C error: Expected 1 fields in line 7, saw 2\n"
     ]
    }
   ],
   "source": [
    "# base de données Québec:\n",
    "#    https://www.donneesquebec.ca/ -> \n",
    "#             Éducation et recherche -> \n",
    "#                  Projets d’infrastructure de recherche approuvés par le gouvernement du Québec\n",
    "import pandas \n",
    "df_qc = pandas.read_csv (r\"C:\\Users\\Dylan\\Downloads\\proj_infra_rechr_approu_20210423.csv\")\n",
    "\n",
    "df_qc = pandas.read_csv(r\"C:\\Users\\Dylan\\Downloads\\proj_infra_rechr_approu_20210423.csv\")\n",
    "#df_qc = pandas.read_csv(\"C:/Users/Dylan/Desktop/UdeM_H22/PSY4016_traitementDeDonnees/ch_cours/proj_infra_rechr_approu_20210423.csv\")\n",
    "# # pour Windows:\n",
    "# df_qc = pandas.read_csv(r'data\\projinfrarechrapprou20200527.csv')"
   ]
  },
  {
   "cell_type": "code",
   "execution_count": 35,
   "metadata": {},
   "outputs": [
    {
     "data": {
      "text/html": [
       "<div>\n",
       "<style scoped>\n",
       "    .dataframe tbody tr th:only-of-type {\n",
       "        vertical-align: middle;\n",
       "    }\n",
       "\n",
       "    .dataframe tbody tr th {\n",
       "        vertical-align: top;\n",
       "    }\n",
       "\n",
       "    .dataframe thead th {\n",
       "        text-align: right;\n",
       "    }\n",
       "</style>\n",
       "<table border=\"1\" class=\"dataframe\">\n",
       "  <thead>\n",
       "    <tr style=\"text-align: right;\">\n",
       "      <th></th>\n",
       "      <th>REGION_ADMINISTRATIVE</th>\n",
       "      <th>ETABLISSEMENT</th>\n",
       "      <th>ETABLISSEMENT_PARTENAIRE</th>\n",
       "      <th>ANNEE_FINANCIERE</th>\n",
       "      <th>PROGRAMME</th>\n",
       "      <th>VOLET</th>\n",
       "      <th>RESPONSABLE_DU_PROJET</th>\n",
       "      <th>TITRE</th>\n",
       "      <th>RESEAU</th>\n",
       "      <th>MONTANT_MES</th>\n",
       "      <th>MONTANT_MSSS</th>\n",
       "      <th>MONTANT_MEI</th>\n",
       "      <th>MONTANT_TOTAL_QUEBEC</th>\n",
       "      <th>COUT_TOTAL</th>\n",
       "      <th>SECTEUR</th>\n",
       "      <th>DOMAINE_STRATEGIQUE</th>\n",
       "      <th>DOMAINE_PRIMAIRE</th>\n",
       "      <th>DISCIPLINE_PRIMAIRE</th>\n",
       "    </tr>\n",
       "  </thead>\n",
       "  <tbody>\n",
       "    <tr>\n",
       "      <th>0</th>\n",
       "      <td>Capitale-Nationale</td>\n",
       "      <td>Université Laval</td>\n",
       "      <td>NaN</td>\n",
       "      <td>2010-2011</td>\n",
       "      <td>Fonds des leaders John-R.-Evans</td>\n",
       "      <td>Indépendant - chercheur établi</td>\n",
       "      <td>Clément M. GOSSELIN</td>\n",
       "      <td>Laboratoire de recherche en coopération physiq...</td>\n",
       "      <td>MEES</td>\n",
       "      <td>800000.0</td>\n",
       "      <td>NaN</td>\n",
       "      <td>NaN</td>\n",
       "      <td>800000</td>\n",
       "      <td>2000000</td>\n",
       "      <td>Sciences naturelles et génie</td>\n",
       "      <td>Micro-électronique</td>\n",
       "      <td>Santé</td>\n",
       "      <td>Robotique</td>\n",
       "    </tr>\n",
       "    <tr>\n",
       "      <th>1</th>\n",
       "      <td>Estrie</td>\n",
       "      <td>Université de Sherbrooke</td>\n",
       "      <td>NaN</td>\n",
       "      <td>2010-2011</td>\n",
       "      <td>Fonds des leaders John-R.-Evans</td>\n",
       "      <td>Indépendant - chercheur senior - recrutement</td>\n",
       "      <td>Michel HUNEAULT</td>\n",
       "      <td>Caractérisation rhéologique des bioplastiques</td>\n",
       "      <td>MEES</td>\n",
       "      <td>100000.0</td>\n",
       "      <td>NaN</td>\n",
       "      <td>NaN</td>\n",
       "      <td>100000</td>\n",
       "      <td>250000</td>\n",
       "      <td>Sciences naturelles et génie</td>\n",
       "      <td>Matériaux de pointe (métaux légers)</td>\n",
       "      <td>Ressources renouvelables: production et techno...</td>\n",
       "      <td>Génie chimique</td>\n",
       "    </tr>\n",
       "    <tr>\n",
       "      <th>2</th>\n",
       "      <td>Estrie</td>\n",
       "      <td>Université de Sherbrooke</td>\n",
       "      <td>NaN</td>\n",
       "      <td>2010-2011</td>\n",
       "      <td>Fonds des leaders John-R.-Evans</td>\n",
       "      <td>Indépendant - chercheur senior - recrutement</td>\n",
       "      <td>Stéphane MOREAU</td>\n",
       "      <td>Infrastructure pour l'analyse tomographique no...</td>\n",
       "      <td>MEES</td>\n",
       "      <td>320000.0</td>\n",
       "      <td>NaN</td>\n",
       "      <td>NaN</td>\n",
       "      <td>320000</td>\n",
       "      <td>830874</td>\n",
       "      <td>Sciences naturelles et génie</td>\n",
       "      <td>Transports terrestres (auto, autobus)</td>\n",
       "      <td>Bruit et vibrations</td>\n",
       "      <td>Mécanique des fluides</td>\n",
       "    </tr>\n",
       "    <tr>\n",
       "      <th>3</th>\n",
       "      <td>Montréal</td>\n",
       "      <td>Université McGill</td>\n",
       "      <td>NaN</td>\n",
       "      <td>2010-2011</td>\n",
       "      <td>Fonds des leaders John-R.-Evans</td>\n",
       "      <td>Indépendant - chercheur établi</td>\n",
       "      <td>Jake BARRALET</td>\n",
       "      <td>Outil pour l'innovation en matière de matériau...</td>\n",
       "      <td>MEES,MSSS</td>\n",
       "      <td>140215.0</td>\n",
       "      <td>259785.0</td>\n",
       "      <td>NaN</td>\n",
       "      <td>400000</td>\n",
       "      <td>1000000</td>\n",
       "      <td>Santé</td>\n",
       "      <td>Sciences de la vie (recherche clinique, santé ...</td>\n",
       "      <td>Recherches médicales, traitement hospitalier, ...</td>\n",
       "      <td>Génie biomédical</td>\n",
       "    </tr>\n",
       "    <tr>\n",
       "      <th>4</th>\n",
       "      <td>Montréal</td>\n",
       "      <td>École Polytechnique de Montréal</td>\n",
       "      <td>NaN</td>\n",
       "      <td>2010-2011</td>\n",
       "      <td>Fonds des leaders John-R.-Evans</td>\n",
       "      <td>Indépendant - chercheur junior - recrutement</td>\n",
       "      <td>Guchuan ZHU</td>\n",
       "      <td>Laboratoire pour le contrôle avancé des micros...</td>\n",
       "      <td>MEES</td>\n",
       "      <td>184406.0</td>\n",
       "      <td>NaN</td>\n",
       "      <td>NaN</td>\n",
       "      <td>184406</td>\n",
       "      <td>478143</td>\n",
       "      <td>Sciences naturelles et génie</td>\n",
       "      <td>Micro-électronique</td>\n",
       "      <td>Industries électroniques et connexes</td>\n",
       "      <td>Chimie analytique</td>\n",
       "    </tr>\n",
       "    <tr>\n",
       "      <th>...</th>\n",
       "      <td>...</td>\n",
       "      <td>...</td>\n",
       "      <td>...</td>\n",
       "      <td>...</td>\n",
       "      <td>...</td>\n",
       "      <td>...</td>\n",
       "      <td>...</td>\n",
       "      <td>...</td>\n",
       "      <td>...</td>\n",
       "      <td>...</td>\n",
       "      <td>...</td>\n",
       "      <td>...</td>\n",
       "      <td>...</td>\n",
       "      <td>...</td>\n",
       "      <td>...</td>\n",
       "      <td>...</td>\n",
       "      <td>...</td>\n",
       "      <td>...</td>\n",
       "    </tr>\n",
       "    <tr>\n",
       "      <th>1255</th>\n",
       "      <td>Capitale-Nationale</td>\n",
       "      <td>Université Laval</td>\n",
       "      <td>NaN</td>\n",
       "      <td>2019-2020</td>\n",
       "      <td>Fonds des leaders John-R.-Evans</td>\n",
       "      <td>Indépendant - chercheur junior - recrutement</td>\n",
       "      <td>Céline VANEECKHAUTE</td>\n",
       "      <td>Laboratoire sur l'ingénierie des procédés vert...</td>\n",
       "      <td>MEES</td>\n",
       "      <td>100172.0</td>\n",
       "      <td>NaN</td>\n",
       "      <td>NaN</td>\n",
       "      <td>100172</td>\n",
       "      <td>256304</td>\n",
       "      <td>Sciences naturelles et génie</td>\n",
       "      <td>Développement durable et technologies vertes</td>\n",
       "      <td>Ressources renouvelables: production et techno...</td>\n",
       "      <td>Génie de l'environnement</td>\n",
       "    </tr>\n",
       "    <tr>\n",
       "      <th>1256</th>\n",
       "      <td>Mauricie</td>\n",
       "      <td>Université du Québec à Trois-Rivières (UQTR)</td>\n",
       "      <td>NaN</td>\n",
       "      <td>2018-2019</td>\n",
       "      <td>Fonds des leaders John-R.-Evans</td>\n",
       "      <td>Indépendant - chercheur établi</td>\n",
       "      <td>Adam Duong</td>\n",
       "      <td>Matériaux innovants pour la conversion et le s...</td>\n",
       "      <td>MEES</td>\n",
       "      <td>100000.0</td>\n",
       "      <td>NaN</td>\n",
       "      <td>NaN</td>\n",
       "      <td>100000</td>\n",
       "      <td>299841</td>\n",
       "      <td>Sciences naturelles et génie</td>\n",
       "      <td>Énergie</td>\n",
       "      <td>Sources d'énergie renouvelables</td>\n",
       "      <td>Chimie des polymères</td>\n",
       "    </tr>\n",
       "    <tr>\n",
       "      <th>1257</th>\n",
       "      <td>Montréal</td>\n",
       "      <td>Université McGill</td>\n",
       "      <td>Centre universitaire de santé McGill (CUSM) - ...</td>\n",
       "      <td>2019-2020</td>\n",
       "      <td>Fonds des leaders John-R.-Evans</td>\n",
       "      <td>Indépendant - chercheur junior - recrutement</td>\n",
       "      <td>John Kildea</td>\n",
       "      <td>Élaboration de stratégies pour mieux comprendr...</td>\n",
       "      <td>MSSS</td>\n",
       "      <td>NaN</td>\n",
       "      <td>87579.0</td>\n",
       "      <td>NaN</td>\n",
       "      <td>87579</td>\n",
       "      <td>218949</td>\n",
       "      <td>Santé</td>\n",
       "      <td>Sciences de la vie (recherche clinique, santé ...</td>\n",
       "      <td>Santé</td>\n",
       "      <td>Cancer/oncologie</td>\n",
       "    </tr>\n",
       "    <tr>\n",
       "      <th>1258</th>\n",
       "      <td>Montréal</td>\n",
       "      <td>Université McGill</td>\n",
       "      <td>NaN</td>\n",
       "      <td>2019-2020</td>\n",
       "      <td>Fonds des leaders John-R.-Evans</td>\n",
       "      <td>Indépendant - chercheur établi</td>\n",
       "      <td>Pedro ROSA-NETO</td>\n",
       "      <td>Biomarqueurs sanguins des maladies du cerveau ...</td>\n",
       "      <td>MEES,MSSS</td>\n",
       "      <td>318593.0</td>\n",
       "      <td>98582.0</td>\n",
       "      <td>NaN</td>\n",
       "      <td>417175</td>\n",
       "      <td>1042938</td>\n",
       "      <td>Santé</td>\n",
       "      <td>Biotechnologies (génomique, protéomique, bioin...</td>\n",
       "      <td>Génie biomédical et pharmacologie</td>\n",
       "      <td>Vieillissement</td>\n",
       "    </tr>\n",
       "    <tr>\n",
       "      <th>1259</th>\n",
       "      <td>Montréal</td>\n",
       "      <td>Université McGill</td>\n",
       "      <td>NaN</td>\n",
       "      <td>2019-2020</td>\n",
       "      <td>Fonds des leaders John-R.-Evans</td>\n",
       "      <td>Indépendant - chercheur établi</td>\n",
       "      <td>Viviane YARGEAU</td>\n",
       "      <td>UHPLC-MS pour le développement de technologies...</td>\n",
       "      <td>MEES</td>\n",
       "      <td>406300.0</td>\n",
       "      <td>NaN</td>\n",
       "      <td>NaN</td>\n",
       "      <td>406300</td>\n",
       "      <td>1015865</td>\n",
       "      <td>Sciences naturelles et génie</td>\n",
       "      <td>Environnement et science du climat</td>\n",
       "      <td>Eau</td>\n",
       "      <td>Chimie analytique</td>\n",
       "    </tr>\n",
       "  </tbody>\n",
       "</table>\n",
       "<p>1260 rows × 18 columns</p>\n",
       "</div>"
      ],
      "text/plain": [
       "     REGION_ADMINISTRATIVE                                 ETABLISSEMENT  \\\n",
       "0       Capitale-Nationale                              Université Laval   \n",
       "1                   Estrie                      Université de Sherbrooke   \n",
       "2                   Estrie                      Université de Sherbrooke   \n",
       "3                 Montréal                             Université McGill   \n",
       "4                 Montréal               École Polytechnique de Montréal   \n",
       "...                    ...                                           ...   \n",
       "1255    Capitale-Nationale                              Université Laval   \n",
       "1256              Mauricie  Université du Québec à Trois-Rivières (UQTR)   \n",
       "1257              Montréal                             Université McGill   \n",
       "1258              Montréal                             Université McGill   \n",
       "1259              Montréal                             Université McGill   \n",
       "\n",
       "                               ETABLISSEMENT_PARTENAIRE ANNEE_FINANCIERE  \\\n",
       "0                                                   NaN        2010-2011   \n",
       "1                                                   NaN        2010-2011   \n",
       "2                                                   NaN        2010-2011   \n",
       "3                                                   NaN        2010-2011   \n",
       "4                                                   NaN        2010-2011   \n",
       "...                                                 ...              ...   \n",
       "1255                                                NaN        2019-2020   \n",
       "1256                                                NaN        2018-2019   \n",
       "1257  Centre universitaire de santé McGill (CUSM) - ...        2019-2020   \n",
       "1258                                                NaN        2019-2020   \n",
       "1259                                                NaN        2019-2020   \n",
       "\n",
       "                            PROGRAMME  \\\n",
       "0     Fonds des leaders John-R.-Evans   \n",
       "1     Fonds des leaders John-R.-Evans   \n",
       "2     Fonds des leaders John-R.-Evans   \n",
       "3     Fonds des leaders John-R.-Evans   \n",
       "4     Fonds des leaders John-R.-Evans   \n",
       "...                               ...   \n",
       "1255  Fonds des leaders John-R.-Evans   \n",
       "1256  Fonds des leaders John-R.-Evans   \n",
       "1257  Fonds des leaders John-R.-Evans   \n",
       "1258  Fonds des leaders John-R.-Evans   \n",
       "1259  Fonds des leaders John-R.-Evans   \n",
       "\n",
       "                                             VOLET RESPONSABLE_DU_PROJET  \\\n",
       "0                   Indépendant - chercheur établi   Clément M. GOSSELIN   \n",
       "1     Indépendant - chercheur senior - recrutement       Michel HUNEAULT   \n",
       "2     Indépendant - chercheur senior - recrutement       Stéphane MOREAU   \n",
       "3                   Indépendant - chercheur établi         Jake BARRALET   \n",
       "4     Indépendant - chercheur junior - recrutement           Guchuan ZHU   \n",
       "...                                            ...                   ...   \n",
       "1255  Indépendant - chercheur junior - recrutement   Céline VANEECKHAUTE   \n",
       "1256                Indépendant - chercheur établi            Adam Duong   \n",
       "1257  Indépendant - chercheur junior - recrutement           John Kildea   \n",
       "1258                Indépendant - chercheur établi       Pedro ROSA-NETO   \n",
       "1259                Indépendant - chercheur établi       Viviane YARGEAU   \n",
       "\n",
       "                                                  TITRE     RESEAU  \\\n",
       "0     Laboratoire de recherche en coopération physiq...       MEES   \n",
       "1         Caractérisation rhéologique des bioplastiques       MEES   \n",
       "2     Infrastructure pour l'analyse tomographique no...       MEES   \n",
       "3     Outil pour l'innovation en matière de matériau...  MEES,MSSS   \n",
       "4     Laboratoire pour le contrôle avancé des micros...       MEES   \n",
       "...                                                 ...        ...   \n",
       "1255  Laboratoire sur l'ingénierie des procédés vert...       MEES   \n",
       "1256  Matériaux innovants pour la conversion et le s...       MEES   \n",
       "1257  Élaboration de stratégies pour mieux comprendr...       MSSS   \n",
       "1258  Biomarqueurs sanguins des maladies du cerveau ...  MEES,MSSS   \n",
       "1259  UHPLC-MS pour le développement de technologies...       MEES   \n",
       "\n",
       "      MONTANT_MES  MONTANT_MSSS  MONTANT_MEI  MONTANT_TOTAL_QUEBEC  \\\n",
       "0        800000.0           NaN          NaN                800000   \n",
       "1        100000.0           NaN          NaN                100000   \n",
       "2        320000.0           NaN          NaN                320000   \n",
       "3        140215.0      259785.0          NaN                400000   \n",
       "4        184406.0           NaN          NaN                184406   \n",
       "...           ...           ...          ...                   ...   \n",
       "1255     100172.0           NaN          NaN                100172   \n",
       "1256     100000.0           NaN          NaN                100000   \n",
       "1257          NaN       87579.0          NaN                 87579   \n",
       "1258     318593.0       98582.0          NaN                417175   \n",
       "1259     406300.0           NaN          NaN                406300   \n",
       "\n",
       "      COUT_TOTAL                       SECTEUR  \\\n",
       "0        2000000  Sciences naturelles et génie   \n",
       "1         250000  Sciences naturelles et génie   \n",
       "2         830874  Sciences naturelles et génie   \n",
       "3        1000000                         Santé   \n",
       "4         478143  Sciences naturelles et génie   \n",
       "...          ...                           ...   \n",
       "1255      256304  Sciences naturelles et génie   \n",
       "1256      299841  Sciences naturelles et génie   \n",
       "1257      218949                         Santé   \n",
       "1258     1042938                         Santé   \n",
       "1259     1015865  Sciences naturelles et génie   \n",
       "\n",
       "                                    DOMAINE_STRATEGIQUE  \\\n",
       "0                                    Micro-électronique   \n",
       "1                   Matériaux de pointe (métaux légers)   \n",
       "2                 Transports terrestres (auto, autobus)   \n",
       "3     Sciences de la vie (recherche clinique, santé ...   \n",
       "4                                    Micro-électronique   \n",
       "...                                                 ...   \n",
       "1255       Développement durable et technologies vertes   \n",
       "1256                                            Énergie   \n",
       "1257  Sciences de la vie (recherche clinique, santé ...   \n",
       "1258  Biotechnologies (génomique, protéomique, bioin...   \n",
       "1259                 Environnement et science du climat   \n",
       "\n",
       "                                       DOMAINE_PRIMAIRE  \\\n",
       "0                                                 Santé   \n",
       "1     Ressources renouvelables: production et techno...   \n",
       "2                                   Bruit et vibrations   \n",
       "3     Recherches médicales, traitement hospitalier, ...   \n",
       "4                  Industries électroniques et connexes   \n",
       "...                                                 ...   \n",
       "1255  Ressources renouvelables: production et techno...   \n",
       "1256                    Sources d'énergie renouvelables   \n",
       "1257                                              Santé   \n",
       "1258                  Génie biomédical et pharmacologie   \n",
       "1259                                                Eau   \n",
       "\n",
       "           DISCIPLINE_PRIMAIRE  \n",
       "0                    Robotique  \n",
       "1               Génie chimique  \n",
       "2        Mécanique des fluides  \n",
       "3             Génie biomédical  \n",
       "4            Chimie analytique  \n",
       "...                        ...  \n",
       "1255  Génie de l'environnement  \n",
       "1256      Chimie des polymères  \n",
       "1257          Cancer/oncologie  \n",
       "1258            Vieillissement  \n",
       "1259         Chimie analytique  \n",
       "\n",
       "[1260 rows x 18 columns]"
      ]
     },
     "execution_count": 35,
     "metadata": {},
     "output_type": "execute_result"
    }
   ],
   "source": [
    "df_qc"
   ]
  },
  {
   "cell_type": "code",
   "execution_count": 47,
   "metadata": {},
   "outputs": [],
   "source": [
    "df_qc.columns"
   ]
  },
  {
   "cell_type": "code",
   "execution_count": 43,
   "metadata": {},
   "outputs": [],
   "source": [
    "df_qc.columns[0]"
   ]
  },
  {
   "cell_type": "code",
   "execution_count": 42,
   "metadata": {},
   "outputs": [],
   "source": [
    "df_qc.columns[:5]"
   ]
  },
  {
   "cell_type": "code",
   "execution_count": 41,
   "metadata": {},
   "outputs": [],
   "source": [
    "len(df_qc.columns)"
   ]
  },
  {
   "cell_type": "code",
   "execution_count": 46,
   "metadata": {},
   "outputs": [],
   "source": [
    "df_qc.index"
   ]
  },
  {
   "cell_type": "code",
   "execution_count": 47,
   "metadata": {},
   "outputs": [],
   "source": [
    "df_qc.index[1]"
   ]
  },
  {
   "cell_type": "code",
   "execution_count": 51,
   "metadata": {
    "scrolled": false
   },
   "outputs": [],
   "source": [
    "# découpage par index entier implicite:\n",
    "\n",
    "df_qc[1:4]"
   ]
  },
  {
   "cell_type": "code",
   "execution_count": 35,
   "metadata": {},
   "outputs": [],
   "source": [
    "df_qc.values"
   ]
  },
  {
   "cell_type": "code",
   "execution_count": 44,
   "metadata": {},
   "outputs": [],
   "source": [
    "df_qc.values[0]"
   ]
  },
  {
   "cell_type": "code",
   "execution_count": null,
   "metadata": {},
   "outputs": [],
   "source": [
    "df_qc['ETABLISSEMENT'][:5]"
   ]
  },
  {
   "cell_type": "code",
   "execution_count": null,
   "metadata": {},
   "outputs": [],
   "source": [
    "df_qc['ETABLISSEMENT'][5:]"
   ]
  },
  {
   "cell_type": "code",
   "execution_count": null,
   "metadata": {},
   "outputs": [],
   "source": [
    "df_qc['ETABLISSEMENT'][5:][:5]"
   ]
  },
  {
   "cell_type": "code",
   "execution_count": null,
   "metadata": {},
   "outputs": [],
   "source": [
    "# affiche les 5 premières lignes\n",
    "\n",
    "df_qc.head()"
   ]
  },
  {
   "cell_type": "code",
   "execution_count": 38,
   "metadata": {},
   "outputs": [],
   "source": [
    "# affiche les 7 premières lignes\n",
    "\n",
    "df_qc.head(7)"
   ]
  },
  {
   "cell_type": "code",
   "execution_count": 33,
   "metadata": {},
   "outputs": [],
   "source": [
    "# affiche les 5 dernières lignes\n",
    "\n",
    "df_qc.tail()"
   ]
  },
  {
   "cell_type": "code",
   "execution_count": null,
   "metadata": {},
   "outputs": [],
   "source": [
    "df_qc.COUT_TOTAL.head()"
   ]
  },
  {
   "cell_type": "code",
   "execution_count": null,
   "metadata": {},
   "outputs": [],
   "source": [
    "df_qc.COUT_TOTAL[:5]"
   ]
  },
  {
   "cell_type": "code",
   "execution_count": null,
   "metadata": {},
   "outputs": [],
   "source": [
    "df_qc.COUT_TOTAL[-5:] # les valeurs de la fin"
   ]
  },
  {
   "cell_type": "markdown",
   "metadata": {},
   "source": [
    "<div class=\"alert alert-warning\">\n",
    "\n",
    "indexation des tableaux numpy\n",
    "    </div>"
   ]
  },
  {
   "cell_type": "code",
   "execution_count": 17,
   "metadata": {},
   "outputs": [],
   "source": [
    "# Indexation des tableaux 1D\n",
    "\n",
    "x"
   ]
  },
  {
   "cell_type": "code",
   "execution_count": 22,
   "metadata": {},
   "outputs": [],
   "source": [
    "print(x[0],x[-1])"
   ]
  },
  {
   "cell_type": "code",
   "execution_count": null,
   "metadata": {},
   "outputs": [],
   "source": [
    "# cinq premiers éléments\n",
    "\n",
    "print(x[:5]"
   ]
  },
  {
   "cell_type": "code",
   "execution_count": null,
   "metadata": {},
   "outputs": [],
   "source": [
    "# éléments après l'index 5\n",
    "\n",
    "print(x[5:])"
   ]
  },
  {
   "cell_type": "code",
   "execution_count": null,
   "metadata": {},
   "outputs": [],
   "source": [
    "# éléments entre index 4 et 7\n",
    "\n",
    "print(x[4:7]"
   ]
  },
  {
   "cell_type": "code",
   "execution_count": null,
   "metadata": {},
   "outputs": [],
   "source": [
    "# chaque élément à l'étape 2\n",
    "\n",
    "print(x[::2]"
   ]
  },
  {
   "cell_type": "code",
   "execution_count": null,
   "metadata": {},
   "outputs": [],
   "source": [
    "# chaque élément à l'étape 2, en commençant par l'index 1\n",
    "\n",
    "print(x[1::2]"
   ]
  },
  {
   "cell_type": "code",
   "execution_count": null,
   "metadata": {},
   "outputs": [],
   "source": [
    "# tous les éléments inversés\n",
    "\n",
    "print(x[::-1]"
   ]
  },
  {
   "cell_type": "code",
   "execution_count": null,
   "metadata": {},
   "outputs": [],
   "source": [
    "# inversé, à partir de l'index 5\n",
    "\n",
    "print(x[5::-1]"
   ]
  },
  {
   "cell_type": "code",
   "execution_count": 33,
   "metadata": {},
   "outputs": [],
   "source": [
    "# Indexation des tableaux 2D\n",
    "\n",
    "x2"
   ]
  },
  {
   "cell_type": "code",
   "execution_count": 31,
   "metadata": {},
   "outputs": [],
   "source": [
    "x2[2,0]"
   ]
  },
  {
   "cell_type": "code",
   "execution_count": null,
   "metadata": {},
   "outputs": [],
   "source": [
    "# 2 lignes, 3 colonnes\n",
    "\n",
    "print(x2[:2, :3]\n",
    "print(x2[::-1, ::-1], '?')"
   ]
  },
  {
   "cell_type": "code",
   "execution_count": null,
   "metadata": {},
   "outputs": [],
   "source": [
    "# print(x2[:3, ::2], 'toutes les lignes, toutes les deux colonnes')"
   ]
  },
  {
   "cell_type": "code",
   "execution_count": null,
   "metadata": {},
   "outputs": [],
   "source": [
    "# Indexation des tableaux 3D\n",
    "\n",
    "x3"
   ]
  },
  {
   "cell_type": "code",
   "execution_count": null,
   "metadata": {},
   "outputs": [],
   "source": [
    "print(x3[:3, ::2])"
   ]
  },
  {
   "cell_type": "markdown",
   "metadata": {},
   "source": [
    "<div class=\"alert alert-warning\">\n",
    "\n",
    "<h4>indexation numpy par list ou tableau</h4>\n",
    "    </div>"
   ]
  },
  {
   "cell_type": "code",
   "execution_count": null,
   "metadata": {},
   "outputs": [],
   "source": [
    "x1"
   ]
  },
  {
   "cell_type": "code",
   "execution_count": null,
   "metadata": {},
   "outputs": [],
   "source": [
    "# une liste d'indices peut être fournie \n",
    "\n",
    "ind = [0,4,5]\n",
    "x1[ind]"
   ]
  },
  {
   "cell_type": "code",
   "execution_count": null,
   "metadata": {},
   "outputs": [],
   "source": [
    "# les valeurs peuvent être extraites à l'aide d'indices\n",
    "# et envoyées immédiatement à une autre structure de type tableau-numpy\n",
    "\n",
    "ind = np.array([[2,3],[4,5]])\n",
    "x1[ind]"
   ]
  },
  {
   "cell_type": "code",
   "execution_count": null,
   "metadata": {},
   "outputs": [],
   "source": [
    "x2"
   ]
  },
  {
   "cell_type": "code",
   "execution_count": null,
   "metadata": {},
   "outputs": [],
   "source": [
    "# pour les tables multidimensionnelles,\n",
    "# l'index de table doit être fourni \n",
    "\n",
    "x2[2,[2,0,1]]"
   ]
  },
  {
   "cell_type": "code",
   "execution_count": 38,
   "metadata": {},
   "outputs": [],
   "source": [
    "# Recherhe de l'index\n",
    "\n",
    "x.index(8)\n",
    "\n",
    "# la commande \"index\" - ne peux pas s'appliqué"
   ]
  },
  {
   "cell_type": "code",
   "execution_count": 35,
   "metadata": {},
   "outputs": [
    {
     "data": {
      "text/plain": [
       "(array([8]),)"
      ]
     },
     "execution_count": 35,
     "metadata": {},
     "output_type": "execute_result"
    }
   ],
   "source": [
    "np.where(x == 8)"
   ]
  },
  {
   "cell_type": "markdown",
   "metadata": {},
   "source": [
    "<div class=\"alert alert-success\">\n",
    "<h2>Attributes NumPy / Pandas</h2>\n",
    "</div>"
   ]
  },
  {
   "cell_type": "code",
   "execution_count": null,
   "metadata": {},
   "outputs": [],
   "source": [
    "# shape, size, dtype, itemsize, nbytes\n",
    "\n",
    "# pour determiner\n",
    "# la taille\n",
    "# la forme\n",
    "# la consummation de mémoire\n",
    "# les types de données\n",
    "\n",
    "# définir trois tableaux aléatoires (entiers normaux):\n",
    "x1 = np.random.randint(10, size=6) #tableau 1D\n",
    "x2 = np.random.randint(10, size=(3,4)) # tableau 2D\n",
    "x3 = np.random.randint(10, size=(3,4,5)) # tableau 3D"
   ]
  },
  {
   "cell_type": "code",
   "execution_count": null,
   "metadata": {},
   "outputs": [],
   "source": [
    "x3"
   ]
  },
  {
   "cell_type": "code",
   "execution_count": null,
   "metadata": {},
   "outputs": [],
   "source": [
    "print(x3.ndim, x3.shape, x3.size, x3.dtype)"
   ]
  },
  {
   "cell_type": "code",
   "execution_count": 53,
   "metadata": {},
   "outputs": [],
   "source": [
    "# méthodes supplémentaires pour analyser la structure.\n",
    "\n",
    "print(df_qc.index.size)\n",
    "print(df_qc.index.shape)\n",
    "print(df_qc.index.ndim)\n",
    "print(df_qc.index.dtype)"
   ]
  },
  {
   "cell_type": "markdown",
   "metadata": {},
   "source": [
    "<div class=\"alert alert-info\">\n",
    "<h3>Pseudo-code</h3>\n",
    "</div>"
   ]
  },
  {
   "cell_type": "markdown",
   "metadata": {},
   "source": [
    "<div class=\"alert alert-success\">\n",
    "<b>Pseudo-code au format langage humain</b>\n",
    "<li>avant de commencer à écrire de gros projets, il est conseillé de démarrer le projet avec un pseudo-code. \n",
    "<li>le pseudo-code décrit les étapes requises pour atteindre un objectif\n",
    "<li>le pseudo-code peut être considéré comme une esquisse de haut niveau ou une description d'un programme.\n",
    "<li>cela ressemblera typiquement à la structure d'un programme.\n",
    "<li>le pseudocode peut être écrit dans un langage de niveau humain qui esquisse les tâches et le flux de contrôle général.\n",
    "</div>"
   ]
  },
  {
   "cell_type": "markdown",
   "metadata": {},
   "source": [
    "```\n",
    "PseudoCode, langage niveau humain\n",
    "\n",
    "Objective: envoyer une liste de courriels et\n",
    "           créer un journal de ce qui a été envoyé.\n",
    "Fonction1:\n",
    "        * prend la liste des courriels\n",
    "        * définir la sortie du fichier de journalisation\n",
    "        * envoyer des courriels\n",
    "        * ajouter des informations de journalisation sur les courriels\n",
    "```"
   ]
  },
  {
   "cell_type": "markdown",
   "metadata": {},
   "source": [
    "<div class=\"alert alert-success\">\n",
    "<b>Pseudo-code au format Python</b>\n",
    "<br>\n",
    "<li>peut être écrit beaucoup plus près de Python, y compris la syntaxe Python \n",
    "<li>il s’agit plutôt d’un modèle / schéma\n",
    "<li>n'est parfois qu'un travail en cours qui n'est pas encore terminé\n",
    "<li>Le mot clé \"pass\" - pass est un mot clé réservé, qui ne fait rien.\n",
    "</div>"
   ]
  },
  {
   "cell_type": "code",
   "execution_count": 1,
   "metadata": {},
   "outputs": [],
   "source": [
    "# PseudoCode pour une fonction permettant d'envoyer des courriels à une liste  \n",
    "# d'adresses électroniques et de renvoyer un journal de ce qui a été envoyé\n",
    "\n",
    "def envoyer_courriels(liste_adresses):\n",
    "\n",
    "    courriels_envoyes = {}  # Définir une variable de sortie pour la journalisation\n",
    "\n",
    "    for courriel in liste_adresses:\n",
    "\n",
    "        # Envoyer l'email actuel\n",
    "        pass\n",
    "\n",
    "        # Ajouter les informations de journalisation de l'envoi de cet email\n",
    "        courriels_envoyes[courriel] = True\n",
    "\n",
    "    return courriels_envoyes"
   ]
  },
  {
   "cell_type": "markdown",
   "metadata": {},
   "source": [
    "<div class=\"alert alert-danger\">\n",
    "<b>les commandes et codes à apprendre par cœur </b></div>"
   ]
  },
  {
   "cell_type": "raw",
   "metadata": {},
   "source": [
    "PseudoCode langage humain\n",
    "PseudoCode format python\n",
    "\n",
    "STRINGS:\n",
    "    str()\n",
    "    ''\n",
    "    \"\"\n",
    "    ''.replace()\n",
    "    ''.split()\n",
    "\n",
    "INTEGER / FLOAT\n",
    "    int()\n",
    "    float()\n",
    "\n",
    "LIST:\n",
    "    []\n",
    "    list()\n",
    "    ls.remove()\n",
    "    ls.append()\n",
    "    ls.pop\n",
    "    ls.sort()\n",
    "    ls.reverse\n",
    "\n",
    "TUPLE:\n",
    "    ()\n",
    "    tuple()\n",
    "\n",
    "DICTIONARY:\n",
    "    dict()\n",
    "    {}\n",
    "    d[key]\n",
    "    d[key] = val\n",
    "    d.keys()\n",
    "    d.values()\n",
    "    d.items()\n",
    "    d.copy()\n",
    "    d.deepcopy()\n",
    "    d.get(cle)\n",
    "    d.pop()\n",
    "    del d[cle]\n",
    "    d.clear()\n",
    "    list(d.keys())\n",
    "\n",
    "COPY\n",
    "    copy.deepcopy(d)\n",
    "\n",
    "PANDAS:\n",
    "    import pandas\n",
    "    pandas.DataFrame(source, index=[])\n",
    "    pandas.DataFrame.from_dict(dict(),\n",
    "                                orient = 'index',\n",
    "                                columns = ['A','B','C','D'])\n",
    "    pandas.read_csv(fichier,\n",
    "                    usecols = ['COL1', 'COL2'])\n",
    "    df.keys()\n",
    "    df.values()\n",
    "    df.col.tolist()\n",
    "    df.to_dict()\n",
    "    df.transpose(), df.T\n",
    "    df.index\n",
    "    df.size\n",
    "    df.shape\n",
    "    df.ndim\n",
    "    df.dtype\n",
    "    df.loc, df.iloc, df.at\n",
    "    df.copy(deep=True)\n",
    "    df.set_index(NAME, inplace=True)\n",
    "    df.head()\n",
    "    df.tail()\n",
    "\n",
    "NUMPY:\n",
    "    np.array(, dtype='float32')\n",
    "    numpy.asarray(list(), dtype = None)\n",
    "    numpy.asarray(list(dict().items()), dtype = dict)\n",
    "    arr0.shape\n",
    "    arr0.ndim\n",
    "    np.empty(shape, dtype=int)\n",
    "    np.zeros(shape, dtype=int)\n",
    "    np.ones(shape, dtype=float) #shape = [int(), int()]; int()\n",
    "    np.full()\n",
    "    np.eye()\n",
    "    np.repeat\n",
    "    np.linspace\n",
    "    np.arange\n",
    "    np.random; np.random.random; np.random.normal; np.random.randint\n",
    "    np.reshape\n",
    "    np.newaxis\n",
    "    np.where\n",
    "    np.sort\n",
    "    np.argsort\n",
    "\n",
    "INDEXATION []\n",
    "    chaine.index()\n",
    "    list.index()\n",
    "    tuple.index()"
   ]
  },
  {
   "cell_type": "markdown",
   "metadata": {},
   "source": [
    "<div class=\"alert alert-danger\">\n",
    "<h3>Exercises</h3>\n",
    "</div>"
   ]
  },
  {
   "cell_type": "markdown",
   "metadata": {},
   "source": [
    "<div class=\"alert alert-success\">\n",
    "<ul> <b>veuillez écrire les réponses à ces questions:</b>\n",
    "<li> Qu'est-ce qu'un entier ?\n",
    "<li> Qu'est-ce qu'une chaîne ?\n",
    "<li> Quelle est la différence entre un entier et un flottant?\n",
    "<li> Qu'est-ce qu'une liste ?\n",
    "<li> Quels sont les avantages d'un tuple ?\n",
    "\n",
    "<li> Comment transformer une colonne pandas en liste ?\n",
    "<li> Comment extraire la valeur de la liste située en position 10 ?\n",
    "\n",
    "<li> Quelles sont les méthodes pour définir les variables ?\n",
    "<li> Comment vérifier le type d'une variable ?\n",
    "<li> Comment ajouter une variable à un tuple ?\n",
    "<li> Comment envoyer toutes les valeurs d'une trame de données à une liste ?\n",
    "<li> Comment créer une trame de données à partir d'une liste ?\n",
    "<li> Comment accéder à une lettre dans une chaîne à une certaine position ?\n",
    "<li> Comment définir plusieurs variables en même temps ?\n",
    "<li> Définir un flottant\n",
    "<li> Initialisez deux entiers : a = 0 et b = 10 \n",
    "<li> Veuillez définir la liste : liste =[17, 38, 10, 25, 72]\n",
    "<li> Triez et affichez la liste\n",
    "<li> Ajoutez l’élément 12 à la liste et affichez la liste \n",
    "<li> Inversez et affichez la liste\n",
    "<li> Affichez l’indice de l’élément 17\n",
    "<li> Enlevez l’élément 38 et affichez la liste\n",
    "<li> Affichez la sous-liste du 2e au 3e élément\n",
    "<li> Affichez la sous-liste du début au 2e élément\n",
    "<li> Affichez la sous-liste du 3e élément à la fin de la liste \n",
    "<li> Affichez la sous-liste complète de la liste\n",
    "<li> Affichez le dernier élément en utilisant un indiçage négatif\n",
    "<li>Créez un tableau numpy 1D de int de 0 à 9\n",
    "<li>convertir un tableau 1D en tableau 2D avec 2 lignes\n",
    "    </ul>\n",
    "</div>"
   ]
  },
  {
   "cell_type": "markdown",
   "metadata": {},
   "source": [
    "<div class=\"alert alert-success\">\n",
    "<li> Créer une liste\n",
    "<li> ajouter une chaîne, un entier et un flottant à la liste\n",
    "<li> ajouter la liste à 'key5' dans le dictionnaire\n",
    "<li> temps pour résoudre - 2 minutes </div>"
   ]
  },
  {
   "cell_type": "markdown",
   "metadata": {},
   "source": [
    "<div class=\"alert alert-success\">\n",
    "<li> créer une trame de données à l'aide du dictionnaire:\n",
    "<li> d1 = {'Subj_ID': '001', 'score': 16, 'group' : 2, 'condition': 'cognition'}\n",
    "<li> résoudre l'erreur en utilisant l'Internet\n",
    "<li> temps pour résoudre - 2 minutes\n",
    "</div>"
   ]
  },
  {
   "cell_type": "markdown",
   "metadata": {},
   "source": [
    "<div class=\"alert alert-success\">\n",
    "<li> la commande ls_fruits[::2] qu'est ce que ça fait ?\n",
    "</div>"
   ]
  },
  {
   "cell_type": "code",
   "execution_count": 5,
   "metadata": {},
   "outputs": [
    {
     "data": {
      "text/plain": [
       "['pomme', 'poire']"
      ]
     },
     "execution_count": 5,
     "metadata": {},
     "output_type": "execute_result"
    }
   ],
   "source": [
    "ls_fruits = ['pomme','banane','orange','poire','raisins']\n",
    "ls_fruits[::3]"
   ]
  },
  {
   "cell_type": "code",
   "execution_count": null,
   "metadata": {},
   "outputs": [],
   "source": [
    "# Créez un cadre de données de pandas\n",
    "# à partir de chacun des éléments ci-dessous:\n",
    "\n",
    "list('abcedfghijklmnopqrstuvwxyz')\n",
    "\n",
    "np.arange(26)"
   ]
  },
  {
   "cell_type": "code",
   "execution_count": 39,
   "metadata": {},
   "outputs": [
    {
     "name": "stdout",
     "output_type": "stream",
     "text": [
      "[2, 5, 4, 4]\n"
     ]
    },
    {
     "data": {
      "text/plain": [
       "dict_items([('cle1', [2, 5, 4, 4]), ('cle2', 'salut')])"
      ]
     },
     "execution_count": 39,
     "metadata": {},
     "output_type": "execute_result"
    }
   ],
   "source": [
    "##définir un dict\n",
    "d = ({'cle1' : [2.3, 5, 4,4 ], 'cle2' : 'salut'})\n",
    "d['cle1'] = [2,5,4,4]\n",
    "print(d['cle1'])\n",
    "d.keys()\n",
    "d.items()\n",
    "\n",
    "\n"
   ]
  },
  {
   "cell_type": "code",
   "execution_count": 45,
   "metadata": {},
   "outputs": [
    {
     "name": "stdout",
     "output_type": "stream",
     "text": [
      "(1, 2, 3)\n"
     ]
    },
    {
     "ename": "KeyError",
     "evalue": "'cle1'",
     "output_type": "error",
     "traceback": [
      "\u001b[1;31m---------------------------------------------------------------------------\u001b[0m",
      "\u001b[1;31mKeyError\u001b[0m                                  Traceback (most recent call last)",
      "\u001b[1;32m~\\AppData\\Local\\Temp/ipykernel_666204/1805532881.py\u001b[0m in \u001b[0;36m<module>\u001b[1;34m\u001b[0m\n\u001b[0;32m      2\u001b[0m \u001b[0mprint\u001b[0m\u001b[1;33m(\u001b[0m\u001b[0mtuple\u001b[0m\u001b[1;33m)\u001b[0m\u001b[1;33m\u001b[0m\u001b[1;33m\u001b[0m\u001b[0m\n\u001b[0;32m      3\u001b[0m \u001b[1;31m#dict1.values()\u001b[0m\u001b[1;33m\u001b[0m\u001b[1;33m\u001b[0m\u001b[0m\n\u001b[1;32m----> 4\u001b[1;33m \u001b[0md\u001b[0m\u001b[1;33m.\u001b[0m\u001b[0mpop\u001b[0m\u001b[1;33m(\u001b[0m\u001b[1;34m'cle1'\u001b[0m\u001b[1;33m)\u001b[0m\u001b[1;33m\u001b[0m\u001b[1;33m\u001b[0m\u001b[0m\n\u001b[0m\u001b[0;32m      5\u001b[0m \u001b[0mprint\u001b[0m\u001b[1;33m(\u001b[0m\u001b[0md\u001b[0m\u001b[1;33m)\u001b[0m\u001b[1;33m\u001b[0m\u001b[1;33m\u001b[0m\u001b[0m\n\u001b[0;32m      6\u001b[0m \u001b[0md\u001b[0m\u001b[1;33m[\u001b[0m\u001b[1;34m'cle2'\u001b[0m\u001b[1;33m]\u001b[0m\u001b[1;33m\u001b[0m\u001b[1;33m\u001b[0m\u001b[0m\n",
      "\u001b[1;31mKeyError\u001b[0m: 'cle1'"
     ]
    }
   ],
   "source": [
    "tuple = (1,2,3)\n",
    "print(tuple)\n",
    "#dict1.values()\n",
    "d.pop('cle1')\n",
    "print(d)\n",
    "\n",
    "    #del d[cle]"
   ]
  },
  {
   "cell_type": "code",
   "execution_count": 46,
   "metadata": {},
   "outputs": [
    {
     "name": "stdout",
     "output_type": "stream",
     "text": [
      "{'cle2': 'salut'}\n"
     ]
    },
    {
     "data": {
      "text/plain": [
       "'salut'"
      ]
     },
     "execution_count": 46,
     "metadata": {},
     "output_type": "execute_result"
    }
   ],
   "source": [
    "print(d)\n",
    "d['cle2']"
   ]
  }
 ],
 "metadata": {
  "anaconda-cloud": {},
  "celltoolbar": "Slideshow",
  "kernelspec": {
   "display_name": "Python 3 (ipykernel)",
   "language": "python",
   "name": "python3"
  },
  "language_info": {
   "codemirror_mode": {
    "name": "ipython",
    "version": 3
   },
   "file_extension": ".py",
   "mimetype": "text/x-python",
   "name": "python",
   "nbconvert_exporter": "python",
   "pygments_lexer": "ipython3",
   "version": "3.10.1"
  }
 },
 "nbformat": 4,
 "nbformat_minor": 2
}
