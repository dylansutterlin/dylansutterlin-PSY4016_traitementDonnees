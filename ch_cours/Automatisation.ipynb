{
 "cells": [
  {
   "cell_type": "markdown",
   "metadata": {},
   "source": [
    "<div class=\"alert alert-info\">\n",
    "\n",
    "# PSY 4016-G-H21\n",
    "# Cueillette et traitement des données en neurosciences cognitives\n",
    "## Chapitre 1: Introduction\n",
    "<p>\n",
    "<li>Le terminal / L'invite de command\n",
    "<li>Les fichiers python\n",
    "<li>Pandas\n",
    "<li>Jupyter\n",
    "<li>Python"
   ]
  },
  {
   "cell_type": "markdown",
   "metadata": {},
   "source": [
    "<div class=\"alert alert-info\">\n",
    "<h2>cours 11 - Automatisation</h2>\n",
    "    #commandes en linux/mac\n",
    "</div>"
   ]
  },
  {
   "cell_type": "raw",
   "metadata": {},
   "source": [
    "mkdir tmp"
   ]
  },
  {
   "cell_type": "code",
   "execution_count": 3,
   "metadata": {},
   "outputs": [
    {
     "data": {
      "text/plain": [
       "'C:\\\\Users\\\\Dylan\\\\Desktop\\\\UdeM_H22\\\\PSY4016_traitementDeDonnees\\\\ch_cours'"
      ]
     },
     "execution_count": 3,
     "metadata": {},
     "output_type": "execute_result"
    }
   ],
   "source": [
    "pwd"
   ]
  },
  {
   "cell_type": "code",
   "execution_count": null,
   "metadata": {},
   "outputs": [],
   "source": [
    "open()"
   ]
  },
  {
   "cell_type": "code",
   "execution_count": null,
   "metadata": {},
   "outputs": [],
   "source": [
    "f = open()"
   ]
  },
  {
   "cell_type": "code",
   "execution_count": null,
   "metadata": {},
   "outputs": [],
   "source": [
    "#fct à mettre dans le temp\n",
    "\n",
    "def f1():\n",
    "        print('bonjour')"
   ]
  },
  {
   "cell_type": "code",
   "execution_count": null,
   "metadata": {},
   "outputs": [],
   "source": []
  },
  {
   "cell_type": "code",
   "execution_count": null,
   "metadata": {},
   "outputs": [],
   "source": []
  },
  {
   "cell_type": "code",
   "execution_count": null,
   "metadata": {},
   "outputs": [],
   "source": []
  },
  {
   "cell_type": "markdown",
   "metadata": {},
   "source": [
    "Win:\n",
    "    cd C:\\\n",
    "Mac:\n",
    "    cd /\n",
    "Linus:\n",
    "    cd /"
   ]
  },
  {
   "cell_type": "markdown",
   "metadata": {},
   "source": [
    "<div class=\"alert alert-success\">\n",
    "\n",
    "<h4>Commandes: Terminal vs. Invite de commande:</h4>\n",
    "<li>changer le dossier:\n",
    "\n",
    "    cd /    cd\n",
    "\n",
    "<li>contenu du dossier:\n",
    "\n",
    "    ls /    dir\n",
    "\n",
    "<li>créer le dossier:\n",
    "\n",
    "    mkdir / mkdir\n",
    "\n",
    "<li>dossier en cours:\n",
    "\n",
    "    pwd /   echo %cd%\n",
    "</div>"
   ]
  },
  {
   "cell_type": "markdown",
   "metadata": {},
   "source": [
    "<div class=\"alert alert-info\">\n",
    "<h2>Les fichiers python</h2>\n",
    "</div>"
   ]
  },
  {
   "cell_type": "markdown",
   "metadata": {},
   "source": [
    ".py  (ouvrira le terminal)\n",
    "\n",
    ".pyw (sans ouvrir le terminal)"
   ]
  },
  {
   "cell_type": "markdown",
   "metadata": {},
   "source": [
    "# dans le terminal:\n",
    "\n",
    "    $nano fichier.py\n",
    "\n",
    "sauvegarder:\n",
    "\n",
    "    CTRL+x -> y"
   ]
  },
  {
   "cell_type": "markdown",
   "metadata": {},
   "source": [
    "Win:\n",
    "\n",
    "    > python file.py\n",
    "    \n",
    "    \n",
    "Mac/Linux:\n",
    "\n",
    "    $ python file.py"
   ]
  },
  {
   "cell_type": "code",
   "execution_count": null,
   "metadata": {},
   "outputs": [],
   "source": [
    "# python\n",
    "print(\"Bonjour!\")"
   ]
  },
  {
   "cell_type": "markdown",
   "metadata": {},
   "source": [
    "<div class=\"alert alert-info\">\n",
    "<h2>Pandas</h2>\n",
    "</div>"
   ]
  },
  {
   "cell_type": "markdown",
   "metadata": {},
   "source": [
    "<div class=\"alert alert-success\">\n",
    "\n",
    "Le prétraitement des données implique plusieurs étapes :\n",
    "\n",
    "- traitements des valeurs manquantes ou invalides\n",
    "- extraire des informations utilisables de textes (string) en désordre\n",
    "- transformation / normalisation de variables et de noms de variables\n",
    "- filtrage des données redondantes ou incorrectes\n",
    "- fusion avec d'autres jeux de données\n",
    "</div>"
   ]
  },
  {
   "cell_type": "markdown",
   "metadata": {},
   "source": [
    "#### commandes pour le terminal:\n",
    "\n",
    "pip3 install pandas"
   ]
  },
  {
   "cell_type": "code",
   "execution_count": 1,
   "metadata": {},
   "outputs": [],
   "source": [
    "import pandas"
   ]
  },
  {
   "cell_type": "code",
   "execution_count": 2,
   "metadata": {},
   "outputs": [
    {
     "data": {
      "text/plain": [
       "'1.1.5'"
      ]
     },
     "execution_count": 2,
     "metadata": {},
     "output_type": "execute_result"
    }
   ],
   "source": [
    "pandas.__version__"
   ]
  },
  {
   "cell_type": "markdown",
   "metadata": {
    "slideshow": {
     "slide_type": "subslide"
    }
   },
   "source": [
    "<div class=\"alert alert-success\">\n",
    "\n",
    "Méthodes de lecture des fichiers:\n",
    "\n",
    "- read_table(); pour le texte générique délimité\n",
    "- read_excel(); pour les fichiers Excel (.xls/ .xslx)\n",
    "- read_csv(); pour les fichiers .csv/ .tsv\n",
    "- read_json(); pour les fichiers JSON\n",
    "- read_sql(); pour les bases de données SQL\n",
    "- read_stata(); pour les fichiers Stata\n",
    "- read_sas(); pour les fichiers SAS\n",
    "</div>"
   ]
  },
  {
   "cell_type": "code",
   "execution_count": 3,
   "metadata": {},
   "outputs": [],
   "source": [
    "# pandas accepte les URL en plus des fichiers locaux\n",
    "df = pandas.read_json('https://data.seattle.gov/resource/frxe-s3us.json')\n",
    "\n",
    "# # alternative (effacer le signe diez):\n",
    "# df = pandas.read_csv('data/seattle_gov_frxe-s3us.csv')"
   ]
  },
  {
   "cell_type": "code",
   "execution_count": 17,
   "metadata": {},
   "outputs": [],
   "source": [
    "url = 'https://data.seattle.gov/resource/frxe-s3us.json'\n",
    "\n",
    "df = pandas.read_json(url)"
   ]
  },
  {
   "cell_type": "code",
   "execution_count": 5,
   "metadata": {},
   "outputs": [],
   "source": [
    "# df"
   ]
  },
  {
   "cell_type": "markdown",
   "metadata": {},
   "source": [
    "<div class=\"alert alert-success\">\n",
    "\n",
    "Cadres de données (DataFrames):\n",
    "\n",
    "- Un conteneur de plusieurs séries alignées\n",
    "- Hétérogène - peut avoir plusieurs types de données différents\n",
    "- La méthode principale d'analyse de données via pandas\n",
    "</div>"
   ]
  },
  {
   "cell_type": "code",
   "execution_count": 24,
   "metadata": {},
   "outputs": [],
   "source": [
    "df.to_csv(\"tmp.csv\")"
   ]
  },
  {
   "cell_type": "code",
   "execution_count": null,
   "metadata": {},
   "outputs": [],
   "source": [
    "df.to_excel('C:/Users/USER/Desktop/mon_nom.xlsx', engine='openpyxl')"
   ]
  },
  {
   "cell_type": "markdown",
   "metadata": {},
   "source": [
    "<div class=\"alert alert-success\">\n",
    "\n",
    "Méthodes d'enregistrement :\n",
    "\n",
    "- to_csv(); pour les fichers csv\n",
    "- to_excel(); pour les fichiers Excel\n",
    "- to_json(); pour les fichiers json\n",
    "- to_pickle(); pour les fichiers pkl\n",
    "- to_feathure(); pour les fichiers ft (très vite)\n",
    "- to_stata(); pour les fichiers Stata\n",
    "</div>"
   ]
  },
  {
   "cell_type": "code",
   "execution_count": 6,
   "metadata": {},
   "outputs": [],
   "source": [
    "# df"
   ]
  },
  {
   "cell_type": "code",
   "execution_count": 7,
   "metadata": {},
   "outputs": [],
   "source": [
    "# df.columns"
   ]
  },
  {
   "cell_type": "code",
   "execution_count": 8,
   "metadata": {},
   "outputs": [],
   "source": [
    "# df.index"
   ]
  },
  {
   "cell_type": "code",
   "execution_count": 9,
   "metadata": {},
   "outputs": [],
   "source": [
    "# df['department']"
   ]
  },
  {
   "cell_type": "code",
   "execution_count": 10,
   "metadata": {
    "scrolled": true
   },
   "outputs": [],
   "source": [
    "# df.department"
   ]
  },
  {
   "cell_type": "markdown",
   "metadata": {},
   "source": [
    "<div class=\"alert alert-info\">\n",
    "<h2>Github</h2>\n",
    "</div>"
   ]
  },
  {
   "cell_type": "markdown",
   "metadata": {},
   "source": [
    "<div class=\"alert alert-success\">\n",
    "<h4>créer un compte:</h4>\n",
    "    <li>github.com -> Sign Up\n",
    "\n",
    "<h4>accéder à un compte:</h4>\n",
    "    <li>github.com -> Sign In\n",
    "</div>"
   ]
  },
  {
   "cell_type": "markdown",
   "metadata": {},
   "source": [
    "<div class=\"alert alert-success\">\n",
    "\n",
    "<li>coin supérieur droit -> choisissez votre image -> Settings -> Developer settings -> Personal access tokens\n",
    "\n",
    "<li>-> Generate new token\n",
    "\n",
    "<li>-> enregistrez le mot de passe dans un fichier\n",
    "\n",
    "<li>-> utilisez-le pour pousser depuis le terminal / invite de commande</div>"
   ]
  },
  {
   "cell_type": "markdown",
   "metadata": {},
   "source": [
    "<div class=\"alert alert-success\">\n",
    "\n",
    "<li>coin supérieur droit -> choisissez le signe plus -> nouveau référentiel (new repository)\n",
    "\n",
    "<li>-> Repository name: choisissez un nom pour votre référentiel\n",
    "\n",
    "<li>-> Private\n",
    "\n",
    "<li>-> Add a README file\n",
    "\n",
    "<li>-> Add .gitignore -> python\n",
    "\n",
    "<li>-> Choose a licence -> BDS 3-Caluse 'New' or 'Revised' License\n",
    "\n",
    "<li>Create repository\n",
    "</div>"
   ]
  },
  {
   "cell_type": "markdown",
   "metadata": {},
   "source": [
    "<div class=\"alert alert-success\">\n",
    "\n",
    "<li>ouvrez le terminal (sous mac ou linux) ou l'invite de commande (sous windows)\n",
    "\n",
    "<li>vérifiez que github est installé en tapant la commande:\n",
    "\n",
    "    $git\n",
    "    >git\n",
    "\n",
    "<li>S'il est installé: vous recevrez une liste d'utilisation.\n",
    "</div>"
   ]
  },
  {
   "cell_type": "markdown",
   "metadata": {},
   "source": [
    "<div class=\"alert alert-success\">\n",
    "\n",
    "<li>commandes github:\n",
    "\n",
    "    cd DOSSIER_POUR_GITHUB\n",
    "    git clone https://github.com/USERNAME/GITHUB_REPOSITORY\n",
    "    e.g.: git clone https://github.com/alexhanganu/psy4016_UdeM\n",
    "    \n",
    "        Username: USERNAME\n",
    "        Password: GITHUB_PASSWORD\n",
    "        \n",
    "        Si cloné: \"Resolving deltas: 100% (XX/XX) done.\n",
    "\n",
    "<li>toutes les modifications apportées au référentiel doivent être effectuées à partir du dossier racine.\n",
    "\n",
    "    cd ../GITHUB_REPOSITORY\n",
    "\n",
    "<li>vérifier l'état du référentiel local par rapport au référentiel github:\n",
    "\n",
    "    git status\n",
    "\n",
    "<li>vérifier les différences entre les référentiels locaux et distants:\n",
    "\n",
    "    git diff origin/main\n",
    "    q #(quit)\n",
    "\n",
    "<li>lors de la mise à jour de la version locale à l'aide de la version de github, utilisez la commande:\n",
    "\n",
    "    git pull\n",
    "\n",
    "<li>après avoir appliqué des modifications aux fichiers dans le référentiel local et avoir l'intention de modifier le référentiel github avec cette nouvelle version du référentiel local: \n",
    "\n",
    "    git add .\n",
    "    git commit\n",
    "    git push origin main\n",
    "    \n",
    "<li>alternativement, nous ne pouvons mettre à jour qu'un seul fichier, en utilisant la commande:\n",
    "\n",
    "    git add file\n",
    "</div>"
   ]
  },
  {
   "cell_type": "markdown",
   "metadata": {},
   "source": [
    "<div class=\"alert alert-success\">\n",
    "essayer le git-tower:\n",
    "\n",
    "    https://www.git-tower.com/\n",
    "</div>"
   ]
  },
  {
   "cell_type": "markdown",
   "metadata": {},
   "source": [
    "<div class=\"alert alert-info\">\n",
    "<h2>Jupyter:</h2>\n",
    "</div>"
   ]
  },
  {
   "cell_type": "markdown",
   "metadata": {},
   "source": [
    "<div class=\"alert alert-success\">\n",
    "<li> Développé par \tFernando Pérez, première version 2015\n",
    "<li> Est une application web utilisée pour programmer dans plus de 40 langages de programmation\n",
    "<li> Approche basée sur la une console web\n",
    "<li> Utilisée pour le développement, la documentation, l'exécution de code, et la communication des résultats.\n",
    "</div>"
   ]
  },
  {
   "cell_type": "markdown",
   "metadata": {},
   "source": [
    "#### INSTALLATION  du jupyter à l'aide du terminal si python a été installé à partir du site Web python.org\n",
    "\n",
    "ouvrez le terminal:\n",
    "\n",
    "Windows:\n",
    "start -> cmd\n",
    "\n",
    "ou\n",
    "\n",
    "Win + r -> cmd -> Enter\n",
    "\n",
    "MacOS:\n",
    "\n",
    "/Applications/Utilities -> Terminal\n",
    "\n",
    "\n",
    "\n",
    "#### commandes pour le terminal:\n",
    "\n",
    "Windows:\n",
    "cd C:\\Users\\USER\\AppData\\Local\\Programs\\Python\\Python37-32\\Scripts\n",
    "python -m pip instal -U pip setuptools\n",
    "\n",
    "pip3 install jupyter notebook\n",
    "\n",
    "\n",
    "Mac OS X:\n",
    "pip install -U pip setuptools\n",
    "pip3 install jupyter\n",
    "\n",
    "\n",
    "\n",
    "\n",
    "#### démarrer le jupyter en ligne de commande:\n",
    "\n",
    "jupyter notebook\n",
    "\n",
    "jupyter-notebook\n",
    "\n",
    "python -m notebook"
   ]
  },
  {
   "cell_type": "markdown",
   "metadata": {},
   "source": [
    "\n",
    "Raccourcis\n",
    "\n",
    "ESC Basculer entre l'édition de cellule (ligne verte) et les fonctions de cellule (ligne bleue)\n",
    "\n",
    "a ajouter une cellule au-dessus\n",
    "\n",
    "b ajouter une cellule ci-dessous\n",
    "\n",
    "x Couper une cellule (supprimer)\n",
    "\n",
    "v Coller une cellule\n",
    "https://www.ibm.com/support/knowledgecenter/en/SSAS34_1.2.1/analyze-data/markd-jupyter.html\n",
    "\n",
    "Shift+V (au dessus)"
   ]
  },
  {
   "cell_type": "code",
   "execution_count": 11,
   "metadata": {},
   "outputs": [
    {
     "name": "stdout",
     "output_type": "stream",
     "text": [
      "15\n"
     ]
    }
   ],
   "source": [
    "# code en cours d'exécution:\n",
    "\n",
    "# l'affectation:\n",
    "\n",
    "a = 15\n",
    "print(a)"
   ]
  },
  {
   "cell_type": "code",
   "execution_count": 2,
   "metadata": {},
   "outputs": [
    {
     "data": {
      "text/plain": [
       "(2.3, 2.3)"
      ]
     },
     "execution_count": 2,
     "metadata": {},
     "output_type": "execute_result"
    }
   ],
   "source": [
    "k = r = 2.3\n",
    "k, r"
   ]
  },
  {
   "cell_type": "code",
   "execution_count": null,
   "metadata": {},
   "outputs": [],
   "source": [
    "# c'est un commentaire"
   ]
  },
  {
   "cell_type": "code",
   "execution_count": null,
   "metadata": {},
   "outputs": [],
   "source": [
    "# Utilisez TAB pour répertorier les options possibles\n",
    "\n",
    "from os import #appuyer TAB"
   ]
  },
  {
   "cell_type": "code",
   "execution_count": null,
   "metadata": {},
   "outputs": [],
   "source": [
    "# lors de l'import, il est possible d'importer\n",
    "# uniquement certaines parties de la bibliothèque \n",
    "\n",
    "from os import path\n",
    "\n",
    "# lors de l'import, le nom de la bibliothèque peut être modifié\n",
    "\n",
    "from os import path as chemin"
   ]
  },
  {
   "cell_type": "code",
   "execution_count": 7,
   "metadata": {},
   "outputs": [
    {
     "name": "stdout",
     "output_type": "stream",
     "text": [
      "entrez votre nom svp:test\n"
     ]
    }
   ],
   "source": [
    "# la command \"input\" prend les valeurs définies par l’utilisateur\n",
    "\n",
    "a = input('entrez votre nom svp:')"
   ]
  },
  {
   "cell_type": "code",
   "execution_count": 2,
   "metadata": {},
   "outputs": [
    {
     "data": {
      "text/plain": [
       "'/home/ssp/Desktop'"
      ]
     },
     "execution_count": 2,
     "metadata": {},
     "output_type": "execute_result"
    }
   ],
   "source": [
    "pwd"
   ]
  },
  {
   "cell_type": "code",
   "execution_count": 3,
   "metadata": {},
   "outputs": [
    {
     "data": {
      "text/plain": [
       "'/home/ssp/Desktop'"
      ]
     },
     "execution_count": 3,
     "metadata": {},
     "output_type": "execute_result"
    }
   ],
   "source": [
    "# similaire à la commande pwd :\n",
    "\n",
    "import os\n",
    "os.getcwd()"
   ]
  },
  {
   "cell_type": "code",
   "execution_count": null,
   "metadata": {},
   "outputs": [],
   "source": [
    "# similaire à la commande cd :\n",
    "\n",
    "import os\n",
    "\n",
    "os.chdir(\"chemin_vers_le_dossier\")"
   ]
  },
  {
   "cell_type": "code",
   "execution_count": null,
   "metadata": {},
   "outputs": [],
   "source": [
    "# pour voir le chemin absolu d'un dossier ou d'un fichier:\n",
    "\n",
    "from os import path\n",
    "\n",
    "path.abspath()"
   ]
  },
  {
   "cell_type": "markdown",
   "metadata": {},
   "source": [
    "Utilisez le signe '?' après un nom de commande pour obtenir l'aide"
   ]
  },
  {
   "cell_type": "code",
   "execution_count": 12,
   "metadata": {},
   "outputs": [],
   "source": [
    "len?"
   ]
  },
  {
   "cell_type": "code",
   "execution_count": 2,
   "metadata": {},
   "outputs": [
    {
     "name": "stdout",
     "output_type": "stream",
     "text": [
      "Help on built-in function len in module builtins:\n",
      "\n",
      "len(obj, /)\n",
      "    Return the number of items in a container.\n",
      "\n"
     ]
    }
   ],
   "source": [
    "help(len)\n",
    "# inline help"
   ]
  },
  {
   "cell_type": "markdown",
   "metadata": {},
   "source": [
    "#### autres codes:\n",
    "https://github.com/streamnsight/jupyter-notebook-cheatsheet/blob/master/Magic%20functions%2C%20help%20and%20doc.ipynb"
   ]
  },
  {
   "cell_type": "markdown",
   "metadata": {},
   "source": [
    "<div class=\"alert alert-info\">\n",
    "<h2>Python</h2>\n",
    "</div>"
   ]
  },
  {
   "cell_type": "markdown",
   "metadata": {},
   "source": [
    "<div class=\"alert alert-success\">\n",
    "<li> Développé par Guido van Rossum, première version 1991, dernière version 18 décembre 2019\n",
    "<li> Est un langage de programmation \n",
    "<li> Il est similaire à Perl, Ruby, Scheme, Smalltalk et Tcl\n",
    "</div>"
   ]
  },
  {
   "cell_type": "markdown",
   "metadata": {},
   "source": [
    "<div class=\"alert alert-success\">\n",
    "<ul> <b>Avantages Python par rapport à C++</b>\n",
    "<li> Langage très simple\n",
    "<li> Installé presque partout\n",
    "    <li> N'a pas besoin d'un compilateur, donc pas besoin d'attendre longtemps avec des projets de 10.000 lignes\n",
    "    <li> Est là depuis longtemps, donc beacoup de soutien sur le web, grande communauté\n",
    "    <li> Lisibilité des codes\n",
    "    <li> Fait gagner du temps\n",
    "    <li> Il est hackable (absence de mécanisme de sécurité)\n",
    "    <li> Excellent testeur d'algorithme\n",
    "    <li> Un programme python qui fait 50 lignes peut représenter un code C++ ayant plusieurs centaine/milliers de lignes</ul>\n",
    "    <p>\n",
    "    <ul> <b>Désavantages Python Par rapport à C++</b>\n",
    "    <li> Jusqu'à 800 fois plus lent que C++ (https://benchmarksgame-team.pages.debian.net/benchmarksgame/fastest/gpp-python3.html)(vous pouvez passer plus tard de Python à julia, qui est plus rapide que C ++)(https://discourse.julialang.org/t/comparing-python-julia-and-c/17019)\n",
    "    <li> C++ est mieux pour inclure des assemblages pour code encore plus rapide\n",
    "    <li> C++ est mieux pour le développement sur micro-processeur\n",
    "    <li> C++ est mieux pour développement de GUI\n",
    "    <li> C++ est mieux pour le développement pour Windows</ul>\n",
    "</div>"
   ]
  },
  {
   "cell_type": "code",
   "execution_count": null,
   "metadata": {},
   "outputs": [],
   "source": [
    "# python\n",
    "print(\"Bonjour!\")\n",
    "\n",
    "\n",
    "# C++\n",
    "using namespace std;\n",
    "int main() \n",
    "{\n",
    "    cout << \"Bonjour!\";\n",
    "    return 0;\n",
    "}"
   ]
  },
  {
   "cell_type": "markdown",
   "metadata": {},
   "source": [
    "<div class=\"alert alert-danger\">\n",
    "<b>les commandes et codes à apprendre par cœur </b></div>"
   ]
  },
  {
   "cell_type": "raw",
   "metadata": {},
   "source": [
    "PYTHON:\n",
    "    import \n",
    "    import ... as ...\n",
    "    from ... import ... as ...\n",
    "    from ... import #appuyer TAB\n",
    "    help()\n",
    "    input()\n",
    "    \n",
    "OS:\n",
    "    import os\n",
    "    os.getcwd()\n",
    "    os.chdir()\n",
    "    os.path.abspath()\n",
    "\n",
    "PANDAS:\n",
    "    read_csv, read_excel, read_table, read_json,\n",
    "    df.to_csv, to_excel, to_json, to_pickle\n",
    "    df.columns\n",
    "    df.index\n",
    "    df.COLUMN_NAME\n",
    "    df[\"COLUMN_NAME\"]\n",
    "    df['COLUMN_NAME']"
   ]
  },
  {
   "cell_type": "markdown",
   "metadata": {},
   "source": [
    "<div class=\"alert alert-success\">\n",
    "<h3>Les projets</h3>\n",
    "    <ul>\n",
    "<li> Human Activity Recognition Data (for cognitive behavioral projects)\n",
    "<li> https://archive.ics.uci.edu/ml/datasets/human+activity+recognition+using+smartphones\n",
    "<li> https://openneuro.org/ (MRI, PET, MEG, EEG, iEEG data)\n",
    "<li> https://healthdata.gov/search/type/dataset\n",
    "<li> https://github.com/awesomedata/awesome-public-datasets\n",
    "<li> https://medium.com/datadriveninvestor/the-50-best-public-datasets-for-machine-lerning-d80e9f030279\n",
    "<li> https://aws.amazon.com/opendata/public-datasets\n",
    "<li> https://registry.opendata.aws/\n",
    "<li> Time Series Analysis Data (for fMRI, EEG projects)\n",
    "<li> Turkiye Student Evaluation Data (for cognitive assessment projects)\n",
    "<li> Siam Competition Data (for inter-group evaluations)\n",
    "<li> Million Song Data (for audio-data based projects)\n",
    "<li> Census Income Data (for big-data based projects)\n",
    "<li> Movie Lens Data (for video-data based projects)\n",
    "<li> Twitter Classification Data (for text-data based projects)\n",
    "<li> Google 25 million datasets: https://datasetsearch.research.google.com/\n",
    "<li> Publica Datasets: https://github.com/awesomedata/awesome-public-datasets\n",
    "    </ul>\n",
    "</div>"
   ]
  },
  {
   "cell_type": "markdown",
   "metadata": {},
   "source": [
    "<div class=\"alert alert-danger\">\n",
    "<h3>Exercises</h3>\n",
    "</div> "
   ]
  },
  {
   "cell_type": "markdown",
   "metadata": {},
   "source": [
    "<div class=\"alert alert-success\">\n",
    "<ul> <b>veuillez écrire les réponses à ces questions:</b>\n",
    "\n",
    "<li> Comment importer un fichier excel dans pandas ?\n",
    "<li> Quels types de fichiers peuvent être importés dans pandas ?\n",
    "<li> Comment sauvegarder les fichiers des pandas ?\n",
    "\n",
    "<li> Que signifie réellement la méthode d'importation ?\n",
    "<li> Quelles sont les méthodes d'importations ?\n",
    "<li> Comment obtenir une variable avec un input de l'utilisateur ?\n",
    "<li> Comment définir plusieurs variables en même temps ?</ul>\n",
    "</div>"
   ]
  },
  {
   "cell_type": "markdown",
   "metadata": {},
   "source": [
    "<div class=\"alert alert-success\">\n",
    "<ul>\n",
    "<li> Affectez les variable temps et distance par les valeurs 6.89 et 19.7\n",
    "<li> Définir un nom et un âge en utilisant l’instruction input(). Affichez les variables.</ul></div>"
   ]
  }
 ],
 "metadata": {
  "anaconda-cloud": {},
  "celltoolbar": "Slideshow",
  "kernelspec": {
   "display_name": "Python 3 (ipykernel)",
   "language": "python",
   "name": "python3"
  },
  "language_info": {
   "codemirror_mode": {
    "name": "ipython",
    "version": 3
   },
   "file_extension": ".py",
   "mimetype": "text/x-python",
   "name": "python",
   "nbconvert_exporter": "python",
   "pygments_lexer": "ipython3",
   "version": "3.10.1"
  }
 },
 "nbformat": 4,
 "nbformat_minor": 2
}
