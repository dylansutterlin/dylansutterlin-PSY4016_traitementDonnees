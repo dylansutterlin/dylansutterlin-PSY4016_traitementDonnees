{
 "cells": [
  {
   "cell_type": "markdown",
   "metadata": {
    "slideshow": {
     "slide_type": "slide"
    }
   },
   "source": [
    "<div class=\"alert alert-info\">\n",
    "\n",
    "# PSY 4016 / 6973\n",
    "# Cueillette et traitement des données en neurosciences cognitives\n",
    "## Chapitre 6: Stats. Scikit-Learn\n",
    "<p>\n",
    "<li>Évaluation statistique:<ul>\n",
    "    <li>Pandas\n",
    "    <li>SciPy\n",
    "    <li>Statsmodels\n",
    "    <li>Seaborn\n",
    "<li>Scikit-Learn: Pré-traitement</p>\n",
    "</div>"
   ]
  },
  {
   "cell_type": "markdown",
   "metadata": {
    "slideshow": {
     "slide_type": "slide"
    }
   },
   "source": [
    "<div class=\"alert alert-info\">\n",
    "<b><h2>Évaluation statistique</h2></b>"
   ]
  },
  {
   "cell_type": "code",
   "execution_count": 1,
   "metadata": {},
   "outputs": [],
   "source": [
    "import pandas\n",
    "cerveau_df = pandas.read_csv('https://scipy-lectures.org/_downloads/brain_size.csv', sep=';', na_values='.')"
   ]
  },
  {
   "cell_type": "code",
   "execution_count": 11,
   "metadata": {},
   "outputs": [
    {
     "data": {
      "text/html": [
       "<div>\n",
       "<style scoped>\n",
       "    .dataframe tbody tr th:only-of-type {\n",
       "        vertical-align: middle;\n",
       "    }\n",
       "\n",
       "    .dataframe tbody tr th {\n",
       "        vertical-align: top;\n",
       "    }\n",
       "\n",
       "    .dataframe thead th {\n",
       "        text-align: right;\n",
       "    }\n",
       "</style>\n",
       "<table border=\"1\" class=\"dataframe\">\n",
       "  <thead>\n",
       "    <tr style=\"text-align: right;\">\n",
       "      <th></th>\n",
       "      <th>Gender</th>\n",
       "      <th>FSIQ</th>\n",
       "      <th>VIQ</th>\n",
       "      <th>PIQ</th>\n",
       "      <th>Weight</th>\n",
       "      <th>Height</th>\n",
       "      <th>MRI_Count</th>\n",
       "    </tr>\n",
       "  </thead>\n",
       "  <tbody>\n",
       "    <tr>\n",
       "      <th>0</th>\n",
       "      <td>Female</td>\n",
       "      <td>133</td>\n",
       "      <td>132</td>\n",
       "      <td>124</td>\n",
       "      <td>118.0</td>\n",
       "      <td>64.5</td>\n",
       "      <td>816932</td>\n",
       "    </tr>\n",
       "    <tr>\n",
       "      <th>1</th>\n",
       "      <td>Male</td>\n",
       "      <td>140</td>\n",
       "      <td>150</td>\n",
       "      <td>124</td>\n",
       "      <td>NaN</td>\n",
       "      <td>72.5</td>\n",
       "      <td>1001121</td>\n",
       "    </tr>\n",
       "    <tr>\n",
       "      <th>2</th>\n",
       "      <td>Male</td>\n",
       "      <td>139</td>\n",
       "      <td>123</td>\n",
       "      <td>150</td>\n",
       "      <td>143.0</td>\n",
       "      <td>73.3</td>\n",
       "      <td>1038437</td>\n",
       "    </tr>\n",
       "    <tr>\n",
       "      <th>3</th>\n",
       "      <td>Male</td>\n",
       "      <td>133</td>\n",
       "      <td>129</td>\n",
       "      <td>128</td>\n",
       "      <td>172.0</td>\n",
       "      <td>68.8</td>\n",
       "      <td>965353</td>\n",
       "    </tr>\n",
       "    <tr>\n",
       "      <th>4</th>\n",
       "      <td>Female</td>\n",
       "      <td>137</td>\n",
       "      <td>132</td>\n",
       "      <td>134</td>\n",
       "      <td>147.0</td>\n",
       "      <td>65.0</td>\n",
       "      <td>951545</td>\n",
       "    </tr>\n",
       "  </tbody>\n",
       "</table>\n",
       "</div>"
      ],
      "text/plain": [
       "   Gender  FSIQ  VIQ  PIQ  Weight  Height  MRI_Count\n",
       "0  Female   133  132  124   118.0    64.5     816932\n",
       "1    Male   140  150  124     NaN    72.5    1001121\n",
       "2    Male   139  123  150   143.0    73.3    1038437\n",
       "3    Male   133  129  128   172.0    68.8     965353\n",
       "4  Female   137  132  134   147.0    65.0     951545"
      ]
     },
     "execution_count": 11,
     "metadata": {},
     "output_type": "execute_result"
    }
   ],
   "source": [
    "cerveau_df.columns\n",
    "cerveau_df.head()"
   ]
  },
  {
   "cell_type": "code",
   "execution_count": 3,
   "metadata": {},
   "outputs": [],
   "source": [
    "groupby_genre = cerveau_df.groupby('Gender')"
   ]
  },
  {
   "cell_type": "code",
   "execution_count": 4,
   "metadata": {},
   "outputs": [
    {
     "data": {
      "text/html": [
       "<div>\n",
       "<style scoped>\n",
       "    .dataframe tbody tr th:only-of-type {\n",
       "        vertical-align: middle;\n",
       "    }\n",
       "\n",
       "    .dataframe tbody tr th {\n",
       "        vertical-align: top;\n",
       "    }\n",
       "\n",
       "    .dataframe thead th {\n",
       "        text-align: right;\n",
       "    }\n",
       "</style>\n",
       "<table border=\"1\" class=\"dataframe\">\n",
       "  <thead>\n",
       "    <tr style=\"text-align: right;\">\n",
       "      <th></th>\n",
       "      <th>Unnamed: 0</th>\n",
       "      <th>FSIQ</th>\n",
       "      <th>VIQ</th>\n",
       "      <th>PIQ</th>\n",
       "      <th>Weight</th>\n",
       "      <th>Height</th>\n",
       "      <th>MRI_Count</th>\n",
       "    </tr>\n",
       "    <tr>\n",
       "      <th>Gender</th>\n",
       "      <th></th>\n",
       "      <th></th>\n",
       "      <th></th>\n",
       "      <th></th>\n",
       "      <th></th>\n",
       "      <th></th>\n",
       "      <th></th>\n",
       "    </tr>\n",
       "  </thead>\n",
       "  <tbody>\n",
       "    <tr>\n",
       "      <th>Female</th>\n",
       "      <td>19.65</td>\n",
       "      <td>111.9</td>\n",
       "      <td>109.45</td>\n",
       "      <td>110.45</td>\n",
       "      <td>137.200000</td>\n",
       "      <td>65.765000</td>\n",
       "      <td>862654.6</td>\n",
       "    </tr>\n",
       "    <tr>\n",
       "      <th>Male</th>\n",
       "      <td>21.35</td>\n",
       "      <td>115.0</td>\n",
       "      <td>115.25</td>\n",
       "      <td>111.60</td>\n",
       "      <td>166.444444</td>\n",
       "      <td>71.431579</td>\n",
       "      <td>954855.4</td>\n",
       "    </tr>\n",
       "  </tbody>\n",
       "</table>\n",
       "</div>"
      ],
      "text/plain": [
       "        Unnamed: 0   FSIQ     VIQ     PIQ      Weight     Height  MRI_Count\n",
       "Gender                                                                     \n",
       "Female       19.65  111.9  109.45  110.45  137.200000  65.765000   862654.6\n",
       "Male         21.35  115.0  115.25  111.60  166.444444  71.431579   954855.4"
      ]
     },
     "execution_count": 4,
     "metadata": {},
     "output_type": "execute_result"
    }
   ],
   "source": [
    "# Prendre la moyenne:\n",
    "\n",
    "groupby_genre.mean()"
   ]
  },
  {
   "cell_type": "code",
   "execution_count": 13,
   "metadata": {},
   "outputs": [
    {
     "ename": "TypeError",
     "evalue": "cannot unpack non-iterable int object",
     "output_type": "error",
     "traceback": [
      "\u001b[1;31m---------------------------------------------------------------------------\u001b[0m",
      "\u001b[1;31mTypeError\u001b[0m                                 Traceback (most recent call last)",
      "\u001b[1;32m~\\AppData\\Local\\Temp/ipykernel_697216/2380330924.py\u001b[0m in \u001b[0;36m<module>\u001b[1;34m\u001b[0m\n\u001b[1;32m----> 1\u001b[1;33m \u001b[1;32mfor\u001b[0m \u001b[0mgenre\u001b[0m\u001b[1;33m,\u001b[0m \u001b[0mvaleur\u001b[0m \u001b[1;32min\u001b[0m \u001b[0mcerveau_df\u001b[0m\u001b[1;33m[\u001b[0m\u001b[1;34m'VIQ'\u001b[0m\u001b[1;33m]\u001b[0m\u001b[1;33m:\u001b[0m\u001b[1;33m\u001b[0m\u001b[1;33m\u001b[0m\u001b[0m\n\u001b[0m\u001b[0;32m      2\u001b[0m     \u001b[0mprint\u001b[0m\u001b[1;33m(\u001b[0m\u001b[0mgenre\u001b[0m\u001b[1;33m,\u001b[0m \u001b[0mvaleur\u001b[0m\u001b[1;33m.\u001b[0m\u001b[0mmean\u001b[0m\u001b[1;33m(\u001b[0m\u001b[1;33m)\u001b[0m\u001b[1;33m)\u001b[0m\u001b[1;33m\u001b[0m\u001b[1;33m\u001b[0m\u001b[0m\n",
      "\u001b[1;31mTypeError\u001b[0m: cannot unpack non-iterable int object"
     ]
    }
   ],
   "source": [
    "for genre, valeur in groupby_genre['VIQ']:\n",
    "    print(genre, valeur.mean())"
   ]
  },
  {
   "cell_type": "code",
   "execution_count": 6,
   "metadata": {},
   "outputs": [
    {
     "data": {
      "text/plain": [
       "113.45"
      ]
     },
     "execution_count": 6,
     "metadata": {},
     "output_type": "execute_result"
    }
   ],
   "source": [
    "cerveau_df['FSIQ'].mean()"
   ]
  },
  {
   "cell_type": "code",
   "execution_count": 15,
   "metadata": {},
   "outputs": [
    {
     "data": {
      "text/plain": [
       "array([[<AxesSubplot:xlabel='Weight', ylabel='Weight'>,\n",
       "        <AxesSubplot:xlabel='Height', ylabel='Weight'>,\n",
       "        <AxesSubplot:xlabel='MRI_Count', ylabel='Weight'>],\n",
       "       [<AxesSubplot:xlabel='Weight', ylabel='Height'>,\n",
       "        <AxesSubplot:xlabel='Height', ylabel='Height'>,\n",
       "        <AxesSubplot:xlabel='MRI_Count', ylabel='Height'>],\n",
       "       [<AxesSubplot:xlabel='Weight', ylabel='MRI_Count'>,\n",
       "        <AxesSubplot:xlabel='Height', ylabel='MRI_Count'>,\n",
       "        <AxesSubplot:xlabel='MRI_Count', ylabel='MRI_Count'>]],\n",
       "      dtype=object)"
      ]
     },
     "execution_count": 15,
     "metadata": {},
     "output_type": "execute_result"
    },
    {
     "data": {
      "image/png": "[encoded data removed]",
      "text/plain": [
       "<Figure size 432x288 with 9 Axes>"
      ]
     },
     "metadata": {
      "needs_background": "light"
     },
     "output_type": "display_data"
    }
   ],
   "source": [
    "pandas.plotting.scatter_matrix(cerveau_df[['Weight','Height','MRI_Count']])"
   ]
  },
  {
   "cell_type": "code",
   "execution_count": 16,
   "metadata": {},
   "outputs": [
    {
     "data": {
      "text/plain": [
       "array([[<AxesSubplot:xlabel='PIQ', ylabel='PIQ'>,\n",
       "        <AxesSubplot:xlabel='VIQ', ylabel='PIQ'>,\n",
       "        <AxesSubplot:xlabel='FSIQ', ylabel='PIQ'>],\n",
       "       [<AxesSubplot:xlabel='PIQ', ylabel='VIQ'>,\n",
       "        <AxesSubplot:xlabel='VIQ', ylabel='VIQ'>,\n",
       "        <AxesSubplot:xlabel='FSIQ', ylabel='VIQ'>],\n",
       "       [<AxesSubplot:xlabel='PIQ', ylabel='FSIQ'>,\n",
       "        <AxesSubplot:xlabel='VIQ', ylabel='FSIQ'>,\n",
       "        <AxesSubplot:xlabel='FSIQ', ylabel='FSIQ'>]], dtype=object)"
      ]
     },
     "execution_count": 16,
     "metadata": {},
     "output_type": "execute_result"
    },
    {
     "data": {
      "image/png": "[encoded data removed]",
      "text/plain": [
       "<Figure size 432x288 with 9 Axes>"
      ]
     },
     "metadata": {
      "needs_background": "light"
     },
     "output_type": "display_data"
    }
   ],
   "source": [
    "pandas.plotting.scatter_matrix(cerveau_df[['PIQ','VIQ','FSIQ']])"
   ]
  },
  {
   "cell_type": "code",
   "execution_count": 24,
   "metadata": {
    "scrolled": true
   },
   "outputs": [
    {
     "data": {
      "text/html": [
       "<div>\n",
       "<style scoped>\n",
       "    .dataframe tbody tr th:only-of-type {\n",
       "        vertical-align: middle;\n",
       "    }\n",
       "\n",
       "    .dataframe tbody tr th {\n",
       "        vertical-align: top;\n",
       "    }\n",
       "\n",
       "    .dataframe thead th {\n",
       "        text-align: right;\n",
       "    }\n",
       "</style>\n",
       "<table border=\"1\" class=\"dataframe\">\n",
       "  <thead>\n",
       "    <tr style=\"text-align: right;\">\n",
       "      <th></th>\n",
       "      <th>FSIQ</th>\n",
       "      <th>VIQ</th>\n",
       "      <th>PIQ</th>\n",
       "      <th>Weight</th>\n",
       "      <th>Height</th>\n",
       "      <th>MRI_Count</th>\n",
       "    </tr>\n",
       "  </thead>\n",
       "  <tbody>\n",
       "    <tr>\n",
       "      <th>count</th>\n",
       "      <td>40.000000</td>\n",
       "      <td>40.000000</td>\n",
       "      <td>40.00000</td>\n",
       "      <td>38.000000</td>\n",
       "      <td>39.000000</td>\n",
       "      <td>4.000000e+01</td>\n",
       "    </tr>\n",
       "    <tr>\n",
       "      <th>mean</th>\n",
       "      <td>113.450000</td>\n",
       "      <td>112.350000</td>\n",
       "      <td>111.02500</td>\n",
       "      <td>151.052632</td>\n",
       "      <td>68.525641</td>\n",
       "      <td>9.087550e+05</td>\n",
       "    </tr>\n",
       "    <tr>\n",
       "      <th>std</th>\n",
       "      <td>24.082071</td>\n",
       "      <td>23.616107</td>\n",
       "      <td>22.47105</td>\n",
       "      <td>23.478509</td>\n",
       "      <td>3.994649</td>\n",
       "      <td>7.228205e+04</td>\n",
       "    </tr>\n",
       "    <tr>\n",
       "      <th>min</th>\n",
       "      <td>77.000000</td>\n",
       "      <td>71.000000</td>\n",
       "      <td>72.00000</td>\n",
       "      <td>106.000000</td>\n",
       "      <td>62.000000</td>\n",
       "      <td>7.906190e+05</td>\n",
       "    </tr>\n",
       "    <tr>\n",
       "      <th>25%</th>\n",
       "      <td>89.750000</td>\n",
       "      <td>90.000000</td>\n",
       "      <td>88.25000</td>\n",
       "      <td>135.250000</td>\n",
       "      <td>66.000000</td>\n",
       "      <td>8.559185e+05</td>\n",
       "    </tr>\n",
       "    <tr>\n",
       "      <th>50%</th>\n",
       "      <td>116.500000</td>\n",
       "      <td>113.000000</td>\n",
       "      <td>115.00000</td>\n",
       "      <td>146.500000</td>\n",
       "      <td>68.000000</td>\n",
       "      <td>9.053990e+05</td>\n",
       "    </tr>\n",
       "    <tr>\n",
       "      <th>75%</th>\n",
       "      <td>135.500000</td>\n",
       "      <td>129.750000</td>\n",
       "      <td>128.00000</td>\n",
       "      <td>172.000000</td>\n",
       "      <td>70.500000</td>\n",
       "      <td>9.500780e+05</td>\n",
       "    </tr>\n",
       "    <tr>\n",
       "      <th>max</th>\n",
       "      <td>144.000000</td>\n",
       "      <td>150.000000</td>\n",
       "      <td>150.00000</td>\n",
       "      <td>192.000000</td>\n",
       "      <td>77.000000</td>\n",
       "      <td>1.079549e+06</td>\n",
       "    </tr>\n",
       "  </tbody>\n",
       "</table>\n",
       "</div>"
      ],
      "text/plain": [
       "             FSIQ         VIQ        PIQ      Weight     Height     MRI_Count\n",
       "count   40.000000   40.000000   40.00000   38.000000  39.000000  4.000000e+01\n",
       "mean   113.450000  112.350000  111.02500  151.052632  68.525641  9.087550e+05\n",
       "std     24.082071   23.616107   22.47105   23.478509   3.994649  7.228205e+04\n",
       "min     77.000000   71.000000   72.00000  106.000000  62.000000  7.906190e+05\n",
       "25%     89.750000   90.000000   88.25000  135.250000  66.000000  8.559185e+05\n",
       "50%    116.500000  113.000000  115.00000  146.500000  68.000000  9.053990e+05\n",
       "75%    135.500000  129.750000  128.00000  172.000000  70.500000  9.500780e+05\n",
       "max    144.000000  150.000000  150.00000  192.000000  77.000000  1.079549e+06"
      ]
     },
     "execution_count": 24,
     "metadata": {},
     "output_type": "execute_result"
    }
   ],
   "source": [
    "cerveau_df.describe()"
   ]
  },
  {
   "cell_type": "code",
   "execution_count": 10,
   "metadata": {},
   "outputs": [
    {
     "data": {
      "text/plain": [
       "0      1\n",
       "1      2\n",
       "2      3\n",
       "3      4\n",
       "4      5\n",
       "5      6\n",
       "6      7\n",
       "7      8\n",
       "8      9\n",
       "9     10\n",
       "10    11\n",
       "11    12\n",
       "12    13\n",
       "13    14\n",
       "14    15\n",
       "15    16\n",
       "16    17\n",
       "17    18\n",
       "18    19\n",
       "19    20\n",
       "20    21\n",
       "21    22\n",
       "22    23\n",
       "23    24\n",
       "24    25\n",
       "25    26\n",
       "26    27\n",
       "27    28\n",
       "28    29\n",
       "29    30\n",
       "30    31\n",
       "31    32\n",
       "32    33\n",
       "33    34\n",
       "34    35\n",
       "35    36\n",
       "36    37\n",
       "37    38\n",
       "38    39\n",
       "39    40\n",
       "Name: Unnamed: 0, dtype: int64"
      ]
     },
     "execution_count": 10,
     "metadata": {},
     "output_type": "execute_result"
    }
   ],
   "source": [
    "cerveau_df.pop('Unnamed: 0')"
   ]
  },
  {
   "cell_type": "markdown",
   "metadata": {},
   "source": [
    "<div class=\"alert alert-success\">\n",
    "    nous pouvons voir que les métriques de QI sont bimodales, comme il y a deux populations.</div>"
   ]
  },
  {
   "cell_type": "markdown",
   "metadata": {},
   "source": [
    "<div class=\"alert alert-warning\">\n",
    "<h3> SciPy </h3></div>"
   ]
  },
  {
   "cell_type": "markdown",
   "metadata": {},
   "source": [
    "<div class=\"alert alert-success\">\n",
    "<li> auteur original: <b>Travis Oliphant, Pearu Peterson, Eric Jones</b>\n",
    "<li> Première version: <b>2001</b>\n",
    "<li> dernière version: <b>1.6.1, 17 février 2021</b>\n",
    "<li>https://github.com/scipy/scipy</div>"
   ]
  },
  {
   "cell_type": "code",
   "execution_count": 10,
   "metadata": {},
   "outputs": [
    {
     "data": {
      "text/plain": [
       "'1.7.3'"
      ]
     },
     "execution_count": 10,
     "metadata": {},
     "output_type": "execute_result"
    }
   ],
   "source": [
    "import scipy\n",
    "scipy.__version__\n",
    "\n",
    "# dans le terminal:\n",
    " #pip3 install scipy\n",
    "# pip3 install scipy --upgrade"
   ]
  },
  {
   "cell_type": "code",
   "execution_count": 11,
   "metadata": {},
   "outputs": [],
   "source": [
    "from scipy import stats"
   ]
  },
  {
   "cell_type": "markdown",
   "metadata": {},
   "source": [
    "<div class=\"alert alert-success\">\n",
    "    <h4>Test-T, 1 échantillon</h4>\n",
    "<li> scipy.stats.ttest_1samp()\n",
    "<li> tester la valeur d'une moyenne de population\n",
    "<li> pour tester si la moyenne de population des données est susceptible \n",
    "d'être égale à une valeur donnée\n",
    "<li> (techniquement si les observations sont tirées d'une distribution gaussienne\n",
    "d'une moyenne de population donnée)\n",
    "<li>Renvoie:<ol>\n",
    "    <li>la statistique T \n",
    "    <li>la valeur de p</ol></div>"
   ]
  },
  {
   "cell_type": "code",
   "execution_count": 14,
   "metadata": {},
   "outputs": [
    {
     "data": {
      "text/plain": [
       "Ttest_1sampResult(statistic=30.088099970849328, pvalue=1.3289196468728067e-28)"
      ]
     },
     "execution_count": 14,
     "metadata": {},
     "output_type": "execute_result"
    }
   ],
   "source": [
    "\n",
    "stats.ttest_1samp(cerveau_df['VIQ'], 0)"
   ]
  },
  {
   "cell_type": "code",
   "execution_count": 20,
   "metadata": {},
   "outputs": [
    {
     "name": "stdout",
     "output_type": "stream",
     "text": [
      "30.088099970849328\n"
     ]
    }
   ],
   "source": [
    "res = stats.ttest_1samp(cerveau_df['VIQ'], 0)\n",
    "print(res.statistic)"
   ]
  },
  {
   "cell_type": "code",
   "execution_count": 21,
   "metadata": {},
   "outputs": [
    {
     "name": "stdout",
     "output_type": "stream",
     "text": [
      "1.3289196468728067e-28\n"
     ]
    }
   ],
   "source": [
    "print(res.pvalue)"
   ]
  },
  {
   "cell_type": "markdown",
   "metadata": {},
   "source": [
    "<div class=\"alert alert-info\">\n",
    "Avec une valeur de p de 10 ^ -28, nous pouvons affirmer que la moyenne de la population pour l'IQ (mesure VIQ) n'est pas 0</div>"
   ]
  },
  {
   "cell_type": "markdown",
   "metadata": {},
   "source": [
    "<div class=\"alert alert-success\">\n",
    "    <h4>Test-T, 2 échantillon</h4>\n",
    "<li> scipy.stats.ttest_ind()\n",
    "<li> tester la différence entre les populations\n",
    "<li> ttest_1samp a montré que le VIQ moyen dans les populations femmes et hommes était différent\n",
    "<li> ttest_ind va montrer si cela est significatif\n",
    "<li>Renvoie:<ol>\n",
    "    <li>la statistique T \n",
    "    <li>la valeur de p</ol></div>"
   ]
  },
  {
   "cell_type": "code",
   "execution_count": 1,
   "metadata": {},
   "outputs": [
    {
     "ename": "NameError",
     "evalue": "name 'cerveau_df' is not defined",
     "output_type": "error",
     "traceback": [
      "\u001b[1;31m---------------------------------------------------------------------------\u001b[0m",
      "\u001b[1;31mNameError\u001b[0m                                 Traceback (most recent call last)",
      "\u001b[1;32m~\\AppData\\Local\\Temp/ipykernel_10344/389622215.py\u001b[0m in \u001b[0;36m<module>\u001b[1;34m\u001b[0m\n\u001b[1;32m----> 1\u001b[1;33m \u001b[0mfemme_viq\u001b[0m \u001b[1;33m=\u001b[0m \u001b[0mcerveau_df\u001b[0m\u001b[1;33m[\u001b[0m\u001b[0mcerveau_df\u001b[0m\u001b[1;33m[\u001b[0m\u001b[1;34m'Gender'\u001b[0m\u001b[1;33m]\u001b[0m \u001b[1;33m==\u001b[0m \u001b[1;34m'Female'\u001b[0m\u001b[1;33m]\u001b[0m\u001b[1;33m[\u001b[0m\u001b[1;34m'VIQ'\u001b[0m\u001b[1;33m]\u001b[0m\u001b[1;33m\u001b[0m\u001b[1;33m\u001b[0m\u001b[0m\n\u001b[0m\u001b[0;32m      2\u001b[0m \u001b[0mhomme_viq\u001b[0m \u001b[1;33m=\u001b[0m \u001b[0mcerveau_df\u001b[0m\u001b[1;33m[\u001b[0m\u001b[0mcerveau_df\u001b[0m\u001b[1;33m[\u001b[0m\u001b[1;34m'Gender'\u001b[0m\u001b[1;33m]\u001b[0m \u001b[1;33m==\u001b[0m \u001b[1;34m'Male'\u001b[0m\u001b[1;33m]\u001b[0m\u001b[1;33m[\u001b[0m\u001b[1;34m'VIQ'\u001b[0m\u001b[1;33m]\u001b[0m\u001b[1;33m\u001b[0m\u001b[1;33m\u001b[0m\u001b[0m\n",
      "\u001b[1;31mNameError\u001b[0m: name 'cerveau_df' is not defined"
     ]
    }
   ],
   "source": [
    "femme_viq = cerveau_df[cerveau_df['Gender'] == 'Female']['VIQ']\n",
    "homme_viq = cerveau_df[cerveau_df['Gender'] == 'Male']['VIQ']"
   ]
  },
  {
   "cell_type": "code",
   "execution_count": 24,
   "metadata": {},
   "outputs": [
    {
     "data": {
      "text/plain": [
       "0     132\n",
       "4     132\n",
       "5      90\n",
       "6     136\n",
       "7      90\n",
       "10    129\n",
       "13    120\n",
       "14    100\n",
       "15     71\n",
       "16    132\n",
       "18    112\n",
       "22    129\n",
       "24     86\n",
       "26     90\n",
       "28     83\n",
       "29    126\n",
       "30    126\n",
       "34     90\n",
       "35    129\n",
       "37     86\n",
       "Name: VIQ, dtype: int64"
      ]
     },
     "execution_count": 24,
     "metadata": {},
     "output_type": "execute_result"
    }
   ],
   "source": [
    "femme_viq\n"
   ]
  },
  {
   "cell_type": "code",
   "execution_count": 26,
   "metadata": {},
   "outputs": [
    {
     "data": {
      "text/plain": [
       "Ttest_indResult(statistic=-0.7726161723275011, pvalue=0.44452876778583217)"
      ]
     },
     "execution_count": 26,
     "metadata": {},
     "output_type": "execute_result"
    }
   ],
   "source": [
    "stats.ttest_ind(femme_viq, homme_viq)"
   ]
  },
  {
   "cell_type": "code",
   "execution_count": 27,
   "metadata": {},
   "outputs": [
    {
     "name": "stdout",
     "output_type": "stream",
     "text": [
      "-0.7726161723275011 0.44452876778583217\n"
     ]
    }
   ],
   "source": [
    "res = stats.ttest_ind(femme_viq, homme_viq)\n",
    "print(res.statistic, res.pvalue)"
   ]
  },
  {
   "cell_type": "markdown",
   "metadata": {},
   "source": [
    "<div class=\"alert alert-success\">\n",
    "    <h4>Tests appariés: mesures répétées sur les mêmes individus</h4>\n",
    "<li> scipy.stats.ttest_ind()\n",
    "<li> PIQ, VIQ et FSIQ donnent 3 mesures de QI\n",
    "<li> pour tester si FISQ et PIQ sont significativement différents, il faudrait faire un test à 2 échantillons:\n",
    "<li>Renvoie:<ol>\n",
    "    <li>la statistique T \n",
    "    <li>la valeur de p</ol></div>"
   ]
  },
  {
   "cell_type": "code",
   "execution_count": 28,
   "metadata": {},
   "outputs": [
    {
     "data": {
      "text/plain": [
       "Ttest_indResult(statistic=0.465637596380964, pvalue=0.6427725009414841)"
      ]
     },
     "execution_count": 28,
     "metadata": {},
     "output_type": "execute_result"
    }
   ],
   "source": [
    "stats.ttest_ind(cerveau_df['FSIQ'], cerveau_df['PIQ'])"
   ]
  },
  {
   "cell_type": "markdown",
   "metadata": {},
   "source": [
    "<div class=\"alert alert-success\">\n",
    "    <h4>Tests appariés: mesures répétées sur les mêmes individus</h4>\n",
    "<li> scipy.stats.ttest_rel()\n",
    "<ul><li>les observations: FSIQ et PIQ sont mesurés sur les mêmes individus\n",
    "    <li> c'est un problème, parce que il existe des liens entre les deux variables\n",
    "<li>la variance due à la variabilité inter-sujets est source de confusion\n",
    "<li> cette variance peut être supprimée à l'aide d'un «test apparié» </ul>\n",
    "<li>Renvoie:<ol>\n",
    "    <li>la statistique T \n",
    "    <li>la valeur de p</ol></div>"
   ]
  },
  {
   "cell_type": "code",
   "execution_count": 29,
   "metadata": {},
   "outputs": [
    {
     "data": {
      "text/plain": [
       "Ttest_relResult(statistic=1.7842019405859857, pvalue=0.08217263818364236)"
      ]
     },
     "execution_count": 29,
     "metadata": {},
     "output_type": "execute_result"
    }
   ],
   "source": [
    "stats.ttest_rel(cerveau_df['FSIQ'], cerveau_df['PIQ'])"
   ]
  },
  {
   "cell_type": "code",
   "execution_count": 30,
   "metadata": {},
   "outputs": [
    {
     "data": {
      "text/plain": [
       "Ttest_1sampResult(statistic=1.7842019405859857, pvalue=0.08217263818364236)"
      ]
     },
     "execution_count": 30,
     "metadata": {},
     "output_type": "execute_result"
    }
   ],
   "source": [
    "# mais dans cette exemple, cela équivaut à un test à 1 échantillon sur la différence\n",
    "\n",
    "stats.ttest_1samp(cerveau_df['FSIQ'] - cerveau_df['PIQ'], 0)"
   ]
  },
  {
   "cell_type": "markdown",
   "metadata": {},
   "source": [
    "<div class=\"alert alert-success\">\n",
    "    <h4>Test de rang signé</h4>\n",
    "<ul>\n",
    "    <li> apparié: scipy.stats.wilcoxon() <b>Wilcoxon</b>\n",
    "    <li> non-apparié: scipy.stats.mannwhitneyu() <b>Mann-Whitney</b></ul>\n",
    "\n",
    "<ul><li>Les tests T supposent des erreurs gaussiennes\n",
    "    <li>le test de rang signé de Wilcoxon, peut assouplir cette hypothèse</ul>\n",
    "<li>Renvoie:<ol>\n",
    "    <li>la statistique T \n",
    "    <li>la valeur de p</ol></div>"
   ]
  },
  {
   "cell_type": "code",
   "execution_count": 28,
   "metadata": {},
   "outputs": [],
   "source": [
    "stats.wilcoxon(cerveau_df['FSIQ'], cerveau_df['PIQ'])"
   ]
  },
  {
   "cell_type": "markdown",
   "metadata": {},
   "source": [
    "<div class=\"alert alert-info\">\n",
    "Comment pouvons-nous effectuer une analyse statistique plus complexe:\n",
    "<ul>\n",
    "<li>Modèles linéaires, facteurs multiples et analyse de variance?\n",
    "<li>Une régression linéaire simple?\n",
    "<li>Étant donné deux ensembles d'observations, x et y, comment tester l'hypothèse que y est une fonction linéaire de x?</ul></div>"
   ]
  },
  {
   "cell_type": "markdown",
   "metadata": {},
   "source": [
    "<div class=\"alert alert-warning\">\n",
    "<h3> statsmodels </h3></div>"
   ]
  },
  {
   "cell_type": "markdown",
   "metadata": {},
   "source": [
    "<div class=\"alert alert-success\">\n",
    "<li> auteur original: <b>Jonathan Taylor</b>\n",
    "<li> Première version: <b>2009</b>\n",
    "<li> dernière version: <b>0.12.2</b>, 2 février 2021\n",
    "<li> construit sur la base de NumPy, SciPy, Pandas, Matplotlib\n",
    "<li>https://www.statsmodels.org/stable/index.html</div>"
   ]
  },
  {
   "cell_type": "code",
   "execution_count": 32,
   "metadata": {},
   "outputs": [
    {
     "data": {
      "text/plain": [
       "'0.13.2'"
      ]
     },
     "execution_count": 32,
     "metadata": {},
     "output_type": "execute_result"
    }
   ],
   "source": [
    "import statsmodels\n",
    "statsmodels.__version__"
   ]
  },
  {
   "cell_type": "code",
   "execution_count": 33,
   "metadata": {},
   "outputs": [],
   "source": [
    "from statsmodels.formula.api import ols #Ordinary Least Squares\n",
    "\n",
    "# https://www.statsmodels.org/stable/generated/statsmodels.regression.linear_model.OLS.html\n",
    "    \n",
    "# ols(\"y ~ x\", pandas.DataFrame).fit()"
   ]
  },
  {
   "cell_type": "code",
   "execution_count": 34,
   "metadata": {},
   "outputs": [],
   "source": [
    "model = ols(\"FSIQ ~ PIQ\", cerveau_df).fit()"
   ]
  },
  {
   "cell_type": "code",
   "execution_count": 35,
   "metadata": {},
   "outputs": [
    {
     "name": "stdout",
     "output_type": "stream",
     "text": [
      "                            OLS Regression Results                            \n",
      "==============================================================================\n",
      "Dep. Variable:                   FSIQ   R-squared:                       0.873\n",
      "Model:                            OLS   Adj. R-squared:                  0.869\n",
      "Method:                 Least Squares   F-statistic:                     260.2\n",
      "Date:                Tue, 15 Feb 2022   Prob (F-statistic):           1.37e-18\n",
      "Time:                        09:30:40   Log-Likelihood:                -142.30\n",
      "No. Observations:                  40   AIC:                             288.6\n",
      "Df Residuals:                      38   BIC:                             292.0\n",
      "Df Model:                           1                                         \n",
      "Covariance Type:            nonrobust                                         \n",
      "==============================================================================\n",
      "                 coef    std err          t      P>|t|      [0.025      0.975]\n",
      "------------------------------------------------------------------------------\n",
      "Intercept      2.3034      7.026      0.328      0.745     -11.920      16.527\n",
      "PIQ            1.0011      0.062     16.132      0.000       0.875       1.127\n",
      "==============================================================================\n",
      "Omnibus:                        3.181   Durbin-Watson:                   2.856\n",
      "Prob(Omnibus):                  0.204   Jarque-Bera (JB):                1.801\n",
      "Skew:                          -0.246   Prob(JB):                        0.406\n",
      "Kurtosis:                       2.085   Cond. No.                         578.\n",
      "==============================================================================\n",
      "\n",
      "Notes:\n",
      "[1] Standard Errors assume that the covariance matrix of the errors is correctly specified.\n"
     ]
    }
   ],
   "source": [
    "print(model.summary())"
   ]
  },
  {
   "cell_type": "markdown",
   "metadata": {},
   "source": [
    "<div class=\"alert alert-success\">\n",
    "<li>Statsmodels utilise une terminologie statistique:\n",
    "<li>la variable y dans les modèles statistiques est appelée «endogène»: la valeur que vous essayez de prédire\n",
    "\n",
    "<li>la variable x est appelée exogène: représente les fonctionnalités que vous utilisez pour effectuer la prédiction\n",
    "\n",
    "<li>en détail ici: http://www.statsmodels.org/devel/endog_exog.html</div>"
   ]
  },
  {
   "cell_type": "code",
   "execution_count": 36,
   "metadata": {},
   "outputs": [
    {
     "data": {
      "text/plain": [
       "0     Female\n",
       "1       Male\n",
       "2       Male\n",
       "3       Male\n",
       "4     Female\n",
       "5     Female\n",
       "6     Female\n",
       "7     Female\n",
       "8       Male\n",
       "9       Male\n",
       "10    Female\n",
       "11      Male\n",
       "12      Male\n",
       "13    Female\n",
       "14    Female\n",
       "15    Female\n",
       "16    Female\n",
       "17      Male\n",
       "18    Female\n",
       "19      Male\n",
       "20      Male\n",
       "21      Male\n",
       "22    Female\n",
       "23      Male\n",
       "24    Female\n",
       "25      Male\n",
       "26    Female\n",
       "27      Male\n",
       "28    Female\n",
       "29    Female\n",
       "30    Female\n",
       "31      Male\n",
       "32      Male\n",
       "33      Male\n",
       "34    Female\n",
       "35    Female\n",
       "36      Male\n",
       "37    Female\n",
       "38      Male\n",
       "39      Male\n",
       "Name: Gender, dtype: object"
      ]
     },
     "execution_count": 36,
     "metadata": {},
     "output_type": "execute_result"
    }
   ],
   "source": [
    "cerveau_df.Gender"
   ]
  },
  {
   "cell_type": "code",
   "execution_count": 37,
   "metadata": {},
   "outputs": [
    {
     "name": "stdout",
     "output_type": "stream",
     "text": [
      "                            OLS Regression Results                            \n",
      "==============================================================================\n",
      "Dep. Variable:                    VIQ   R-squared:                       0.015\n",
      "Model:                            OLS   Adj. R-squared:                 -0.010\n",
      "Method:                 Least Squares   F-statistic:                    0.5969\n",
      "Date:                Tue, 15 Feb 2022   Prob (F-statistic):              0.445\n",
      "Time:                        09:31:25   Log-Likelihood:                -182.42\n",
      "No. Observations:                  40   AIC:                             368.8\n",
      "Df Residuals:                      38   BIC:                             372.2\n",
      "Df Model:                           1                                         \n",
      "Covariance Type:            nonrobust                                         \n",
      "==================================================================================\n",
      "                     coef    std err          t      P>|t|      [0.025      0.975]\n",
      "----------------------------------------------------------------------------------\n",
      "Intercept        109.4500      5.308     20.619      0.000      98.704     120.196\n",
      "Gender[T.Male]     5.8000      7.507      0.773      0.445      -9.397      20.997\n",
      "==============================================================================\n",
      "Omnibus:                       26.188   Durbin-Watson:                   1.709\n",
      "Prob(Omnibus):                  0.000   Jarque-Bera (JB):                3.703\n",
      "Skew:                           0.010   Prob(JB):                        0.157\n",
      "Kurtosis:                       1.510   Cond. No.                         2.62\n",
      "==============================================================================\n",
      "\n",
      "Notes:\n",
      "[1] Standard Errors assume that the covariance matrix of the errors is correctly specified.\n"
     ]
    }
   ],
   "source": [
    "\"\"\"Variables catégorielles: \n",
    "comparaison de groupes ou de plusieurs catégories\n",
    "\n",
    "Nous pouvons écrire une comparaison entre \n",
    "le QI des hommes et des femmes \n",
    "en utilisant un modèle linéaire:\n",
    "\"\"\"\n",
    "\n",
    "# Intercept: nous pouvons supprimer l'interception \n",
    "# en utilisant - 1 dans la formule,\n",
    "# ou forcer l'utilisation d'une interception en utilisant + 1.\n",
    "\n",
    "model = ols(\"VIQ ~ Gender + 1\", cerveau_df).fit()\n",
    "\n",
    "# le «genre» est automatiquement détecté comme une variable catégorielle,\n",
    "# et donc chacune de ses différentes valeurs est traitée\n",
    "# comme des entités différentes.\n",
    "\n",
    "print(model.summary())"
   ]
  },
  {
   "cell_type": "code",
   "execution_count": 38,
   "metadata": {},
   "outputs": [],
   "source": [
    "# Une colonne entière peut être forcée d'être traitée \n",
    "# comme catégorique en utilisant la lettre c devant\n",
    "\n",
    "model = ols(\"VIQ ~ C(Gender)\", cerveau_df).fit()"
   ]
  },
  {
   "cell_type": "markdown",
   "metadata": {},
   "source": [
    "<div class=\"alert alert-success\">\n",
    "<li>Par défaut, les modèles statistiques traitent une variable catégorielle avec K valeurs possibles comme K-1 variables booléennes «factices» (le dernier niveau étant absorbé dans le terme d'interception). <li>C'est presque toujours un bon choix par défaut - cependant, il est possible de spécifier différents encodages pour les variables catégorielles (http://statsmodels.sourceforge.net/devel/contrasts.html)</div>"
   ]
  },
  {
   "cell_type": "code",
   "execution_count": null,
   "metadata": {},
   "outputs": [],
   "source": [
    "\"\"\"Régression multiple: incluant plusieurs facteurs\n",
    "\"\"\""
   ]
  },
  {
   "cell_type": "code",
   "execution_count": 39,
   "metadata": {},
   "outputs": [],
   "source": [
    "iris = pandas.read_csv(\"https://scipy-lectures.org/_downloads/iris.csv\")"
   ]
  },
  {
   "cell_type": "code",
   "execution_count": 40,
   "metadata": {},
   "outputs": [
    {
     "data": {
      "text/plain": [
       "Index(['sepal_length', 'sepal_width', 'petal_length', 'petal_width', 'name'], dtype='object')"
      ]
     },
     "execution_count": 40,
     "metadata": {},
     "output_type": "execute_result"
    }
   ],
   "source": [
    "iris.columns"
   ]
  },
  {
   "cell_type": "code",
   "execution_count": 41,
   "metadata": {},
   "outputs": [
    {
     "data": {
      "text/plain": [
       "['setosa',\n",
       " 'setosa',\n",
       " 'setosa',\n",
       " 'setosa',\n",
       " 'setosa',\n",
       " 'setosa',\n",
       " 'setosa',\n",
       " 'setosa',\n",
       " 'setosa',\n",
       " 'setosa',\n",
       " 'setosa',\n",
       " 'setosa',\n",
       " 'setosa',\n",
       " 'setosa',\n",
       " 'setosa',\n",
       " 'setosa',\n",
       " 'setosa',\n",
       " 'setosa',\n",
       " 'setosa',\n",
       " 'setosa',\n",
       " 'setosa',\n",
       " 'setosa',\n",
       " 'setosa',\n",
       " 'setosa',\n",
       " 'setosa',\n",
       " 'setosa',\n",
       " 'setosa',\n",
       " 'setosa',\n",
       " 'setosa',\n",
       " 'setosa',\n",
       " 'setosa',\n",
       " 'setosa',\n",
       " 'setosa',\n",
       " 'setosa',\n",
       " 'setosa',\n",
       " 'setosa',\n",
       " 'setosa',\n",
       " 'setosa',\n",
       " 'setosa',\n",
       " 'setosa',\n",
       " 'setosa',\n",
       " 'setosa',\n",
       " 'setosa',\n",
       " 'setosa',\n",
       " 'setosa',\n",
       " 'setosa',\n",
       " 'setosa',\n",
       " 'setosa',\n",
       " 'setosa',\n",
       " 'setosa',\n",
       " 'versicolor',\n",
       " 'versicolor',\n",
       " 'versicolor',\n",
       " 'versicolor',\n",
       " 'versicolor',\n",
       " 'versicolor',\n",
       " 'versicolor',\n",
       " 'versicolor',\n",
       " 'versicolor',\n",
       " 'versicolor',\n",
       " 'versicolor',\n",
       " 'versicolor',\n",
       " 'versicolor',\n",
       " 'versicolor',\n",
       " 'versicolor',\n",
       " 'versicolor',\n",
       " 'versicolor',\n",
       " 'versicolor',\n",
       " 'versicolor',\n",
       " 'versicolor',\n",
       " 'versicolor',\n",
       " 'versicolor',\n",
       " 'versicolor',\n",
       " 'versicolor',\n",
       " 'versicolor',\n",
       " 'versicolor',\n",
       " 'versicolor',\n",
       " 'versicolor',\n",
       " 'versicolor',\n",
       " 'versicolor',\n",
       " 'versicolor',\n",
       " 'versicolor',\n",
       " 'versicolor',\n",
       " 'versicolor',\n",
       " 'versicolor',\n",
       " 'versicolor',\n",
       " 'versicolor',\n",
       " 'versicolor',\n",
       " 'versicolor',\n",
       " 'versicolor',\n",
       " 'versicolor',\n",
       " 'versicolor',\n",
       " 'versicolor',\n",
       " 'versicolor',\n",
       " 'versicolor',\n",
       " 'versicolor',\n",
       " 'versicolor',\n",
       " 'versicolor',\n",
       " 'versicolor',\n",
       " 'versicolor',\n",
       " 'virginica',\n",
       " 'virginica',\n",
       " 'virginica',\n",
       " 'virginica',\n",
       " 'virginica',\n",
       " 'virginica',\n",
       " 'virginica',\n",
       " 'virginica',\n",
       " 'virginica',\n",
       " 'virginica',\n",
       " 'virginica',\n",
       " 'virginica',\n",
       " 'virginica',\n",
       " 'virginica',\n",
       " 'virginica',\n",
       " 'virginica',\n",
       " 'virginica',\n",
       " 'virginica',\n",
       " 'virginica',\n",
       " 'virginica',\n",
       " 'virginica',\n",
       " 'virginica',\n",
       " 'virginica',\n",
       " 'virginica',\n",
       " 'virginica',\n",
       " 'virginica',\n",
       " 'virginica',\n",
       " 'virginica',\n",
       " 'virginica',\n",
       " 'virginica',\n",
       " 'virginica',\n",
       " 'virginica',\n",
       " 'virginica',\n",
       " 'virginica',\n",
       " 'virginica',\n",
       " 'virginica',\n",
       " 'virginica',\n",
       " 'virginica',\n",
       " 'virginica',\n",
       " 'virginica',\n",
       " 'virginica',\n",
       " 'virginica',\n",
       " 'virginica',\n",
       " 'virginica',\n",
       " 'virginica',\n",
       " 'virginica',\n",
       " 'virginica',\n",
       " 'virginica',\n",
       " 'virginica',\n",
       " 'virginica']"
      ]
     },
     "execution_count": 41,
     "metadata": {},
     "output_type": "execute_result"
    }
   ],
   "source": [
    "iris.name.tolist()"
   ]
  },
  {
   "cell_type": "code",
   "execution_count": null,
   "metadata": {},
   "outputs": [],
   "source": [
    "\"\"\"\n",
    "La taille des sépales et des pétales a tendance à être liée:\n",
    "les fleurs plus grosses ont des pétales plus grosses!\n",
    "Mais y a-t-il en plus un effet systématique des espèces?\"\"\""
   ]
  },
  {
   "cell_type": "code",
   "execution_count": 42,
   "metadata": {
    "scrolled": true
   },
   "outputs": [
    {
     "name": "stdout",
     "output_type": "stream",
     "text": [
      "                            OLS Regression Results                            \n",
      "==============================================================================\n",
      "Dep. Variable:            sepal_width   R-squared:                       0.478\n",
      "Model:                            OLS   Adj. R-squared:                  0.468\n",
      "Method:                 Least Squares   F-statistic:                     44.63\n",
      "Date:                Tue, 15 Feb 2022   Prob (F-statistic):           1.58e-20\n",
      "Time:                        09:36:35   Log-Likelihood:                -38.185\n",
      "No. Observations:                 150   AIC:                             84.37\n",
      "Df Residuals:                     146   BIC:                             96.41\n",
      "Df Model:                           3                                         \n",
      "Covariance Type:            nonrobust                                         \n",
      "======================================================================================\n",
      "                         coef    std err          t      P>|t|      [0.025      0.975]\n",
      "--------------------------------------------------------------------------------------\n",
      "Intercept              2.9813      0.099     29.989      0.000       2.785       3.178\n",
      "name[T.versicolor]    -1.4821      0.181     -8.190      0.000      -1.840      -1.124\n",
      "name[T.virginica]     -1.6635      0.256     -6.502      0.000      -2.169      -1.158\n",
      "petal_length           0.2983      0.061      4.920      0.000       0.178       0.418\n",
      "==============================================================================\n",
      "Omnibus:                        2.868   Durbin-Watson:                   1.753\n",
      "Prob(Omnibus):                  0.238   Jarque-Bera (JB):                2.885\n",
      "Skew:                          -0.082   Prob(JB):                        0.236\n",
      "Kurtosis:                       3.659   Cond. No.                         54.0\n",
      "==============================================================================\n",
      "\n",
      "Notes:\n",
      "[1] Standard Errors assume that the covariance matrix of the errors is correctly specified.\n"
     ]
    }
   ],
   "source": [
    "model = ols('sepal_width ~ name + petal_length', iris).fit()\n",
    "\n",
    "print(model.summary())"
   ]
  },
  {
   "cell_type": "markdown",
   "metadata": {},
   "source": [
    "<div class=\"alert alert-success\">\n",
    "<h4>Test d'hypothèse post-hoc: analyse de variance (ANOVA)</h4><p>\n",
    "\n",
    "<li>nous souhaitons tester:<ol>\n",
    "    <li>si la LONGueur des PÉTales est différente entre:<ul>\n",
    "        <li>le versicolor et\n",
    "        <li>le virginica</ul>\n",
    "    <li>après avoir supprimé l'effet de la LARGeur des SÉPales.</ol>\n",
    "\n",
    "<li>Cela peut être formulé comme:<ol>\n",
    "    <li>testant la différence entre le coefficient associé au:<ul>\n",
    "        <li>versicolor et au\n",
    "        <li>virginica</ul>\n",
    "    <li>dans le modèle linéaire estimé</ol>\n",
    "<li>il s'agit d'une analyse de variance, ANOVA</div>"
   ]
  },
  {
   "cell_type": "code",
   "execution_count": null,
   "metadata": {},
   "outputs": [],
   "source": [
    "model2 = ols('sepal_width ~ name + petal_length', iris).fit()"
   ]
  },
  {
   "cell_type": "code",
   "execution_count": 43,
   "metadata": {},
   "outputs": [
    {
     "data": {
      "text/plain": [
       "Intercept             2.981274\n",
       "name[T.versicolor]   -1.482075\n",
       "name[T.virginica]    -1.663492\n",
       "petal_length          0.298310\n",
       "dtype: float64"
      ]
     },
     "execution_count": 43,
     "metadata": {},
     "output_type": "execute_result"
    }
   ],
   "source": [
    "# https://www.statsmodels.org/stable/generated/statsmodels.regression.linear_model.OLSResults.f_test.html\n",
    "# model = ols('sepal_width ~ name + petal_length', iris).fit()\n",
    "\n",
    "model.params"
   ]
  },
  {
   "cell_type": "markdown",
   "metadata": {},
   "source": [
    "<div class=\"alert alert-success\">\n",
    "<li>Pour cela, nous écrivons un vecteur de «contraste» sur les paramètres estimés: nous voulons tester «T.versicolor - T.virginica», avec un test F:</div>"
   ]
  },
  {
   "cell_type": "raw",
   "metadata": {},
   "source": [
    "Intercept      T.versicolor      T.virginica    petal_length\n",
    "Objectif:                    >\n",
    "    0                1                -1              0\n",
    "   0.5              0.5              -0.5            -0.5"
   ]
  },
  {
   "cell_type": "code",
   "execution_count": 44,
   "metadata": {},
   "outputs": [
    {
     "name": "stdout",
     "output_type": "stream",
     "text": [
      "<F test: F=3.245335346574197, p=0.07369058781701113, df_denom=146, df_num=1>\n"
     ]
    }
   ],
   "source": [
    "##1 et -1 est le contraste entre les deux groupes\n",
    "print(model.f_test([0, 1, -1, 0]))"
   ]
  },
  {
   "cell_type": "code",
   "execution_count": 45,
   "metadata": {},
   "outputs": [
    {
     "data": {
      "text/plain": [
       "'Tester les interactions'"
      ]
     },
     "execution_count": 45,
     "metadata": {},
     "output_type": "execute_result"
    }
   ],
   "source": [
    "\"\"\"Tester les interactions\"\"\""
   ]
  },
  {
   "cell_type": "code",
   "execution_count": 46,
   "metadata": {},
   "outputs": [],
   "source": [
    "#import urllib\n",
    "import urllib.request\n",
    "\n",
    "urllib.request.urlretrieve('http://lib.stat.cmu.edu/datasets/CPS_85_Wages',\n",
    "                       'wages.txt')\n",
    "\n",
    "salaire = pandas.read_csv('wages.txt', skiprows=27, skipfooter=6, sep=None,\n",
    "                       header=None, names=['education', 'gender', 'wage'],\n",
    "                       usecols=[0, 2, 5], engine='python'\n",
    "                       )"
   ]
  },
  {
   "cell_type": "code",
   "execution_count": 47,
   "metadata": {},
   "outputs": [
    {
     "data": {
      "text/plain": [
       "Index(['education', 'gender', 'wage'], dtype='object')"
      ]
     },
     "execution_count": 47,
     "metadata": {},
     "output_type": "execute_result"
    }
   ],
   "source": [
    "salaire.columns"
   ]
  },
  {
   "cell_type": "code",
   "execution_count": 50,
   "metadata": {},
   "outputs": [
    {
     "data": {
      "text/plain": [
       "<seaborn.axisgrid.FacetGrid at 0x192c5d2bdf0>"
      ]
     },
     "execution_count": 50,
     "metadata": {},
     "output_type": "execute_result"
    },
    {
     "data": {
      "image/png": "[encoded data removed]",
      "text/plain": [
       "<Figure size 360x360 with 1 Axes>"
      ]
     },
     "metadata": {
      "needs_background": "light"
     },
     "output_type": "display_data"
    }
   ],
   "source": [
    "import seaborn as sns\n",
    "\n",
    "# sns.lmplot permet de tracer une régression univariée\n",
    "# voici une régression saisissant la relation entre une \n",
    "# variable et une autre, par exemple le salaire et l'éducation\n",
    "\n",
    "sns.lmplot(y='wage', x='education', data=salaire)"
   ]
  },
  {
   "cell_type": "code",
   "execution_count": 54,
   "metadata": {},
   "outputs": [
    {
     "data": {
      "text/plain": [
       "<seaborn.axisgrid.PairGrid at 0x192c9b1dba0>"
      ]
     },
     "execution_count": 54,
     "metadata": {},
     "output_type": "execute_result"
    },
    {
     "data": {
      "image/png": "[encoded data removed]",
      "text/plain": [
       "<Figure size 540x540 with 12 Axes>"
      ]
     },
     "metadata": {
      "needs_background": "light"
     },
     "output_type": "display_data"
    }
   ],
   "source": [
    "\"\"\" mais nous pouvons également regarder les interactions \n",
    "entre les variables continues en utilisant \n",
    "seaborn.pairplot ()\n",
    "pour afficher une matrice de dispersion:\"\"\"\n",
    "\n",
    "sns.pairplot(salaire, vars=['wage', 'gender', 'education'], kind='reg')"
   ]
  },
  {
   "cell_type": "code",
   "execution_count": 56,
   "metadata": {},
   "outputs": [
    {
     "data": {
      "text/plain": [
       "<seaborn.axisgrid.PairGrid at 0x192ca0bbbb0>"
      ]
     },
     "execution_count": 56,
     "metadata": {},
     "output_type": "execute_result"
    },
    {
     "data": {
      "image/png": "[encoded data removed]",
      "text/plain": [
       "<Figure size 403.5x360 with 6 Axes>"
      ]
     },
     "metadata": {
      "needs_background": "light"
     },
     "output_type": "display_data"
    }
   ],
   "source": [
    "# Les variables catégorielles peuvent être tracées comme teinte:\n",
    "\n",
    "sns.pairplot(salaire, vars=['wage', 'education'],\n",
    "                  kind='reg', hue='gender')"
   ]
  },
  {
   "cell_type": "code",
   "execution_count": 52,
   "metadata": {},
   "outputs": [
    {
     "data": {
      "text/plain": [
       "<seaborn.axisgrid.FacetGrid at 0x192c67733d0>"
      ]
     },
     "execution_count": 52,
     "metadata": {},
     "output_type": "execute_result"
    },
    {
     "data": {
      "image/png": "[encoded data removed]",
      "text/plain": [
       "<Figure size 403.5x360 with 1 Axes>"
      ]
     },
     "metadata": {
      "needs_background": "light"
     },
     "output_type": "display_data"
    }
   ],
   "source": [
    "sns.lmplot(y='wage', x='education', hue='gender', data=salaire)"
   ]
  },
  {
   "cell_type": "markdown",
   "metadata": {},
   "source": [
    "<div class=\"alert alert-success\">\n",
    "<li>Les salaires augmentent-ils davantage avec l'éducation des hommes que des femmes?\n",
    "\n",
    "<li>L'intrigue ci-dessus est composée de deux ajustements différents. Nous devons formuler un modèle unique qui teste la variance de la pente entre les deux populations. Cela se fait via une «interaction».</div>"
   ]
  },
  {
   "cell_type": "code",
   "execution_count": 57,
   "metadata": {
    "scrolled": true
   },
   "outputs": [
    {
     "name": "stdout",
     "output_type": "stream",
     "text": [
      "                            OLS Regression Results                            \n",
      "==============================================================================\n",
      "Dep. Variable:                   wage   R-squared:                       0.188\n",
      "Model:                            OLS   Adj. R-squared:                  0.185\n",
      "Method:                 Least Squares   F-statistic:                     61.62\n",
      "Date:                Tue, 15 Feb 2022   Prob (F-statistic):           8.63e-25\n",
      "Time:                        10:21:11   Log-Likelihood:                -1575.6\n",
      "No. Observations:                 534   AIC:                             3157.\n",
      "Df Residuals:                     531   BIC:                             3170.\n",
      "Df Model:                           2                                         \n",
      "Covariance Type:            nonrobust                                         \n",
      "==============================================================================\n",
      "                 coef    std err          t      P>|t|      [0.025      0.975]\n",
      "------------------------------------------------------------------------------\n",
      "Intercept      0.2178      1.036      0.210      0.834      -1.818       2.254\n",
      "education      0.7513      0.077      9.779      0.000       0.600       0.902\n",
      "gender        -2.1241      0.403     -5.273      0.000      -2.915      -1.333\n",
      "==============================================================================\n",
      "Omnibus:                      209.046   Durbin-Watson:                   1.848\n",
      "Prob(Omnibus):                  0.000   Jarque-Bera (JB):             1301.867\n",
      "Skew:                           1.590   Prob(JB):                    2.01e-283\n",
      "Kurtosis:                       9.957   Cond. No.                         69.1\n",
      "==============================================================================\n",
      "\n",
      "Notes:\n",
      "[1] Standard Errors assume that the covariance matrix of the errors is correctly specified.\n"
     ]
    }
   ],
   "source": [
    "print(ols('wage ~ education + gender',\n",
    "                data=salaire).fit().summary())"
   ]
  },
  {
   "cell_type": "markdown",
   "metadata": {},
   "source": [
    "<div class=\"alert alert-success\">\n",
    "les résultats ci-dessus soulignent qu'il y a une compensation différente des salaires par education et par genre</div>"
   ]
  },
  {
   "cell_type": "code",
   "execution_count": 56,
   "metadata": {},
   "outputs": [],
   "source": [
    "model_anova = ols(formula='wage ~ education + gender + education * gender',\n",
    "                data=salaire).fit()\n",
    "\n",
    "print(model_anova.summary())"
   ]
  },
  {
   "cell_type": "code",
   "execution_count": 57,
   "metadata": {},
   "outputs": [],
   "source": [
    "model_anova.pvalues.loc['education:gender']"
   ]
  },
  {
   "cell_type": "markdown",
   "metadata": {},
   "source": [
    "<div class=\"alert alert-success\">\n",
    "Pouvons-nous conclure que l'éducation profite plus aux hommes qu'aux femmes?\n",
    "\n",
    "<li>la valeur de p de l'interaction entre le sexe et l'éducation\n",
    "<li>education:gender\n",
    "<li>ne soutiennent pas l'hypothèse selon laquelle l'éducation profite davantage aux hommes qu'aux femmes (valeur de p> 0,05)\n",
    "</div>"
   ]
  },
  {
   "cell_type": "markdown",
   "metadata": {
    "slideshow": {
     "slide_type": "slide"
    }
   },
   "source": [
    "<div class=\"alert alert-info\">\n",
    "\n",
    "<b><h2>Scikit-Learn</h2></b>"
   ]
  },
  {
   "cell_type": "markdown",
   "metadata": {
    "slideshow": {
     "slide_type": "subslide"
    }
   },
   "source": [
    "<div class=\"alert alert-success\">\n",
    "<li> auteur original: <b>David Cournapeau</b>\n",
    "<li> Première version: <b>Juin 2007</b>\n",
    "<li> dernière version: <b>0.24.1</b>, janvier 2021\n",
    "<li> noyau: a été initialement développé comme une extension de SciPy\n",
    "<li> Leadership actuel (INRIA - Institut national de recherche en informatique et en automatique, Rocquencourt, France)\n",
    "    <ol>\n",
    "        <li><b>Fabian Pedregosa</b><li><b>Gael Varoquaux</b><li><b>Alexandre Gramfort</b><li><b>Vincent Michel</b> </ol></div>"
   ]
  },
  {
   "cell_type": "markdown",
   "metadata": {},
   "source": [
    "<div class=\"alert alert-success\">\n",
    "<h3>Prétraitement des données</h3>\n",
    "    <ul>\n",
    "        <li>les données nécessitent plusieurs étapes d'ajustements avant de pouvoir être analysées.\n",
    "        <li>ces étapes sont généralement appelées - prétraitement.\n",
    "        <li>certaines des étapes courantes de prétraitement sont:<ol>\n",
    "            <li>encodage d'étiquette\n",
    "            <li>normalisation des données (mise à l'échelle)\n",
    "            <li>imputation des valeurs manquantes</ol>\n",
    "        <li>pour cela nous pouvons utiliser le module: <b>sklearn.preprocessing</b> et <b>sklearn.impute</b></ul>\n",
    "</div>"
   ]
  },
  {
   "cell_type": "code",
   "execution_count": 58,
   "metadata": {},
   "outputs": [
    {
     "data": {
      "text/plain": [
       "'1.0.2'"
      ]
     },
     "execution_count": 58,
     "metadata": {},
     "output_type": "execute_result"
    }
   ],
   "source": [
    "# code écrit pour sklearn.__version__ == 0.24.1\n",
    "\n",
    "import sklearn\n",
    "sklearn.__version__"
   ]
  },
  {
   "cell_type": "markdown",
   "metadata": {},
   "source": [
    "<div class=\"alert alert-warning\">\n",
    "<h3> encodage/ binarisation d'étiquette </h3></div>"
   ]
  },
  {
   "cell_type": "code",
   "execution_count": 59,
   "metadata": {},
   "outputs": [],
   "source": [
    "import seaborn as sns\n",
    "iris = sns.load_dataset('iris')"
   ]
  },
  {
   "cell_type": "code",
   "execution_count": 60,
   "metadata": {},
   "outputs": [
    {
     "data": {
      "text/html": [
       "<div>\n",
       "<style scoped>\n",
       "    .dataframe tbody tr th:only-of-type {\n",
       "        vertical-align: middle;\n",
       "    }\n",
       "\n",
       "    .dataframe tbody tr th {\n",
       "        vertical-align: top;\n",
       "    }\n",
       "\n",
       "    .dataframe thead th {\n",
       "        text-align: right;\n",
       "    }\n",
       "</style>\n",
       "<table border=\"1\" class=\"dataframe\">\n",
       "  <thead>\n",
       "    <tr style=\"text-align: right;\">\n",
       "      <th></th>\n",
       "      <th>sepal_length</th>\n",
       "      <th>sepal_width</th>\n",
       "      <th>petal_length</th>\n",
       "      <th>petal_width</th>\n",
       "      <th>species</th>\n",
       "    </tr>\n",
       "  </thead>\n",
       "  <tbody>\n",
       "    <tr>\n",
       "      <th>0</th>\n",
       "      <td>5.1</td>\n",
       "      <td>3.5</td>\n",
       "      <td>1.4</td>\n",
       "      <td>0.2</td>\n",
       "      <td>setosa</td>\n",
       "    </tr>\n",
       "    <tr>\n",
       "      <th>1</th>\n",
       "      <td>4.9</td>\n",
       "      <td>3.0</td>\n",
       "      <td>1.4</td>\n",
       "      <td>0.2</td>\n",
       "      <td>setosa</td>\n",
       "    </tr>\n",
       "    <tr>\n",
       "      <th>2</th>\n",
       "      <td>4.7</td>\n",
       "      <td>3.2</td>\n",
       "      <td>1.3</td>\n",
       "      <td>0.2</td>\n",
       "      <td>setosa</td>\n",
       "    </tr>\n",
       "    <tr>\n",
       "      <th>3</th>\n",
       "      <td>4.6</td>\n",
       "      <td>3.1</td>\n",
       "      <td>1.5</td>\n",
       "      <td>0.2</td>\n",
       "      <td>setosa</td>\n",
       "    </tr>\n",
       "    <tr>\n",
       "      <th>4</th>\n",
       "      <td>5.0</td>\n",
       "      <td>3.6</td>\n",
       "      <td>1.4</td>\n",
       "      <td>0.2</td>\n",
       "      <td>setosa</td>\n",
       "    </tr>\n",
       "  </tbody>\n",
       "</table>\n",
       "</div>"
      ],
      "text/plain": [
       "   sepal_length  sepal_width  petal_length  petal_width species\n",
       "0           5.1          3.5           1.4          0.2  setosa\n",
       "1           4.9          3.0           1.4          0.2  setosa\n",
       "2           4.7          3.2           1.3          0.2  setosa\n",
       "3           4.6          3.1           1.5          0.2  setosa\n",
       "4           5.0          3.6           1.4          0.2  setosa"
      ]
     },
     "execution_count": 60,
     "metadata": {},
     "output_type": "execute_result"
    }
   ],
   "source": [
    "iris.head()"
   ]
  },
  {
   "cell_type": "code",
   "execution_count": 61,
   "metadata": {},
   "outputs": [
    {
     "data": {
      "text/plain": [
       "0         setosa\n",
       "1         setosa\n",
       "2         setosa\n",
       "3         setosa\n",
       "4         setosa\n",
       "         ...    \n",
       "145    virginica\n",
       "146    virginica\n",
       "147    virginica\n",
       "148    virginica\n",
       "149    virginica\n",
       "Name: species, Length: 150, dtype: object"
      ]
     },
     "execution_count": 61,
     "metadata": {},
     "output_type": "execute_result"
    }
   ],
   "source": [
    "iris.species"
   ]
  },
  {
   "cell_type": "code",
   "execution_count": 62,
   "metadata": {},
   "outputs": [],
   "source": [
    "from sklearn import preprocessing"
   ]
  },
  {
   "cell_type": "markdown",
   "metadata": {},
   "source": [
    "<div class=\"alert alert-success\">\n",
    "    <h5>sklearn.preprocessing.LabelEncoder()</h5>\n",
    "<li>permet d'encodez les étiquettes cibles avec une valeur comprise entre 0 et n_classes-1\n",
    "<li>https://scikit-learn.org/stable/modules/generated/sklearn.preprocessing.LabelEncoder.html</div>"
   ]
  },
  {
   "cell_type": "code",
   "execution_count": 63,
   "metadata": {},
   "outputs": [],
   "source": [
    "# LabelEncoder est une classe,\n",
    "# pour l'utiliser, il est plus facile de l'instancier.\n",
    "\n",
    "le = preprocessing.LabelEncoder()"
   ]
  },
  {
   "cell_type": "code",
   "execution_count": 64,
   "metadata": {},
   "outputs": [
    {
     "data": {
      "text/plain": [
       "LabelEncoder()"
      ]
     },
     "execution_count": 64,
     "metadata": {},
     "output_type": "execute_result"
    }
   ],
   "source": [
    "# Initialement, les données doivent être adaptées au codeur d'étiquettes.\n",
    "\n",
    "le.fit(iris.species)"
   ]
  },
  {
   "cell_type": "code",
   "execution_count": 65,
   "metadata": {},
   "outputs": [
    {
     "data": {
      "text/plain": [
       "array([0, 0, 0, 0, 0, 0, 0, 0, 0, 0, 0, 0, 0, 0, 0, 0, 0, 0, 0, 0, 0, 0,\n",
       "       0, 0, 0, 0, 0, 0, 0, 0, 0, 0, 0, 0, 0, 0, 0, 0, 0, 0, 0, 0, 0, 0,\n",
       "       0, 0, 0, 0, 0, 0, 1, 1, 1, 1, 1, 1, 1, 1, 1, 1, 1, 1, 1, 1, 1, 1,\n",
       "       1, 1, 1, 1, 1, 1, 1, 1, 1, 1, 1, 1, 1, 1, 1, 1, 1, 1, 1, 1, 1, 1,\n",
       "       1, 1, 1, 1, 1, 1, 1, 1, 1, 1, 1, 1, 2, 2, 2, 2, 2, 2, 2, 2, 2, 2,\n",
       "       2, 2, 2, 2, 2, 2, 2, 2, 2, 2, 2, 2, 2, 2, 2, 2, 2, 2, 2, 2, 2, 2,\n",
       "       2, 2, 2, 2, 2, 2, 2, 2, 2, 2, 2, 2, 2, 2, 2, 2, 2, 2])"
      ]
     },
     "execution_count": 65,
     "metadata": {},
     "output_type": "execute_result"
    }
   ],
   "source": [
    "# après cela, les étiquettes peuvent être transformées en codage normalisé.\n",
    "\n",
    "le.transform(iris.species)"
   ]
  },
  {
   "cell_type": "code",
   "execution_count": 66,
   "metadata": {},
   "outputs": [
    {
     "data": {
      "text/plain": [
       "array([0, 0, 0, 0, 0, 0, 0, 0, 0, 0, 0, 0, 0, 0, 0, 0, 0, 0, 0, 0, 0, 0,\n",
       "       0, 0, 0, 0, 0, 0, 0, 0, 0, 0, 0, 0, 0, 0, 0, 0, 0, 0, 0, 0, 0, 0,\n",
       "       0, 0, 0, 0, 0, 0, 1, 1, 1, 1, 1, 1, 1, 1, 1, 1, 1, 1, 1, 1, 1, 1,\n",
       "       1, 1, 1, 1, 1, 1, 1, 1, 1, 1, 1, 1, 1, 1, 1, 1, 1, 1, 1, 1, 1, 1,\n",
       "       1, 1, 1, 1, 1, 1, 1, 1, 1, 1, 1, 1, 2, 2, 2, 2, 2, 2, 2, 2, 2, 2,\n",
       "       2, 2, 2, 2, 2, 2, 2, 2, 2, 2, 2, 2, 2, 2, 2, 2, 2, 2, 2, 2, 2, 2,\n",
       "       2, 2, 2, 2, 2, 2, 2, 2, 2, 2, 2, 2, 2, 2, 2, 2, 2, 2])"
      ]
     },
     "execution_count": 66,
     "metadata": {},
     "output_type": "execute_result"
    }
   ],
   "source": [
    "# Alternativement, les étiquettes peuvent être ajustées à l'encodeur et transformées avec une seule commande. \n",
    "\n",
    "le.fit_transform(iris.species)"
   ]
  },
  {
   "cell_type": "markdown",
   "metadata": {},
   "source": [
    "<div class=\"alert alert-warning\">\n",
    "<h3> normalisation des données </h3></div>"
   ]
  },
  {
   "cell_type": "markdown",
   "metadata": {},
   "source": [
    "<div class=\"alert alert-success\">\n",
    "<h4>Importance de la mise à l'échelle des fonctionnalités </h4>\n",
    "<li> Normalisation = redimensionnement des entités de sorte qu'elles aient les propriétés d'une <b>distribution normale standard</b> avec une <b>moyenne de zéro et un écart type de un</b>\n",
    "\n",
    "<li> La mise à l'échelle des fonctionnalités (normalisation du score Z) peut être importante ou même requise pour de nombreux algorithmes AA (tels que PCA, SVM, KNN et régression logistique)\n",
    "<li>la normalisation permet la suppression des valeurs aberrantes.\n",
    "</div>"
   ]
  },
  {
   "cell_type": "markdown",
   "metadata": {},
   "source": [
    "<div class=\"alert alert-success\">\n",
    "<h4>Exemples d'algorithmes de transformation linéaire gaussienne</h4>\n",
    "    <li>sklearn.preprocessing.StandardScaler()\n",
    "    <li>sklearn.preprocessing.RobustScaler()\n",
    "    <li>pour plus d'informations sur la normalisation et la comparaison des échelles:\n",
    "    <li> https://scikit-learn.org/stable/auto_examples/preprocessing/plot_all_scaling.html#sphx-glr-auto-examples-preprocessing-plot-all-scaling-py\n",
    "</div>"
   ]
  },
  {
   "cell_type": "code",
   "execution_count": 76,
   "metadata": {},
   "outputs": [],
   "source": [
    "scaler = sklearn.preprocessing.StandardScaler()"
   ]
  },
  {
   "cell_type": "code",
   "execution_count": 68,
   "metadata": {},
   "outputs": [
    {
     "data": {
      "text/plain": [
       "Index(['sepal_length', 'sepal_width', 'petal_length', 'petal_width',\n",
       "       'species'],\n",
       "      dtype='object')"
      ]
     },
     "execution_count": 68,
     "metadata": {},
     "output_type": "execute_result"
    }
   ],
   "source": [
    "iris.columns"
   ]
  },
  {
   "cell_type": "code",
   "execution_count": 69,
   "metadata": {},
   "outputs": [],
   "source": [
    "X_data = iris[[\"sepal_length\", \"sepal_width\", \"petal_length\", \"petal_width\"]]\n",
    "scaled = scaler.fit(X_data)"
   ]
  },
  {
   "cell_type": "code",
   "execution_count": 70,
   "metadata": {},
   "outputs": [
    {
     "data": {
      "text/plain": [
       "array([5.84333333, 3.05733333, 3.758     , 1.19933333])"
      ]
     },
     "execution_count": 70,
     "metadata": {},
     "output_type": "execute_result"
    }
   ],
   "source": [
    "scaled.mean_"
   ]
  },
  {
   "cell_type": "code",
   "execution_count": 77,
   "metadata": {},
   "outputs": [
    {
     "ename": "NotFittedError",
     "evalue": "This StandardScaler instance is not fitted yet. Call 'fit' with appropriate arguments before using this estimator.",
     "output_type": "error",
     "traceback": [
      "\u001b[1;31m---------------------------------------------------------------------------\u001b[0m",
      "\u001b[1;31mNotFittedError\u001b[0m                            Traceback (most recent call last)",
      "\u001b[1;32m~\\AppData\\Local\\Temp/ipykernel_49988/2158463220.py\u001b[0m in \u001b[0;36m<module>\u001b[1;34m\u001b[0m\n\u001b[1;32m----> 1\u001b[1;33m \u001b[0mtransformed\u001b[0m \u001b[1;33m=\u001b[0m \u001b[0mscaler\u001b[0m\u001b[1;33m.\u001b[0m\u001b[0mtransform\u001b[0m\u001b[1;33m(\u001b[0m\u001b[0mX_data\u001b[0m\u001b[1;33m)\u001b[0m\u001b[1;33m\u001b[0m\u001b[1;33m\u001b[0m\u001b[0m\n\u001b[0m\u001b[0;32m      2\u001b[0m \u001b[1;31m#transformed\u001b[0m\u001b[1;33m\u001b[0m\u001b[1;33m\u001b[0m\u001b[0m\n",
      "\u001b[1;32m~\\AppData\\Roaming\\Python\\Python310\\site-packages\\sklearn\\preprocessing\\_data.py\u001b[0m in \u001b[0;36mtransform\u001b[1;34m(self, X, copy)\u001b[0m\n\u001b[0;32m    968\u001b[0m             \u001b[0mTransformed\u001b[0m \u001b[0marray\u001b[0m\u001b[1;33m.\u001b[0m\u001b[1;33m\u001b[0m\u001b[1;33m\u001b[0m\u001b[0m\n\u001b[0;32m    969\u001b[0m         \"\"\"\n\u001b[1;32m--> 970\u001b[1;33m         \u001b[0mcheck_is_fitted\u001b[0m\u001b[1;33m(\u001b[0m\u001b[0mself\u001b[0m\u001b[1;33m)\u001b[0m\u001b[1;33m\u001b[0m\u001b[1;33m\u001b[0m\u001b[0m\n\u001b[0m\u001b[0;32m    971\u001b[0m \u001b[1;33m\u001b[0m\u001b[0m\n\u001b[0;32m    972\u001b[0m         \u001b[0mcopy\u001b[0m \u001b[1;33m=\u001b[0m \u001b[0mcopy\u001b[0m \u001b[1;32mif\u001b[0m \u001b[0mcopy\u001b[0m \u001b[1;32mis\u001b[0m \u001b[1;32mnot\u001b[0m \u001b[1;32mNone\u001b[0m \u001b[1;32melse\u001b[0m \u001b[0mself\u001b[0m\u001b[1;33m.\u001b[0m\u001b[0mcopy\u001b[0m\u001b[1;33m\u001b[0m\u001b[1;33m\u001b[0m\u001b[0m\n",
      "\u001b[1;32m~\\AppData\\Roaming\\Python\\Python310\\site-packages\\sklearn\\utils\\validation.py\u001b[0m in \u001b[0;36mcheck_is_fitted\u001b[1;34m(estimator, attributes, msg, all_or_any)\u001b[0m\n\u001b[0;32m   1220\u001b[0m \u001b[1;33m\u001b[0m\u001b[0m\n\u001b[0;32m   1221\u001b[0m     \u001b[1;32mif\u001b[0m \u001b[1;32mnot\u001b[0m \u001b[0mfitted\u001b[0m\u001b[1;33m:\u001b[0m\u001b[1;33m\u001b[0m\u001b[1;33m\u001b[0m\u001b[0m\n\u001b[1;32m-> 1222\u001b[1;33m         \u001b[1;32mraise\u001b[0m \u001b[0mNotFittedError\u001b[0m\u001b[1;33m(\u001b[0m\u001b[0mmsg\u001b[0m \u001b[1;33m%\u001b[0m \u001b[1;33m{\u001b[0m\u001b[1;34m\"name\"\u001b[0m\u001b[1;33m:\u001b[0m \u001b[0mtype\u001b[0m\u001b[1;33m(\u001b[0m\u001b[0mestimator\u001b[0m\u001b[1;33m)\u001b[0m\u001b[1;33m.\u001b[0m\u001b[0m__name__\u001b[0m\u001b[1;33m}\u001b[0m\u001b[1;33m)\u001b[0m\u001b[1;33m\u001b[0m\u001b[1;33m\u001b[0m\u001b[0m\n\u001b[0m\u001b[0;32m   1223\u001b[0m \u001b[1;33m\u001b[0m\u001b[0m\n\u001b[0;32m   1224\u001b[0m \u001b[1;33m\u001b[0m\u001b[0m\n",
      "\u001b[1;31mNotFittedError\u001b[0m: This StandardScaler instance is not fitted yet. Call 'fit' with appropriate arguments before using this estimator."
     ]
    }
   ],
   "source": [
    "transformed = scaler.transform(X_data)\n",
    "#transformed"
   ]
  },
  {
   "cell_type": "code",
   "execution_count": 78,
   "metadata": {},
   "outputs": [],
   "source": [
    "# to scale only one column:\n",
    "\n",
    "import numpy as np\n",
    "x_one = iris.sepal_length.to_numpy()\n",
    "x_one = x_one[:, np.newaxis]\n",
    "scaled_one = scaler.fit(x_one)"
   ]
  },
  {
   "cell_type": "markdown",
   "metadata": {},
   "source": [
    "<div class=\"alert alert-success\">\n",
    "<li>Si les données contiennent de nombreuses valeurs aberrantes, la mise à l'échelle à l'aide de la moyenne et de la variance des données ne fonctionnera probablement pas très bien\n",
    "<li>Dans ces cas, RobustScaler utilise des estimations plus robustes pour le centre et la plage de vos données.\n",
    "</div>"
   ]
  },
  {
   "cell_type": "markdown",
   "metadata": {},
   "source": [
    "<div class=\"alert alert-success\">\n",
    "<h4>Exemples d'algorithmes de transformation non-linéaire non-gaussienne</h4>\n",
    "    <li>sklearn.preprocessing.QuantileTransformer()\n",
    "    <li>sklearn.preprocessing.PowerTransformer()\n",
    "    <li>les deux algorithm sont basées sur des transformations monotones des entités (ligne ou colonnes) et maintienent le rang des valeurs le long de chaque entité\n",
    "    <li>cependant, le QuantileTransformer() déforme les corrélations et les distances à l'intérieur et entre les entités.\n",
    "    <li>Les PowerTransformer est une famille de transformations paramétriques qui visent à mapper les données de n'importe quelle distribution à une distribution gaussienne aussi proche que possible.\n",
    "</div>"
   ]
  },
  {
   "cell_type": "code",
   "execution_count": 73,
   "metadata": {},
   "outputs": [
    {
     "name": "stderr",
     "output_type": "stream",
     "text": [
      "C:\\Users\\Dylan\\AppData\\Roaming\\Python\\Python310\\site-packages\\sklearn\\preprocessing\\_data.py:2590: UserWarning: n_quantiles (1000) is greater than the total number of samples (150). n_quantiles is set to n_samples.\n",
      "  warnings.warn(\n"
     ]
    },
    {
     "data": {
      "text/plain": [
       "array([[0.24161074, 0.8557047 , 0.11409396, 0.12751678],\n",
       "       [0.12416107, 0.46644295, 0.11409396, 0.12751678],\n",
       "       [0.06375839, 0.67114094, 0.04697987, 0.12751678],\n",
       "       [0.04362416, 0.59060403, 0.20134228, 0.12751678],\n",
       "       [0.17785235, 0.88926174, 0.11409396, 0.12751678],\n",
       "       [0.32550336, 0.96979866, 0.30536913, 0.29530201],\n",
       "       [0.04362416, 0.79530201, 0.11409396, 0.24832215],\n",
       "       [0.17785235, 0.79530201, 0.20134228, 0.12751678],\n",
       "       [0.01342282, 0.34563758, 0.11409396, 0.12751678],\n",
       "       [0.12416107, 0.59060403, 0.20134228, 0.        ],\n",
       "       [0.32550336, 0.90939597, 0.20134228, 0.12751678],\n",
       "       [0.08724832, 0.79530201, 0.26845638, 0.12751678],\n",
       "       [0.08724832, 0.46644295, 0.11409396, 0.        ],\n",
       "       [0.        , 0.46644295, 0.00671141, 0.        ],\n",
       "       [0.51006711, 0.97986577, 0.01677852, 0.12751678],\n",
       "       [0.45973154, 1.        , 0.20134228, 0.29530201],\n",
       "       [0.32550336, 0.96979866, 0.04697987, 0.29530201],\n",
       "       [0.24161074, 0.8557047 , 0.11409396, 0.24832215],\n",
       "       [0.45973154, 0.94295302, 0.30536913, 0.24832215],\n",
       "       [0.24161074, 0.94295302, 0.20134228, 0.24832215],\n",
       "       [0.32550336, 0.79530201, 0.30536913, 0.12751678],\n",
       "       [0.24161074, 0.90939597, 0.20134228, 0.29530201],\n",
       "       [0.04362416, 0.88926174, 0.        , 0.12751678],\n",
       "       [0.24161074, 0.73489933, 0.30536913, 0.32214765],\n",
       "       [0.08724832, 0.79530201, 0.32550336, 0.12751678],\n",
       "       [0.17785235, 0.46644295, 0.26845638, 0.12751678],\n",
       "       [0.17785235, 0.79530201, 0.26845638, 0.29530201],\n",
       "       [0.2852349 , 0.8557047 , 0.20134228, 0.12751678],\n",
       "       [0.2852349 , 0.79530201, 0.11409396, 0.12751678],\n",
       "       [0.06375839, 0.67114094, 0.26845638, 0.12751678],\n",
       "       [0.08724832, 0.59060403, 0.26845638, 0.12751678],\n",
       "       [0.32550336, 0.79530201, 0.20134228, 0.29530201],\n",
       "       [0.2852349 , 0.98657718, 0.20134228, 0.        ],\n",
       "       [0.36912752, 0.99328859, 0.11409396, 0.12751678],\n",
       "       [0.12416107, 0.59060403, 0.20134228, 0.12751678],\n",
       "       [0.17785235, 0.67114094, 0.01677852, 0.12751678],\n",
       "       [0.36912752, 0.8557047 , 0.04697987, 0.12751678],\n",
       "       [0.12416107, 0.88926174, 0.11409396, 0.        ],\n",
       "       [0.01342282, 0.46644295, 0.04697987, 0.12751678],\n",
       "       [0.24161074, 0.79530201, 0.20134228, 0.12751678],\n",
       "       [0.17785235, 0.8557047 , 0.04697987, 0.24832215],\n",
       "       [0.02684564, 0.03691275, 0.04697987, 0.24832215],\n",
       "       [0.01342282, 0.67114094, 0.04697987, 0.12751678],\n",
       "       [0.17785235, 0.8557047 , 0.26845638, 0.32885906],\n",
       "       [0.24161074, 0.94295302, 0.32550336, 0.29530201],\n",
       "       [0.08724832, 0.46644295, 0.11409396, 0.24832215],\n",
       "       [0.24161074, 0.94295302, 0.26845638, 0.12751678],\n",
       "       [0.04362416, 0.67114094, 0.11409396, 0.12751678],\n",
       "       [0.30201342, 0.90939597, 0.20134228, 0.12751678],\n",
       "       [0.17785235, 0.73489933, 0.11409396, 0.12751678],\n",
       "       [0.91946309, 0.67114094, 0.61744966, 0.54697987],\n",
       "       [0.74496644, 0.67114094, 0.55369128, 0.61744966],\n",
       "       [0.90268456, 0.59060403, 0.68120805, 0.61744966],\n",
       "       [0.36912752, 0.03691275, 0.4261745 , 0.47651007],\n",
       "       [0.78187919, 0.26845638, 0.59395973, 0.61744966],\n",
       "       [0.45973154, 0.26845638, 0.55369128, 0.47651007],\n",
       "       [0.69463087, 0.73489933, 0.61744966, 0.67114094],\n",
       "       [0.12416107, 0.06040268, 0.34563758, 0.3557047 ],\n",
       "       [0.80872483, 0.34563758, 0.59395973, 0.47651007],\n",
       "       [0.2852349 , 0.18791946, 0.39597315, 0.54697987],\n",
       "       [0.17785235, 0.        , 0.3590604 , 0.3557047 ],\n",
       "       [0.54362416, 0.46644295, 0.47315436, 0.61744966],\n",
       "       [0.5738255 , 0.01342282, 0.4261745 , 0.3557047 ],\n",
       "       [0.61409396, 0.34563758, 0.61744966, 0.54697987],\n",
       "       [0.41275168, 0.34563758, 0.36912752, 0.47651007],\n",
       "       [0.84563758, 0.59060403, 0.51677852, 0.54697987],\n",
       "       [0.41275168, 0.46644295, 0.55369128, 0.61744966],\n",
       "       [0.51006711, 0.18791946, 0.45302013, 0.3557047 ],\n",
       "       [0.64765101, 0.01342282, 0.55369128, 0.61744966],\n",
       "       [0.41275168, 0.09731544, 0.39597315, 0.38926174],\n",
       "       [0.54362416, 0.67114094, 0.64765101, 0.73489933],\n",
       "       [0.61409396, 0.26845638, 0.4261745 , 0.47651007],\n",
       "       [0.69463087, 0.09731544, 0.68120805, 0.61744966],\n",
       "       [0.61409396, 0.26845638, 0.61744966, 0.41946309],\n",
       "       [0.74496644, 0.34563758, 0.48993289, 0.47651007],\n",
       "       [0.80872483, 0.46644295, 0.51677852, 0.54697987],\n",
       "       [0.87919463, 0.26845638, 0.64765101, 0.54697987],\n",
       "       [0.84563758, 0.46644295, 0.70805369, 0.68791946],\n",
       "       [0.5738255 , 0.34563758, 0.55369128, 0.61744966],\n",
       "       [0.45973154, 0.1409396 , 0.3590604 , 0.3557047 ],\n",
       "       [0.36912752, 0.06040268, 0.38255034, 0.38926174],\n",
       "       [0.36912752, 0.06040268, 0.37583893, 0.3557047 ],\n",
       "       [0.51006711, 0.18791946, 0.39597315, 0.41946309],\n",
       "       [0.5738255 , 0.18791946, 0.74832215, 0.67114094],\n",
       "       [0.32550336, 0.46644295, 0.55369128, 0.61744966],\n",
       "       [0.5738255 , 0.79530201, 0.55369128, 0.67114094],\n",
       "       [0.84563758, 0.59060403, 0.61744966, 0.61744966],\n",
       "       [0.69463087, 0.03691275, 0.51677852, 0.47651007],\n",
       "       [0.41275168, 0.46644295, 0.45302013, 0.47651007],\n",
       "       [0.36912752, 0.09731544, 0.4261745 , 0.47651007],\n",
       "       [0.36912752, 0.1409396 , 0.51677852, 0.41946309],\n",
       "       [0.61409396, 0.46644295, 0.59395973, 0.54697987],\n",
       "       [0.51006711, 0.1409396 , 0.4261745 , 0.41946309],\n",
       "       [0.17785235, 0.03691275, 0.34563758, 0.3557047 ],\n",
       "       [0.41275168, 0.18791946, 0.47315436, 0.47651007],\n",
       "       [0.45973154, 0.46644295, 0.47315436, 0.41946309],\n",
       "       [0.45973154, 0.34563758, 0.47315436, 0.47651007],\n",
       "       [0.64765101, 0.34563758, 0.48993289, 0.47651007],\n",
       "       [0.24161074, 0.09731544, 0.33557047, 0.38926174],\n",
       "       [0.45973154, 0.26845638, 0.45302013, 0.47651007],\n",
       "       [0.69463087, 0.73489933, 0.93624161, 1.        ],\n",
       "       [0.51006711, 0.18791946, 0.74832215, 0.79194631],\n",
       "       [0.9261745 , 0.46644295, 0.92281879, 0.86912752],\n",
       "       [0.69463087, 0.34563758, 0.8557047 , 0.73489933],\n",
       "       [0.78187919, 0.46644295, 0.90604027, 0.89932886],\n",
       "       [0.96644295, 0.46644295, 0.97986577, 0.86912752],\n",
       "       [0.12416107, 0.09731544, 0.55369128, 0.68791946],\n",
       "       [0.95302013, 0.34563758, 0.96644295, 0.73489933],\n",
       "       [0.84563758, 0.09731544, 0.90604027, 0.73489933],\n",
       "       [0.93959732, 0.88926174, 0.95637584, 1.        ],\n",
       "       [0.78187919, 0.67114094, 0.74832215, 0.82885906],\n",
       "       [0.74496644, 0.18791946, 0.79194631, 0.79194631],\n",
       "       [0.87919463, 0.46644295, 0.82885906, 0.86912752],\n",
       "       [0.45973154, 0.09731544, 0.70805369, 0.82885906],\n",
       "       [0.51006711, 0.26845638, 0.74832215, 0.96979866],\n",
       "       [0.74496644, 0.67114094, 0.79194631, 0.93624161],\n",
       "       [0.78187919, 0.46644295, 0.82885906, 0.73489933],\n",
       "       [0.97986577, 0.94295302, 0.98657718, 0.89932886],\n",
       "       [0.97986577, 0.1409396 , 1.        , 0.93624161],\n",
       "       [0.5738255 , 0.01342282, 0.70805369, 0.61744966],\n",
       "       [0.90268456, 0.67114094, 0.88590604, 0.93624161],\n",
       "       [0.41275168, 0.26845638, 0.68120805, 0.82885906],\n",
       "       [0.97986577, 0.26845638, 0.98657718, 0.82885906],\n",
       "       [0.69463087, 0.18791946, 0.68120805, 0.73489933],\n",
       "       [0.84563758, 0.73489933, 0.88590604, 0.86912752],\n",
       "       [0.93959732, 0.67114094, 0.93624161, 0.73489933],\n",
       "       [0.64765101, 0.26845638, 0.64765101, 0.73489933],\n",
       "       [0.61409396, 0.46644295, 0.68120805, 0.73489933],\n",
       "       [0.74496644, 0.26845638, 0.8557047 , 0.86912752],\n",
       "       [0.93959732, 0.46644295, 0.90604027, 0.67114094],\n",
       "       [0.95973154, 0.26845638, 0.95637584, 0.79194631],\n",
       "       [1.        , 0.94295302, 0.97315436, 0.82885906],\n",
       "       [0.74496644, 0.26845638, 0.8557047 , 0.89932886],\n",
       "       [0.69463087, 0.26845638, 0.74832215, 0.61744966],\n",
       "       [0.61409396, 0.1409396 , 0.8557047 , 0.54697987],\n",
       "       [0.97986577, 0.46644295, 0.95637584, 0.93624161],\n",
       "       [0.69463087, 0.79530201, 0.8557047 , 0.96979866],\n",
       "       [0.74496644, 0.59060403, 0.82885906, 0.73489933],\n",
       "       [0.5738255 , 0.46644295, 0.64765101, 0.73489933],\n",
       "       [0.90268456, 0.59060403, 0.80872483, 0.86912752],\n",
       "       [0.84563758, 0.59060403, 0.8557047 , 0.96979866],\n",
       "       [0.90268456, 0.59060403, 0.74832215, 0.93624161],\n",
       "       [0.51006711, 0.18791946, 0.74832215, 0.79194631],\n",
       "       [0.87919463, 0.67114094, 0.92281879, 0.93624161],\n",
       "       [0.84563758, 0.73489933, 0.88590604, 1.        ],\n",
       "       [0.84563758, 0.46644295, 0.78187919, 0.93624161],\n",
       "       [0.69463087, 0.09731544, 0.70805369, 0.79194631],\n",
       "       [0.78187919, 0.46644295, 0.78187919, 0.82885906],\n",
       "       [0.64765101, 0.79530201, 0.80872483, 0.93624161],\n",
       "       [0.54362416, 0.46644295, 0.74832215, 0.73489933]])"
      ]
     },
     "execution_count": 73,
     "metadata": {},
     "output_type": "execute_result"
    }
   ],
   "source": [
    "scaler = sklearn.preprocessing.QuantileTransformer()\n",
    "\n",
    "X_iris = iris[[\"sepal_length\", \"sepal_width\", \"petal_length\", \"petal_width\"]]\n",
    "X_scaled = scaler.fit_transform(X_iris)\n",
    "X_scaled"
   ]
  },
  {
   "cell_type": "code",
   "execution_count": 80,
   "metadata": {},
   "outputs": [],
   "source": [
    "import numpy as np"
   ]
  },
  {
   "cell_type": "code",
   "execution_count": 81,
   "metadata": {},
   "outputs": [
    {
     "name": "stdout",
     "output_type": "stream",
     "text": [
      "[4.3 5.1 5.8 6.4 7.9]\n",
      "[0.         0.24161074 0.51006711 0.74496644 1.        ]\n"
     ]
    }
   ],
   "source": [
    "X_iris_arr = X_iris.to_numpy()\n",
    "\n",
    "print(np.percentile(X_iris_arr[:, 0], [0, 25, 50, 75, 100]))\n",
    "print(np.percentile(  X_scaled[:, 0], [0, 25, 50, 75, 100]))\n",
    "\n",
    "# Une fois la QuantileTransformer appliquée,\n",
    "# ces repères se rapprochent étroitement des centiles précédemment définis"
   ]
  },
  {
   "cell_type": "markdown",
   "metadata": {},
   "source": [
    "<div class=\"alert alert-warning\">\n",
    "<h3> Imputation des valeurs manquantes </h3></div>"
   ]
  },
  {
   "cell_type": "markdown",
   "metadata": {},
   "source": [
    "<div class=\"alert alert-success\">\n",
    "<li>scikit-learn suppose que toutes les valeurs sont numériques et ont toutes une signification. Les données manquantes sont incompatibles avec scikit-learn.\n",
    "\n",
    "<li> de nombreux ensembles de données du monde réel contiennent des valeurs manquantes, souvent codées sous forme de blancs, de NaN ou d'autres espaces réservés.\n",
    "\n",
    "<li> Lorsque des données sont manquantes, une stratégie de base consiste à supprimer des lignes entières et / ou des colonnes contenant des valeurs manquantes.\n",
    "\n",
    "<li> Une meilleure stratégie consiste à imputer les valeurs manquantes, c'est-à-dire à les déduire de la partie connue des données.\n",
    "<li>https://scikit-learn.org/stable/modules/impute.html\n",
    "</div>"
   ]
  },
  {
   "cell_type": "markdown",
   "metadata": {},
   "source": [
    "<div class=\"alert alert-success\">\n",
    "<h4>L'algorithme d'imputation univarié: sklearn.impute.SimpleImputer</h4>\n",
    "<li>impute des valeurs dans la n-ième dimension d'entité (ligne, colonne)\n",
    "<li>en utilisant uniquement les valeurs non manquantes dans cette dimension d'entité (ligne, colonne)\n",
    "</div>"
   ]
  },
  {
   "cell_type": "code",
   "execution_count": 82,
   "metadata": {},
   "outputs": [],
   "source": [
    "from sklearn import impute"
   ]
  },
  {
   "cell_type": "code",
   "execution_count": 90,
   "metadata": {},
   "outputs": [],
   "source": [
    "##pour les valeurs manquante selon np.nan et va les modif pour a moyenne de ce groupe\n",
    "imp = impute.SimpleImputer(missing_values = np.nan, strategy = \"mean\")\n",
    "\n",
    "#median, most_frequent, constant"
   ]
  },
  {
   "cell_type": "code",
   "execution_count": 91,
   "metadata": {},
   "outputs": [],
   "source": [
    "cerveau_df = pandas.read_csv('https://scipy-lectures.org/_downloads/brain_size.csv', sep=';', na_values='.')"
   ]
  },
  {
   "cell_type": "code",
   "execution_count": 92,
   "metadata": {},
   "outputs": [
    {
     "data": {
      "text/plain": [
       "(True, True)"
      ]
     },
     "execution_count": 92,
     "metadata": {},
     "output_type": "execute_result"
    }
   ],
   "source": [
    "# y a-t-il des valeurs manquantes?\n",
    "\n",
    "cerveau_df.Height.isnull().any(), cerveau_df.Weight.isnull().any()"
   ]
  },
  {
   "cell_type": "code",
   "execution_count": 93,
   "metadata": {},
   "outputs": [
    {
     "data": {
      "text/plain": [
       "Weight   NaN\n",
       "Height   NaN\n",
       "Name: 20, dtype: float64"
      ]
     },
     "execution_count": 93,
     "metadata": {},
     "output_type": "execute_result"
    }
   ],
   "source": [
    "# trouvons l'index de la colonne avec des données manquantes\n",
    "X_data = cerveau_df[[\"Weight\", \"Height\"]]\n",
    "\n",
    "#prend l'index des valeur true qu'on a [isnull] et on le met en liste\n",
    "ix = X_data.Height[X_data.Height.isnull()].index.tolist()[0]\n",
    "X_data.iloc[ix]"
   ]
  },
  {
   "cell_type": "code",
   "execution_count": 100,
   "metadata": {},
   "outputs": [
    {
     "data": {
      "text/plain": [
       "SimpleImputer(strategy='most_frequent')"
      ]
     },
     "execution_count": 100,
     "metadata": {},
     "output_type": "execute_result"
    }
   ],
   "source": [
    "##ici dès qu'on appelle le  imp, on a dèjà dàfini plus haut qu'on voulait remplacer par la moyenne\n",
    "imp.fit(X_data)\n"
   ]
  },
  {
   "cell_type": "code",
   "execution_count": 102,
   "metadata": {},
   "outputs": [],
   "source": [
    "X_new = imp.transform(X_data)"
   ]
  },
  {
   "cell_type": "code",
   "execution_count": 104,
   "metadata": {},
   "outputs": [
    {
     "data": {
      "text/plain": [
       "array([118. ,  64.5])"
      ]
     },
     "execution_count": 104,
     "metadata": {},
     "output_type": "execute_result"
    }
   ],
   "source": [
    "# Attention! les données résultantes sont au format numpy\n",
    "\n",
    "X_new[ix]"
   ]
  },
  {
   "cell_type": "code",
   "execution_count": 99,
   "metadata": {},
   "outputs": [
    {
     "data": {
      "text/plain": [
       "array([118. ,  64.5])"
      ]
     },
     "execution_count": 99,
     "metadata": {},
     "output_type": "execute_result"
    }
   ],
   "source": [
    "# Changeons pour la valeur la plus fréquente. \n",
    "\n",
    "imp = sklearn.impute.SimpleImputer(missing_values = np.nan, strategy = \"most_frequent\")\n",
    "imp.fit(X_data)\n",
    "X_new = imp.transform(X_data)\n",
    "X_new[ix]"
   ]
  },
  {
   "cell_type": "markdown",
   "metadata": {},
   "source": [
    "<div class=\"alert alert-danger\">\n",
    "<b>les commandes et codes à apprendre par cœur </b></div>"
   ]
  },
  {
   "cell_type": "code",
   "execution_count": null,
   "metadata": {},
   "outputs": [],
   "source": [
    "PANDAS:\n",
    "    pandas.read_csv(filepath, sep=<object>, header=None, \n",
    "                    names=['col1', 'col2'], usecols=[0, 2, 5],\n",
    "                    skiprows=27, skipfooter=6, na_values='.'\n",
    "                       ) # sep = ';', sep = None, na_values = None\n",
    "SCIPY:\n",
    "    scipy.stats.ttest_1samp(pandas.DataFrame['col_y'], 0)\n",
    "    scipy.stats.ttest_ind(pandas.DataFrame['col_y'], pandas.DataFrame['col_x'])\n",
    "    scipy.stats.ttest_rel(pandas.DataFrame['col_y'], pandas.DataFrame['col_x'])\n",
    "    scipy.stats.wilcoxon(pandas.DataFrame['col_y'], pandas.DataFrame['col_x'])\n",
    "    \n",
    "STATSMODELS:\n",
    "    from statsmodels.formula.api import ols #Ordinary Least Squares    \n",
    "    ols(\"col_y ~ col_x\", pandas.DataFrame).fit()\n",
    "    ols(\"col_y ~ col_group + 1\", pandas.DataFrame).fit()\n",
    "    ols(\"col_y ~ C(col_group)\", pandas.DataFrame).fit()\n",
    "    model = ols('col_y ~ col_group + col_x', pandas.DataFrame).fit()\n",
    "        model.rsquared_adj\n",
    "        model.fvalue\n",
    "        model.f_pvalue\n",
    "        model.params\n",
    "        model.tvalues\n",
    "        model.pvalues\n",
    "        model.pvalues[0]\n",
    "        model.pvalues[\"Intercept\"]\n",
    "        model.pvalues.loc['Intercept']\n",
    "        model.f_test([0, 1, -1, 0]))\n",
    "    \n",
    "SKLEARN:\n",
    "    sklearn.preprocessing.LabelEncoder()\n",
    "        fit_transform(pandas.DataFrame['col_y'])\n",
    "    sklearn.preprocessing.StandardScaler()\n",
    "        fit(pandas.DataFrame['col_x1', 'col_x2'])\n",
    "        transform(pandas.DataFrame['col_x1', 'col_x2'])\n",
    "        \n",
    "        one_feat = pandas.DataFrame['col_x1'].to_numpy()\n",
    "        one_feat = one_feat[:, np.newaxis]\n",
    "        fit(one_feat)\n",
    "        transform(one_feat)        \n",
    "    sklearn.preprocessing.QuantileTransformer()\n",
    "        fit_transform(pandas.DataFrame)\n",
    "    sklearn.impute.SimpleImputer(missing_values = np.nan, strategy = \"mean\")\n",
    "            # strategy = median, most_frequent, constant\n",
    "        fit(pandas.DataFrame)\n",
    "        transform(pandas.DataFrame)"
   ]
  },
  {
   "cell_type": "markdown",
   "metadata": {},
   "source": [
    "<div class=\"alert alert-danger\">\n",
    "<h4>Exercices</h4><p>\n",
    "</div>"
   ]
  },
  {
   "cell_type": "code",
   "execution_count": 18,
   "metadata": {},
   "outputs": [
    {
     "data": {
      "text/plain": [
       "Index(['method', 'number', 'orbital_period', 'mass', 'distance', 'year'], dtype='object')"
      ]
     },
     "execution_count": 18,
     "metadata": {},
     "output_type": "execute_result"
    }
   ],
   "source": [
    "import seaborn as sns\n",
    "import numpy as np\n",
    "planets = sns.load_dataset('planets')\n",
    "planets.columns\n"
   ]
  },
  {
   "cell_type": "code",
   "execution_count": 8,
   "metadata": {},
   "outputs": [
    {
     "data": {
      "text/plain": [
       "2.21"
      ]
     },
     "execution_count": 8,
     "metadata": {},
     "output_type": "execute_result"
    }
   ],
   "source": [
    "X_planets['mass'][1]\n"
   ]
  },
  {
   "cell_type": "code",
   "execution_count": 58,
   "metadata": {},
   "outputs": [],
   "source": [
    "import pandas as pd"
   ]
  },
  {
   "cell_type": "code",
   "execution_count": 66,
   "metadata": {},
   "outputs": [
    {
     "name": "stdout",
     "output_type": "stream",
     "text": [
      "        0\n",
      "0       7\n",
      "1      20\n",
      "2      25\n",
      "3      26\n",
      "4      29\n",
      "..    ...\n",
      "517  1030\n",
      "518  1031\n",
      "519  1032\n",
      "520  1033\n",
      "521  1034\n",
      "\n",
      "[522 rows x 1 columns]\n"
     ]
    }
   ],
   "source": [
    "##boucle qui retourne les index des valeur nan ou manquante d'une col, ici la col 'mass'\n",
    "\n",
    "X_planets = planets[[\"orbital_period\", \"mass\", \"distance\"]]\n",
    "df_na_bool = []\n",
    "for index in range(0,len(X_planets.mass)) :\n",
    "    valeur = X_planets['mass'][index]\n",
    "    bool = np.isnan(valeur)\n",
    "    df_na_bool.append(bool)\n",
    "   \n",
    "##stock dans na_index une list qui contient les index où df_na_bool avait des True pour les nan\n",
    "##entre [ i for i...] renvoit seulement l'index de chaque True\n",
    "na_index = pd.DataFrame([i for i, x in enumerate(df_na_bool) if x]) \n",
    "print(na_index) ##ou .size\n",
    "##il y a donc 522 nan dans la colonne mass"
   ]
  },
  {
   "cell_type": "code",
   "execution_count": 9,
   "metadata": {},
   "outputs": [
    {
     "name": "stdout",
     "output_type": "stream",
     "text": [
      "oui 7.1\n",
      "oui 2.21\n",
      "oui 2.6\n",
      "oui 19.4\n",
      "oui 10.5\n",
      "oui 4.8\n",
      "oui 4.64\n",
      "oui nan\n",
      "oui 10.3\n",
      "oui 1.99\n",
      "oui 0.86\n",
      "oui 9.88\n",
      "oui 3.88\n",
      "oui 2.53\n",
      "oui 0.54\n",
      "oui 1.64\n",
      "oui 0.472\n",
      "oui 0.8\n",
      "oui 0.165\n",
      "oui 3.53\n",
      "oui nan\n",
      "oui 0.172\n",
      "oui 0.016\n",
      "oui 0.057\n",
      "oui 0.072\n",
      "oui nan\n",
      "oui nan\n",
      "oui 5.3\n",
      "oui 3.2\n",
      "oui nan\n",
      "oui nan\n",
      "oui nan\n",
      "oui 6.05\n",
      "oui nan\n",
      "oui nan\n",
      "oui nan\n",
      "oui nan\n",
      "oui nan\n",
      "oui nan\n",
      "oui nan\n",
      "oui nan\n",
      "oui nan\n",
      "oui 4.2\n",
      "oui nan\n",
      "oui nan\n",
      "oui 1.8\n",
      "oui 0.0036\n",
      "oui nan\n",
      "oui 1.55\n",
      "oui nan\n",
      "oui 7.6\n",
      "oui 8.78\n",
      "oui 1.85\n",
      "oui nan\n",
      "oui nan\n",
      "oui 2.8\n",
      "oui nan\n",
      "oui nan\n",
      "oui 1.7\n",
      "oui nan\n",
      "oui nan\n",
      "oui 1.04\n",
      "oui 3.9\n",
      "oui 20.6\n",
      "oui 0.6876\n",
      "oui 1.981\n",
      "oui 4.132\n",
      "oui 1.059\n",
      "oui nan\n",
      "oui nan\n",
      "oui nan\n",
      "oui nan\n",
      "oui nan\n",
      "oui nan\n",
      "oui nan\n",
      "oui nan\n",
      "oui 5.1\n",
      "oui 10.6\n",
      "oui nan\n",
      "oui 0.045\n",
      "oui 0.33\n",
      "oui 0.027\n",
      "oui 0.17\n",
      "oui 1.47\n",
      "oui 1.11\n",
      "oui 21.42\n",
      "oui 12.47\n",
      "oui nan\n",
      "oui 0.91\n",
      "oui nan\n",
      "oui nan\n",
      "oui nan\n",
      "oui nan\n",
      "oui nan\n",
      "oui nan\n",
      "oui nan\n",
      "oui nan\n",
      "oui nan\n",
      "oui nan\n",
      "oui nan\n",
      "oui nan\n",
      "oui nan\n",
      "oui nan\n",
      "oui nan\n",
      "oui nan\n",
      "oui nan\n",
      "oui nan\n",
      "oui nan\n",
      "oui nan\n",
      "oui nan\n",
      "oui nan\n",
      "oui nan\n",
      "oui nan\n",
      "oui nan\n",
      "oui 3.91\n",
      "oui 0.035\n",
      "oui 0.024\n",
      "oui 0.079\n",
      "oui 0.82\n",
      "oui 1.894\n",
      "oui 1.6\n",
      "oui 2.3\n",
      "oui 0.018\n",
      "oui nan\n",
      "oui nan\n",
      "oui 0.049\n",
      "oui 0.017\n",
      "oui 0.022\n",
      "oui 0.006\n",
      "oui 0.328\n",
      "oui 0.018\n",
      "oui 0.012\n",
      "oui 0.016\n",
      "oui 0.008\n",
      "oui 0.008\n",
      "oui 0.014\n",
      "oui 0.035\n",
      "oui 4.95\n",
      "oui 0.014\n",
      "oui 0.036\n",
      "oui 0.64\n",
      "oui 0.91\n",
      "oui 2.2756\n",
      "oui 0.7142\n",
      "oui 0.021\n",
      "oui 0.046\n",
      "oui nan\n",
      "oui 3.37\n",
      "oui nan\n",
      "oui 0.022\n",
      "oui nan\n",
      "oui nan\n",
      "oui nan\n",
      "oui nan\n",
      "oui nan\n",
      "oui nan\n",
      "oui nan\n",
      "oui nan\n",
      "oui nan\n",
      "oui nan\n",
      "oui nan\n",
      "oui 15.2\n",
      "oui nan\n",
      "oui nan\n",
      "oui nan\n",
      "oui nan\n",
      "oui 3.4\n",
      "oui nan\n",
      "oui nan\n",
      "oui nan\n",
      "oui nan\n",
      "oui nan\n",
      "oui nan\n",
      "oui nan\n",
      "oui nan\n",
      "oui nan\n",
      "oui nan\n",
      "oui nan\n",
      "oui nan\n",
      "oui nan\n",
      "oui nan\n",
      "oui 3.4\n",
      "oui nan\n",
      "oui nan\n",
      "oui nan\n",
      "oui nan\n",
      "oui nan\n",
      "oui nan\n",
      "oui nan\n",
      "oui nan\n",
      "oui nan\n",
      "oui nan\n",
      "oui nan\n",
      "oui nan\n",
      "oui nan\n",
      "oui nan\n",
      "oui nan\n",
      "oui nan\n",
      "oui 1.25\n",
      "oui 5.3\n",
      "oui 0.024\n",
      "oui 0.0186\n",
      "oui 3.1\n",
      "oui 6.1\n",
      "oui 4.9\n",
      "oui 0.48\n",
      "oui 1.6\n",
      "oui 0.229\n",
      "oui 1.56\n",
      "oui 0.8\n",
      "oui 0.0405\n",
      "oui 2.07\n",
      "oui 2.3\n",
      "oui 2.37\n",
      "oui 2.37\n",
      "oui 1.94\n",
      "oui 1.96\n",
      "oui nan\n",
      "oui 7.6\n",
      "oui 0.48\n",
      "oui 1.65\n",
      "oui 0.29\n",
      "oui 1.11\n",
      "oui 2.0\n",
      "oui 0.029\n",
      "oui 0.63\n",
      "oui 1.8\n",
      "oui 14.2\n",
      "oui 0.7\n",
      "oui 1.82\n",
      "oui 0.041\n",
      "oui 0.038\n",
      "oui 0.08\n",
      "oui 0.074\n",
      "oui 0.067\n",
      "oui 0.205\n",
      "oui 0.94\n",
      "oui 6.21\n",
      "oui 3.44\n",
      "oui 0.82\n",
      "oui 6.54\n",
      "oui 0.622\n",
      "oui 0.0788\n",
      "oui 2.3\n",
      "oui 1.92\n",
      "oui 14.0\n",
      "oui 0.0325\n",
      "oui 0.036\n",
      "oui 0.865\n",
      "oui 5.13\n",
      "oui 1.88\n",
      "oui 0.26\n",
      "oui 0.0696\n",
      "oui 4.4\n",
      "oui 14.3\n",
      "oui 4.6\n",
      "oui nan\n",
      "oui 2.7\n",
      "oui 1.37\n",
      "oui 0.0378\n",
      "oui 0.0422\n",
      "oui 1.07\n",
      "oui 0.0085\n",
      "oui 0.00755\n",
      "oui 0.0151\n",
      "oui 0.0379\n",
      "oui 0.0496\n",
      "oui 1.9\n",
      "oui 1.99\n",
      "oui 0.0322\n",
      "oui 0.06472\n",
      "oui 1.5\n",
      "oui 2.61\n",
      "oui 13.65\n",
      "oui 7.71\n",
      "oui 4.01\n",
      "oui 0.95\n",
      "oui 1.28\n",
      "oui 1.45\n",
      "oui 0.62\n",
      "oui 1.16\n",
      "oui 5.59\n",
      "oui 1.7\n",
      "oui 9.17\n",
      "oui 1.373\n",
      "oui 1.8\n",
      "oui 0.5\n",
      "oui 0.0363\n",
      "oui 0.0498\n",
      "oui 0.0519\n",
      "oui 1.3\n",
      "oui 0.33\n",
      "oui 3.04\n",
      "oui 0.79\n",
      "oui 9.1\n",
      "oui nan\n",
      "oui 0.61\n",
      "oui 0.683\n",
      "oui 0.624\n",
      "oui 10.35\n",
      "oui 2.3\n",
      "oui 3.366\n",
      "oui 0.0117\n",
      "oui 0.0187\n",
      "oui 0.0162\n",
      "oui 0.839\n",
      "oui 13.38\n",
      "oui 10.7\n",
      "oui 0.0961\n",
      "oui 0.0126\n",
      "oui 0.0208\n",
      "oui 0.0299\n",
      "oui 0.011\n",
      "oui 0.0164\n",
      "oui 0.0223\n",
      "oui 4.01\n",
      "oui 2.54\n",
      "oui 18.37\n",
      "oui 0.039\n",
      "oui 0.027\n",
      "oui 0.6\n",
      "oui 25.0\n",
      "oui 2.49\n",
      "oui 0.58\n",
      "oui 0.04\n",
      "oui 0.1872\n",
      "oui 0.6579\n",
      "oui 1.79\n",
      "oui 0.47\n",
      "oui 0.249\n",
      "oui 0.07167\n",
      "oui 0.35061\n",
      "oui 5.0\n",
      "oui 7.0\n",
      "oui 1.16\n",
      "oui 0.115\n",
      "oui 1.71\n",
      "oui 4.9\n",
      "oui 0.0413\n",
      "oui 0.0565\n",
      "oui 1.13\n",
      "oui 5.25\n",
      "oui 3.1548\n",
      "oui 7.4634\n",
      "oui 0.38\n",
      "oui 2.9\n",
      "oui 0.64\n",
      "oui 1.26\n",
      "oui 0.17\n",
      "oui 6.0\n",
      "oui 2.82\n",
      "oui 1.9\n",
      "oui 0.033\n",
      "oui 0.038\n",
      "oui 0.058\n",
      "oui 6.1\n",
      "oui 2.0\n",
      "oui 3.15\n",
      "oui 3.06\n",
      "oui 1.87\n",
      "oui 2.25\n",
      "oui 2.25\n",
      "oui 1.15\n",
      "oui 1.8\n",
      "oui 8.06\n",
      "oui 0.396\n",
      "oui 0.42\n",
      "oui 2.51\n",
      "oui 0.197\n",
      "oui nan\n",
      "oui 1.34\n",
      "oui nan\n",
      "oui 6.86\n",
      "oui 2.7\n",
      "oui nan\n",
      "oui nan\n",
      "oui 1.3\n",
      "oui 0.4\n",
      "oui 0.132\n",
      "oui 0.01133\n",
      "oui 1.5\n",
      "oui 0.92\n",
      "oui 7.0\n",
      "oui 1.78\n",
      "oui 0.22\n",
      "oui 1.78\n",
      "oui 8.44\n",
      "oui 0.057\n",
      "oui 3.86\n",
      "oui 0.37\n",
      "oui 0.0263\n",
      "oui 0.0318\n",
      "oui nan\n",
      "oui 1.2\n",
      "oui 0.9\n",
      "oui 0.68\n",
      "oui 4.0\n",
      "oui 0.0284\n",
      "oui 0.04\n",
      "oui 0.026\n",
      "oui 1.8\n",
      "oui 6.8\n",
      "oui 0.502\n",
      "oui 0.087\n",
      "oui 0.36\n",
      "oui 1.4\n",
      "oui 1.7\n",
      "oui 1.16\n",
      "oui 0.3\n",
      "oui 0.172\n",
      "oui 0.45\n",
      "oui 5.9\n",
      "oui 2.6\n",
      "oui 0.05\n",
      "oui 5.9\n",
      "oui 0.96\n",
      "oui 0.098\n",
      "oui 0.367\n",
      "oui 0.186\n",
      "oui 8.3\n",
      "oui 6.92\n",
      "oui 11.0\n",
      "oui 9.61\n",
      "oui nan\n",
      "oui 0.21\n",
      "oui 0.261\n",
      "oui 2.6\n",
      "oui 1.29\n",
      "oui 0.99\n",
      "oui 0.77\n",
      "oui 0.054\n",
      "oui 0.076\n",
      "oui 0.28\n",
      "oui 11.09\n",
      "oui 6.8\n",
      "oui 2.83\n",
      "oui 0.27\n",
      "oui 0.71\n",
      "oui 1.24\n",
      "oui nan\n",
      "oui 0.48\n",
      "oui 11.68\n",
      "oui 1.1\n",
      "oui 0.95\n",
      "oui 2.1\n",
      "oui 1.88\n",
      "oui 0.178\n",
      "oui 2.13\n",
      "oui 4.5\n",
      "oui 1.22\n",
      "oui 3.71\n",
      "oui 3.0\n",
      "oui 0.058\n",
      "oui 7.2\n",
      "oui 0.041\n",
      "oui 0.38\n",
      "oui 0.224\n",
      "oui 1.45\n",
      "oui 3.24\n",
      "oui 1.6\n",
      "oui 1.04\n",
      "oui 2.2\n",
      "oui 18.15\n",
      "oui 5.61\n",
      "oui 1.49\n",
      "oui 0.0351\n",
      "oui 0.1507\n",
      "oui 1.59\n",
      "oui 0.82\n",
      "oui 0.0292\n",
      "oui 0.0382\n",
      "oui 0.121\n",
      "oui 2.0\n",
      "oui 0.0166\n",
      "oui 0.0358\n",
      "oui 0.03\n",
      "oui 0.223\n",
      "oui 9.76\n",
      "oui 9.7\n",
      "oui 5.1\n",
      "oui 1.9\n",
      "oui 1.62\n",
      "oui 3.12\n",
      "oui 2.9\n",
      "oui 5.76\n",
      "oui 2.12\n",
      "oui 6.56\n",
      "oui 1.21\n",
      "oui 0.85\n",
      "oui 0.96\n",
      "oui nan\n",
      "oui 1.33\n",
      "oui 15.5\n",
      "oui 0.168\n",
      "oui 3.0\n",
      "oui 1.5\n",
      "oui 2.73\n",
      "oui 0.0193\n",
      "oui 0.947\n",
      "oui 5.02\n",
      "oui 2.24\n",
      "oui 2.58\n",
      "oui 0.85\n",
      "oui 0.82\n",
      "oui 9.71\n",
      "oui 0.75\n",
      "oui 0.013\n",
      "oui 10.57\n",
      "oui 0.12\n",
      "oui 1.8\n",
      "oui 1.13\n",
      "oui 1.9\n",
      "oui 2.1\n",
      "oui 0.73\n",
      "oui nan\n",
      "oui 1.814\n",
      "oui nan\n",
      "oui nan\n",
      "oui 14.4\n",
      "oui 0.77\n",
      "oui 2.29\n",
      "oui 0.48\n",
      "oui 2.7\n",
      "oui 0.36\n",
      "oui 3.53\n",
      "oui 1.7\n",
      "oui 8.02\n",
      "oui 18.1\n",
      "oui 0.23\n",
      "oui 2.88\n",
      "oui 4.04\n",
      "oui 0.67\n",
      "oui 1.83\n",
      "oui 2.6\n",
      "oui 2.7\n",
      "oui 7.8\n",
      "oui 0.61\n",
      "oui nan\n",
      "oui 1.49\n",
      "oui 0.15\n",
      "oui 7.03\n",
      "oui 0.08\n",
      "oui 0.95\n",
      "oui nan\n",
      "oui 1.6\n",
      "oui 3.3\n",
      "oui 0.0238\n",
      "oui 0.64\n",
      "oui 0.54\n",
      "oui 0.37\n",
      "oui 3.69\n",
      "oui 3.82\n",
      "oui 0.94\n",
      "oui 0.75\n",
      "oui 0.52\n",
      "oui 1.99\n",
      "oui 1.26\n",
      "oui 0.0316\n",
      "oui nan\n",
      "oui 5.93\n",
      "oui 1.502\n",
      "oui 0.057\n",
      "oui 1.9\n",
      "oui 3.1\n",
      "oui 0.72\n",
      "oui 0.05318\n",
      "oui 0.07552\n",
      "oui 2.5\n",
      "oui 3.7\n",
      "oui 3.0\n",
      "oui 6.9\n",
      "oui 2.58\n",
      "oui 0.79\n",
      "oui 1.85\n",
      "oui 0.895\n",
      "oui 17.4\n",
      "oui 2.44\n",
      "oui nan\n",
      "oui 4.05\n",
      "oui 0.054\n",
      "oui 1.68\n",
      "oui 0.266\n",
      "oui 1.37\n",
      "oui 2.2\n",
      "oui nan\n",
      "oui nan\n",
      "oui 0.45\n",
      "oui 9.9\n",
      "oui nan\n",
      "oui 1.23\n",
      "oui nan\n",
      "oui 0.45\n",
      "oui 2.3\n",
      "oui 4.5\n",
      "oui 0.0087\n",
      "oui 0.0097\n",
      "oui 0.101\n",
      "oui 0.246\n",
      "oui 0.017\n",
      "oui 0.33\n",
      "oui 1.26\n",
      "oui 2.1\n",
      "oui 0.65\n",
      "oui 1.39\n",
      "oui 2.6\n",
      "oui 13.0\n",
      "oui 0.21\n",
      "oui 10.39\n",
      "oui nan\n",
      "oui 0.06\n",
      "oui 11.1\n",
      "oui 1.06\n",
      "oui 1.45\n",
      "oui 3.09\n",
      "oui 1.9\n",
      "oui 7.75\n",
      "oui 0.71\n",
      "oui 1.08\n",
      "oui 6.575\n",
      "oui 6.9\n",
      "oui 5.3\n",
      "oui 2.54\n",
      "oui 0.0265\n",
      "oui 0.76\n",
      "oui 1.42\n",
      "oui nan\n",
      "oui 0.47\n",
      "oui 1.25\n",
      "oui 3.88\n",
      "oui 1.28\n",
      "oui 0.57\n",
      "oui 0.298\n",
      "oui 0.036\n",
      "oui 0.41\n",
      "oui 0.527\n",
      "oui nan\n",
      "oui 9.18\n",
      "oui 9.0\n",
      "oui 8.82\n",
      "oui nan\n",
      "oui 2.1\n",
      "oui 1.068\n",
      "oui 1.94\n",
      "oui nan\n",
      "oui nan\n",
      "oui nan\n",
      "oui nan\n",
      "oui nan\n",
      "oui nan\n",
      "oui 1.47\n",
      "oui nan\n",
      "oui nan\n",
      "oui nan\n",
      "oui nan\n",
      "oui nan\n",
      "oui nan\n",
      "oui nan\n",
      "oui nan\n",
      "oui nan\n",
      "oui nan\n",
      "oui nan\n",
      "oui nan\n",
      "oui nan\n",
      "oui nan\n",
      "oui nan\n",
      "oui nan\n",
      "oui nan\n",
      "oui nan\n",
      "oui nan\n",
      "oui nan\n",
      "oui nan\n",
      "oui nan\n",
      "oui nan\n",
      "oui nan\n",
      "oui nan\n",
      "oui nan\n",
      "oui nan\n",
      "oui nan\n",
      "oui nan\n",
      "oui nan\n",
      "oui nan\n",
      "oui nan\n",
      "oui nan\n",
      "oui nan\n",
      "oui nan\n",
      "oui nan\n",
      "oui nan\n",
      "oui nan\n",
      "oui nan\n",
      "oui nan\n",
      "oui nan\n",
      "oui nan\n",
      "oui nan\n",
      "oui nan\n",
      "oui nan\n",
      "oui nan\n",
      "oui nan\n",
      "oui nan\n",
      "oui nan\n",
      "oui nan\n",
      "oui nan\n",
      "oui nan\n",
      "oui nan\n",
      "oui nan\n",
      "oui nan\n",
      "oui nan\n",
      "oui nan\n",
      "oui nan\n",
      "oui nan\n",
      "oui nan\n",
      "oui nan\n",
      "oui nan\n",
      "oui nan\n",
      "oui nan\n",
      "oui nan\n",
      "oui nan\n",
      "oui nan\n",
      "oui nan\n",
      "oui nan\n",
      "oui nan\n",
      "oui nan\n",
      "oui nan\n",
      "oui nan\n",
      "oui nan\n",
      "oui nan\n",
      "oui nan\n",
      "oui nan\n",
      "oui nan\n",
      "oui nan\n",
      "oui nan\n",
      "oui nan\n",
      "oui nan\n",
      "oui nan\n",
      "oui nan\n",
      "oui nan\n",
      "oui nan\n",
      "oui nan\n",
      "oui nan\n",
      "oui nan\n",
      "oui nan\n",
      "oui nan\n",
      "oui nan\n",
      "oui nan\n",
      "oui nan\n",
      "oui nan\n",
      "oui nan\n",
      "oui nan\n",
      "oui nan\n",
      "oui nan\n",
      "oui nan\n",
      "oui nan\n",
      "oui nan\n",
      "oui nan\n",
      "oui nan\n",
      "oui nan\n",
      "oui nan\n",
      "oui nan\n",
      "oui nan\n",
      "oui nan\n",
      "oui nan\n",
      "oui nan\n",
      "oui nan\n",
      "oui nan\n",
      "oui nan\n",
      "oui nan\n",
      "oui nan\n",
      "oui nan\n",
      "oui nan\n",
      "oui nan\n",
      "oui nan\n",
      "oui nan\n",
      "oui nan\n",
      "oui nan\n",
      "oui nan\n",
      "oui nan\n",
      "oui nan\n",
      "oui nan\n",
      "oui nan\n",
      "oui nan\n",
      "oui nan\n",
      "oui nan\n",
      "oui nan\n",
      "oui nan\n",
      "oui nan\n",
      "oui 0.947\n",
      "oui nan\n",
      "oui nan\n",
      "oui nan\n",
      "oui nan\n",
      "oui nan\n",
      "oui nan\n",
      "oui nan\n",
      "oui nan\n",
      "oui nan\n",
      "oui nan\n",
      "oui nan\n",
      "oui nan\n",
      "oui nan\n",
      "oui nan\n",
      "oui nan\n",
      "oui nan\n",
      "oui nan\n",
      "oui nan\n",
      "oui nan\n",
      "oui nan\n",
      "oui nan\n",
      "oui nan\n",
      "oui nan\n",
      "oui nan\n",
      "oui nan\n",
      "oui nan\n",
      "oui nan\n",
      "oui nan\n",
      "oui nan\n",
      "oui nan\n",
      "oui nan\n",
      "oui nan\n",
      "oui nan\n",
      "oui nan\n",
      "oui nan\n",
      "oui nan\n",
      "oui nan\n",
      "oui nan\n",
      "oui nan\n",
      "oui nan\n",
      "oui nan\n",
      "oui nan\n",
      "oui nan\n",
      "oui nan\n",
      "oui nan\n",
      "oui nan\n",
      "oui nan\n",
      "oui nan\n",
      "oui nan\n",
      "oui nan\n",
      "oui nan\n",
      "oui nan\n",
      "oui nan\n",
      "oui nan\n",
      "oui nan\n",
      "oui nan\n",
      "oui nan\n",
      "oui nan\n",
      "oui nan\n",
      "oui nan\n",
      "oui nan\n",
      "oui nan\n",
      "oui nan\n",
      "oui nan\n",
      "oui nan\n",
      "oui nan\n",
      "oui nan\n",
      "oui nan\n",
      "oui nan\n",
      "oui nan\n",
      "oui nan\n",
      "oui nan\n",
      "oui nan\n",
      "oui nan\n",
      "oui nan\n",
      "oui nan\n",
      "oui nan\n",
      "oui nan\n",
      "oui nan\n",
      "oui nan\n",
      "oui nan\n",
      "oui nan\n",
      "oui nan\n",
      "oui nan\n",
      "oui nan\n",
      "oui nan\n",
      "oui nan\n",
      "oui nan\n",
      "oui nan\n",
      "oui nan\n",
      "oui nan\n",
      "oui nan\n",
      "oui nan\n",
      "oui nan\n",
      "oui nan\n",
      "oui nan\n",
      "oui nan\n",
      "oui nan\n",
      "oui nan\n",
      "oui nan\n",
      "oui nan\n",
      "oui nan\n",
      "oui nan\n",
      "oui nan\n",
      "oui nan\n",
      "oui nan\n",
      "oui nan\n",
      "oui nan\n",
      "oui nan\n",
      "oui nan\n",
      "oui nan\n",
      "oui nan\n",
      "oui nan\n",
      "oui nan\n",
      "oui nan\n",
      "oui nan\n",
      "oui nan\n",
      "oui nan\n",
      "oui nan\n",
      "oui nan\n",
      "oui nan\n",
      "oui nan\n",
      "oui nan\n",
      "oui nan\n",
      "oui nan\n",
      "oui nan\n",
      "oui nan\n",
      "oui nan\n",
      "oui 19.8\n",
      "oui 0.34\n",
      "oui 0.4\n",
      "oui 1.54\n",
      "oui nan\n",
      "oui nan\n",
      "oui nan\n",
      "oui nan\n",
      "oui nan\n",
      "oui nan\n",
      "oui nan\n",
      "oui nan\n",
      "oui nan\n",
      "oui nan\n",
      "oui nan\n",
      "oui nan\n",
      "oui nan\n",
      "oui nan\n",
      "oui nan\n",
      "oui nan\n",
      "oui nan\n",
      "oui nan\n",
      "oui nan\n",
      "oui nan\n",
      "oui nan\n",
      "oui nan\n",
      "oui nan\n",
      "oui nan\n",
      "oui nan\n",
      "oui nan\n",
      "oui nan\n",
      "oui nan\n",
      "oui nan\n",
      "oui nan\n",
      "oui nan\n",
      "oui nan\n",
      "oui nan\n",
      "oui nan\n",
      "oui nan\n",
      "oui nan\n",
      "oui nan\n",
      "oui nan\n",
      "oui nan\n",
      "oui nan\n",
      "oui nan\n",
      "oui nan\n",
      "oui nan\n",
      "oui nan\n",
      "oui nan\n",
      "oui nan\n",
      "oui nan\n",
      "oui nan\n",
      "oui nan\n",
      "oui nan\n",
      "oui nan\n",
      "oui nan\n",
      "oui nan\n",
      "oui nan\n",
      "oui nan\n",
      "oui nan\n",
      "oui nan\n",
      "oui nan\n",
      "oui nan\n",
      "oui nan\n",
      "oui nan\n",
      "oui nan\n",
      "oui nan\n",
      "oui nan\n",
      "oui nan\n",
      "oui nan\n",
      "oui nan\n",
      "oui nan\n",
      "oui nan\n",
      "oui nan\n",
      "oui nan\n",
      "oui nan\n",
      "oui nan\n",
      "oui nan\n",
      "oui nan\n",
      "oui nan\n",
      "oui nan\n",
      "oui nan\n",
      "oui nan\n",
      "oui nan\n",
      "oui nan\n",
      "oui nan\n",
      "oui nan\n",
      "oui nan\n",
      "oui nan\n",
      "oui nan\n",
      "oui nan\n",
      "oui nan\n",
      "oui nan\n",
      "oui nan\n",
      "oui nan\n",
      "oui nan\n",
      "oui nan\n",
      "oui nan\n",
      "oui nan\n",
      "oui nan\n",
      "oui nan\n",
      "oui nan\n",
      "oui nan\n",
      "oui nan\n",
      "oui nan\n",
      "oui nan\n",
      "oui nan\n",
      "oui nan\n",
      "oui nan\n",
      "oui nan\n",
      "oui nan\n",
      "oui nan\n",
      "oui nan\n",
      "oui nan\n",
      "oui nan\n",
      "oui nan\n",
      "oui nan\n",
      "oui nan\n",
      "oui nan\n",
      "oui nan\n",
      "oui nan\n",
      "oui nan\n"
     ]
    }
   ],
   "source": [
    "X_planets = planets[[\"orbital_period\", \"mass\", \"distance\"]]\n",
    "\n",
    "for index in range(0,len(X_planets.mass)) :\n",
    "    valeur = X_planets['mass'][index]\n",
    "    print('oui', valeur)\n"
   ]
  },
  {
   "cell_type": "markdown",
   "metadata": {},
   "source": [
    "<div class=\"alert alert-info\">\n",
    "<li> quelles autres méthodes du cours précédent, savez-vous qui peuvent être utilisées pour saisir les valeurs de manquantes.\n",
    "<li> essayez d'utiliser la ou les méthodes précédentes afin d'obtenir les mêmes résultats que l'algorithme SimpleImputer\n",
    "</div>"
   ]
  },
  {
   "cell_type": "markdown",
   "metadata": {},
   "source": [
    "<div class=\"alert alert-info\">\n",
    "<li>cadre de données cerveau: cerveau_df = pandas.read_csv('https://scipy-lectures.org/_downloads/brain_size.csv', sep=';', na_values='.')\n",
    "<li> Testez la différence entre les poids des hommes et des femmes.\n",
    "<li> Utilisez des statistiques non paramétriques pour tester la différence entre le VIQ chez les hommes et les femmes.\n",
    "<li>créer le modèle à l'aide de statsmodels\n",
    "<li> Récupérez les paramètres estimés du modèle.\n",
    "<li>Astuce: utilisez la saisie TAB, semi-automatique pour trouver l'attribut pertinent.\n",
    "</div>"
   ]
  }
 ],
 "metadata": {
  "anaconda-cloud": {},
  "celltoolbar": "Slideshow",
  "kernelspec": {
   "display_name": "Python 3 (ipykernel)",
   "language": "python",
   "name": "python3"
  },
  "language_info": {
   "codemirror_mode": {
    "name": "ipython",
    "version": 3
   },
   "file_extension": ".py",
   "mimetype": "text/x-python",
   "name": "python",
   "nbconvert_exporter": "python",
   "pygments_lexer": "ipython3",
   "version": "3.10.1"
  }
 },
 "nbformat": 4,
 "nbformat_minor": 2
}
