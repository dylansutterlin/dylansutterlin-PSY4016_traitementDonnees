{
 "cells": [
  {
   "cell_type": "markdown",
   "metadata": {},
   "source": [
    "<div class=\"alert alert-info\">\n",
    "\n",
    "# PSY 4016 / 6973\n",
    "# Cueillette et traitement des données en neurosciences cognitives\n",
    "## Chapitre 7: Formatage des chaînes"
   ]
  },
  {
   "cell_type": "markdown",
   "metadata": {},
   "source": [
    "<div class=\"alert alert-success\">\n",
    "<h3>formatage des chaînes</h3>\n",
    "</div>"
   ]
  },
  {
   "cell_type": "code",
   "execution_count": 1,
   "metadata": {},
   "outputs": [],
   "source": [
    "# nous utilisons maintenant cette méthode d'impression des informations: \n",
    "\n",
    "nom = 'Michèle'\n",
    "#print('Je m\\'appelle ',nom)"
   ]
  },
  {
   "cell_type": "markdown",
   "metadata": {},
   "source": [
    "<div class=\"alert alert-success\">\n",
    "    <li>que puis-je faire si je veux imprimer la même chose mais avec une variable différente?\n",
    "    <li>en python, il existe actuellement trois méthodes de formatage du texte:\n",
    "        <ol>\n",
    "            <li> Interpolation de chaînes / f-Strings (Python 3.6+)\n",
    "            <li> Formatage «Nouveau style» (str.format)\n",
    "            <li>Formatage \"à l'ancienne\" (opérateur%)\n",
    "</div>"
   ]
  },
  {
   "cell_type": "markdown",
   "metadata": {},
   "source": [
    "<div class=\"alert alert-info\">\n",
    "<li>formatage pour une variable\n",
    "</div>"
   ]
  },
  {
   "cell_type": "code",
   "execution_count": 3,
   "metadata": {},
   "outputs": [
    {
     "name": "stdout",
     "output_type": "stream",
     "text": [
      "Je m'appelle Michèle\n"
     ]
    }
   ],
   "source": [
    "#met le f devant --> indique qu'no va mettre des var dans les ''\n",
    "print(f'Je m\\'appelle {nom}')         #style f-Strings\n",
    "\n",
    "#Autre façon de faire\n",
    "print('Je m\\'appelle {}'.format(nom)) # style nouveau\n",
    "#print('Je m\\'appelle %s' %nom)        # style ancienne"
   ]
  },
  {
   "cell_type": "markdown",
   "metadata": {},
   "source": [
    "<div class=\"alert alert-info\">\n",
    "<li>formatage pour plusieurs variables\n",
    "</div>"
   ]
  },
  {
   "cell_type": "code",
   "execution_count": 27,
   "metadata": {},
   "outputs": [],
   "source": [
    "age = 22\n",
    "\n",
    "#Peut ajouter directement les variables dans les positions voulues\n",
    "print(f'Je m\\'appelle {nom} et j\\'ai {age}')         #style f-Strings\n",
    "\n",
    "#print('Je m\\'appelle {0} et j\\'ai {1}'.format(nom, age)) # style nouveau\n",
    "#print('Je m\\'appelle %s et j\\'ai %s' % (nom, age))        # style ancienne"
   ]
  },
  {
   "cell_type": "markdown",
   "metadata": {},
   "source": [
    "<div class=\"alert alert-info\">\n",
    "    <li> le nouveau style peut être utilisé sans les positions,\n",
    "    <li> si les variables sont utilisées\n",
    "    <li> dans l'ordre où elles sont ajoutées.\n",
    "</div>"
   ]
  },
  {
   "cell_type": "code",
   "execution_count": 26,
   "metadata": {},
   "outputs": [],
   "source": [
    "#print('Je m\\'appelle {} et j\\'ai {}'.format(nom, age))\n",
    "# style nouveau"
   ]
  },
  {
   "cell_type": "markdown",
   "metadata": {},
   "source": [
    "<div class=\"alert alert-info\">\n",
    "    <li> le nouveau style permet d'utiliser plusieurs endroits pour la même variable \n",
    "</div>"
   ]
  },
  {
   "cell_type": "code",
   "execution_count": 25,
   "metadata": {},
   "outputs": [],
   "source": [
    "#print('Je m\\'appelle {0} et j\\'ai {1}. {0}'.format(nom, age))\n",
    "# style nouveau"
   ]
  },
  {
   "cell_type": "markdown",
   "metadata": {},
   "source": [
    "<div class=\"alert alert-info\">\n",
    "    <li> mais le formatage peut également être utilisé\n",
    "    <li> pour créer de nouvelles valeurs:\n",
    "</div>"
   ]
  },
  {
   "cell_type": "code",
   "execution_count": 24,
   "metadata": {},
   "outputs": [],
   "source": [
    "#print(f'{nom},     {age},    {age+2}')             #style f-Strings\n",
    "#print('{}, {}, {}'.format(nom, age, age+3)) # style nouveau\n",
    "#print('%s, %s, %s' % (nom, age, age+5)) # style ancienne"
   ]
  },
  {
   "cell_type": "markdown",
   "metadata": {},
   "source": [
    "<div class=\"alert alert-info\">\n",
    "<li>formatage: positionement\n",
    "</div>"
   ]
  },
  {
   "cell_type": "markdown",
   "metadata": {},
   "source": [
    "<div class=\"alert alert-info\">\n",
    "    <li> Par défaut:<ul>\n",
    "    <li> les valeurs sont formatées pour\n",
    "    <li> n'occuper que le nombre de caractères requis\n",
    "    <li> pour représenter le contenu.</ul>\n",
    "    <li> Il est cependant possible de définir qu'une valeur doit être complétée à une longueur spécifique.\n",
    "</div>"
   ]
  },
  {
   "cell_type": "markdown",
   "metadata": {},
   "source": [
    "<div class=\"alert alert-info\">\n",
    "    <li> le texte peut également être aligné en fonction de certaines règles. \n",
    "    <li> Par default:<ul>\n",
    "    <li> le f-Strings style est aligné à gauche\n",
    "    <li> le nouveau style est aligné à gauche\n",
    "    <li> l'ancien style est aligné à droite</ul>\n",
    "</div>"
   ]
  },
  {
   "cell_type": "code",
   "execution_count": 6,
   "metadata": {},
   "outputs": [
    {
     "data": {
      "text/plain": [
       "'      test'"
      ]
     },
     "execution_count": 6,
     "metadata": {},
     "output_type": "execute_result"
    }
   ],
   "source": [
    "# Aligner à GAUCHE, d'une longueur de 10 caractères:\n",
    "\n",
    "#on met : et le nb de caract à ajouter\n",
    "f'{\"test\":10}'         # style f-Strings\n",
    "\n",
    "#'{:10}'.format('test') # style nouveau\n",
    "#'%-10s' % ('test',)     # style ancienne"
   ]
  },
  {
   "cell_type": "code",
   "execution_count": 7,
   "metadata": {},
   "outputs": [
    {
     "data": {
      "text/plain": [
       "'      test'"
      ]
     },
     "execution_count": 7,
     "metadata": {},
     "output_type": "execute_result"
    }
   ],
   "source": [
    "# Aligner à DROITE:\n",
    "\n",
    "f'{\"test\":>10}'         # style f-Strings\n",
    "#'{:>10}'.format('test') # style nouveau\n",
    "#'%10s' % ('test',)      # style ancienne"
   ]
  },
  {
   "cell_type": "code",
   "execution_count": 11,
   "metadata": {},
   "outputs": [
    {
     "data": {
      "text/plain": [
       "'   test   '"
      ]
     },
     "execution_count": 11,
     "metadata": {},
     "output_type": "execute_result"
    }
   ],
   "source": [
    "# Alignez au CENTRE:\n",
    "\n",
    "f'{\"test\":^10}'         # style f-Strings\n",
    "'{:^10}'.format('test') # style nouveau"
   ]
  },
  {
   "cell_type": "markdown",
   "metadata": {},
   "source": [
    "<div class=\"alert alert-info\">\n",
    "<li>formatage: chiffres\n",
    "</div>"
   ]
  },
  {
   "cell_type": "markdown",
   "metadata": {},
   "source": [
    "<div class=\"alert alert-info\">\n",
    "    <li> quand les chiffres sont grands,\n",
    "    <li> comment imprimer uniquement les 2 ou trois premiers chiffres? \n",
    "</div>"
   ]
  },
  {
   "cell_type": "code",
   "execution_count": 21,
   "metadata": {},
   "outputs": [],
   "source": [
    "var = 3.14159\n",
    "\n",
    "#.3f --> lettre f motnre que c'Est une formatage d'une chiffre après un point, 3 = on veut 3 chiffres après la , et le \n",
    "#point indique que c'est un tyoe float\n",
    "print(f\"{var:.3f}\")\n",
    "#print(\"{:.2f}\".format(var))\n",
    "#print(\"%.2f\" % var)"
   ]
  },
  {
   "cell_type": "markdown",
   "metadata": {},
   "source": [
    "<div class=\"alert alert-info\">\n",
    "    <li>mise en forme sur un jeu de données \n",
    "</div>"
   ]
  },
  {
   "cell_type": "code",
   "execution_count": 8,
   "metadata": {},
   "outputs": [],
   "source": [
    "import seaborn\n",
    "df = seaborn.load_dataset('planets')"
   ]
  },
  {
   "cell_type": "code",
   "execution_count": 25,
   "metadata": {
    "scrolled": true
   },
   "outputs": [
    {
     "ename": "AttributeError",
     "evalue": "'DataFrameGroupBy' object has no attribute 'value_counts'",
     "output_type": "error",
     "traceback": [
      "\u001b[1;31m---------------------------------------------------------------------------\u001b[0m",
      "\u001b[1;31mAttributeError\u001b[0m                            Traceback (most recent call last)",
      "\u001b[1;32m~\\AppData\\Local\\Temp/ipykernel_25396/126859927.py\u001b[0m in \u001b[0;36m<module>\u001b[1;34m\u001b[0m\n\u001b[0;32m      1\u001b[0m \u001b[0mdf\u001b[0m\u001b[1;33m.\u001b[0m\u001b[0mcolumns\u001b[0m\u001b[1;33m\u001b[0m\u001b[1;33m\u001b[0m\u001b[0m\n\u001b[1;32m----> 2\u001b[1;33m \u001b[0mdf\u001b[0m\u001b[1;33m.\u001b[0m\u001b[0mgroupby\u001b[0m\u001b[1;33m(\u001b[0m\u001b[1;34m'method'\u001b[0m\u001b[1;33m)\u001b[0m\u001b[1;33m.\u001b[0m\u001b[0mvalue_counts\u001b[0m\u001b[1;33m(\u001b[0m\u001b[1;33m)\u001b[0m\u001b[1;33m\u001b[0m\u001b[1;33m\u001b[0m\u001b[0m\n\u001b[0m",
      "\u001b[1;32m~\\AppData\\Local\\Programs\\Python\\Python310\\lib\\site-packages\\pandas\\core\\groupby\\groupby.py\u001b[0m in \u001b[0;36m__getattr__\u001b[1;34m(self, attr)\u001b[0m\n\u001b[0;32m    909\u001b[0m             \u001b[1;32mreturn\u001b[0m \u001b[0mself\u001b[0m\u001b[1;33m[\u001b[0m\u001b[0mattr\u001b[0m\u001b[1;33m]\u001b[0m\u001b[1;33m\u001b[0m\u001b[1;33m\u001b[0m\u001b[0m\n\u001b[0;32m    910\u001b[0m \u001b[1;33m\u001b[0m\u001b[0m\n\u001b[1;32m--> 911\u001b[1;33m         raise AttributeError(\n\u001b[0m\u001b[0;32m    912\u001b[0m             \u001b[1;34mf\"'{type(self).__name__}' object has no attribute '{attr}'\"\u001b[0m\u001b[1;33m\u001b[0m\u001b[1;33m\u001b[0m\u001b[0m\n\u001b[0;32m    913\u001b[0m         )\n",
      "\u001b[1;31mAttributeError\u001b[0m: 'DataFrameGroupBy' object has no attribute 'value_counts'"
     ]
    }
   ],
   "source": [
    "df.columns\n",
    "df.groupby('method')"
   ]
  },
  {
   "cell_type": "code",
   "execution_count": 27,
   "metadata": {},
   "outputs": [
    {
     "data": {
      "text/plain": [
       "array(['Radial Velocity', 'Imaging', 'Eclipse Timing Variations',\n",
       "       'Transit', 'Astrometry', 'Transit Timing Variations',\n",
       "       'Orbital Brightness Modulation', 'Microlensing', 'Pulsar Timing',\n",
       "       'Pulsation Timing Variations'], dtype=object)"
      ]
     },
     "execution_count": 27,
     "metadata": {},
     "output_type": "execute_result"
    }
   ],
   "source": [
    "df.method.unique()"
   ]
  },
  {
   "cell_type": "code",
   "execution_count": 20,
   "metadata": {},
   "outputs": [
    {
     "data": {
      "text/plain": [
       "Index(['method', 'number', 'orbital_period', 'mass', 'distance', 'year'], dtype='object')"
      ]
     },
     "execution_count": 20,
     "metadata": {},
     "output_type": "execute_result"
    }
   ],
   "source": [
    "df.columns"
   ]
  },
  {
   "cell_type": "code",
   "execution_count": 10,
   "metadata": {},
   "outputs": [
    {
     "name": "stdout",
     "output_type": "stream",
     "text": [
      "Astrometry (2, 6)\n",
      "Eclipse Timing Variations (9, 6)\n",
      "Imaging (38, 6)\n",
      "Microlensing (23, 6)\n",
      "Orbital Brightness Modulation (3, 6)\n",
      "Pulsar Timing (5, 6)\n",
      "Pulsation Timing Variations (1, 6)\n",
      "Radial Velocity (553, 6)\n",
      "Transit (397, 6)\n",
      "Transit Timing Variations (4, 6)\n"
     ]
    }
   ],
   "source": [
    "for (method, group) in df.groupby('method'):\n",
    "     print(method, group.shape)"
   ]
  },
  {
   "cell_type": "code",
   "execution_count": 11,
   "metadata": {},
   "outputs": [
    {
     "name": "stdout",
     "output_type": "stream",
     "text": [
      "Astrometry                     shape=(2, 6)\n",
      "Eclipse Timing Variations      shape=(9, 6)\n",
      "Imaging                        shape=(38, 6)\n",
      "Microlensing                   shape=(23, 6)\n",
      "Orbital Brightness Modulation  shape=(3, 6)\n",
      "Pulsar Timing                  shape=(5, 6)\n",
      "Pulsation Timing Variations    shape=(1, 6)\n",
      "Radial Velocity                shape=(553, 6)\n",
      "Transit                        shape=(397, 6)\n",
      "Transit Timing Variations      shape=(4, 6)\n"
     ]
    }
   ],
   "source": [
    "# style f-Strings\n",
    "\n",
    "for (method, group) in df.groupby('method'):\n",
    "    #formattage de type fstring de 30 caractère\n",
    "    print(f\"{method:30} shape={group.shape}\")"
   ]
  },
  {
   "cell_type": "code",
   "execution_count": 17,
   "metadata": {},
   "outputs": [],
   "source": [
    "# style nouveau\n",
    "\n",
    "#for (method, group) in df.groupby('method'):\n",
    "#    print(\"{0:30} shape={1}\".format(method, group.shape))"
   ]
  },
  {
   "cell_type": "code",
   "execution_count": 16,
   "metadata": {},
   "outputs": [],
   "source": [
    "# style ancienne\n",
    "\n",
    "#for (method, group) in df.groupby('method'):\n",
    "#    print(\"%-30s shape=%s\" %(method, group.shape))"
   ]
  },
  {
   "cell_type": "code",
   "execution_count": null,
   "metadata": {},
   "outputs": [],
   "source": [
    "# Aligne à GAUCHE (dans l'espace disponible) \n",
    "f'{var:}'         # style f-Strings\n",
    "'{:}'.format(var) # style nouveau\n",
    "'%-s' % (var,)     # style ancienne\n",
    "\n",
    "# Aligne à DROITE (dans l'espace disponible) \n",
    "f'{var:>}'          # style f-Strings\n",
    "'{:>}'.format(var)  # style nouveau\n",
    "'%s' % (var,)       # style ancienne\n",
    "\n",
    "# Aligne au CENTRE (dans l'espace disponible) \n",
    "f'{var:^}'         # style f-Strings\n",
    "'{:^}'.format(var) # style nouveau\n",
    "\n",
    "# Formatage des chiffres(int, float)\n",
    "f\"{var:.2f}\"\n",
    "\"{:.2f}\".format(var)\n",
    "\"%.2f\" % var"
   ]
  },
  {
   "cell_type": "markdown",
   "metadata": {},
   "source": [
    "<div class=\"alert alert-danger\">\n",
    "<h3>Exercises</h3>\n",
    "</div>"
   ]
  },
  {
   "cell_type": "markdown",
   "metadata": {},
   "source": [
    "<div class=\"alert alert-danger\">\n",
    "<ol start=1><li>formatage chaînes (durée suggéree: 15min)\n",
    "<ul><li>dans le jeu de données iris de seaborn\n",
    "\n",
    "<li> imprimer les 5 premières lignes de 4 colonnes\n",
    "<li> avec 4 espaces entre eux\n",
    "<li> tout aligné à gauche\n",
    "<li> dernière colonne alignée à droite\n",
    "\n",
    "</ul></ol></div>"
   ]
  },
  {
   "cell_type": "code",
   "execution_count": 75,
   "metadata": {},
   "outputs": [],
   "source": [
    "import seaborn\n",
    "df = seaborn.load_dataset('iris')"
   ]
  }
 ],
 "metadata": {
  "anaconda-cloud": {},
  "celltoolbar": "Slideshow",
  "kernelspec": {
   "display_name": "Python 3 (ipykernel)",
   "language": "python",
   "name": "python3"
  },
  "language_info": {
   "codemirror_mode": {
    "name": "ipython",
    "version": 3
   },
   "file_extension": ".py",
   "mimetype": "text/x-python",
   "name": "python",
   "nbconvert_exporter": "python",
   "pygments_lexer": "ipython3",
   "version": "3.10.1"
  }
 },
 "nbformat": 4,
 "nbformat_minor": 2
}
